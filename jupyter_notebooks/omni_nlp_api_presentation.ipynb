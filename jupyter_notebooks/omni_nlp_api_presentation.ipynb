{
 "cells": [
  {
   "cell_type": "markdown",
   "metadata": {},
   "source": [
    "![](imgs/7.png)"
   ]
  },
  {
   "cell_type": "markdown",
   "metadata": {},
   "source": [
    "## 1 - Objetivo"
   ]
  },
  {
   "cell_type": "markdown",
   "metadata": {},
   "source": [
    "A  Omni NLP API servirá como um dos geradores/motores de IA da plataforma Omni.\n",
    "\n",
    "Através da interface do  Omni Chatbuilder, será possível interagir com esta api para criação de Intenções, Entidades e configurar modelos de Machine-Learning (ML).\n"
   ]
  },
  {
   "cell_type": "markdown",
   "metadata": {},
   "source": [
    "Portanto esta API estará envolvida:\n",
    "\n",
    "1. No Treinamento do Assistente Cognitivo.\n",
    "2. Na classificação do input de texto fornecido pelo usuário."
   ]
  },
  {
   "cell_type": "markdown",
   "metadata": {},
   "source": [
    "## 2 - Arquitetura do Modelo de ML"
   ]
  },
  {
   "cell_type": "markdown",
   "metadata": {},
   "source": [
    "* Texto representado com vetor de [tf-idf](https://en.wikipedia.org/wiki/Tf%E2%80%93idf)\n",
    "* Os seguintes modelos de ML serão treinados:\n",
    "\n",
    "    * BM25\n",
    "    * SVM\n",
    "    * Regressão Logística \n",
    "    * Redes Neurais Artificiais\n",
    "    \n",
    "* Todos estes modelos irão participar na \"votação\" para a qual intenção o input de texto fornecido pertence. Vejam [Ensemble learning](https://en.wikipedia.org/wiki/Ensemble_learning)."
   ]
  },
  {
   "cell_type": "markdown",
   "metadata": {},
   "source": [
    "![image.png](imgs/1.png)"
   ]
  },
  {
   "cell_type": "markdown",
   "metadata": {},
   "source": [
    "Para saberem mais sobre os processos envolvidos na extração de features textuais e como modelos de MLs são treinados, acessem os seguintes materiais:\n",
    "\n",
    "* [Material de Treinamento Omni sobre NLP](https://extremedigital-my.sharepoint.com/personal/cloves_paiva_extremedigital_com_br/_layouts/15/onedrive.aspx?listurl=https%3A%2F%2Fextremedigital%2Esharepoint%2Ecom%2Fsites%2Fdev%2Esp%2FShared%20Documents&viewid=35deccba%2D8c93%2D459d%2D9daa%2D530cb1eb8021&id=%2Fsites%2Fdev%2Esp%2FShared%20Documents%2Fmaterial%2Dtreinamento%2Domni%2Fmaterial%2Dtreinamento%2Dteoria%2Dnlp%2Ezip&parent=%2Fsites%2Fdev%2Esp%2FShared%20Documents%2Fmaterial%2Dtreinamento%2Domni).\n",
    "\n",
    "* [Vídeo de Treinamento sobre NLP aplicado ao pessoal da Yara.](https://web.microsoftstream.com/video/bd13911b-f327-42f1-9d2b-11a7e8c12ba8)"
   ]
  },
  {
   "cell_type": "markdown",
   "metadata": {},
   "source": [
    "## 3 - Arquitetura e Composição da Aplicação "
   ]
  },
  {
   "cell_type": "markdown",
   "metadata": {},
   "source": [
    "* [Diagrama da Arquitetura](https://lucid.app/lucidchart/38a57760-e630-443d-b41d-e734d341c24e/edit?beaconFlowId=D21B4DF1958A71BF&page=0_0#)"
   ]
  },
  {
   "cell_type": "markdown",
   "metadata": {},
   "source": [
    "![](imgs/3.png)"
   ]
  },
  {
   "cell_type": "markdown",
   "metadata": {},
   "source": [
    "![](imgs/2.png)"
   ]
  },
  {
   "cell_type": "markdown",
   "metadata": {},
   "source": [
    "## 4 - Interação com a API"
   ]
  },
  {
   "cell_type": "markdown",
   "metadata": {},
   "source": [
    "Salvem os seguintes ambientes no Postman desktop ou conta web:\n",
    "\n",
    "* [CRUD para parametrizar modelos](https://documenter.getpostman.com/view/7003300/TWDXoGUm)\n",
    "* [CRUD para Intenções](https://documenter.getpostman.com/view/7003300/TVt2cPHL)\n",
    "* [CRUD para Entidades](https://documenter.getpostman.com/view/7003300/TWDXoGUk)\n",
    "* [Endpoits para treino de classificação](https://documenter.getpostman.com/view/7003300/TWDXoGUn)"
   ]
  },
  {
   "cell_type": "markdown",
   "metadata": {},
   "source": [
    "## 5 - Comparando acurácia do Watson Assitent e Omni NLP API"
   ]
  },
  {
   "cell_type": "markdown",
   "metadata": {},
   "source": [
    "![](imgs/5.png)"
   ]
  },
  {
   "cell_type": "markdown",
   "metadata": {},
   "source": [
    "Apresentar batalha ao vivo entre Omni NLP API e Watson Assistent."
   ]
  },
  {
   "cell_type": "markdown",
   "metadata": {},
   "source": [
    "## 6 - Próximos Passos"
   ]
  },
  {
   "cell_type": "markdown",
   "metadata": {},
   "source": [
    "* Frame Work para MLOps - [Rony do A3Data](https://github.com/A3Data/rony):\n",
    "    * Outro nome para Machine Learning Engineer\n",
    "    * Versionamento\n",
    "    * Código bem organizado\n",
    "    * Se conectar a qualquer tipo de sistema que aceite algo como container\n",
    "    * Expor uma API para consumir os recursos do projeto de ML\n",
    "* Versionamento de Modelos. [MLFlow](https://mlflow.org/)"
   ]
  }
 ],
 "metadata": {
  "kernelspec": {
   "display_name": "Python 3",
   "language": "python",
   "name": "python3"
  },
  "language_info": {
   "codemirror_mode": {
    "name": "ipython",
    "version": 3
   },
   "file_extension": ".py",
   "mimetype": "text/x-python",
   "name": "python",
   "nbconvert_exporter": "python",
   "pygments_lexer": "ipython3",
   "version": "3.6.9"
  }
 },
 "nbformat": 4,
 "nbformat_minor": 4
}