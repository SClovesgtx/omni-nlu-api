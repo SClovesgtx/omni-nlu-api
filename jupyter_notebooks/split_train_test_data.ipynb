{
 "cells": [
  {
   "cell_type": "code",
   "execution_count": 1,
   "metadata": {},
   "outputs": [
    {
     "data": {
      "text/plain": [
       "'nlp_model-dc1e7b3d-9137-4a20-a99c-d0d2029ef170-cedae-02022021092147'"
      ]
     },
     "execution_count": 1,
     "metadata": {},
     "output_type": "execute_result"
    }
   ],
   "source": [
    "from elastic_db.elasticsearch import elastic_conection, NLPmodelIndex\n",
    "\n",
    "es = elastic_conection()\n",
    "index = NLPmodelIndex(es=es, workspace_id=\"dc1e7b3d-9137-4a20-a99c-d0d2029ef170-cedae\")\n",
    "index.index_name"
   ]
  },
  {
   "cell_type": "code",
   "execution_count": 2,
   "metadata": {},
   "outputs": [
    {
     "data": {
      "text/plain": [
       "[{'examples': [{'text': 'Como consigo pagar minha conta atrasada?'},\n",
       "   {'text': 'Como tirar uma nova conta deste mês?'},\n",
       "   {'text': 'como vejo o boleto que paguei ontem?'},\n",
       "   {'text': 'Desejo imprimir a conta a ser paga'},\n",
       "   {'text': 'Não conseguimos a 2a via'},\n",
       "   {'text': 'necessito do codigo de barra para pagar um debito'},\n",
       "   {'text': 'passei do dia de pagamento não consigo mais pagar minha conta de água'},\n",
       "   {'text': 'poderia me ajudar a pagar uma conta atrasada?'},\n",
       "   {'text': 'preciso imprimir segunda via de boleto'},\n",
       "   {'text': 'quero gerar segunda via de pagamento'},\n",
       "   {'text': 'Quero minha 2 via'},\n",
       "   {'text': 'Quero pagar minha conta atrasada'},\n",
       "   {'text': 'Quero tirar uma segunda via'},\n",
       "   {'text': 'seria possível eu pagar uma conta atrasada?'}],\n",
       "  'intent': 'Emitir_SegundaViaConta'}]"
      ]
     },
     "execution_count": 2,
     "metadata": {},
     "output_type": "execute_result"
    }
   ],
   "source": [
    "query = {\n",
    "  \"size\": 10000,\n",
    "  \"_source\": [\"intent\", \"examples.text\"], \n",
    "  \"query\": {\n",
    "    \"bool\": {\n",
    "      \"must\": [\n",
    "        {\"term\": {\n",
    "          \"doc_type.keyword\": {\n",
    "            \"value\": \"intent\"\n",
    "          }\n",
    "        }}\n",
    "      ]\n",
    "    }\n",
    "  }\n",
    "}\n",
    "\n",
    "intents = es.search(index=index.index_name, body=query)\n",
    "intents = [intent[\"_source\"] for intent in intents[\"hits\"][\"hits\"]]\n",
    "intents[:1]"
   ]
  },
  {
   "cell_type": "code",
   "execution_count": 4,
   "metadata": {},
   "outputs": [
    {
     "data": {
      "text/plain": [
       "{'intent': 'Trocar_TitularidadeConta',\n",
       " 'examples': [{'text': 'alteração de titularidade'},\n",
       "  {'text': 'aluguei um imóvel e preciso trocar a titularidade da conta de água'},\n",
       "  {'text': 'como faço para por minha conta de água no nome de outra pessoa?'},\n",
       "  {'text': 'como faço para trocar a titularidade da conta de água do meu estabelecimento?'},\n",
       "  {'text': 'como mudar o nome da conta?'},\n",
       "  {'text': 'preciso trocar a titularidade da conta'},\n",
       "  {'text': 'quero trocar a titularidade da minha conta de água'}],\n",
       " 'description': 'Quando cliente CEDAE desejar alterar a titularidade da conta.'}"
      ]
     },
     "execution_count": 4,
     "metadata": {},
     "output_type": "execute_result"
    }
   ],
   "source": [
    "import pandas as pd\n",
    "\n",
    "import json\n",
    "\n",
    "file = open('/home/cloves/Downloads/skill-IBM_CEDAE_PRD_PTBR.json', \"r\") \n",
    "workspace = json.load(file)\n",
    "workspace[\"intents\"][-1]"
   ]
  },
  {
   "cell_type": "code",
   "execution_count": 5,
   "metadata": {},
   "outputs": [
    {
     "name": "stdout",
     "output_type": "stream",
     "text": [
      "327 327\n"
     ]
    }
   ],
   "source": [
    "intents_name = []\n",
    "examples_text = []\n",
    "intents_8 = []\n",
    "for intent in workspace[\"intents\"]:\n",
    "    intent_name = intent[\"intent\"]\n",
    "    if len(intent[\"examples\"]) >= 8:\n",
    "        intents_8.append(intent)\n",
    "        for example in intent[\"examples\"]:\n",
    "            intents_name.append(intent_name)\n",
    "            examples_text.append(example[\"text\"].replace(\",\", \"\"))\n",
    "        \n",
    "print(len(intents_name), len(examples_text))"
   ]
  },
  {
   "cell_type": "code",
   "execution_count": null,
   "metadata": {},
   "outputs": [],
   "source": []
  },
  {
   "cell_type": "code",
   "execution_count": 15,
   "metadata": {},
   "outputs": [],
   "source": [
    "# def kfolders(lst, k):\n",
    "#     \"\"\"Yield successive n-sized chunks from lst.\"\"\"\n",
    "#     for i in range(0, len(lst), k):\n",
    "#         yield lst[i:i + k]"
   ]
  },
  {
   "cell_type": "code",
   "execution_count": 6,
   "metadata": {},
   "outputs": [],
   "source": [
    "import math\n",
    "import random\n",
    "\n",
    "random.seed(42)\n",
    "\n",
    "def split_train_test(examples_text, intents_name, percentage=0.375):\n",
    "    qt = math.ceil(len(examples_text)*percentage) \n",
    "    random.Random(42).shuffle(examples_text)\n",
    "    random.Random(42).shuffle(intents_name)\n",
    "    all_indexs = set(range(0, len(examples_text)))\n",
    "    test_indexs = set(random.Random(42).sample(all_indexs, qt))\n",
    "    train_indexs = all_indexs - test_indexs\n",
    "    test_examples_text = [examples_text[index] for index in test_indexs]\n",
    "    test_intents_name = [intents_name[index] for index in test_indexs]\n",
    "    train_examples_text = [examples_text[index] for index in train_indexs]\n",
    "    train_intents_name = [intents_name[index] for index in train_indexs]\n",
    "    return train_examples_text, train_intents_name, \\\n",
    "           test_examples_text, test_intents_name\n",
    "\n",
    "def split_train_test_per_intent(intents, percentage=0.3):\n",
    "    test_examples_text = []\n",
    "    test_intents_name = []\n",
    "    train_examples_text = []\n",
    "    train_intents_name = []\n",
    "    for intent in intents:\n",
    "        qt = math.ceil(len(intent[\"examples\"])*percentage)\n",
    "        all_indexs = set(range(0, len(intent[\"examples\"])))\n",
    "        test_indexs = set(random.Random(42).sample(all_indexs, qt))\n",
    "        train_indexs = all_indexs - test_indexs\n",
    "        test_examples_text += [intent[\"examples\"][index][\"text\"].replace(\",\", \"\") for index in test_indexs]\n",
    "        test_intents_name += [intent[\"intent\"]]*len(test_indexs)\n",
    "        train_examples_text += [intent[\"examples\"][index][\"text\"].replace(\",\", \"\") for index in train_indexs]\n",
    "        train_intents_name += [intent[\"intent\"]]*len(train_indexs)\n",
    "    random.Random(42).shuffle(train_examples_text), \\\n",
    "    random.Random(42).shuffle(train_intents_name), \\\n",
    "    random.Random(42).shuffle(test_examples_text), \\\n",
    "    random.Random(42).shuffle(test_intents_name)\n",
    "    return train_examples_text, \\\n",
    "           train_intents_name, \\\n",
    "           test_examples_text, \\\n",
    "           test_intents_name"
   ]
  },
  {
   "cell_type": "code",
   "execution_count": 42,
   "metadata": {},
   "outputs": [],
   "source": [
    "# X_train, y_train, X_test, y_test = split_train_test(examples_text, intents_name)"
   ]
  },
  {
   "cell_type": "code",
   "execution_count": 7,
   "metadata": {},
   "outputs": [],
   "source": [
    "X_train, y_train, X_test, y_test = split_train_test_per_intent(intents_8)"
   ]
  },
  {
   "cell_type": "code",
   "execution_count": 6,
   "metadata": {},
   "outputs": [
    {
     "name": "stdout",
     "output_type": "stream",
     "text": [
      "221 221\n"
     ]
    }
   ],
   "source": [
    "print(len(X_train), len(y_train))"
   ]
  },
  {
   "cell_type": "code",
   "execution_count": 7,
   "metadata": {},
   "outputs": [
    {
     "name": "stdout",
     "output_type": "stream",
     "text": [
      "106 106\n"
     ]
    }
   ],
   "source": [
    "print(len(X_test), len(y_test))"
   ]
  },
  {
   "cell_type": "code",
   "execution_count": 8,
   "metadata": {},
   "outputs": [
    {
     "data": {
      "text/html": [
       "<div>\n",
       "<style scoped>\n",
       "    .dataframe tbody tr th:only-of-type {\n",
       "        vertical-align: middle;\n",
       "    }\n",
       "\n",
       "    .dataframe tbody tr th {\n",
       "        vertical-align: top;\n",
       "    }\n",
       "\n",
       "    .dataframe thead th {\n",
       "        text-align: right;\n",
       "    }\n",
       "</style>\n",
       "<table border=\"1\" class=\"dataframe\">\n",
       "  <thead>\n",
       "    <tr style=\"text-align: right;\">\n",
       "      <th></th>\n",
       "      <th>example</th>\n",
       "      <th>intent</th>\n",
       "    </tr>\n",
       "  </thead>\n",
       "  <tbody>\n",
       "    <tr>\n",
       "      <th>0</th>\n",
       "      <td>quero ir numa agência da CEDAE</td>\n",
       "      <td>Localizar_AgenciasCEDAE</td>\n",
       "    </tr>\n",
       "    <tr>\n",
       "      <th>1</th>\n",
       "      <td>Boa Noite</td>\n",
       "      <td>General_Greetings</td>\n",
       "    </tr>\n",
       "    <tr>\n",
       "      <th>2</th>\n",
       "      <td>quero um relatório dos meus pagamentos</td>\n",
       "      <td>Consultar_ContasPagas</td>\n",
       "    </tr>\n",
       "    <tr>\n",
       "      <th>3</th>\n",
       "      <td>você sabe falar sobre o que</td>\n",
       "      <td>Bot_Capabilities</td>\n",
       "    </tr>\n",
       "    <tr>\n",
       "      <th>4</th>\n",
       "      <td>cobranca indevida</td>\n",
       "      <td>Revisar_Conta</td>\n",
       "    </tr>\n",
       "  </tbody>\n",
       "</table>\n",
       "</div>"
      ],
      "text/plain": [
       "                                  example                   intent\n",
       "0          quero ir numa agência da CEDAE  Localizar_AgenciasCEDAE\n",
       "1                               Boa Noite        General_Greetings\n",
       "2  quero um relatório dos meus pagamentos    Consultar_ContasPagas\n",
       "3             você sabe falar sobre o que         Bot_Capabilities\n",
       "4                       cobranca indevida            Revisar_Conta"
      ]
     },
     "execution_count": 8,
     "metadata": {},
     "output_type": "execute_result"
    }
   ],
   "source": [
    "import pandas as pd\n",
    "\n",
    "test_data = [{\"example\": example, \"intent\": intent} for example, intent in zip(X_test, y_test)]\n",
    "df_test = pd.DataFrame(data=test_data)\n",
    "df_test.head()"
   ]
  },
  {
   "cell_type": "code",
   "execution_count": 9,
   "metadata": {},
   "outputs": [],
   "source": [
    "df_test.to_csv(\"data/test_data_cedae.csv\", sep=\",\", index=False)"
   ]
  },
  {
   "cell_type": "code",
   "execution_count": 10,
   "metadata": {},
   "outputs": [
    {
     "data": {
      "text/html": [
       "<div>\n",
       "<style scoped>\n",
       "    .dataframe tbody tr th:only-of-type {\n",
       "        vertical-align: middle;\n",
       "    }\n",
       "\n",
       "    .dataframe tbody tr th {\n",
       "        vertical-align: top;\n",
       "    }\n",
       "\n",
       "    .dataframe thead th {\n",
       "        text-align: right;\n",
       "    }\n",
       "</style>\n",
       "<table border=\"1\" class=\"dataframe\">\n",
       "  <thead>\n",
       "    <tr style=\"text-align: right;\">\n",
       "      <th></th>\n",
       "      <th>example</th>\n",
       "      <th>intent</th>\n",
       "    </tr>\n",
       "  </thead>\n",
       "  <tbody>\n",
       "    <tr>\n",
       "      <th>0</th>\n",
       "      <td>A água está barrenta</td>\n",
       "      <td>Reportar_QualidadeDeAgua</td>\n",
       "    </tr>\n",
       "    <tr>\n",
       "      <th>1</th>\n",
       "      <td>quero meu extrato de pagamento dos últimos meses</td>\n",
       "      <td>Consultar_ContasPagas</td>\n",
       "    </tr>\n",
       "    <tr>\n",
       "      <th>2</th>\n",
       "      <td>Contaminação da agua</td>\n",
       "      <td>Reportar_QualidadeDeAgua</td>\n",
       "    </tr>\n",
       "    <tr>\n",
       "      <th>3</th>\n",
       "      <td>Estou conversando com um robô?</td>\n",
       "      <td>Bot_About</td>\n",
       "    </tr>\n",
       "    <tr>\n",
       "      <th>4</th>\n",
       "      <td>Quero consultar meu CPF</td>\n",
       "      <td>Consultar_MatriculaCPF</td>\n",
       "    </tr>\n",
       "  </tbody>\n",
       "</table>\n",
       "</div>"
      ],
      "text/plain": [
       "                                            example                    intent\n",
       "0                              A água está barrenta  Reportar_QualidadeDeAgua\n",
       "1  quero meu extrato de pagamento dos últimos meses     Consultar_ContasPagas\n",
       "2                              Contaminação da agua  Reportar_QualidadeDeAgua\n",
       "3                    Estou conversando com um robô?                 Bot_About\n",
       "4                           Quero consultar meu CPF    Consultar_MatriculaCPF"
      ]
     },
     "execution_count": 10,
     "metadata": {},
     "output_type": "execute_result"
    }
   ],
   "source": [
    "train_data = [{\"example\": example, \"intent\": intent} for example, intent in zip(X_train, y_train)]\n",
    "df_train = pd.DataFrame(data=train_data)\n",
    "df_train.head()"
   ]
  },
  {
   "cell_type": "code",
   "execution_count": 11,
   "metadata": {},
   "outputs": [],
   "source": [
    "df_train.to_csv(\"data/train_data_cedae.csv\", sep=\",\", index=False)"
   ]
  },
  {
   "cell_type": "code",
   "execution_count": 8,
   "metadata": {},
   "outputs": [],
   "source": [
    "import pandas as pd"
   ]
  },
  {
   "cell_type": "code",
   "execution_count": 9,
   "metadata": {},
   "outputs": [
    {
     "data": {
      "text/html": [
       "<div>\n",
       "<style scoped>\n",
       "    .dataframe tbody tr th:only-of-type {\n",
       "        vertical-align: middle;\n",
       "    }\n",
       "\n",
       "    .dataframe tbody tr th {\n",
       "        vertical-align: top;\n",
       "    }\n",
       "\n",
       "    .dataframe thead th {\n",
       "        text-align: right;\n",
       "    }\n",
       "</style>\n",
       "<table border=\"1\" class=\"dataframe\">\n",
       "  <thead>\n",
       "    <tr style=\"text-align: right;\">\n",
       "      <th></th>\n",
       "      <th>example</th>\n",
       "      <th>intent</th>\n",
       "    </tr>\n",
       "  </thead>\n",
       "  <tbody>\n",
       "    <tr>\n",
       "      <th>0</th>\n",
       "      <td>A água está barrenta</td>\n",
       "      <td>Reportar_QualidadeDeAgua</td>\n",
       "    </tr>\n",
       "    <tr>\n",
       "      <th>1</th>\n",
       "      <td>quero meu extrato de pagamento dos últimos meses</td>\n",
       "      <td>Consultar_ContasPagas</td>\n",
       "    </tr>\n",
       "    <tr>\n",
       "      <th>2</th>\n",
       "      <td>Contaminação da agua</td>\n",
       "      <td>Reportar_QualidadeDeAgua</td>\n",
       "    </tr>\n",
       "    <tr>\n",
       "      <th>3</th>\n",
       "      <td>Estou conversando com um robô?</td>\n",
       "      <td>Bot_About</td>\n",
       "    </tr>\n",
       "    <tr>\n",
       "      <th>4</th>\n",
       "      <td>Quero consultar meu CPF</td>\n",
       "      <td>Consultar_MatriculaCPF</td>\n",
       "    </tr>\n",
       "  </tbody>\n",
       "</table>\n",
       "</div>"
      ],
      "text/plain": [
       "                                            example                    intent\n",
       "0                              A água está barrenta  Reportar_QualidadeDeAgua\n",
       "1  quero meu extrato de pagamento dos últimos meses     Consultar_ContasPagas\n",
       "2                              Contaminação da agua  Reportar_QualidadeDeAgua\n",
       "3                    Estou conversando com um robô?                 Bot_About\n",
       "4                           Quero consultar meu CPF    Consultar_MatriculaCPF"
      ]
     },
     "execution_count": 9,
     "metadata": {},
     "output_type": "execute_result"
    }
   ],
   "source": [
    "df = pd.read_csv(\"data/train_data_cedae.csv\")\n",
    "df.head()"
   ]
  },
  {
   "cell_type": "code",
   "execution_count": 10,
   "metadata": {},
   "outputs": [
    {
     "data": {
      "text/plain": [
       "20"
      ]
     },
     "execution_count": 10,
     "metadata": {},
     "output_type": "execute_result"
    }
   ],
   "source": [
    "df.intent.nunique()"
   ]
  },
  {
   "cell_type": "code",
   "execution_count": null,
   "metadata": {},
   "outputs": [],
   "source": []
  }
 ],
 "metadata": {
  "kernelspec": {
   "display_name": ".myenv",
   "language": "python",
   "name": ".myenv"
  },
  "language_info": {
   "codemirror_mode": {
    "name": "ipython",
    "version": 3
   },
   "file_extension": ".py",
   "mimetype": "text/x-python",
   "name": "python",
   "nbconvert_exporter": "python",
   "pygments_lexer": "ipython3",
   "version": "3.6.9"
  }
 },
 "nbformat": 4,
 "nbformat_minor": 4
}
