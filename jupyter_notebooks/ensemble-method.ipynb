{
 "cells": [
  {
   "cell_type": "markdown",
   "metadata": {},
   "source": [
    "![](imgs/ensemble.png)"
   ]
  },
  {
   "cell_type": "code",
   "execution_count": 1,
   "metadata": {},
   "outputs": [],
   "source": [
    "import os\n",
    "\n",
    "default_path = \"/home/cloves/Desktop/omni_nlp_api\"\n",
    "os.chdir(default_path)"
   ]
  },
  {
   "cell_type": "code",
   "execution_count": 2,
   "metadata": {},
   "outputs": [
    {
     "data": {
      "text/plain": [
       "'nlp_model-dc1e7b3d-9137-4a20-a99c-d0d2029ef170'"
      ]
     },
     "execution_count": 2,
     "metadata": {},
     "output_type": "execute_result"
    }
   ],
   "source": [
    "from elastic_db.elasticsearch import elastic_conection, NLPmodelIndex\n",
    "\n",
    "es = elastic_conection()\n",
    "index = NLPmodelIndex(es=es, workspace_id=\"dc1e7b3d-9137-4a20-a99c-d0d2029ef170\")\n",
    "index.index_alias"
   ]
  },
  {
   "cell_type": "code",
   "execution_count": 3,
   "metadata": {},
   "outputs": [
    {
     "data": {
      "text/plain": [
       "{'_index': 'nlp_model-dc1e7b3d-9137-4a20-a99c-d0d2029ef170-19022021142434',\n",
       " '_type': '_doc',\n",
       " '_id': 'dc1e7b3d-9137-4a20-a99c-d0d2029ef170',\n",
       " '_version': 2,\n",
       " '_seq_no': 601,\n",
       " '_primary_term': 2,\n",
       " 'found': True,\n",
       " '_source': {'workspace_id': 'dc1e7b3d-9137-4a20-a99c-d0d2029ef170',\n",
       "  'customer_id': 'yara',\n",
       "  'recipe': {'model_kind': 'BM25', 'BM25': {'b': 0.7, 'k1': 1.2}},\n",
       "  'accuracies': {'cnn_accuracy': 0.8092485666275024,\n",
       "   'bm25_accuracy': 0.7586705202312138,\n",
       "   'svm_accuracy': 0.7413294797687862,\n",
       "   'logit_accuracy': 0.5057803468208093}}}"
      ]
     },
     "execution_count": 3,
     "metadata": {},
     "output_type": "execute_result"
    }
   ],
   "source": [
    "es.get(index=index.index_name, id=index.workspace_id)"
   ]
  },
  {
   "cell_type": "markdown",
   "metadata": {},
   "source": [
    "# Ler Modelos"
   ]
  },
  {
   "cell_type": "code",
   "execution_count": 4,
   "metadata": {},
   "outputs": [],
   "source": [
    "from joblib import load\n",
    "from tensorflow.keras.models import load_model\n",
    "\n",
    "path = \"/home/cloves/Desktop/omni_nlp_api\"\n",
    "\n",
    "def load_models(workspace_id):\n",
    "    svm = load(path+'/models/polySVM/trained_models/svm-{workspace_id}.joblib'.format(workspace_id=workspace_id))\n",
    "    logit = load(path+'/models/multinomialLogit/trained_models/logit-{workspace_id}.joblib'.format(workspace_id=workspace_id))\n",
    "    cnn = load_model(path+'/models/cnn/trained_models/cnn-{workspace_id}.h5'.format(workspace_id=workspace_id))\n",
    "    return svm, logit, cnn\n",
    "\n",
    "svm, logit, cnn = load_models(index.workspace_id)"
   ]
  },
  {
   "cell_type": "markdown",
   "metadata": {},
   "source": [
    "# Ler Dicionário de Intenções"
   ]
  },
  {
   "cell_type": "code",
   "execution_count": 5,
   "metadata": {},
   "outputs": [],
   "source": [
    "import json \n",
    "\n",
    "file = \"/home/cloves/Desktop/omni_nlp_api/feature_encoding/tfidf/resources/intents_dictionary-{workspace_id}.json\".format(workspace_id=index.workspace_id)\n",
    "with open(file, 'r') as f:\n",
    "      intents_dictionary = json.load(f)"
   ]
  },
  {
   "cell_type": "markdown",
   "metadata": {},
   "source": [
    "# Texto para tfidf"
   ]
  },
  {
   "cell_type": "code",
   "execution_count": 6,
   "metadata": {},
   "outputs": [],
   "source": [
    "import numpy as np\n",
    "import pickle\n",
    "\n",
    "query = {\n",
    "  \"tokenizer\" : \"classic\",\n",
    "  \"filter\" : [\n",
    "              \"lowercase\",\n",
    "              \"asciifolding\",\n",
    "              {\"type\": \"stop\", \"stopwords\": \"_portuguese_\"},\n",
    "              {\"type\": \"stemmer\", \"language\": \"brazilian\"}],\n",
    "  \"text\" : \"\"\n",
    "}\n",
    "\n",
    "file = \"/home/cloves/Desktop/omni_nlp_api/feature_encoding/tfidf/resources/tf_idf_corpus_{workspace_id}.pickle\".format(workspace_id=index.workspace_id)\n",
    "tf_idf_corpus = pickle.load(open(file, \"rb\"))\n",
    "\n",
    "def get_sentece_features(sentence, index, es):\n",
    "    query[\"text\"] = sentence\n",
    "    result = es.indices.analyze(index=index.index_name, body=query)\n",
    "    new_sentence = \" \".join([token[\"token\"] for token in result[\"tokens\"]])\n",
    "    sentence_features = tf_idf_corpus.transform([new_sentence]).toarray()\n",
    "    return sentence_features "
   ]
  },
  {
   "cell_type": "code",
   "execution_count": 8,
   "metadata": {},
   "outputs": [
    {
     "name": "stdout",
     "output_type": "stream",
     "text": [
      "WARNING:tensorflow:AutoGraph could not transform <function Model.make_predict_function.<locals>.predict_function at 0x7f8ce8506e18> and will run it as-is.\n",
      "Please report this to the TensorFlow team. When filing the bug, set the verbosity to 10 (on Linux, `export AUTOGRAPH_VERBOSITY=10`) and attach the full output.\n",
      "Cause: 'arguments' object has no attribute 'posonlyargs'\n",
      "To silence this warning, decorate the function with @tf.autograph.experimental.do_not_convert\n",
      "WARNING: AutoGraph could not transform <function Model.make_predict_function.<locals>.predict_function at 0x7f8ce8506e18> and will run it as-is.\n",
      "Please report this to the TensorFlow team. When filing the bug, set the verbosity to 10 (on Linux, `export AUTOGRAPH_VERBOSITY=10`) and attach the full output.\n",
      "Cause: 'arguments' object has no attribute 'posonlyargs'\n",
      "To silence this warning, decorate the function with @tf.autograph.experimental.do_not_convert\n"
     ]
    }
   ],
   "source": [
    "# Duvida_Formularo_Adesao_Previdencia\n",
    "sentence = \"dúvidas sobre o preenchimento do formulário\"\n",
    "sentence_features = get_sentece_features(sentence, index, es)\n",
    "result_vectors = []\n",
    "logit_result = logit.predict_proba(sentence_features) * accuracies[\"logit_accuracy\"]\n",
    "cnn_result = cnn.predict(sentence_features) * accuracies[\"cnn_accuracy\"]\n",
    "svm_result = svm.predict_proba(sentence_features) * accuracies[\"svm_accuracy\"]\n",
    "ensemble_result = logit_result + cnn_result + svm_result"
   ]
  },
  {
   "cell_type": "code",
   "execution_count": 9,
   "metadata": {},
   "outputs": [
    {
     "data": {
      "text/plain": [
       "'Duvida_Formularo_Adesao_Previdencia'"
      ]
     },
     "execution_count": 9,
     "metadata": {},
     "output_type": "execute_result"
    }
   ],
   "source": [
    "intents_dictionary[str(np.argmax(ensemble_result))]"
   ]
  },
  {
   "cell_type": "code",
   "execution_count": 10,
   "metadata": {},
   "outputs": [
    {
     "data": {
      "text/plain": [
       "87"
      ]
     },
     "execution_count": 10,
     "metadata": {},
     "output_type": "execute_result"
    }
   ],
   "source": [
    "np.argmax(ensemble_result)"
   ]
  },
  {
   "cell_type": "code",
   "execution_count": 11,
   "metadata": {},
   "outputs": [
    {
     "data": {
      "text/plain": [
       "0.002628881604858639"
      ]
     },
     "execution_count": 11,
     "metadata": {},
     "output_type": "execute_result"
    }
   ],
   "source": [
    "ensemble_result[0][36]"
   ]
  },
  {
   "cell_type": "markdown",
   "metadata": {},
   "source": [
    "# BM25 result as a np vector"
   ]
  },
  {
   "cell_type": "code",
   "execution_count": 12,
   "metadata": {},
   "outputs": [
    {
     "data": {
      "text/plain": [
       "{'intents': [{'intent': 'Duvida_Formularo_Adesao_Previdencia',\n",
       "   'confidence': 0.9380459315072991},\n",
       "  {'intent': 'Resgatar_Previdencia', 'confidence': 0.8915409300668932},\n",
       "  {'intent': 'Treinamento_Juridico', 'confidence': 0.8709480344514546},\n",
       "  {'intent': 'Fornecedor_ME', 'confidence': 0.8474037735826023},\n",
       "  {'intent': 'Solicitar_Procuracao', 'confidence': 0.8043615250332146},\n",
       "  {'intent': 'Cancelar_Previdencia', 'confidence': 0.8016387220257288},\n",
       "  {'intent': 'Download_Aplicativo_Convenio', 'confidence': 0.8007397338121957},\n",
       "  {'intent': 'Divisao_Ferias', 'confidence': 0.747114411054499},\n",
       "  {'intent': 'Agendamento_Alteracao_Ferias', 'confidence': 0.7090204306648935},\n",
       "  {'intent': 'Duvidas_Despesas', 'confidence': 0.7045770090779644}]}"
      ]
     },
     "execution_count": 12,
     "metadata": {},
     "output_type": "execute_result"
    }
   ],
   "source": [
    "from models.BM25.classifier import find_intents_bm25\n",
    "\n",
    "result = find_intents_bm25(index, sentence, es)\n",
    "result"
   ]
  },
  {
   "cell_type": "code",
   "execution_count": 14,
   "metadata": {},
   "outputs": [
    {
     "data": {
      "text/plain": [
       "10"
      ]
     },
     "execution_count": 14,
     "metadata": {},
     "output_type": "execute_result"
    }
   ],
   "source": [
    "len(result[\"intents\"])"
   ]
  },
  {
   "cell_type": "code",
   "execution_count": 50,
   "metadata": {},
   "outputs": [
    {
     "data": {
      "text/plain": [
       "[134,\n",
       " 32,\n",
       " 54,\n",
       " 69,\n",
       " 98,\n",
       " 8,\n",
       " 186,\n",
       " 48,\n",
       " 60,\n",
       " 53,\n",
       " 115,\n",
       " 79,\n",
       " 127,\n",
       " 38,\n",
       " 111,\n",
       " 211,\n",
       " 126,\n",
       " 146,\n",
       " 151,\n",
       " 114,\n",
       " 123,\n",
       " 31,\n",
       " 180,\n",
       " 192,\n",
       " 94,\n",
       " 27,\n",
       " 2,\n",
       " 198,\n",
       " 189,\n",
       " 193,\n",
       " 214,\n",
       " 191,\n",
       " 44,\n",
       " 161,\n",
       " 182,\n",
       " 57,\n",
       " 120,\n",
       " 112,\n",
       " 52,\n",
       " 174,\n",
       " 166,\n",
       " 137,\n",
       " 85,\n",
       " 3,\n",
       " 46,\n",
       " 55,\n",
       " 179,\n",
       " 213,\n",
       " 129,\n",
       " 208,\n",
       " 138,\n",
       " 59,\n",
       " 109,\n",
       " 90,\n",
       " 41,\n",
       " 33,\n",
       " 65,\n",
       " 143,\n",
       " 199,\n",
       " 178,\n",
       " 154,\n",
       " 89,\n",
       " 164,\n",
       " 125,\n",
       " 107,\n",
       " 173,\n",
       " 22,\n",
       " 195,\n",
       " 142,\n",
       " 81,\n",
       " 82,\n",
       " 87,\n",
       " 63,\n",
       " 29,\n",
       " 58,\n",
       " 26,\n",
       " 168,\n",
       " 88,\n",
       " 201,\n",
       " 51,\n",
       " 144,\n",
       " 62,\n",
       " 71,\n",
       " 70,\n",
       " 145,\n",
       " 30,\n",
       " 17,\n",
       " 40,\n",
       " 21,\n",
       " 47,\n",
       " 167,\n",
       " 202,\n",
       " 207,\n",
       " 42,\n",
       " 83,\n",
       " 171,\n",
       " 99,\n",
       " 131,\n",
       " 210,\n",
       " 132,\n",
       " 190,\n",
       " 153,\n",
       " 76,\n",
       " 100,\n",
       " 68,\n",
       " 113,\n",
       " 194,\n",
       " 175,\n",
       " 86,\n",
       " 147,\n",
       " 72,\n",
       " 177,\n",
       " 157,\n",
       " 9,\n",
       " 152,\n",
       " 116,\n",
       " 150,\n",
       " 169,\n",
       " 61,\n",
       " 165,\n",
       " 23,\n",
       " 4,\n",
       " 66,\n",
       " 128,\n",
       " 187,\n",
       " 176,\n",
       " 39,\n",
       " 148,\n",
       " 24,\n",
       " 130,\n",
       " 78,\n",
       " 103,\n",
       " 13,\n",
       " 141,\n",
       " 73,\n",
       " 139,\n",
       " 20,\n",
       " 209,\n",
       " 188,\n",
       " 200,\n",
       " 7,\n",
       " 205,\n",
       " 64,\n",
       " 10,\n",
       " 67,\n",
       " 75,\n",
       " 77,\n",
       " 19,\n",
       " 204,\n",
       " 50,\n",
       " 25,\n",
       " 203,\n",
       " 156,\n",
       " 43,\n",
       " 155,\n",
       " 105,\n",
       " 170,\n",
       " 95,\n",
       " 16,\n",
       " 117,\n",
       " 197,\n",
       " 80,\n",
       " 102,\n",
       " 6,\n",
       " 37,\n",
       " 49,\n",
       " 212,\n",
       " 158,\n",
       " 163,\n",
       " 34,\n",
       " 36,\n",
       " 96,\n",
       " 5,\n",
       " 56,\n",
       " 28,\n",
       " 184,\n",
       " 149,\n",
       " 162,\n",
       " 97,\n",
       " 91,\n",
       " 106,\n",
       " 108,\n",
       " 133,\n",
       " 140,\n",
       " 12,\n",
       " 119,\n",
       " 74,\n",
       " 172,\n",
       " 183,\n",
       " 93,\n",
       " 135,\n",
       " 35,\n",
       " 45,\n",
       " 104,\n",
       " 11,\n",
       " 14,\n",
       " 1,\n",
       " 159,\n",
       " 196,\n",
       " 118,\n",
       " 92,\n",
       " 185,\n",
       " 124,\n",
       " 15,\n",
       " 101,\n",
       " 122,\n",
       " 181,\n",
       " 160,\n",
       " 136,\n",
       " 0,\n",
       " 206,\n",
       " 121,\n",
       " 110,\n",
       " 84,\n",
       " 18]"
      ]
     },
     "execution_count": 50,
     "metadata": {},
     "output_type": "execute_result"
    }
   ],
   "source": [
    "list(map(lambda key: int(key), intents_dictionary.keys()))"
   ]
  },
  {
   "cell_type": "code",
   "execution_count": 54,
   "metadata": {},
   "outputs": [],
   "source": [
    "def bm25_result_to_vector(result, intents_dictionary):\n",
    "    number_of_intents = max(map(lambda key: int(key), intents_dictionary.keys()))\n",
    "    intents_dictionary_for_bm25 = {intent:key for key, intent in \n",
    "                                   zip(intents_dictionary.keys(), intents_dictionary.values())}\n",
    "    array_shape = (1, number_of_intents+1)\n",
    "    array_result_bm25 = np.zeros(array_shape)\n",
    "    for intent in result[\"intents\"]:\n",
    "        array_index = int(intents_dictionary_for_bm25[intent[\"intent\"]])\n",
    "        normalized_score = intent[\"confidence\"]\n",
    "        array_result_bm25[0][array_index] = normalized_score\n",
    "    return array_result_bm25"
   ]
  },
  {
   "cell_type": "code",
   "execution_count": 55,
   "metadata": {},
   "outputs": [
    {
     "data": {
      "text/plain": [
       "array([[0.        , 0.        , 0.        , 0.        , 0.        ,\n",
       "        0.        , 0.        , 0.        , 0.        , 0.        ,\n",
       "        0.        , 0.        , 0.        , 0.        , 0.        ,\n",
       "        0.70902043, 0.        , 0.        , 0.        , 0.        ,\n",
       "        0.        , 0.        , 0.        , 0.        , 0.        ,\n",
       "        0.        , 0.        , 0.        , 0.        , 0.        ,\n",
       "        0.        , 0.        , 0.        , 0.        , 0.        ,\n",
       "        0.        , 0.        , 0.        , 0.        , 0.        ,\n",
       "        0.        , 0.        , 0.        , 0.        , 0.        ,\n",
       "        0.        , 0.        , 0.        , 0.        , 0.80163872,\n",
       "        0.        , 0.        , 0.        , 0.        , 0.        ,\n",
       "        0.        , 0.        , 0.        , 0.        , 0.        ,\n",
       "        0.        , 0.        , 0.        , 0.        , 0.        ,\n",
       "        0.        , 0.        , 0.        , 0.        , 0.        ,\n",
       "        0.        , 0.        , 0.        , 0.        , 0.        ,\n",
       "        0.        , 0.        , 0.        , 0.        , 0.        ,\n",
       "        0.        , 0.        , 0.        , 0.74711441, 0.        ,\n",
       "        0.        , 0.80073973, 0.93804593, 0.        , 0.        ,\n",
       "        0.70457701, 0.        , 0.        , 0.        , 0.        ,\n",
       "        0.        , 0.        , 0.        , 0.        , 0.        ,\n",
       "        0.        , 0.        , 0.        , 0.        , 0.        ,\n",
       "        0.        , 0.        , 0.84740377, 0.        , 0.        ,\n",
       "        0.        , 0.        , 0.        , 0.        , 0.        ,\n",
       "        0.        , 0.        , 0.        , 0.        , 0.        ,\n",
       "        0.        , 0.        , 0.        , 0.        , 0.        ,\n",
       "        0.        , 0.        , 0.        , 0.        , 0.        ,\n",
       "        0.        , 0.        , 0.        , 0.        , 0.        ,\n",
       "        0.        , 0.        , 0.        , 0.        , 0.        ,\n",
       "        0.        , 0.        , 0.        , 0.        , 0.        ,\n",
       "        0.        , 0.        , 0.        , 0.        , 0.        ,\n",
       "        0.        , 0.        , 0.        , 0.        , 0.        ,\n",
       "        0.        , 0.        , 0.        , 0.        , 0.        ,\n",
       "        0.        , 0.        , 0.        , 0.        , 0.        ,\n",
       "        0.        , 0.        , 0.        , 0.        , 0.        ,\n",
       "        0.        , 0.        , 0.        , 0.89154093, 0.        ,\n",
       "        0.        , 0.        , 0.        , 0.        , 0.        ,\n",
       "        0.        , 0.        , 0.        , 0.        , 0.80436153,\n",
       "        0.        , 0.        , 0.        , 0.        , 0.        ,\n",
       "        0.        , 0.        , 0.        , 0.87094803, 0.        ,\n",
       "        0.        , 0.        , 0.        , 0.        , 0.        ,\n",
       "        0.        , 0.        , 0.        , 0.        , 0.        ,\n",
       "        0.        , 0.        , 0.        , 0.        , 0.        ,\n",
       "        0.        , 0.        , 0.        , 0.        , 0.        ]])"
      ]
     },
     "execution_count": 55,
     "metadata": {},
     "output_type": "execute_result"
    }
   ],
   "source": [
    "array_result_bm25 = bm25_result_to_vector(result=result, \n",
    "                                          intents_dictionary=intents_dictionary)\n",
    "array_result_bm25"
   ]
  },
  {
   "cell_type": "markdown",
   "metadata": {},
   "source": [
    "# Ensemble"
   ]
  },
  {
   "cell_type": "code",
   "execution_count": 42,
   "metadata": {},
   "outputs": [
    {
     "data": {
      "text/plain": [
       "{'cnn_accuracy': 0.8092485666275024,\n",
       " 'bm25_accuracy': 0.7586705202312138,\n",
       " 'svm_accuracy': 0.7413294797687862,\n",
       " 'logit_accuracy': 0.5057803468208093}"
      ]
     },
     "execution_count": 42,
     "metadata": {},
     "output_type": "execute_result"
    }
   ],
   "source": [
    "nlp_model_doc = es.get(index=index.index_alias, id=index.workspace_id)\n",
    "accuracies = nlp_model_doc[\"_source\"][\"accuracies\"]\n",
    "accuracies"
   ]
  },
  {
   "cell_type": "code",
   "execution_count": 56,
   "metadata": {},
   "outputs": [],
   "source": [
    "# Duvida_Formularo_Adesao_Previdencia\n",
    "sentence = \"dúvidas sobre o preenchimento do formulário\"\n",
    "sentence_features = get_sentece_features(sentence, index, es)\n",
    "result_vectors = []\n",
    "bm25_result = find_intents_bm25(index, sentence, es)\n",
    "array_result_bm25 = bm25_result_to_vector(result=bm25_result, \n",
    "                                          intents_dictionary=intents_dictionary) * accuracies[\"bm25_accuracy\"]\n",
    "logit_result = logit.predict_proba(sentence_features) * accuracies[\"logit_accuracy\"]\n",
    "cnn_result = cnn.predict(sentence_features) * accuracies[\"cnn_accuracy\"]\n",
    "svm_result = svm.predict_proba(sentence_features) * accuracies[\"svm_accuracy\"]\n",
    "ensemble_result = logit_result + cnn_result + svm_result + array_result_bm25"
   ]
  },
  {
   "cell_type": "code",
   "execution_count": 57,
   "metadata": {},
   "outputs": [
    {
     "data": {
      "text/plain": [
       "array([[5.19975406e-03, 1.13980139e-02, 4.61815585e-03, 6.26953292e-03,\n",
       "        4.45334436e-03, 5.44834514e-03, 4.50384508e-03, 5.75790365e-03,\n",
       "        6.78145590e-03, 5.04008608e-03, 4.19472830e-03, 3.31201479e-03,\n",
       "        5.86015330e-03, 6.40587820e-03, 4.83348393e-03, 5.48388352e-01,\n",
       "        3.73265818e-03, 3.81583563e-03, 8.13814379e-03, 8.78665282e-03,\n",
       "        1.01197916e-03, 2.89089866e-03, 8.12643834e-03, 1.21406648e-02,\n",
       "        5.01330328e-03, 4.90918878e-03, 6.11717559e-03, 5.06161988e-03,\n",
       "        6.45490890e-03, 4.52549339e-03, 5.03889521e-03, 3.66515725e-03,\n",
       "        4.54734932e-03, 5.15596836e-03, 6.11717153e-03, 2.15784973e-03,\n",
       "        2.62888160e-03, 3.29366265e-03, 5.71948798e-03, 6.60611417e-03,\n",
       "        4.59189187e-03, 2.88197209e-03, 5.46305340e-03, 5.76091897e-03,\n",
       "        4.45141717e-03, 1.28408220e-02, 5.18480308e-03, 4.82225619e-03,\n",
       "        6.17147015e-03, 6.19017032e-01, 5.11600911e-03, 3.57121551e-03,\n",
       "        1.11038946e-02, 8.20382489e-03, 3.42832610e-03, 3.22573430e-03,\n",
       "        4.65830745e-03, 1.02085552e-03, 6.18920680e-03, 3.26952915e-03,\n",
       "        7.14369323e-03, 5.16408858e-03, 4.22685332e-03, 4.73968821e-03,\n",
       "        3.68689270e-03, 5.41276407e-03, 4.00834604e-03, 6.67996217e-03,\n",
       "        4.53809701e-03, 2.05971080e-03, 3.55144435e-03, 3.82807469e-03,\n",
       "        7.26734109e-03, 7.96662089e-03, 5.49769803e-03, 9.80539033e-03,\n",
       "        3.47446383e-03, 8.06961393e-03, 9.81374555e-03, 5.33080142e-03,\n",
       "        5.37586381e-03, 5.04123969e-03, 3.91772679e-03, 5.73008071e-01,\n",
       "        4.25567484e-03, 4.36455264e-03, 6.12032771e-01, 1.52460996e+00,\n",
       "        1.27108832e-02, 6.35762180e-03, 5.43929371e-01, 5.49020915e-03,\n",
       "        4.81428119e-03, 2.95066303e-03, 6.24294843e-03, 5.34059128e-03,\n",
       "        6.45757857e-03, 5.66270489e-03, 5.35372984e-03, 5.10274160e-03,\n",
       "        4.86521990e-03, 5.15498419e-03, 3.73718556e-03, 5.53846849e-03,\n",
       "        5.80599716e-03, 6.08959847e-03, 9.46614811e-03, 6.48259588e-01,\n",
       "        4.88051529e-03, 4.84980730e-03, 1.36820970e-02, 1.40369838e-02,\n",
       "        2.19502807e-02, 1.82167995e-02, 5.85209057e-03, 4.03222460e-03,\n",
       "        3.31765392e-03, 4.40739784e-03, 7.80569484e-03, 9.11308391e-03,\n",
       "        6.36422190e-03, 8.83365509e-03, 8.41211843e-03, 9.98043649e-04,\n",
       "        1.34805417e-02, 6.03865779e-03, 7.63121738e-03, 4.49194059e-03,\n",
       "        4.40196339e-03, 5.03175358e-03, 3.23466367e-03, 6.12560592e-03,\n",
       "        2.45906349e-03, 4.77382433e-03, 2.15583357e-03, 1.87425140e-03,\n",
       "        3.55187300e-03, 4.67066993e-03, 5.29964182e-03, 2.32192562e-03,\n",
       "        7.76631639e-03, 3.80095589e-03, 4.22320261e-03, 3.87750657e-03,\n",
       "        6.11160839e-03, 1.07863876e-02, 4.44552235e-03, 4.87083468e-03,\n",
       "        4.64069627e-03, 7.66222611e-03, 2.30267446e-03, 6.15638635e-03,\n",
       "        3.06127523e-03, 8.17605695e-03, 1.09968975e-02, 1.16445363e-02,\n",
       "        7.54810782e-03, 3.07891456e-03, 2.93378883e-03, 3.66351615e-03,\n",
       "        5.98303613e-03, 8.48521010e-03, 5.19105870e-03, 2.79343844e-03,\n",
       "        2.75994934e-03, 3.65272964e-03, 8.25376645e-03, 5.60829492e-03,\n",
       "        3.17997926e-03, 5.11443290e-03, 3.77637910e-03, 7.10446123e-03,\n",
       "        5.13040458e-03, 6.94433257e-01, 1.80631669e-03, 5.03093944e-03,\n",
       "        3.49362191e-03, 7.44263991e-03, 4.36350587e-03, 5.31135658e-03,\n",
       "        3.86910823e-03, 1.27865689e-02, 5.06409509e-03, 4.81131023e-03,\n",
       "        6.15271838e-01, 4.32562089e-03, 6.34626841e-03, 6.20148889e-03,\n",
       "        2.38858151e-03, 3.11998988e-03, 6.28969368e-03, 5.98214650e-03,\n",
       "        8.22665340e-03, 6.66739063e-01, 2.57002464e-03, 6.11087669e-03,\n",
       "        5.88095142e-03, 4.38217319e-03, 5.52940183e-03, 3.39656694e-03,\n",
       "        5.49383981e-03, 3.06241955e-03, 4.27337777e-03, 7.15069565e-03,\n",
       "        8.88253622e-03, 5.88952362e-03, 3.76832972e-03, 9.22938223e-03,\n",
       "        8.62140299e-03, 8.17373846e-03, 4.90560735e-03, 5.12890287e-03,\n",
       "        6.25390619e-03, 5.14065223e-03, 3.74616605e-03]])"
      ]
     },
     "execution_count": 57,
     "metadata": {},
     "output_type": "execute_result"
    }
   ],
   "source": [
    "ensemble_result"
   ]
  },
  {
   "cell_type": "code",
   "execution_count": 58,
   "metadata": {},
   "outputs": [
    {
     "data": {
      "text/plain": [
       "'Duvida_Formularo_Adesao_Previdencia'"
      ]
     },
     "execution_count": 58,
     "metadata": {},
     "output_type": "execute_result"
    }
   ],
   "source": [
    "intents_dictionary[str(np.argmax(ensemble_result))]"
   ]
  },
  {
   "cell_type": "code",
   "execution_count": null,
   "metadata": {},
   "outputs": [],
   "source": []
  }
 ],
 "metadata": {
  "kernelspec": {
   "display_name": ".myenv",
   "language": "python",
   "name": ".myenv"
  },
  "language_info": {
   "codemirror_mode": {
    "name": "ipython",
    "version": 3
   },
   "file_extension": ".py",
   "mimetype": "text/x-python",
   "name": "python",
   "nbconvert_exporter": "python",
   "pygments_lexer": "ipython3",
   "version": "3.6.9"
  }
 },
 "nbformat": 4,
 "nbformat_minor": 4
}
