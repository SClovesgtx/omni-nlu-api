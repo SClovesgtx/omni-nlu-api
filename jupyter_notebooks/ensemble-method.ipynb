{
 "cells": [
  {
   "cell_type": "markdown",
   "metadata": {},
   "source": [
    "![](imgs/ensemble.png)"
   ]
  },
  {
   "cell_type": "code",
   "execution_count": 1,
   "metadata": {},
   "outputs": [
    {
     "ename": "ModuleNotFoundError",
     "evalue": "No module named 'elastic_db'",
     "output_type": "error",
     "traceback": [
      "\u001b[0;31m---------------------------------------------------------------------------\u001b[0m",
      "\u001b[0;31mModuleNotFoundError\u001b[0m                       Traceback (most recent call last)",
      "\u001b[0;32m<ipython-input-1-62e574d141a9>\u001b[0m in \u001b[0;36m<module>\u001b[0;34m\u001b[0m\n\u001b[0;32m----> 1\u001b[0;31m \u001b[0;32mfrom\u001b[0m \u001b[0melastic_db\u001b[0m\u001b[0;34m.\u001b[0m\u001b[0melasticsearch\u001b[0m \u001b[0;32mimport\u001b[0m \u001b[0melastic_conection\u001b[0m\u001b[0;34m,\u001b[0m \u001b[0mNLPmodelIndex\u001b[0m\u001b[0;34m\u001b[0m\u001b[0;34m\u001b[0m\u001b[0m\n\u001b[0m\u001b[1;32m      2\u001b[0m \u001b[0;34m\u001b[0m\u001b[0m\n\u001b[1;32m      3\u001b[0m \u001b[0mes\u001b[0m \u001b[0;34m=\u001b[0m \u001b[0melastic_conection\u001b[0m\u001b[0;34m(\u001b[0m\u001b[0;34m)\u001b[0m\u001b[0;34m\u001b[0m\u001b[0;34m\u001b[0m\u001b[0m\n\u001b[1;32m      4\u001b[0m \u001b[0mindex\u001b[0m \u001b[0;34m=\u001b[0m \u001b[0mNLPmodelIndex\u001b[0m\u001b[0;34m(\u001b[0m\u001b[0mes\u001b[0m\u001b[0;34m=\u001b[0m\u001b[0mes\u001b[0m\u001b[0;34m,\u001b[0m \u001b[0mworkspace_id\u001b[0m\u001b[0;34m=\u001b[0m\u001b[0;34m\"dc1e7b3d-9137-4a20-a99c-d0d2029ef170\"\u001b[0m\u001b[0;34m)\u001b[0m\u001b[0;34m\u001b[0m\u001b[0;34m\u001b[0m\u001b[0m\n\u001b[1;32m      5\u001b[0m \u001b[0mindex\u001b[0m\u001b[0;34m.\u001b[0m\u001b[0mindex_alias\u001b[0m\u001b[0;34m\u001b[0m\u001b[0;34m\u001b[0m\u001b[0m\n",
      "\u001b[0;31mModuleNotFoundError\u001b[0m: No module named 'elastic_db'"
     ]
    }
   ],
   "source": [
    "from elastic_db.elasticsearch import elastic_conection, NLPmodelIndex\n",
    "\n",
    "es = elastic_conection()\n",
    "index = NLPmodelIndex(es=es, workspace_id=\"dc1e7b3d-9137-4a20-a99c-d0d2029ef170\")\n",
    "index.index_alias"
   ]
  },
  {
   "cell_type": "code",
   "execution_count": 3,
   "metadata": {},
   "outputs": [
    {
     "data": {
      "text/plain": [
       "{'_index': 'nlp_model-dc1e7b3d-9137-4a20-a99c-d0d2029ef170-all-10022021085104',\n",
       " '_type': '_doc',\n",
       " '_id': 'dc1e7b3d-9137-4a20-a99c-d0d2029ef170-all',\n",
       " '_version': 3,\n",
       " '_seq_no': 425,\n",
       " '_primary_term': 1,\n",
       " 'found': True,\n",
       " '_source': {'workspace_id': 'dc1e7b3d-9137-4a20-a99c-d0d2029ef170-all',\n",
       "  'customer_id': 'yara',\n",
       "  'recipe': {'model_kind': 'BM25', 'BM25': {'b': 0.75, 'k1': 1.2}},\n",
       "  'cnn_accuracy': 0.8552188277244568,\n",
       "  'xgb_accuracy': 0.3939393939393939,\n",
       "  'svm_accuracy': 0.7845117845117845,\n",
       "  'logit_accuracy': 0.6531986531986532,\n",
       "  'accuracies': {'cnn_accuracy': 0.8383838534355164,\n",
       "   'xgb_accuracy': 0.3939393939393939,\n",
       "   'svm_accuracy': 0.7845117845117845,\n",
       "   'logit_accuracy': 0.6531986531986532}}}"
      ]
     },
     "execution_count": 3,
     "metadata": {},
     "output_type": "execute_result"
    }
   ],
   "source": [
    "es.get(index=index.index_name, id=index.workspace_id)"
   ]
  },
  {
   "cell_type": "markdown",
   "metadata": {},
   "source": [
    "# Ler Modelos"
   ]
  },
  {
   "cell_type": "code",
   "execution_count": 29,
   "metadata": {},
   "outputs": [],
   "source": [
    "from joblib import load\n",
    "from tensorflow.keras.models import load_model\n",
    "\n",
    "path = \"/home/cloves/Desktop/omni_nlp_api\"\n",
    "\n",
    "def load_models(workspace_id):\n",
    "    svm = load(path+'/models/polySVM/trained_models/svm-{workspace_id}.joblib'.format(workspace_id=workspace_id))\n",
    "    logit = load(path+'/models/multinomialLogit/trained_models/logit-{workspace_id}.joblib'.format(workspace_id=workspace_id))\n",
    "    cnn = load_model(path+'/models/cnn/trained_models/cnn-{workspace_id}.h5'.format(workspace_id=workspace_id))\n",
    "    return svm, logit, cnn\n",
    "\n",
    "svm, logit, cnn = load_models(index.workspace_id)"
   ]
  },
  {
   "cell_type": "markdown",
   "metadata": {},
   "source": [
    "# Ler Dicionário de Intenções"
   ]
  },
  {
   "cell_type": "code",
   "execution_count": 34,
   "metadata": {},
   "outputs": [],
   "source": [
    "import json \n",
    "\n",
    "file = \"/home/cloves/Desktop/omni_nlp_api/feature_encoding/tfidf/resources/intents_dictionary-{workspace_id}.json\".format(workspace_id=index.workspace_id)\n",
    "with open(file, 'r') as f:\n",
    "      intents_dictionary = json.load(f)"
   ]
  },
  {
   "cell_type": "markdown",
   "metadata": {},
   "source": [
    "# Texto para tfidf"
   ]
  },
  {
   "cell_type": "code",
   "execution_count": 19,
   "metadata": {},
   "outputs": [],
   "source": [
    "import numpy as np\n",
    "import pickle\n",
    "\n",
    "query = {\n",
    "  \"tokenizer\" : \"classic\",\n",
    "  \"filter\" : [\n",
    "              \"lowercase\",\n",
    "              \"asciifolding\",\n",
    "              {\"type\": \"stop\", \"stopwords\": \"_portuguese_\"},\n",
    "              {\"type\": \"stemmer\", \"language\": \"brazilian\"}],\n",
    "  \"text\" : \"\"\n",
    "}\n",
    "\n",
    "file = \"/home/cloves/Desktop/omni_nlp_api/feature_encoding/tfidf/resources/tf_idf_corpus_{workspace_id}.pickle\".format(workspace_id=index.workspace_id)\n",
    "tf_idf_corpus = pickle.load(open(file, \"rb\"))\n",
    "\n",
    "def get_sentece_features(sentence, index, es):\n",
    "    query[\"text\"] = sentence\n",
    "    result = es.indices.analyze(index=index.index_name, body=query)\n",
    "    new_sentence = \" \".join([token[\"token\"] for token in result[\"tokens\"]])\n",
    "    sentence_features = tf_idf_corpus.transform([new_sentence]).toarray()\n",
    "    return sentence_features "
   ]
  },
  {
   "cell_type": "markdown",
   "metadata": {},
   "source": [
    "# Ensemble"
   ]
  },
  {
   "cell_type": "code",
   "execution_count": null,
   "metadata": {},
   "outputs": [],
   "source": [
    "# def ensemble_prob_vector(result_vectors):\n",
    "#     for prob_vector in result_vectors:\n",
    "#         acc\n",
    "    "
   ]
  },
  {
   "cell_type": "code",
   "execution_count": 25,
   "metadata": {},
   "outputs": [
    {
     "data": {
      "text/plain": [
       "{'cnn_accuracy': 0.8518518805503845,\n",
       " 'xgb_accuracy': 0.3939393939393939,\n",
       " 'svm_accuracy': 0.7845117845117845,\n",
       " 'logit_accuracy': 0.6531986531986532,\n",
       " 'bm25_accuracy': 0.7272727272727273}"
      ]
     },
     "execution_count": 25,
     "metadata": {},
     "output_type": "execute_result"
    }
   ],
   "source": [
    "nlp_model_doc = es.get(index=index.index_alias, id=index.workspace_id)\n",
    "accuracies = nlp_model_doc[\"_source\"][\"accuracies\"]\n",
    "accuracies"
   ]
  },
  {
   "cell_type": "code",
   "execution_count": 45,
   "metadata": {},
   "outputs": [],
   "source": [
    "# Duvida_Formularo_Adesao_Previdencia\n",
    "sentence = \"dúvidas sobre o preenchimento do formulário\"\n",
    "sentence_features = get_sentece_features(sentence, index, es)\n",
    "result_vectors = []\n",
    "logit_result = logit.predict_proba(sentence_features) * accuracies[\"logit_accuracy\"]\n",
    "cnn_result = cnn.predict(sentence_features) * accuracies[\"cnn_accuracy\"]\n",
    "svm_result = svm.predict_proba(sentence_features) * accuracies[\"svm_accuracy\"]\n",
    "ensemble_result = logit_result + cnn_result + svm_result"
   ]
  },
  {
   "cell_type": "code",
   "execution_count": 46,
   "metadata": {},
   "outputs": [
    {
     "data": {
      "text/plain": [
       "'Duvida_Formularo_Adesao_Previdencia'"
      ]
     },
     "execution_count": 46,
     "metadata": {},
     "output_type": "execute_result"
    }
   ],
   "source": [
    "intents_dictionary[str(np.argmax(ensemble_result))]"
   ]
  },
  {
   "cell_type": "code",
   "execution_count": 49,
   "metadata": {},
   "outputs": [
    {
     "data": {
      "text/plain": [
       "36"
      ]
     },
     "execution_count": 49,
     "metadata": {},
     "output_type": "execute_result"
    }
   ],
   "source": [
    "np.argmax(ensemble_result)"
   ]
  },
  {
   "cell_type": "code",
   "execution_count": 54,
   "metadata": {},
   "outputs": [
    {
     "data": {
      "text/plain": [
       "0.37667835606515465"
      ]
     },
     "execution_count": 54,
     "metadata": {},
     "output_type": "execute_result"
    }
   ],
   "source": [
    "ensemble_result[0][36]"
   ]
  },
  {
   "cell_type": "code",
   "execution_count": 43,
   "metadata": {},
   "outputs": [
    {
     "data": {
      "text/plain": [
       "{'intents': [{'intent': 'Duvida_Formularo_Adesao_Previdencia',\n",
       "   'confidence': 0.7550395709077156},\n",
       "  {'intent': 'Bot_Capabilities', 'confidence': 0.7052722839057859},\n",
       "  {'intent': 'Visao_Geral_Previdencia_Privada',\n",
       "   'confidence': 0.6914305289932955},\n",
       "  {'intent': 'Receber_Cartao_Convenio', 'confidence': 0.6419680728609294},\n",
       "  {'intent': 'Direcao_Defensiva', 'confidence': 0.6315279295012705},\n",
       "  {'intent': 'Veiculo_Problema', 'confidence': 0.6302607881582883},\n",
       "  {'intent': 'Ex_Colaborador_Resgate_Previdencia',\n",
       "   'confidence': 0.6246843877187425},\n",
       "  {'intent': 'Detalhe_Sobre_Desconto', 'confidence': 0.5956599432193345},\n",
       "  {'intent': 'Cartao_Bloqueado_SenhaInvalida',\n",
       "   'confidence': 0.5478608096736808},\n",
       "  {'intent': 'Licenca_Mais_Ferias', 'confidence': 0.5347608978072536}]}"
      ]
     },
     "execution_count": 43,
     "metadata": {},
     "output_type": "execute_result"
    }
   ],
   "source": [
    "from models.BM25.classifier import find_intents_bm25\n",
    "\n",
    "result = find_intents_bm25(index, sentence, es)\n",
    "result"
   ]
  }
 ],
 "metadata": {
  "kernelspec": {
   "display_name": ".myenv",
   "language": "python",
   "name": ".myenv"
  },
  "language_info": {
   "codemirror_mode": {
    "name": "ipython",
    "version": 3
   },
   "file_extension": ".py",
   "mimetype": "text/x-python",
   "name": "python",
   "nbconvert_exporter": "python",
   "pygments_lexer": "ipython3",
   "version": "3.6.9"
  }
 },
 "nbformat": 4,
 "nbformat_minor": 4
}
