{
 "cells": [
  {
   "cell_type": "markdown",
   "metadata": {},
   "source": [
    "[Multiclass sparse logistic regression on 20newgroups](https://scikit-learn.org/stable/auto_examples/linear_model/plot_sparse_logistic_regression_20newsgroups.html)"
   ]
  },
  {
   "cell_type": "code",
   "execution_count": 22,
   "metadata": {},
   "outputs": [],
   "source": [
    "import numpy as np\n",
    "import json\n",
    "\n",
    "with open(\"data/intents_dictionary_tfidf_cedae.json\", 'r') as f:\n",
    "      intents_dictionary = json.load(f)\n",
    "\n",
    "with open('data/X_train_tdidf_cedae.npy', 'rb') as f:\n",
    "    X_train = np.load(f)\n",
    "    \n",
    "with open('data/y_train_tdidf_cedae.npy', 'rb') as f:\n",
    "    y_train = np.load(f)\n",
    "    \n",
    "with open('data/X_test_tdidf_cedae.npy', 'rb') as f:\n",
    "    X_test = np.load(f)\n",
    "    \n",
    "with open('data/y_test_tdidf_cedae.npy', 'rb') as f:\n",
    "    y_test = np.load(f)\n",
    "    \n",
    "y_train = np.array([np.argmax(onehot) for onehot in y_train.tolist()])\n",
    "y_test = np.array([np.argmax(onehot) for onehot in y_test.tolist()])"
   ]
  },
  {
   "cell_type": "code",
   "execution_count": 27,
   "metadata": {},
   "outputs": [
    {
     "data": {
      "text/plain": [
       "0.5849056603773585"
      ]
     },
     "execution_count": 27,
     "metadata": {},
     "output_type": "execute_result"
    }
   ],
   "source": [
    "from sklearn.linear_model import LogisticRegression\n",
    "from sklearn.metrics import accuracy_score\n",
    "\n",
    "model = LogisticRegression(multi_class='multinomial', solver='lbfgs', random_state=42)\n",
    "model.fit(X_train, y_train)\n",
    "\n",
    "y_pred = model.predict(X_test)\n",
    "accuracy = np.sum(y_pred == y_test) / y_test.shape[0]\n",
    "accuracy"
   ]
  }
 ],
 "metadata": {
  "kernelspec": {
   "display_name": ".myenv",
   "language": "python",
   "name": ".myenv"
  },
  "language_info": {
   "codemirror_mode": {
    "name": "ipython",
    "version": 3
   },
   "file_extension": ".py",
   "mimetype": "text/x-python",
   "name": "python",
   "nbconvert_exporter": "python",
   "pygments_lexer": "ipython3",
   "version": "3.6.9"
  }
 },
 "nbformat": 4,
 "nbformat_minor": 4
}
