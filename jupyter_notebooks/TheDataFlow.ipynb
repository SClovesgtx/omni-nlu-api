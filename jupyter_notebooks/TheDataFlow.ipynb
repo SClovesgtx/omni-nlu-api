{
 "cells": [
  {
   "cell_type": "markdown",
   "id": "1b740292",
   "metadata": {},
   "source": [
    "# Connecting"
   ]
  },
  {
   "cell_type": "code",
   "execution_count": 17,
   "id": "f40f1534",
   "metadata": {},
   "outputs": [],
   "source": [
    "import os\n",
    "import numpy as np\n",
    "\n",
    "# setting working dir\n",
    "os.chdir(\"../src\")"
   ]
  },
  {
   "cell_type": "code",
   "execution_count": 18,
   "id": "c6fd7270",
   "metadata": {},
   "outputs": [],
   "source": [
    "from elasticsearch_db.elasticsearch import elastic_conection\n",
    "from elasticsearch_db.elasticsearch import get_nlp_model\n",
    "\n",
    "es = elastic_conection()"
   ]
  },
  {
   "cell_type": "code",
   "execution_count": 19,
   "id": "abb00a3f",
   "metadata": {},
   "outputs": [
    {
     "data": {
      "text/plain": [
       "True"
      ]
     },
     "execution_count": 19,
     "metadata": {},
     "output_type": "execute_result"
    }
   ],
   "source": [
    "workspace_id = \"dc1e7b3d-9137-4a20-a99c-d0d2029ef170\"\n",
    "workspace, exist = get_nlp_model(es, workspace_id=workspace_id)\n",
    "exist"
   ]
  },
  {
   "cell_type": "markdown",
   "id": "14f8f0fd",
   "metadata": {},
   "source": [
    "# Data Sourcing"
   ]
  },
  {
   "cell_type": "code",
   "execution_count": 20,
   "id": "86856a7f",
   "metadata": {},
   "outputs": [],
   "source": [
    "from data_pipeline.data_sourcing import get_data\n",
    "\n",
    "#get_data?"
   ]
  },
  {
   "cell_type": "code",
   "execution_count": 21,
   "id": "f3f4385a",
   "metadata": {},
   "outputs": [
    {
     "data": {
      "text/html": [
       "<div>\n",
       "<style scoped>\n",
       "    .dataframe tbody tr th:only-of-type {\n",
       "        vertical-align: middle;\n",
       "    }\n",
       "\n",
       "    .dataframe tbody tr th {\n",
       "        vertical-align: top;\n",
       "    }\n",
       "\n",
       "    .dataframe thead th {\n",
       "        text-align: right;\n",
       "    }\n",
       "</style>\n",
       "<table border=\"1\" class=\"dataframe\">\n",
       "  <thead>\n",
       "    <tr style=\"text-align: right;\">\n",
       "      <th></th>\n",
       "      <th>intents</th>\n",
       "      <th>examples</th>\n",
       "    </tr>\n",
       "  </thead>\n",
       "  <tbody>\n",
       "    <tr>\n",
       "      <th>0</th>\n",
       "      <td>Inativar_Posição</td>\n",
       "      <td>Como realizo a inativação de uma posição de mi...</td>\n",
       "    </tr>\n",
       "    <tr>\n",
       "      <th>1</th>\n",
       "      <td>Inativar_Posição</td>\n",
       "      <td>Como realizo a reativação de uma posição em mi...</td>\n",
       "    </tr>\n",
       "    <tr>\n",
       "      <th>2</th>\n",
       "      <td>Inativar_Posição</td>\n",
       "      <td>Em quanto tempo a inativação de uma posição é ...</td>\n",
       "    </tr>\n",
       "    <tr>\n",
       "      <th>3</th>\n",
       "      <td>Inativar_Posição</td>\n",
       "      <td>Gostaria de fazer a inativação de uma posição,...</td>\n",
       "    </tr>\n",
       "    <tr>\n",
       "      <th>4</th>\n",
       "      <td>Inativar_Posição</td>\n",
       "      <td>Realizei a inativação de uma posição e ela con...</td>\n",
       "    </tr>\n",
       "  </tbody>\n",
       "</table>\n",
       "</div>"
      ],
      "text/plain": [
       "            intents                                           examples\n",
       "0  Inativar_Posição  Como realizo a inativação de uma posição de mi...\n",
       "1  Inativar_Posição  Como realizo a reativação de uma posição em mi...\n",
       "2  Inativar_Posição  Em quanto tempo a inativação de uma posição é ...\n",
       "3  Inativar_Posição  Gostaria de fazer a inativação de uma posição,...\n",
       "4  Inativar_Posição  Realizei a inativação de uma posição e ela con..."
      ]
     },
     "execution_count": 21,
     "metadata": {},
     "output_type": "execute_result"
    }
   ],
   "source": [
    "df = get_data(workspace=workspace, es=es)\n",
    "df.head()"
   ]
  },
  {
   "cell_type": "markdown",
   "id": "dd680f84",
   "metadata": {},
   "source": [
    "# Data Preprocessing"
   ]
  },
  {
   "cell_type": "markdown",
   "id": "b659e631",
   "metadata": {},
   "source": [
    "### Create artificial Examples"
   ]
  },
  {
   "cell_type": "code",
   "execution_count": 6,
   "id": "488f6c60",
   "metadata": {},
   "outputs": [],
   "source": [
    "# from data_pipeline.data_preprocessing import fill_missing_examples\n",
    "\n",
    "# fill_missing_examples?"
   ]
  },
  {
   "cell_type": "code",
   "execution_count": 7,
   "id": "dfe68237",
   "metadata": {},
   "outputs": [],
   "source": [
    "# data = fill_missing_examples(data)"
   ]
  },
  {
   "cell_type": "markdown",
   "id": "f5680343",
   "metadata": {},
   "source": [
    "### Cleansing"
   ]
  },
  {
   "cell_type": "code",
   "execution_count": 22,
   "id": "8fe4ef07",
   "metadata": {},
   "outputs": [],
   "source": [
    "from data_pipeline.data_preprocessing import clean_examples\n",
    "\n",
    "#clean_examples?"
   ]
  },
  {
   "cell_type": "code",
   "execution_count": 23,
   "id": "19b695bd",
   "metadata": {},
   "outputs": [],
   "source": [
    "df = clean_examples(df)"
   ]
  },
  {
   "cell_type": "code",
   "execution_count": 24,
   "id": "9887efd0",
   "metadata": {},
   "outputs": [
    {
     "data": {
      "text/html": [
       "<div>\n",
       "<style scoped>\n",
       "    .dataframe tbody tr th:only-of-type {\n",
       "        vertical-align: middle;\n",
       "    }\n",
       "\n",
       "    .dataframe tbody tr th {\n",
       "        vertical-align: top;\n",
       "    }\n",
       "\n",
       "    .dataframe thead th {\n",
       "        text-align: right;\n",
       "    }\n",
       "</style>\n",
       "<table border=\"1\" class=\"dataframe\">\n",
       "  <thead>\n",
       "    <tr style=\"text-align: right;\">\n",
       "      <th></th>\n",
       "      <th>intents</th>\n",
       "      <th>examples</th>\n",
       "      <th>cleaned_examples</th>\n",
       "    </tr>\n",
       "  </thead>\n",
       "  <tbody>\n",
       "    <tr>\n",
       "      <th>0</th>\n",
       "      <td>Inativar_Posição</td>\n",
       "      <td>Como realizo a inativação de uma posição de mi...</td>\n",
       "      <td>realiz inativ pos estrut</td>\n",
       "    </tr>\n",
       "    <tr>\n",
       "      <th>1</th>\n",
       "      <td>Inativar_Posição</td>\n",
       "      <td>Como realizo a reativação de uma posição em mi...</td>\n",
       "      <td>realiz reativ pos estrut</td>\n",
       "    </tr>\n",
       "    <tr>\n",
       "      <th>2</th>\n",
       "      <td>Inativar_Posição</td>\n",
       "      <td>Em quanto tempo a inativação de uma posição é ...</td>\n",
       "      <td>quant temp inativ pos efetiv</td>\n",
       "    </tr>\n",
       "    <tr>\n",
       "      <th>3</th>\n",
       "      <td>Inativar_Posição</td>\n",
       "      <td>Gostaria de fazer a inativação de uma posição,...</td>\n",
       "      <td>gost faz inativ pos fac</td>\n",
       "    </tr>\n",
       "    <tr>\n",
       "      <th>4</th>\n",
       "      <td>Inativar_Posição</td>\n",
       "      <td>Realizei a inativação de uma posição e ela con...</td>\n",
       "      <td>realiz inativ pos continu vis</td>\n",
       "    </tr>\n",
       "  </tbody>\n",
       "</table>\n",
       "</div>"
      ],
      "text/plain": [
       "            intents                                           examples  \\\n",
       "0  Inativar_Posição  Como realizo a inativação de uma posição de mi...   \n",
       "1  Inativar_Posição  Como realizo a reativação de uma posição em mi...   \n",
       "2  Inativar_Posição  Em quanto tempo a inativação de uma posição é ...   \n",
       "3  Inativar_Posição  Gostaria de fazer a inativação de uma posição,...   \n",
       "4  Inativar_Posição  Realizei a inativação de uma posição e ela con...   \n",
       "\n",
       "                cleaned_examples  \n",
       "0       realiz inativ pos estrut  \n",
       "1       realiz reativ pos estrut  \n",
       "2   quant temp inativ pos efetiv  \n",
       "3        gost faz inativ pos fac  \n",
       "4  realiz inativ pos continu vis  "
      ]
     },
     "execution_count": 24,
     "metadata": {},
     "output_type": "execute_result"
    }
   ],
   "source": [
    "df.head()"
   ]
  },
  {
   "cell_type": "markdown",
   "id": "1b605753",
   "metadata": {},
   "source": [
    "# Feature Extracting"
   ]
  },
  {
   "cell_type": "code",
   "execution_count": 25,
   "id": "a5e88741",
   "metadata": {},
   "outputs": [
    {
     "data": {
      "text/html": [
       "<div>\n",
       "<style scoped>\n",
       "    .dataframe tbody tr th:only-of-type {\n",
       "        vertical-align: middle;\n",
       "    }\n",
       "\n",
       "    .dataframe tbody tr th {\n",
       "        vertical-align: top;\n",
       "    }\n",
       "\n",
       "    .dataframe thead th {\n",
       "        text-align: right;\n",
       "    }\n",
       "</style>\n",
       "<table border=\"1\" class=\"dataframe\">\n",
       "  <thead>\n",
       "    <tr style=\"text-align: right;\">\n",
       "      <th></th>\n",
       "      <th>intents</th>\n",
       "      <th>examples</th>\n",
       "      <th>cleaned_examples</th>\n",
       "      <th>intents_onehot</th>\n",
       "      <th>13o</th>\n",
       "      <th>1a</th>\n",
       "      <th>2808sem</th>\n",
       "      <th>2k</th>\n",
       "      <th>2o</th>\n",
       "      <th>abaix</th>\n",
       "      <th>...</th>\n",
       "      <th>vou</th>\n",
       "      <th>vr</th>\n",
       "      <th>vtnc</th>\n",
       "      <th>word</th>\n",
       "      <th>workflow</th>\n",
       "      <th>wwwpremiertravelc</th>\n",
       "      <th>xau</th>\n",
       "      <th>yar</th>\n",
       "      <th>yarin</th>\n",
       "      <th>zacarin</th>\n",
       "    </tr>\n",
       "  </thead>\n",
       "  <tbody>\n",
       "    <tr>\n",
       "      <th>0</th>\n",
       "      <td>Inativar_Posição</td>\n",
       "      <td>Como realizo a inativação de uma posição de mi...</td>\n",
       "      <td>realiz inativ pos estrut</td>\n",
       "      <td>[0.0, 0.0, 0.0, 0.0, 0.0, 0.0, 0.0, 0.0, 0.0, ...</td>\n",
       "      <td>0.0</td>\n",
       "      <td>0.0</td>\n",
       "      <td>0.0</td>\n",
       "      <td>0.0</td>\n",
       "      <td>0.0</td>\n",
       "      <td>0.0</td>\n",
       "      <td>...</td>\n",
       "      <td>0.0</td>\n",
       "      <td>0.0</td>\n",
       "      <td>0.0</td>\n",
       "      <td>0.0</td>\n",
       "      <td>0.0</td>\n",
       "      <td>0.0</td>\n",
       "      <td>0.0</td>\n",
       "      <td>0.0</td>\n",
       "      <td>0.0</td>\n",
       "      <td>0.0</td>\n",
       "    </tr>\n",
       "    <tr>\n",
       "      <th>1</th>\n",
       "      <td>Inativar_Posição</td>\n",
       "      <td>Como realizo a reativação de uma posição em mi...</td>\n",
       "      <td>realiz reativ pos estrut</td>\n",
       "      <td>[0.0, 0.0, 0.0, 0.0, 0.0, 0.0, 0.0, 0.0, 0.0, ...</td>\n",
       "      <td>0.0</td>\n",
       "      <td>0.0</td>\n",
       "      <td>0.0</td>\n",
       "      <td>0.0</td>\n",
       "      <td>0.0</td>\n",
       "      <td>0.0</td>\n",
       "      <td>...</td>\n",
       "      <td>0.0</td>\n",
       "      <td>0.0</td>\n",
       "      <td>0.0</td>\n",
       "      <td>0.0</td>\n",
       "      <td>0.0</td>\n",
       "      <td>0.0</td>\n",
       "      <td>0.0</td>\n",
       "      <td>0.0</td>\n",
       "      <td>0.0</td>\n",
       "      <td>0.0</td>\n",
       "    </tr>\n",
       "  </tbody>\n",
       "</table>\n",
       "<p>2 rows × 1178 columns</p>\n",
       "</div>"
      ],
      "text/plain": [
       "            intents                                           examples  \\\n",
       "0  Inativar_Posição  Como realizo a inativação de uma posição de mi...   \n",
       "1  Inativar_Posição  Como realizo a reativação de uma posição em mi...   \n",
       "\n",
       "           cleaned_examples  \\\n",
       "0  realiz inativ pos estrut   \n",
       "1  realiz reativ pos estrut   \n",
       "\n",
       "                                      intents_onehot  13o   1a  2808sem   2k  \\\n",
       "0  [0.0, 0.0, 0.0, 0.0, 0.0, 0.0, 0.0, 0.0, 0.0, ...  0.0  0.0      0.0  0.0   \n",
       "1  [0.0, 0.0, 0.0, 0.0, 0.0, 0.0, 0.0, 0.0, 0.0, ...  0.0  0.0      0.0  0.0   \n",
       "\n",
       "    2o  abaix  ...  vou   vr  vtnc  word  workflow  wwwpremiertravelc  xau  \\\n",
       "0  0.0    0.0  ...  0.0  0.0   0.0   0.0       0.0                0.0  0.0   \n",
       "1  0.0    0.0  ...  0.0  0.0   0.0   0.0       0.0                0.0  0.0   \n",
       "\n",
       "   yar  yarin  zacarin  \n",
       "0  0.0    0.0      0.0  \n",
       "1  0.0    0.0      0.0  \n",
       "\n",
       "[2 rows x 1178 columns]"
      ]
     },
     "execution_count": 25,
     "metadata": {},
     "output_type": "execute_result"
    }
   ],
   "source": [
    "from data_pipeline.feature_extracting import encode_features\n",
    "\n",
    "df, x_transformer, y_transformer = encode_features(df)\n",
    "df.head(2)"
   ]
  },
  {
   "cell_type": "markdown",
   "id": "9c1f1a02",
   "metadata": {},
   "source": [
    "# Data Splitting"
   ]
  },
  {
   "cell_type": "code",
   "execution_count": 26,
   "id": "d0c43f2d",
   "metadata": {},
   "outputs": [],
   "source": [
    "from data_pipeline.data_splitting import split"
   ]
  },
  {
   "cell_type": "code",
   "execution_count": 27,
   "id": "a50e3d31",
   "metadata": {},
   "outputs": [],
   "source": [
    "X_train, X_test, y_train, y_test = split(df)"
   ]
  },
  {
   "cell_type": "code",
   "execution_count": 28,
   "id": "913036af-6e60-4e29-9415-fa3626bfbf8f",
   "metadata": {},
   "outputs": [
    {
     "data": {
      "text/plain": [
       "(817, 1174)"
      ]
     },
     "execution_count": 28,
     "metadata": {},
     "output_type": "execute_result"
    }
   ],
   "source": [
    "X_train.shape"
   ]
  },
  {
   "cell_type": "code",
   "execution_count": 29,
   "id": "4920be40-0ea3-4a05-8b83-8adda8ab8f43",
   "metadata": {},
   "outputs": [
    {
     "data": {
      "text/plain": [
       "(403, 1174)"
      ]
     },
     "execution_count": 29,
     "metadata": {},
     "output_type": "execute_result"
    }
   ],
   "source": [
    "X_test.shape"
   ]
  },
  {
   "cell_type": "code",
   "execution_count": 30,
   "id": "951b4fc2",
   "metadata": {},
   "outputs": [
    {
     "data": {
      "text/plain": [
       "(817, 2)"
      ]
     },
     "execution_count": 30,
     "metadata": {},
     "output_type": "execute_result"
    }
   ],
   "source": [
    "y_train.shape"
   ]
  },
  {
   "cell_type": "code",
   "execution_count": 31,
   "id": "9e2da985",
   "metadata": {},
   "outputs": [
    {
     "data": {
      "text/plain": [
       "(403, 2)"
      ]
     },
     "execution_count": 31,
     "metadata": {},
     "output_type": "execute_result"
    }
   ],
   "source": [
    "y_test.shape"
   ]
  },
  {
   "cell_type": "code",
   "execution_count": 32,
   "id": "9ae081f4",
   "metadata": {},
   "outputs": [
    {
     "data": {
      "text/html": [
       "<div>\n",
       "<style scoped>\n",
       "    .dataframe tbody tr th:only-of-type {\n",
       "        vertical-align: middle;\n",
       "    }\n",
       "\n",
       "    .dataframe tbody tr th {\n",
       "        vertical-align: top;\n",
       "    }\n",
       "\n",
       "    .dataframe thead th {\n",
       "        text-align: right;\n",
       "    }\n",
       "</style>\n",
       "<table border=\"1\" class=\"dataframe\">\n",
       "  <thead>\n",
       "    <tr style=\"text-align: right;\">\n",
       "      <th></th>\n",
       "      <th>intents</th>\n",
       "      <th>intents_onehot</th>\n",
       "    </tr>\n",
       "  </thead>\n",
       "  <tbody>\n",
       "    <tr>\n",
       "      <th>405</th>\n",
       "      <td>Detalhe_Sobre_Desconto</td>\n",
       "      <td>[0.0, 0.0, 0.0, 0.0, 0.0, 0.0, 0.0, 0.0, 0.0, ...</td>\n",
       "    </tr>\n",
       "    <tr>\n",
       "      <th>1071</th>\n",
       "      <td>Transferir_Colaborador_Filial</td>\n",
       "      <td>[0.0, 0.0, 0.0, 0.0, 0.0, 0.0, 0.0, 0.0, 0.0, ...</td>\n",
       "    </tr>\n",
       "    <tr>\n",
       "      <th>429</th>\n",
       "      <td>Direito_ao_13</td>\n",
       "      <td>[0.0, 0.0, 0.0, 0.0, 0.0, 0.0, 0.0, 0.0, 0.0, ...</td>\n",
       "    </tr>\n",
       "    <tr>\n",
       "      <th>1171</th>\n",
       "      <td>Verificar_Historico_Previdencia</td>\n",
       "      <td>[0.0, 0.0, 0.0, 0.0, 0.0, 0.0, 0.0, 0.0, 0.0, ...</td>\n",
       "    </tr>\n",
       "    <tr>\n",
       "      <th>779</th>\n",
       "      <td>Hora_Extra</td>\n",
       "      <td>[0.0, 0.0, 0.0, 0.0, 0.0, 0.0, 0.0, 0.0, 0.0, ...</td>\n",
       "    </tr>\n",
       "  </tbody>\n",
       "</table>\n",
       "</div>"
      ],
      "text/plain": [
       "                              intents  \\\n",
       "405            Detalhe_Sobre_Desconto   \n",
       "1071    Transferir_Colaborador_Filial   \n",
       "429                     Direito_ao_13   \n",
       "1171  Verificar_Historico_Previdencia   \n",
       "779                        Hora_Extra   \n",
       "\n",
       "                                         intents_onehot  \n",
       "405   [0.0, 0.0, 0.0, 0.0, 0.0, 0.0, 0.0, 0.0, 0.0, ...  \n",
       "1071  [0.0, 0.0, 0.0, 0.0, 0.0, 0.0, 0.0, 0.0, 0.0, ...  \n",
       "429   [0.0, 0.0, 0.0, 0.0, 0.0, 0.0, 0.0, 0.0, 0.0, ...  \n",
       "1171  [0.0, 0.0, 0.0, 0.0, 0.0, 0.0, 0.0, 0.0, 0.0, ...  \n",
       "779   [0.0, 0.0, 0.0, 0.0, 0.0, 0.0, 0.0, 0.0, 0.0, ...  "
      ]
     },
     "execution_count": 32,
     "metadata": {},
     "output_type": "execute_result"
    }
   ],
   "source": [
    "y_test.head()"
   ]
  },
  {
   "cell_type": "code",
   "execution_count": 34,
   "id": "4163a512",
   "metadata": {},
   "outputs": [
    {
     "data": {
      "text/plain": [
       "190"
      ]
     },
     "execution_count": 34,
     "metadata": {},
     "output_type": "execute_result"
    }
   ],
   "source": [
    "y_test.intents.nunique()"
   ]
  },
  {
   "cell_type": "code",
   "execution_count": 35,
   "id": "7c97288a",
   "metadata": {},
   "outputs": [
    {
     "data": {
      "text/plain": [
       "190"
      ]
     },
     "execution_count": 35,
     "metadata": {},
     "output_type": "execute_result"
    }
   ],
   "source": [
    "y_train.intents.nunique()"
   ]
  },
  {
   "cell_type": "markdown",
   "id": "02f8546f-d6b2-4976-9fd6-a9acec773079",
   "metadata": {},
   "source": [
    "# Training"
   ]
  },
  {
   "cell_type": "markdown",
   "id": "83ea0b6e-c3de-4dcd-9846-c410cad6bb15",
   "metadata": {},
   "source": [
    "#### Logistic Regression"
   ]
  },
  {
   "cell_type": "code",
   "execution_count": 83,
   "id": "16c65571-09c5-4b27-85c7-9c823612bf8e",
   "metadata": {},
   "outputs": [],
   "source": [
    "from sklearn.linear_model import LogisticRegression\n",
    "from sklearn.model_selection import GridSearchCV\n",
    "import numpy as np\n",
    "\n",
    "def train_logreg(X, y, **hyper_parameters):\n",
    "    model = LogisticRegression(\n",
    "                    n_jobs=-1,\n",
    "                    **hyper_parameters\n",
    "            )\n",
    "        \n",
    "\n",
    "    model.fit(X, y.intents)\n",
    "    return model"
   ]
  },
  {
   "cell_type": "code",
   "execution_count": 84,
   "id": "a23d3b61",
   "metadata": {},
   "outputs": [],
   "source": [
    "hyper_parameters = {\n",
    "                \"multi_class\": \"multinomial\",\n",
    "                \"fit_intercept\": False,\n",
    "                \"C\": 5,\n",
    "                \"random_state\": 42,\n",
    "                \"max_iter\": 1000}"
   ]
  },
  {
   "cell_type": "code",
   "execution_count": 85,
   "id": "951944ff-ccde-4985-b7fa-c67928a91562",
   "metadata": {},
   "outputs": [],
   "source": [
    "logreg_clf = train_logreg(\n",
    "                    X=X_train, \n",
    "                    y=y_train,\n",
    "                    **hyper_parameters\n",
    "            )"
   ]
  },
  {
   "cell_type": "code",
   "execution_count": 86,
   "id": "92e265ea-a316-458c-8cdb-21dae32c7a77",
   "metadata": {},
   "outputs": [
    {
     "data": {
      "text/plain": [
       "0.5558312655086849"
      ]
     },
     "execution_count": 86,
     "metadata": {},
     "output_type": "execute_result"
    }
   ],
   "source": [
    "y_pred = logreg_clf.predict(X_test)\n",
    "np.sum(y_pred == y_test.intents) / y_test.shape[0]"
   ]
  },
  {
   "cell_type": "code",
   "execution_count": 87,
   "id": "e08e29ac-edb3-4594-8cd8-d92e5ad18856",
   "metadata": {},
   "outputs": [
    {
     "data": {
      "text/plain": [
       "array([[0.00382202, 0.00376217, 0.00387697, 0.00434802, 0.00378701,\n",
       "        0.0203652 , 0.00386112, 0.00377277, 0.00379206, 0.00383809,\n",
       "        0.00382853, 0.00379151, 0.00388488, 0.00384033, 0.00376115,\n",
       "        0.00519271, 0.00386738, 0.0038066 , 0.00366764, 0.00382163,\n",
       "        0.00381047, 0.00376541, 0.00382149, 0.00379371, 0.00385451,\n",
       "        0.00375297, 0.00385807, 0.00486169, 0.00384127, 0.00386689,\n",
       "        0.00383927, 0.00382324, 0.00381353, 0.00383143, 0.00340203,\n",
       "        0.00379665, 0.00382706, 0.00382519, 0.00997034, 0.00378374,\n",
       "        0.00379642, 0.00371985, 0.00440795, 0.00376949, 0.00379666,\n",
       "        0.0052829 , 0.00379539, 0.00383139, 0.00385898, 0.00380309,\n",
       "        0.010825  , 0.00381768, 0.0038315 , 0.00375465, 0.00495597,\n",
       "        0.00386907, 0.00383727, 0.00380407, 0.00388131, 0.00385049,\n",
       "        0.00567158, 0.00382539, 0.00421234, 0.00384935, 0.00381869,\n",
       "        0.00799066, 0.00988192, 0.00647337, 0.04390462, 0.00383904,\n",
       "        0.00386376, 0.00383673, 0.00386777, 0.00379908, 0.00385833,\n",
       "        0.00382976, 0.00597546, 0.00413374, 0.00398028, 0.00409834,\n",
       "        0.00562   , 0.00381865, 0.00383411, 0.00376619, 0.00387087,\n",
       "        0.00387736, 0.00562143, 0.00381364, 0.00380774, 0.00383062,\n",
       "        0.00367892, 0.00952141, 0.00384539, 0.00371781, 0.00381072,\n",
       "        0.00530481, 0.00388645, 0.00388392, 0.00381356, 0.00383792,\n",
       "        0.00388473, 0.00375736, 0.00387816, 0.00387279, 0.00369655,\n",
       "        0.01175932, 0.03359616, 0.00382856, 0.00532613, 0.00357215,\n",
       "        0.00470014, 0.00371315, 0.00387462, 0.00381805, 0.00387881,\n",
       "        0.00386568, 0.00379034, 0.00370119, 0.00381879, 0.00625019,\n",
       "        0.00447709, 0.0038558 , 0.00384072, 0.003869  , 0.00386609,\n",
       "        0.00383635, 0.00368391, 0.00726724, 0.00387245, 0.00384818,\n",
       "        0.00369639, 0.01844396, 0.00617291, 0.02142152, 0.00382885,\n",
       "        0.00387323, 0.00387056, 0.00385098, 0.00378241, 0.01204081,\n",
       "        0.00381314, 0.00383583, 0.00386344, 0.00502549, 0.00507816,\n",
       "        0.00376428, 0.0038325 , 0.00379993, 0.00382191, 0.00379514,\n",
       "        0.00352834, 0.00429689, 0.00384921, 0.00327537, 0.00598933,\n",
       "        0.00385799, 0.00385411, 0.00369534, 0.00352165, 0.0037667 ,\n",
       "        0.00354734, 0.003839  , 0.00383837, 0.00372396, 0.00383105,\n",
       "        0.00381346, 0.00376335, 0.00386018, 0.0037692 , 0.00384536,\n",
       "        0.00374672, 0.00372702, 0.00385638, 0.00879564, 0.00870887,\n",
       "        0.0052822 , 0.00652497, 0.00384989, 0.00375832, 0.00381449,\n",
       "        0.00384561, 0.00382342, 0.01023187, 0.00986194, 0.05003294,\n",
       "        0.00508328, 0.00384081, 0.00492664, 0.00623378, 0.00379026]])"
      ]
     },
     "execution_count": 87,
     "metadata": {},
     "output_type": "execute_result"
    }
   ],
   "source": [
    "logreg_clf.predict_proba([X_test.iloc[0]])"
   ]
  },
  {
   "cell_type": "markdown",
   "id": "658f6ba2-6162-41da-8d3e-adb1e398ca36",
   "metadata": {},
   "source": [
    "#### SVM"
   ]
  },
  {
   "cell_type": "code",
   "execution_count": 88,
   "id": "9f686699-a81c-4287-b39b-3a09238df4fd",
   "metadata": {},
   "outputs": [],
   "source": [
    "from sklearn import svm\n",
    "\n",
    "def train_svm(X, y, **hyper_parameters):\n",
    "    model = svm.SVC(\n",
    "                    probability=True,\n",
    "                    **hyper_parameters\n",
    "              )\n",
    "        \n",
    "    model.fit(X, y.intents)\n",
    "    return model"
   ]
  },
  {
   "cell_type": "code",
   "execution_count": 89,
   "id": "82cb3b88-8bdb-47bf-91a2-768dc820e10f",
   "metadata": {},
   "outputs": [],
   "source": [
    "hyper_parameters = {\n",
    "          \"kernel\": \"poly\", \n",
    "          \"degree\": 1,\n",
    "          \"coef0\": 0,\n",
    "          \"random_state\": 42\n",
    "        }\n",
    "svm_clf = train_svm(\n",
    "                X=X_train, \n",
    "                y=y_train,\n",
    "                **hyper_parameters\n",
    "            )"
   ]
  },
  {
   "cell_type": "code",
   "execution_count": 90,
   "id": "a05ba871-61ed-4213-8087-129c64893d58",
   "metadata": {},
   "outputs": [
    {
     "data": {
      "text/plain": [
       "0.4838709677419355"
      ]
     },
     "execution_count": 90,
     "metadata": {},
     "output_type": "execute_result"
    }
   ],
   "source": [
    "y_pred = svm_clf.predict(X_test)\n",
    "np.sum((y_pred == y_test.intents)) / y_test.shape[0]"
   ]
  },
  {
   "cell_type": "code",
   "execution_count": 91,
   "id": "f7fa34fb",
   "metadata": {},
   "outputs": [
    {
     "data": {
      "text/plain": [
       "array([[0.00306106, 0.00641751, 0.00408806, 0.00452781, 0.00490817,\n",
       "        0.00694625, 0.0021326 , 0.0023639 , 0.00467333, 0.00193648,\n",
       "        0.00478029, 0.00496637, 0.00296317, 0.00322381, 0.00436512,\n",
       "        0.01044907, 0.00268255, 0.00603941, 0.00993999, 0.00222272,\n",
       "        0.00314836, 0.00394817, 0.0055226 , 0.00359113, 0.00241712,\n",
       "        0.00401117, 0.00192506, 0.00458564, 0.00408386, 0.00290265,\n",
       "        0.00210494, 0.00492424, 0.00450757, 0.00299924, 0.00204994,\n",
       "        0.00425702, 0.00679804, 0.00206433, 0.01587772, 0.00464743,\n",
       "        0.00492184, 0.00543427, 0.0031828 , 0.00294165, 0.00319342,\n",
       "        0.01034369, 0.0048632 , 0.00204229, 0.00405178, 0.00316612,\n",
       "        0.00836922, 0.00354562, 0.00245942, 0.00593224, 0.00348146,\n",
       "        0.00248887, 0.00316653, 0.00433585, 0.00334471, 0.00264401,\n",
       "        0.00331257, 0.00271333, 0.00857719, 0.00543311, 0.00447885,\n",
       "        0.013201  , 0.00522042, 0.00940554, 0.0219233 , 0.00422381,\n",
       "        0.00459447, 0.00260931, 0.00251267, 0.00499749, 0.00169348,\n",
       "        0.00362117, 0.0035945 , 0.00770845, 0.00386738, 0.009618  ,\n",
       "        0.00616766, 0.00277313, 0.00201623, 0.00512165, 0.00171612,\n",
       "        0.00279791, 0.00411607, 0.0034554 , 0.00333144, 0.00232327,\n",
       "        0.00388121, 0.01031966, 0.00592347, 0.00669948, 0.00339062,\n",
       "        0.00421005, 0.01548727, 0.01130276, 0.0176465 , 0.01615688,\n",
       "        0.00202009, 0.00218096, 0.00234407, 0.00216622, 0.00573282,\n",
       "        0.01477894, 0.01495189, 0.0077289 , 0.00790978, 0.00869323,\n",
       "        0.00683551, 0.00565423, 0.00205638, 0.00339228, 0.00207828,\n",
       "        0.0031104 , 0.00229632, 0.00329554, 0.00258832, 0.00560935,\n",
       "        0.00582055, 0.00211127, 0.00303353, 0.00202635, 0.00589376,\n",
       "        0.00589538, 0.00291324, 0.00540782, 0.00429621, 0.00336744,\n",
       "        0.00184822, 0.0189351 , 0.01077583, 0.02400365, 0.00716035,\n",
       "        0.00265652, 0.00160176, 0.00246959, 0.00399752, 0.01280588,\n",
       "        0.00523827, 0.00186763, 0.00161377, 0.00353532, 0.00717635,\n",
       "        0.00753437, 0.00294597, 0.00249715, 0.00209274, 0.00538402,\n",
       "        0.00208698, 0.00480192, 0.00257202, 0.0030244 , 0.00753639,\n",
       "        0.0038199 , 0.00295468, 0.00314645, 0.00978125, 0.00367794,\n",
       "        0.00254226, 0.00228207, 0.00361857, 0.00583668, 0.00179064,\n",
       "        0.0052812 , 0.00676059, 0.00651593, 0.00305231, 0.00150738,\n",
       "        0.00434278, 0.0041211 , 0.00330437, 0.00526938, 0.0091313 ,\n",
       "        0.00572792, 0.00344837, 0.00252777, 0.00682988, 0.00906868,\n",
       "        0.0027591 , 0.00149334, 0.01529316, 0.01347803, 0.02621982,\n",
       "        0.00572054, 0.00305837, 0.00265141, 0.00226636, 0.00326395]])"
      ]
     },
     "execution_count": 91,
     "metadata": {},
     "output_type": "execute_result"
    }
   ],
   "source": [
    "svm_clf.predict_proba([X_test.iloc[0]])"
   ]
  },
  {
   "cell_type": "markdown",
   "id": "6a413bd9-73f7-4345-90ff-48e4a2eb026b",
   "metadata": {},
   "source": [
    "#### Neural Network"
   ]
  },
  {
   "cell_type": "code",
   "execution_count": 92,
   "id": "381e5790-2f21-41ba-8ecf-b665fccd6966",
   "metadata": {},
   "outputs": [],
   "source": [
    "from tensorflow.keras.wrappers.scikit_learn import KerasClassifier\n",
    "from sklearn.compose import TransformedTargetRegressor\n",
    "from tensorflow.keras.models import Sequential\n",
    "from tensorflow.keras.layers import Dense, Dropout\n",
    "from tensorflow.keras.optimizers import Adam\n",
    "from sklearn.preprocessing import LabelBinarizer\n",
    "from sklearn.preprocessing import OneHotEncoder\n",
    "import pandas as pd\n",
    "\n",
    "\n",
    "learning_rate = 0.001\n",
    "loss = \"categorical_crossentropy\"\n",
    "number_of_intent_classes = df.intents.nunique()\n",
    "n_features = X_train.shape[1]\n",
    "input_shape = (n_features,)\n",
    "\n",
    "# Keras Model\n",
    "def build_nn():\n",
    "    model = Sequential()\n",
    "    model.add(\n",
    "            Dense(\n",
    "                units=input_shape[0],\n",
    "                activation=\"relu\",\n",
    "                input_shape=input_shape,\n",
    "                name=\"input_layer\",\n",
    "            )\n",
    "    )\n",
    "    model.add(Dense(units=input_shape[0], activation=\"relu\", name=\"layer_2\"))\n",
    "    # Output\n",
    "    model.add(\n",
    "        Dense(units=number_of_intent_classes, activation=\"softmax\", name=\"output_layer\")\n",
    "    )\n",
    "\n",
    "    # Compile the model\n",
    "    model.compile(\n",
    "        optimizer=Adam(learning_rate=learning_rate),\n",
    "        loss=loss,\n",
    "        metrics=[\"accuracy\"]\n",
    "    )\n",
    "    return model\n",
    "\n",
    "\n",
    "def train_nn(X, y, **hyper_parameters):\n",
    "    model = build_nn()\n",
    "    X = X.to_numpy()\n",
    "    y = np.array(y.intents_onehot.tolist())\n",
    "    history = model.fit(\n",
    "                    X,\n",
    "                    y,\n",
    "                    **hyper_parameters\n",
    "              )\n",
    "    \n",
    "    return model, history"
   ]
  },
  {
   "cell_type": "code",
   "execution_count": 93,
   "id": "fa111636-bfaa-46be-8bfe-262e6f01bd82",
   "metadata": {},
   "outputs": [
    {
     "name": "stdout",
     "output_type": "stream",
     "text": [
      "Epoch 1/10\n",
      "7/7 [==============================] - 2s 152ms/step - loss: 5.2390 - accuracy: 0.0224 - val_loss: 5.2240 - val_accuracy: 0.0488\n",
      "Epoch 2/10\n",
      "7/7 [==============================] - 0s 48ms/step - loss: 5.0581 - accuracy: 0.1867 - val_loss: 5.2006 - val_accuracy: 0.0305\n",
      "Epoch 3/10\n",
      "7/7 [==============================] - 0s 44ms/step - loss: 4.7568 - accuracy: 0.1111 - val_loss: 5.2798 - val_accuracy: 0.0427\n",
      "Epoch 4/10\n",
      "7/7 [==============================] - 0s 47ms/step - loss: 4.4011 - accuracy: 0.1628 - val_loss: 5.2080 - val_accuracy: 0.0793\n",
      "Epoch 5/10\n",
      "7/7 [==============================] - 1s 110ms/step - loss: 3.9406 - accuracy: 0.3851 - val_loss: 4.9596 - val_accuracy: 0.1037\n",
      "Epoch 6/10\n",
      "7/7 [==============================] - 0s 47ms/step - loss: 3.3119 - accuracy: 0.5525 - val_loss: 4.6900 - val_accuracy: 0.1220\n",
      "Epoch 7/10\n",
      "7/7 [==============================] - 0s 45ms/step - loss: 2.5280 - accuracy: 0.6801 - val_loss: 4.3623 - val_accuracy: 0.1951\n",
      "Epoch 8/10\n",
      "7/7 [==============================] - 0s 47ms/step - loss: 1.8240 - accuracy: 0.7982 - val_loss: 3.9792 - val_accuracy: 0.2500\n",
      "Epoch 9/10\n",
      "7/7 [==============================] - 0s 49ms/step - loss: 1.1326 - accuracy: 0.8758 - val_loss: 3.5966 - val_accuracy: 0.2866\n",
      "Epoch 10/10\n",
      "7/7 [==============================] - 0s 52ms/step - loss: 0.6317 - accuracy: 0.9364 - val_loss: 3.0821 - val_accuracy: 0.3293\n"
     ]
    }
   ],
   "source": [
    "import pandas as pd\n",
    "\n",
    "hyper_parameters = {\n",
    "  \"epochs\": 10,\n",
    "  \"verbose\":True,\n",
    "  \"batch_size\": 100,\n",
    "  \"validation_split\":0.2\n",
    "}\n",
    "\n",
    "\n",
    "nn_clf, history = train_nn(\n",
    "                X=X_train, \n",
    "                y=y_train,\n",
    "                **hyper_parameters\n",
    "          )"
   ]
  },
  {
   "cell_type": "code",
   "execution_count": 94,
   "id": "b9d6da9b",
   "metadata": {},
   "outputs": [
    {
     "name": "stderr",
     "output_type": "stream",
     "text": [
      "/usr/local/lib/python3.6/site-packages/tensorflow/python/keras/engine/sequential.py:450: UserWarning: `model.predict_classes()` is deprecated and will be removed after 2021-01-01. Please use instead:* `np.argmax(model.predict(x), axis=-1)`,   if your model does multi-class classification   (e.g. if it uses a `softmax` last-layer activation).* `(model.predict(x) > 0.5).astype(\"int32\")`,   if your model does binary classification   (e.g. if it uses a `sigmoid` last-layer activation).\n",
      "  warnings.warn('`model.predict_classes()` is deprecated and '\n"
     ]
    },
    {
     "data": {
      "text/plain": [
       "0.5210918114143921"
      ]
     },
     "execution_count": 94,
     "metadata": {},
     "output_type": "execute_result"
    }
   ],
   "source": [
    "y_pred = nn_clf.predict_classes(X_test.to_numpy());\n",
    "y_test_argmax = np.array([np.argmax(v) for v in y_test.intents_onehot.tolist()])\n",
    "np.sum((y_pred == y_test_argmax)) / y_test.shape[0]"
   ]
  },
  {
   "cell_type": "markdown",
   "id": "f9ae8ad7-5407-4690-8e9b-01a0e1e1e25f",
   "metadata": {},
   "source": [
    "# Train ensemble"
   ]
  },
  {
   "cell_type": "markdown",
   "id": "fa64537f-f0c0-4b73-938c-c15f4ea9e4a8",
   "metadata": {},
   "source": [
    "#### Voting"
   ]
  },
  {
   "cell_type": "code",
   "execution_count": 63,
   "id": "06bc94bb-b11c-49ca-ac02-137e06552945",
   "metadata": {},
   "outputs": [
    {
     "ename": "NameError",
     "evalue": "name 'train' is not defined",
     "output_type": "error",
     "traceback": [
      "\u001b[0;31m---------------------------------------------------------------------------\u001b[0m",
      "\u001b[0;31mNameError\u001b[0m                                 Traceback (most recent call last)",
      "\u001b[0;32m<ipython-input-63-2debfd626f2c>\u001b[0m in \u001b[0;36m<module>\u001b[0;34m\u001b[0m\n\u001b[1;32m     18\u001b[0m               ('clf3', nn_clf)]\n\u001b[1;32m     19\u001b[0m \u001b[0mweights\u001b[0m \u001b[0;34m=\u001b[0m \u001b[0;34m[\u001b[0m\u001b[0;36m0.6929982046678635\u001b[0m\u001b[0;34m,\u001b[0m \u001b[0;36m0.6427289048473968\u001b[0m\u001b[0;34m,\u001b[0m \u001b[0;36m0.6894075274467468\u001b[0m\u001b[0;34m]\u001b[0m\u001b[0;34m\u001b[0m\u001b[0;34m\u001b[0m\u001b[0m\n\u001b[0;32m---> 20\u001b[0;31m voting = train_voting(train.example_text, train.intent_name, \n\u001b[0m\u001b[1;32m     21\u001b[0m                       \u001b[0mestimators\u001b[0m\u001b[0;34m,\u001b[0m\u001b[0;34m\u001b[0m\u001b[0;34m\u001b[0m\u001b[0m\n\u001b[1;32m     22\u001b[0m                       \u001b[0mweights\u001b[0m\u001b[0;34m,\u001b[0m\u001b[0;34m\u001b[0m\u001b[0;34m\u001b[0m\u001b[0m\n",
      "\u001b[0;31mNameError\u001b[0m: name 'train' is not defined"
     ]
    }
   ],
   "source": [
    "from sklearn.ensemble import VotingClassifier\n",
    "\n",
    "def train_voting(X_train, y_train, estimators, weights, **kwargs):\n",
    "    meta_model = VotingClassifier(\n",
    "                        estimators=estimators,\n",
    "                        weights=weights,\n",
    "                        **kwargs)\n",
    "#     model = TransformedTargetRegressor(\n",
    "#                                 regressor=meta_model,\n",
    "#                                 transformer=IndexLabelEncode(y=y)\n",
    "#             )\n",
    "    meta_model.fit(X_train, y_train)\n",
    "    return meta_model\n",
    "\n",
    "\n",
    "estimators = [('clf1', logreg_clf), \n",
    "              ('clf2', svm_clf),\n",
    "              ('clf3', nn_clf)]\n",
    "weights = [0.6929982046678635, 0.6427289048473968, 0.6894075274467468]\n",
    "voting = train_voting(train.example_text, train.intent_name, \n",
    "                      estimators, \n",
    "                      weights,\n",
    "                      voting='soft',\n",
    "                      flatten_transform=True,\n",
    "                      n_jobs=-1)\n",
    "y_pred = voting.predict(X_test)\n",
    "accuracy = np.sum((y_pred == y_test).all(1)) / y_test.shape[0]\n",
    "accuracy"
   ]
  },
  {
   "cell_type": "code",
   "execution_count": null,
   "id": "e288f93e-dd95-477e-9713-f5b09d50faee",
   "metadata": {},
   "outputs": [],
   "source": []
  },
  {
   "cell_type": "markdown",
   "id": "93b704b9-5e0c-4a2b-897f-d2866f947daa",
   "metadata": {},
   "source": [
    "# Prefect"
   ]
  },
  {
   "cell_type": "code",
   "execution_count": 1,
   "id": "e84b4669-5305-4f92-8b14-7a955cd964c1",
   "metadata": {},
   "outputs": [
    {
     "data": {
      "text/plain": [
       "True"
      ]
     },
     "execution_count": 1,
     "metadata": {},
     "output_type": "execute_result"
    }
   ],
   "source": [
    "import os\n",
    "\n",
    "# setting working dir\n",
    "os.chdir(\"../src\")\n",
    "\n",
    "from prefect import Flow, task, context\n",
    "\n",
    "from data_pipeline.data_sourcing import get_data\n",
    "from data_pipeline.data_preprocessing import fill_missing_examples, clean_examples\n",
    "from data_pipeline.feature_engineering import intents_to_onehot, create_corpus, encode_features\n",
    "from data_pipeline.data_splitting import data_splitting\n",
    "from elasticsearch_db.elasticsearch import elastic_conection\n",
    "from elasticsearch_db.elasticsearch import get_nlp_model\n",
    "\n",
    "es = elastic_conection()\n",
    "workspace_id = \"dc1e7b3d-9137-4a20-a99c-d0d2029ef170\"\n",
    "workspace, exist = get_nlp_model(es, workspace_id=workspace_id)\n",
    "exist"
   ]
  },
  {
   "cell_type": "code",
   "execution_count": 2,
   "id": "04a30874-1902-4d1b-a530-0f23507a178f",
   "metadata": {},
   "outputs": [],
   "source": [
    "@task\n",
    "def sourcing(workspace, es):\n",
    "\n",
    "    return get_data(\n",
    "                workspace=workspace, \n",
    "                es=es\n",
    "            )\n",
    "\n",
    "@task\n",
    "def imputation(data):\n",
    "    \n",
    "    return fill_missing_examples(data)\n",
    "\n",
    "@task\n",
    "def cleansing(data):\n",
    "\n",
    "    return clean_examples(data)\n",
    "\n",
    "@task(nout=2)\n",
    "def splitting(data):\n",
    "\n",
    "    return data_splitting(data)\n",
    "\n",
    "@task(nout=4)\n",
    "def encoding(train, test):\n",
    "    all_intents = set([example[0] for example in train])\n",
    "    map_onehot, intent_dictionary = intents_to_onehot(\n",
    "                                        intents_name=all_intents\n",
    "                                    )\n",
    "    all_examples = [example[0] for example in train] + \\\n",
    "                   [example[0] for example in test]\n",
    "        \n",
    "    corpus = create_corpus(examples_text=all_examples)\n",
    "    \n",
    "    X_train, y_train, X_test, y_test = encode_features(\n",
    "                                            train=train, \n",
    "                                            test=test, \n",
    "                                            corpus=corpus, \n",
    "                                            map_onehot=map_onehot\n",
    "                                    )\n",
    "    return X_train, y_train, X_test, y_test"
   ]
  },
  {
   "cell_type": "code",
   "execution_count": 3,
   "id": "a7ea3fd3-6302-46e6-90a9-9fa2bdb27691",
   "metadata": {},
   "outputs": [],
   "source": [
    "# Define prefect flow\n",
    "with Flow(\"train_dataflow\") as flow:\n",
    "\n",
    "    data = sourcing(workspace=workspace, es=es)\n",
    "    data = imputation(data=data)\n",
    "    data = cleansing(data=data)\n",
    "    train, test = splitting(data=data)\n",
    "    X_train, y_train, X_test, y_test = encoding(train=train, \n",
    "                                                test=test)"
   ]
  },
  {
   "cell_type": "code",
   "execution_count": 4,
   "id": "c659cdfd-f058-440a-a250-f7452b086456",
   "metadata": {},
   "outputs": [
    {
     "name": "stdout",
     "output_type": "stream",
     "text": [
      "[2021-04-21 12:08:00+0000] INFO - prefect.FlowRunner | Beginning Flow run for 'train_dataflow'\n",
      "[2021-04-21 12:08:01+0000] INFO - prefect.TaskRunner | Task 'sourcing': Starting task run...\n",
      "[2021-04-21 12:08:01+0000] INFO - prefect.TaskRunner | Task 'sourcing': Finished task run for task with final state: 'Success'\n",
      "[2021-04-21 12:08:01+0000] INFO - prefect.TaskRunner | Task 'imputation': Starting task run...\n",
      "[2021-04-21 12:08:21+0000] INFO - prefect.TaskRunner | Task 'imputation': Finished task run for task with final state: 'Success'\n",
      "[2021-04-21 12:08:21+0000] INFO - prefect.TaskRunner | Task 'cleansing': Starting task run...\n",
      "[2021-04-21 12:08:22+0000] INFO - prefect.TaskRunner | Task 'cleansing': Finished task run for task with final state: 'Success'\n",
      "[2021-04-21 12:08:22+0000] INFO - prefect.TaskRunner | Task 'splitting': Starting task run...\n",
      "[2021-04-21 12:08:22+0000] INFO - prefect.TaskRunner | Task 'splitting': Finished task run for task with final state: 'Success'\n",
      "[2021-04-21 12:08:22+0000] INFO - prefect.TaskRunner | Task 'splitting[1]': Starting task run...\n",
      "[2021-04-21 12:08:22+0000] INFO - prefect.TaskRunner | Task 'splitting[1]': Finished task run for task with final state: 'Success'\n",
      "[2021-04-21 12:08:22+0000] INFO - prefect.TaskRunner | Task 'splitting[0]': Starting task run...\n",
      "[2021-04-21 12:08:22+0000] INFO - prefect.TaskRunner | Task 'splitting[0]': Finished task run for task with final state: 'Success'\n",
      "[2021-04-21 12:08:22+0000] INFO - prefect.TaskRunner | Task 'encoding': Starting task run...\n",
      "[2021-04-21 12:08:22+0000] INFO - prefect.TaskRunner | Task 'encoding': Finished task run for task with final state: 'Success'\n",
      "[2021-04-21 12:08:22+0000] INFO - prefect.TaskRunner | Task 'encoding[2]': Starting task run...\n",
      "[2021-04-21 12:08:22+0000] INFO - prefect.TaskRunner | Task 'encoding[2]': Finished task run for task with final state: 'Success'\n",
      "[2021-04-21 12:08:22+0000] INFO - prefect.TaskRunner | Task 'encoding[0]': Starting task run...\n",
      "[2021-04-21 12:08:23+0000] INFO - prefect.TaskRunner | Task 'encoding[0]': Finished task run for task with final state: 'Success'\n",
      "[2021-04-21 12:08:23+0000] INFO - prefect.TaskRunner | Task 'encoding[1]': Starting task run...\n",
      "[2021-04-21 12:08:23+0000] INFO - prefect.TaskRunner | Task 'encoding[1]': Finished task run for task with final state: 'Success'\n",
      "[2021-04-21 12:08:23+0000] INFO - prefect.TaskRunner | Task 'encoding[3]': Starting task run...\n",
      "[2021-04-21 12:08:23+0000] INFO - prefect.TaskRunner | Task 'encoding[3]': Finished task run for task with final state: 'Success'\n",
      "[2021-04-21 12:08:23+0000] INFO - prefect.FlowRunner | Flow run SUCCESS: all reference tasks succeeded\n"
     ]
    },
    {
     "data": {
      "image/svg+xml": [
       "<?xml version=\"1.0\" encoding=\"UTF-8\" standalone=\"no\"?>\n",
       "<!DOCTYPE svg PUBLIC \"-//W3C//DTD SVG 1.1//EN\"\n",
       " \"http://www.w3.org/Graphics/SVG/1.1/DTD/svg11.dtd\">\n",
       "<!-- Generated by graphviz version 2.40.1 (20161225.0304)\n",
       " -->\n",
       "<!-- Title: %3 Pages: 1 -->\n",
       "<svg width=\"586pt\" height=\"566pt\"\n",
       " viewBox=\"0.00 0.00 586.29 566.00\" xmlns=\"http://www.w3.org/2000/svg\" xmlns:xlink=\"http://www.w3.org/1999/xlink\">\n",
       "<g id=\"graph0\" class=\"graph\" transform=\"scale(1 1) rotate(0) translate(4 562)\">\n",
       "<title>%3</title>\n",
       "<polygon fill=\"#ffffff\" stroke=\"transparent\" points=\"-4,4 -4,-562 582.2884,-562 582.2884,4 -4,4\"/>\n",
       "<!-- 139668601656320 -->\n",
       "<g id=\"node1\" class=\"node\">\n",
       "<title>139668601656320</title>\n",
       "<ellipse fill=\"none\" stroke=\"#000000\" cx=\"288.6442\" cy=\"-279\" rx=\"50.0912\" ry=\"18\"/>\n",
       "<text text-anchor=\"middle\" x=\"288.6442\" y=\"-275.3\" font-family=\"Times,serif\" font-size=\"14.00\" fill=\"#000000\">splitting</text>\n",
       "</g>\n",
       "<!-- 139668601658056 -->\n",
       "<g id=\"node5\" class=\"node\">\n",
       "<title>139668601658056</title>\n",
       "<ellipse fill=\"none\" stroke=\"#000000\" cx=\"217.6442\" cy=\"-192\" rx=\"62.2891\" ry=\"18\"/>\n",
       "<text text-anchor=\"middle\" x=\"217.6442\" y=\"-188.3\" font-family=\"Times,serif\" font-size=\"14.00\" fill=\"#000000\">splitting[1]</text>\n",
       "</g>\n",
       "<!-- 139668601656320&#45;&gt;139668601658056 -->\n",
       "<g id=\"edge3\" class=\"edge\">\n",
       "<title>139668601656320&#45;&gt;139668601658056</title>\n",
       "<path fill=\"none\" stroke=\"#000000\" d=\"M267.4082,-262.6028C260.654,-256.8222 253.4395,-250.0077 247.6442,-243 241.5559,-235.638 235.9319,-226.8943 231.2384,-218.7444\"/>\n",
       "<polygon fill=\"#000000\" stroke=\"#000000\" points=\"234.2545,-216.9658 226.3595,-209.9005 228.1253,-220.3472 234.2545,-216.9658\"/>\n",
       "<text text-anchor=\"middle\" x=\"288.1442\" y=\"-231.8\" font-family=\"Times,serif\" font-size=\"14.00\" fill=\"#000000\">task_result</text>\n",
       "</g>\n",
       "<!-- 139668601658000 -->\n",
       "<g id=\"node8\" class=\"node\">\n",
       "<title>139668601658000</title>\n",
       "<ellipse fill=\"none\" stroke=\"#000000\" cx=\"360.6442\" cy=\"-192\" rx=\"62.2891\" ry=\"18\"/>\n",
       "<text text-anchor=\"middle\" x=\"360.6442\" y=\"-188.3\" font-family=\"Times,serif\" font-size=\"14.00\" fill=\"#000000\">splitting[0]</text>\n",
       "</g>\n",
       "<!-- 139668601656320&#45;&gt;139668601658000 -->\n",
       "<g id=\"edge10\" class=\"edge\">\n",
       "<title>139668601656320&#45;&gt;139668601658000</title>\n",
       "<path fill=\"none\" stroke=\"#000000\" d=\"M309.2235,-262.4352C315.8037,-256.6434 322.8718,-249.8647 328.6442,-243 334.9005,-235.5597 340.8344,-226.7946 345.8544,-218.6492\"/>\n",
       "<polygon fill=\"#000000\" stroke=\"#000000\" points=\"349.0017,-220.2042 351.1023,-209.8197 342.9843,-216.6277 349.0017,-220.2042\"/>\n",
       "<text text-anchor=\"middle\" x=\"380.1442\" y=\"-231.8\" font-family=\"Times,serif\" font-size=\"14.00\" fill=\"#000000\">task_result</text>\n",
       "</g>\n",
       "<!-- 139668601658560 -->\n",
       "<g id=\"node2\" class=\"node\">\n",
       "<title>139668601658560</title>\n",
       "<ellipse fill=\"none\" stroke=\"#000000\" cx=\"65.6442\" cy=\"-18\" rx=\"65.7887\" ry=\"18\"/>\n",
       "<text text-anchor=\"middle\" x=\"65.6442\" y=\"-14.3\" font-family=\"Times,serif\" font-size=\"14.00\" fill=\"#000000\">encoding[1]</text>\n",
       "</g>\n",
       "<!-- 139668601658840 -->\n",
       "<g id=\"node3\" class=\"node\">\n",
       "<title>139668601658840</title>\n",
       "<ellipse fill=\"none\" stroke=\"#000000\" cx=\"214.6442\" cy=\"-18\" rx=\"65.7887\" ry=\"18\"/>\n",
       "<text text-anchor=\"middle\" x=\"214.6442\" y=\"-14.3\" font-family=\"Times,serif\" font-size=\"14.00\" fill=\"#000000\">encoding[3]</text>\n",
       "</g>\n",
       "<!-- 139668601655368 -->\n",
       "<g id=\"node4\" class=\"node\">\n",
       "<title>139668601655368</title>\n",
       "<ellipse fill=\"none\" stroke=\"#000000\" cx=\"288.6442\" cy=\"-540\" rx=\"51.1914\" ry=\"18\"/>\n",
       "<text text-anchor=\"middle\" x=\"288.6442\" y=\"-536.3\" font-family=\"Times,serif\" font-size=\"14.00\" fill=\"#000000\">sourcing</text>\n",
       "</g>\n",
       "<!-- 139668601655760 -->\n",
       "<g id=\"node9\" class=\"node\">\n",
       "<title>139668601655760</title>\n",
       "<ellipse fill=\"none\" stroke=\"#000000\" cx=\"288.6442\" cy=\"-453\" rx=\"61.99\" ry=\"18\"/>\n",
       "<text text-anchor=\"middle\" x=\"288.6442\" y=\"-449.3\" font-family=\"Times,serif\" font-size=\"14.00\" fill=\"#000000\">imputation</text>\n",
       "</g>\n",
       "<!-- 139668601655368&#45;&gt;139668601655760 -->\n",
       "<g id=\"edge6\" class=\"edge\">\n",
       "<title>139668601655368&#45;&gt;139668601655760</title>\n",
       "<path fill=\"none\" stroke=\"#000000\" d=\"M288.6442,-521.9735C288.6442,-510.1918 288.6442,-494.5607 288.6442,-481.1581\"/>\n",
       "<polygon fill=\"#000000\" stroke=\"#000000\" points=\"292.1443,-481.0033 288.6442,-471.0034 285.1443,-481.0034 292.1443,-481.0033\"/>\n",
       "<text text-anchor=\"middle\" x=\"304.6442\" y=\"-492.8\" font-family=\"Times,serif\" font-size=\"14.00\" fill=\"#000000\">data</text>\n",
       "</g>\n",
       "<!-- 139668601657832 -->\n",
       "<g id=\"node6\" class=\"node\">\n",
       "<title>139668601657832</title>\n",
       "<ellipse fill=\"none\" stroke=\"#000000\" cx=\"288.6442\" cy=\"-105\" rx=\"53.0913\" ry=\"18\"/>\n",
       "<text text-anchor=\"middle\" x=\"288.6442\" y=\"-101.3\" font-family=\"Times,serif\" font-size=\"14.00\" fill=\"#000000\">encoding</text>\n",
       "</g>\n",
       "<!-- 139668601658056&#45;&gt;139668601657832 -->\n",
       "<g id=\"edge8\" class=\"edge\">\n",
       "<title>139668601658056&#45;&gt;139668601657832</title>\n",
       "<path fill=\"none\" stroke=\"#000000\" d=\"M232.0121,-174.3943C242.3093,-161.7765 256.3361,-144.5887 267.8535,-130.4759\"/>\n",
       "<polygon fill=\"#000000\" stroke=\"#000000\" points=\"270.6866,-132.54 274.2976,-122.5796 265.2633,-128.1141 270.6866,-132.54\"/>\n",
       "<text text-anchor=\"middle\" x=\"271.6442\" y=\"-144.8\" font-family=\"Times,serif\" font-size=\"14.00\" fill=\"#000000\">test</text>\n",
       "</g>\n",
       "<!-- 139668601657832&#45;&gt;139668601658560 -->\n",
       "<g id=\"edge11\" class=\"edge\">\n",
       "<title>139668601657832&#45;&gt;139668601658560</title>\n",
       "<path fill=\"none\" stroke=\"#000000\" d=\"M244.4596,-94.7531C219.9458,-88.4809 189.1466,-79.6216 162.6442,-69 142.0407,-60.7426 120.0711,-49.4196 102.2594,-39.5401\"/>\n",
       "<polygon fill=\"#000000\" stroke=\"#000000\" points=\"103.7848,-36.3824 93.3533,-34.5292 100.3523,-42.4831 103.7848,-36.3824\"/>\n",
       "<text text-anchor=\"middle\" x=\"203.1442\" y=\"-57.8\" font-family=\"Times,serif\" font-size=\"14.00\" fill=\"#000000\">task_result</text>\n",
       "</g>\n",
       "<!-- 139668601657832&#45;&gt;139668601658840 -->\n",
       "<g id=\"edge2\" class=\"edge\">\n",
       "<title>139668601657832&#45;&gt;139668601658840</title>\n",
       "<path fill=\"none\" stroke=\"#000000\" d=\"M273.6692,-87.3943C262.9368,-74.7765 248.3174,-57.5887 236.3133,-43.4759\"/>\n",
       "<polygon fill=\"#000000\" stroke=\"#000000\" points=\"238.742,-40.9291 229.5969,-35.5796 233.4099,-45.4645 238.742,-40.9291\"/>\n",
       "<text text-anchor=\"middle\" x=\"297.1442\" y=\"-57.8\" font-family=\"Times,serif\" font-size=\"14.00\" fill=\"#000000\">task_result</text>\n",
       "</g>\n",
       "<!-- 139668601659176 -->\n",
       "<g id=\"node7\" class=\"node\">\n",
       "<title>139668601659176</title>\n",
       "<ellipse fill=\"none\" stroke=\"#000000\" cx=\"363.6442\" cy=\"-18\" rx=\"65.7887\" ry=\"18\"/>\n",
       "<text text-anchor=\"middle\" x=\"363.6442\" y=\"-14.3\" font-family=\"Times,serif\" font-size=\"14.00\" fill=\"#000000\">encoding[2]</text>\n",
       "</g>\n",
       "<!-- 139668601657832&#45;&gt;139668601659176 -->\n",
       "<g id=\"edge9\" class=\"edge\">\n",
       "<title>139668601657832&#45;&gt;139668601659176</title>\n",
       "<path fill=\"none\" stroke=\"#000000\" d=\"M317.452,-89.6791C326.0678,-84.054 334.983,-77.0594 341.6442,-69 347.2345,-62.2362 351.6303,-53.8368 354.9745,-45.8192\"/>\n",
       "<polygon fill=\"#000000\" stroke=\"#000000\" points=\"358.2862,-46.9563 358.5416,-36.3646 351.7369,-44.4853 358.2862,-46.9563\"/>\n",
       "<text text-anchor=\"middle\" x=\"392.1442\" y=\"-57.8\" font-family=\"Times,serif\" font-size=\"14.00\" fill=\"#000000\">task_result</text>\n",
       "</g>\n",
       "<!-- 139668601657272 -->\n",
       "<g id=\"node10\" class=\"node\">\n",
       "<title>139668601657272</title>\n",
       "<ellipse fill=\"none\" stroke=\"#000000\" cx=\"512.6442\" cy=\"-18\" rx=\"65.7887\" ry=\"18\"/>\n",
       "<text text-anchor=\"middle\" x=\"512.6442\" y=\"-14.3\" font-family=\"Times,serif\" font-size=\"14.00\" fill=\"#000000\">encoding[0]</text>\n",
       "</g>\n",
       "<!-- 139668601657832&#45;&gt;139668601657272 -->\n",
       "<g id=\"edge1\" class=\"edge\">\n",
       "<title>139668601657832&#45;&gt;139668601657272</title>\n",
       "<path fill=\"none\" stroke=\"#000000\" d=\"M337.3672,-97.6186C366.9293,-92.0609 404.941,-82.9613 436.6442,-69 452.9872,-61.8029 469.6277,-51.0963 483.1549,-41.3484\"/>\n",
       "<polygon fill=\"#000000\" stroke=\"#000000\" points=\"485.6043,-43.8899 491.5602,-35.1276 481.44,-38.2633 485.6043,-43.8899\"/>\n",
       "<text text-anchor=\"middle\" x=\"503.1442\" y=\"-57.8\" font-family=\"Times,serif\" font-size=\"14.00\" fill=\"#000000\">task_result</text>\n",
       "</g>\n",
       "<!-- 139668601658000&#45;&gt;139668601657832 -->\n",
       "<g id=\"edge4\" class=\"edge\">\n",
       "<title>139668601658000&#45;&gt;139668601657832</title>\n",
       "<path fill=\"none\" stroke=\"#000000\" d=\"M346.0739,-174.3943C335.6316,-161.7765 321.4073,-144.5887 309.7277,-130.4759\"/>\n",
       "<polygon fill=\"#000000\" stroke=\"#000000\" points=\"312.2649,-128.052 303.1928,-122.5796 306.8721,-132.515 312.2649,-128.052\"/>\n",
       "<text text-anchor=\"middle\" x=\"347.1442\" y=\"-144.8\" font-family=\"Times,serif\" font-size=\"14.00\" fill=\"#000000\">train</text>\n",
       "</g>\n",
       "<!-- 139668601655928 -->\n",
       "<g id=\"node11\" class=\"node\">\n",
       "<title>139668601655928</title>\n",
       "<ellipse fill=\"none\" stroke=\"#000000\" cx=\"288.6442\" cy=\"-366\" rx=\"55.4913\" ry=\"18\"/>\n",
       "<text text-anchor=\"middle\" x=\"288.6442\" y=\"-362.3\" font-family=\"Times,serif\" font-size=\"14.00\" fill=\"#000000\">cleansing</text>\n",
       "</g>\n",
       "<!-- 139668601655760&#45;&gt;139668601655928 -->\n",
       "<g id=\"edge7\" class=\"edge\">\n",
       "<title>139668601655760&#45;&gt;139668601655928</title>\n",
       "<path fill=\"none\" stroke=\"#000000\" d=\"M288.6442,-434.9735C288.6442,-423.1918 288.6442,-407.5607 288.6442,-394.1581\"/>\n",
       "<polygon fill=\"#000000\" stroke=\"#000000\" points=\"292.1443,-394.0033 288.6442,-384.0034 285.1443,-394.0034 292.1443,-394.0033\"/>\n",
       "<text text-anchor=\"middle\" x=\"304.6442\" y=\"-405.8\" font-family=\"Times,serif\" font-size=\"14.00\" fill=\"#000000\">data</text>\n",
       "</g>\n",
       "<!-- 139668601655928&#45;&gt;139668601656320 -->\n",
       "<g id=\"edge5\" class=\"edge\">\n",
       "<title>139668601655928&#45;&gt;139668601656320</title>\n",
       "<path fill=\"none\" stroke=\"#000000\" d=\"M288.6442,-347.9735C288.6442,-336.1918 288.6442,-320.5607 288.6442,-307.1581\"/>\n",
       "<polygon fill=\"#000000\" stroke=\"#000000\" points=\"292.1443,-307.0033 288.6442,-297.0034 285.1443,-307.0034 292.1443,-307.0033\"/>\n",
       "<text text-anchor=\"middle\" x=\"304.6442\" y=\"-318.8\" font-family=\"Times,serif\" font-size=\"14.00\" fill=\"#000000\">data</text>\n",
       "</g>\n",
       "</g>\n",
       "</svg>\n"
      ],
      "text/plain": [
       "<graphviz.dot.Digraph at 0x7f07215be908>"
      ]
     },
     "execution_count": 4,
     "metadata": {},
     "output_type": "execute_result"
    }
   ],
   "source": [
    "# Run prefect flow\n",
    "flow.run()\n",
    "\n",
    "# Export flow as a PDF\n",
    "flow.visualize(filename=\"../src/data_pipeline/flow_diagrams/train_dataflow\")"
   ]
  },
  {
   "cell_type": "code",
   "execution_count": null,
   "id": "59c9623a-36cf-4c86-9048-fbeec2f5a173",
   "metadata": {},
   "outputs": [],
   "source": []
  }
 ],
 "metadata": {
  "kernelspec": {
   "display_name": "Python 3",
   "language": "python",
   "name": "python3"
  },
  "language_info": {
   "codemirror_mode": {
    "name": "ipython",
    "version": 3
   },
   "file_extension": ".py",
   "mimetype": "text/x-python",
   "name": "python",
   "nbconvert_exporter": "python",
   "pygments_lexer": "ipython3",
   "version": "3.6.13"
  }
 },
 "nbformat": 4,
 "nbformat_minor": 5
}
