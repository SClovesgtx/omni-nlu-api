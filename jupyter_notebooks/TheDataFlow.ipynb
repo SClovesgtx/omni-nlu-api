{
 "cells": [
  {
   "cell_type": "markdown",
   "id": "1b740292",
   "metadata": {},
   "source": [
    "# Connecting"
   ]
  },
  {
   "cell_type": "code",
   "execution_count": 7,
   "id": "f40f1534",
   "metadata": {},
   "outputs": [],
   "source": [
    "import os\n",
    "import numpy as np\n",
    "\n",
    "# setting working dir\n",
    "os.chdir(\"../src\")"
   ]
  },
  {
   "cell_type": "code",
   "execution_count": 77,
   "id": "c6fd7270",
   "metadata": {},
   "outputs": [],
   "source": [
    "from elasticsearch_db.elasticsearch import elastic_conection\n",
    "from elasticsearch_db.elasticsearch import get_nlp_model\n",
    "\n",
    "es = elastic_conection()"
   ]
  },
  {
   "cell_type": "code",
   "execution_count": 78,
   "id": "abb00a3f",
   "metadata": {},
   "outputs": [
    {
     "data": {
      "text/plain": [
       "True"
      ]
     },
     "execution_count": 78,
     "metadata": {},
     "output_type": "execute_result"
    }
   ],
   "source": [
    "workspace_id = \"dc1e7b3d-9137-4a20-a99c-d0d2029ef170\"\n",
    "workspace, exist = get_nlp_model(es, workspace_id=workspace_id)\n",
    "exist"
   ]
  },
  {
   "cell_type": "markdown",
   "id": "14f8f0fd",
   "metadata": {},
   "source": [
    "# Data Sourcing"
   ]
  },
  {
   "cell_type": "code",
   "execution_count": 79,
   "id": "86856a7f",
   "metadata": {},
   "outputs": [],
   "source": [
    "from data_pipeline.data_sourcing import get_data\n",
    "\n",
    "#get_data?"
   ]
  },
  {
   "cell_type": "code",
   "execution_count": 80,
   "id": "f3f4385a",
   "metadata": {},
   "outputs": [
    {
     "data": {
      "text/html": [
       "<div>\n",
       "<style scoped>\n",
       "    .dataframe tbody tr th:only-of-type {\n",
       "        vertical-align: middle;\n",
       "    }\n",
       "\n",
       "    .dataframe tbody tr th {\n",
       "        vertical-align: top;\n",
       "    }\n",
       "\n",
       "    .dataframe thead th {\n",
       "        text-align: right;\n",
       "    }\n",
       "</style>\n",
       "<table border=\"1\" class=\"dataframe\">\n",
       "  <thead>\n",
       "    <tr style=\"text-align: right;\">\n",
       "      <th></th>\n",
       "      <th>intents</th>\n",
       "      <th>examples</th>\n",
       "    </tr>\n",
       "  </thead>\n",
       "  <tbody>\n",
       "    <tr>\n",
       "      <th>0</th>\n",
       "      <td>Incluir_Colaborador_Convenio</td>\n",
       "      <td>Acabei de entrar na empresa eu ja tenho plano ...</td>\n",
       "    </tr>\n",
       "    <tr>\n",
       "      <th>1</th>\n",
       "      <td>Incluir_Colaborador_Convenio</td>\n",
       "      <td>eu ainda nao recebi o carteirinha do plano de ...</td>\n",
       "    </tr>\n",
       "    <tr>\n",
       "      <th>2</th>\n",
       "      <td>Incluir_Colaborador_Convenio</td>\n",
       "      <td>Fui admitido a pouco tempo, em quanto tempo po...</td>\n",
       "    </tr>\n",
       "    <tr>\n",
       "      <th>3</th>\n",
       "      <td>Incluir_Colaborador_Convenio</td>\n",
       "      <td>Fui admitido recentemente, quando poderei util...</td>\n",
       "    </tr>\n",
       "    <tr>\n",
       "      <th>4</th>\n",
       "      <td>Incluir_Colaborador_Convenio</td>\n",
       "      <td>Gostaria de saber se meu dependentes foi inclu...</td>\n",
       "    </tr>\n",
       "  </tbody>\n",
       "</table>\n",
       "</div>"
      ],
      "text/plain": [
       "                        intents  \\\n",
       "0  Incluir_Colaborador_Convenio   \n",
       "1  Incluir_Colaborador_Convenio   \n",
       "2  Incluir_Colaborador_Convenio   \n",
       "3  Incluir_Colaborador_Convenio   \n",
       "4  Incluir_Colaborador_Convenio   \n",
       "\n",
       "                                            examples  \n",
       "0  Acabei de entrar na empresa eu ja tenho plano ...  \n",
       "1  eu ainda nao recebi o carteirinha do plano de ...  \n",
       "2  Fui admitido a pouco tempo, em quanto tempo po...  \n",
       "3  Fui admitido recentemente, quando poderei util...  \n",
       "4  Gostaria de saber se meu dependentes foi inclu...  "
      ]
     },
     "execution_count": 80,
     "metadata": {},
     "output_type": "execute_result"
    }
   ],
   "source": [
    "df = get_data(workspace=workspace, es=es)\n",
    "df.head()"
   ]
  },
  {
   "cell_type": "markdown",
   "id": "dd680f84",
   "metadata": {},
   "source": [
    "# Data Preprocessing"
   ]
  },
  {
   "cell_type": "markdown",
   "id": "b659e631",
   "metadata": {},
   "source": [
    "### Create artificial Examples"
   ]
  },
  {
   "cell_type": "code",
   "execution_count": 6,
   "id": "488f6c60",
   "metadata": {},
   "outputs": [],
   "source": [
    "# from data_pipeline.data_preprocessing import fill_missing_examples\n",
    "\n",
    "# fill_missing_examples?"
   ]
  },
  {
   "cell_type": "code",
   "execution_count": 7,
   "id": "dfe68237",
   "metadata": {},
   "outputs": [],
   "source": [
    "# data = fill_missing_examples(data)"
   ]
  },
  {
   "cell_type": "markdown",
   "id": "f5680343",
   "metadata": {},
   "source": [
    "### Cleansing"
   ]
  },
  {
   "cell_type": "code",
   "execution_count": 81,
   "id": "8fe4ef07",
   "metadata": {},
   "outputs": [],
   "source": [
    "from data_pipeline.data_preprocessing import clean_examples\n",
    "\n",
    "#clean_examples?"
   ]
  },
  {
   "cell_type": "code",
   "execution_count": 82,
   "id": "19b695bd",
   "metadata": {},
   "outputs": [],
   "source": [
    "df = clean_examples(df)"
   ]
  },
  {
   "cell_type": "code",
   "execution_count": 83,
   "id": "9887efd0",
   "metadata": {},
   "outputs": [
    {
     "data": {
      "text/html": [
       "<div>\n",
       "<style scoped>\n",
       "    .dataframe tbody tr th:only-of-type {\n",
       "        vertical-align: middle;\n",
       "    }\n",
       "\n",
       "    .dataframe tbody tr th {\n",
       "        vertical-align: top;\n",
       "    }\n",
       "\n",
       "    .dataframe thead th {\n",
       "        text-align: right;\n",
       "    }\n",
       "</style>\n",
       "<table border=\"1\" class=\"dataframe\">\n",
       "  <thead>\n",
       "    <tr style=\"text-align: right;\">\n",
       "      <th></th>\n",
       "      <th>intents</th>\n",
       "      <th>examples</th>\n",
       "      <th>cleaned_examples</th>\n",
       "    </tr>\n",
       "  </thead>\n",
       "  <tbody>\n",
       "    <tr>\n",
       "      <th>0</th>\n",
       "      <td>Incluir_Colaborador_Convenio</td>\n",
       "      <td>Acabei de entrar na empresa eu ja tenho plano ...</td>\n",
       "      <td>acab entr empr ja plan saud</td>\n",
       "    </tr>\n",
       "    <tr>\n",
       "      <th>1</th>\n",
       "      <td>Incluir_Colaborador_Convenio</td>\n",
       "      <td>eu ainda nao recebi o carteirinha do plano de ...</td>\n",
       "      <td>aind nao receb carte plan saud</td>\n",
       "    </tr>\n",
       "    <tr>\n",
       "      <th>2</th>\n",
       "      <td>Incluir_Colaborador_Convenio</td>\n",
       "      <td>Fui admitido a pouco tempo, em quanto tempo po...</td>\n",
       "      <td>fui admit pouc temp quant temp pod utiliz plan...</td>\n",
       "    </tr>\n",
       "    <tr>\n",
       "      <th>3</th>\n",
       "      <td>Incluir_Colaborador_Convenio</td>\n",
       "      <td>Fui admitido recentemente, quando poderei util...</td>\n",
       "      <td>fui admit recent pod utiliz plan saud odont</td>\n",
       "    </tr>\n",
       "    <tr>\n",
       "      <th>4</th>\n",
       "      <td>Incluir_Colaborador_Convenio</td>\n",
       "      <td>Gostaria de saber se meu dependentes foi inclu...</td>\n",
       "      <td>gost sab depend inclu plan saud odontolog</td>\n",
       "    </tr>\n",
       "  </tbody>\n",
       "</table>\n",
       "</div>"
      ],
      "text/plain": [
       "                        intents  \\\n",
       "0  Incluir_Colaborador_Convenio   \n",
       "1  Incluir_Colaborador_Convenio   \n",
       "2  Incluir_Colaborador_Convenio   \n",
       "3  Incluir_Colaborador_Convenio   \n",
       "4  Incluir_Colaborador_Convenio   \n",
       "\n",
       "                                            examples  \\\n",
       "0  Acabei de entrar na empresa eu ja tenho plano ...   \n",
       "1  eu ainda nao recebi o carteirinha do plano de ...   \n",
       "2  Fui admitido a pouco tempo, em quanto tempo po...   \n",
       "3  Fui admitido recentemente, quando poderei util...   \n",
       "4  Gostaria de saber se meu dependentes foi inclu...   \n",
       "\n",
       "                                    cleaned_examples  \n",
       "0                        acab entr empr ja plan saud  \n",
       "1                     aind nao receb carte plan saud  \n",
       "2  fui admit pouc temp quant temp pod utiliz plan...  \n",
       "3        fui admit recent pod utiliz plan saud odont  \n",
       "4          gost sab depend inclu plan saud odontolog  "
      ]
     },
     "execution_count": 83,
     "metadata": {},
     "output_type": "execute_result"
    }
   ],
   "source": [
    "df.head()"
   ]
  },
  {
   "cell_type": "markdown",
   "id": "1b605753",
   "metadata": {},
   "source": [
    "# Feature Extracting"
   ]
  },
  {
   "cell_type": "code",
   "execution_count": 84,
   "id": "a5e88741",
   "metadata": {},
   "outputs": [
    {
     "data": {
      "text/html": [
       "<div>\n",
       "<style scoped>\n",
       "    .dataframe tbody tr th:only-of-type {\n",
       "        vertical-align: middle;\n",
       "    }\n",
       "\n",
       "    .dataframe tbody tr th {\n",
       "        vertical-align: top;\n",
       "    }\n",
       "\n",
       "    .dataframe thead th {\n",
       "        text-align: right;\n",
       "    }\n",
       "</style>\n",
       "<table border=\"1\" class=\"dataframe\">\n",
       "  <thead>\n",
       "    <tr style=\"text-align: right;\">\n",
       "      <th></th>\n",
       "      <th>intents</th>\n",
       "      <th>examples</th>\n",
       "      <th>cleaned_examples</th>\n",
       "      <th>intents_onehot</th>\n",
       "      <th>13o</th>\n",
       "      <th>1a</th>\n",
       "      <th>2808sem</th>\n",
       "      <th>2k</th>\n",
       "      <th>2o</th>\n",
       "      <th>abaix</th>\n",
       "      <th>...</th>\n",
       "      <th>vou</th>\n",
       "      <th>vr</th>\n",
       "      <th>vtnc</th>\n",
       "      <th>word</th>\n",
       "      <th>workflow</th>\n",
       "      <th>wwwpremiertravelc</th>\n",
       "      <th>xau</th>\n",
       "      <th>yar</th>\n",
       "      <th>yarin</th>\n",
       "      <th>zacarin</th>\n",
       "    </tr>\n",
       "  </thead>\n",
       "  <tbody>\n",
       "    <tr>\n",
       "      <th>0</th>\n",
       "      <td>Incluir_Colaborador_Convenio</td>\n",
       "      <td>Acabei de entrar na empresa eu ja tenho plano ...</td>\n",
       "      <td>acab entr empr ja plan saud</td>\n",
       "      <td>[0.0, 0.0, 0.0, 0.0, 0.0, 0.0, 0.0, 0.0, 0.0, ...</td>\n",
       "      <td>0.0</td>\n",
       "      <td>0.0</td>\n",
       "      <td>0.0</td>\n",
       "      <td>0.0</td>\n",
       "      <td>0.0</td>\n",
       "      <td>0.0</td>\n",
       "      <td>...</td>\n",
       "      <td>0.0</td>\n",
       "      <td>0.0</td>\n",
       "      <td>0.0</td>\n",
       "      <td>0.0</td>\n",
       "      <td>0.0</td>\n",
       "      <td>0.0</td>\n",
       "      <td>0.0</td>\n",
       "      <td>0.0</td>\n",
       "      <td>0.0</td>\n",
       "      <td>0.0</td>\n",
       "    </tr>\n",
       "    <tr>\n",
       "      <th>1</th>\n",
       "      <td>Incluir_Colaborador_Convenio</td>\n",
       "      <td>eu ainda nao recebi o carteirinha do plano de ...</td>\n",
       "      <td>aind nao receb carte plan saud</td>\n",
       "      <td>[0.0, 0.0, 0.0, 0.0, 0.0, 0.0, 0.0, 0.0, 0.0, ...</td>\n",
       "      <td>0.0</td>\n",
       "      <td>0.0</td>\n",
       "      <td>0.0</td>\n",
       "      <td>0.0</td>\n",
       "      <td>0.0</td>\n",
       "      <td>0.0</td>\n",
       "      <td>...</td>\n",
       "      <td>0.0</td>\n",
       "      <td>0.0</td>\n",
       "      <td>0.0</td>\n",
       "      <td>0.0</td>\n",
       "      <td>0.0</td>\n",
       "      <td>0.0</td>\n",
       "      <td>0.0</td>\n",
       "      <td>0.0</td>\n",
       "      <td>0.0</td>\n",
       "      <td>0.0</td>\n",
       "    </tr>\n",
       "  </tbody>\n",
       "</table>\n",
       "<p>2 rows × 1178 columns</p>\n",
       "</div>"
      ],
      "text/plain": [
       "                        intents  \\\n",
       "0  Incluir_Colaborador_Convenio   \n",
       "1  Incluir_Colaborador_Convenio   \n",
       "\n",
       "                                            examples  \\\n",
       "0  Acabei de entrar na empresa eu ja tenho plano ...   \n",
       "1  eu ainda nao recebi o carteirinha do plano de ...   \n",
       "\n",
       "                 cleaned_examples  \\\n",
       "0     acab entr empr ja plan saud   \n",
       "1  aind nao receb carte plan saud   \n",
       "\n",
       "                                      intents_onehot  13o   1a  2808sem   2k  \\\n",
       "0  [0.0, 0.0, 0.0, 0.0, 0.0, 0.0, 0.0, 0.0, 0.0, ...  0.0  0.0      0.0  0.0   \n",
       "1  [0.0, 0.0, 0.0, 0.0, 0.0, 0.0, 0.0, 0.0, 0.0, ...  0.0  0.0      0.0  0.0   \n",
       "\n",
       "    2o  abaix  ...  vou   vr  vtnc  word  workflow  wwwpremiertravelc  xau  \\\n",
       "0  0.0    0.0  ...  0.0  0.0   0.0   0.0       0.0                0.0  0.0   \n",
       "1  0.0    0.0  ...  0.0  0.0   0.0   0.0       0.0                0.0  0.0   \n",
       "\n",
       "   yar  yarin  zacarin  \n",
       "0  0.0    0.0      0.0  \n",
       "1  0.0    0.0      0.0  \n",
       "\n",
       "[2 rows x 1178 columns]"
      ]
     },
     "execution_count": 84,
     "metadata": {},
     "output_type": "execute_result"
    }
   ],
   "source": [
    "from data_pipeline.feature_extracting import encode_features\n",
    "\n",
    "df, x_transformer, y_transformer = encode_features(df)\n",
    "df.head(2)"
   ]
  },
  {
   "cell_type": "markdown",
   "id": "9c1f1a02",
   "metadata": {},
   "source": [
    "# Data Splitting"
   ]
  },
  {
   "cell_type": "code",
   "execution_count": 85,
   "id": "d0c43f2d",
   "metadata": {},
   "outputs": [],
   "source": [
    "from data_pipeline.data_splitting import split"
   ]
  },
  {
   "cell_type": "code",
   "execution_count": 86,
   "id": "a50e3d31",
   "metadata": {},
   "outputs": [],
   "source": [
    "X_train, X_test, y_train, y_test = split(df)"
   ]
  },
  {
   "cell_type": "code",
   "execution_count": 12,
   "id": "913036af-6e60-4e29-9415-fa3626bfbf8f",
   "metadata": {},
   "outputs": [
    {
     "data": {
      "text/plain": [
       "(817, 1174)"
      ]
     },
     "execution_count": 12,
     "metadata": {},
     "output_type": "execute_result"
    }
   ],
   "source": [
    "X_train.shape"
   ]
  },
  {
   "cell_type": "code",
   "execution_count": 13,
   "id": "4920be40-0ea3-4a05-8b83-8adda8ab8f43",
   "metadata": {},
   "outputs": [
    {
     "data": {
      "text/plain": [
       "(403, 1174)"
      ]
     },
     "execution_count": 13,
     "metadata": {},
     "output_type": "execute_result"
    }
   ],
   "source": [
    "X_test.shape"
   ]
  },
  {
   "cell_type": "code",
   "execution_count": 14,
   "id": "951b4fc2",
   "metadata": {},
   "outputs": [
    {
     "data": {
      "text/plain": [
       "(817, 2)"
      ]
     },
     "execution_count": 14,
     "metadata": {},
     "output_type": "execute_result"
    }
   ],
   "source": [
    "y_train.shape"
   ]
  },
  {
   "cell_type": "code",
   "execution_count": 15,
   "id": "9e2da985",
   "metadata": {},
   "outputs": [
    {
     "data": {
      "text/plain": [
       "(403, 2)"
      ]
     },
     "execution_count": 15,
     "metadata": {},
     "output_type": "execute_result"
    }
   ],
   "source": [
    "y_test.shape"
   ]
  },
  {
   "cell_type": "code",
   "execution_count": 16,
   "id": "9ae081f4",
   "metadata": {},
   "outputs": [
    {
     "data": {
      "text/html": [
       "<div>\n",
       "<style scoped>\n",
       "    .dataframe tbody tr th:only-of-type {\n",
       "        vertical-align: middle;\n",
       "    }\n",
       "\n",
       "    .dataframe tbody tr th {\n",
       "        vertical-align: top;\n",
       "    }\n",
       "\n",
       "    .dataframe thead th {\n",
       "        text-align: right;\n",
       "    }\n",
       "</style>\n",
       "<table border=\"1\" class=\"dataframe\">\n",
       "  <thead>\n",
       "    <tr style=\"text-align: right;\">\n",
       "      <th></th>\n",
       "      <th>intents</th>\n",
       "      <th>intents_onehot</th>\n",
       "    </tr>\n",
       "  </thead>\n",
       "  <tbody>\n",
       "    <tr>\n",
       "      <th>152</th>\n",
       "      <td>Detalhe_Sobre_Desconto</td>\n",
       "      <td>[0.0, 0.0, 0.0, 0.0, 0.0, 0.0, 0.0, 0.0, 0.0, ...</td>\n",
       "    </tr>\n",
       "    <tr>\n",
       "      <th>1164</th>\n",
       "      <td>Transferir_Colaborador_Filial</td>\n",
       "      <td>[0.0, 0.0, 0.0, 0.0, 0.0, 0.0, 0.0, 0.0, 0.0, ...</td>\n",
       "    </tr>\n",
       "    <tr>\n",
       "      <th>887</th>\n",
       "      <td>Direito_ao_13</td>\n",
       "      <td>[0.0, 0.0, 0.0, 0.0, 0.0, 0.0, 0.0, 0.0, 0.0, ...</td>\n",
       "    </tr>\n",
       "    <tr>\n",
       "      <th>821</th>\n",
       "      <td>Verificar_Historico_Previdencia</td>\n",
       "      <td>[0.0, 0.0, 0.0, 0.0, 0.0, 0.0, 0.0, 0.0, 0.0, ...</td>\n",
       "    </tr>\n",
       "    <tr>\n",
       "      <th>1017</th>\n",
       "      <td>Hora_Extra</td>\n",
       "      <td>[0.0, 0.0, 0.0, 0.0, 0.0, 0.0, 0.0, 0.0, 0.0, ...</td>\n",
       "    </tr>\n",
       "  </tbody>\n",
       "</table>\n",
       "</div>"
      ],
      "text/plain": [
       "                              intents  \\\n",
       "152            Detalhe_Sobre_Desconto   \n",
       "1164    Transferir_Colaborador_Filial   \n",
       "887                     Direito_ao_13   \n",
       "821   Verificar_Historico_Previdencia   \n",
       "1017                       Hora_Extra   \n",
       "\n",
       "                                         intents_onehot  \n",
       "152   [0.0, 0.0, 0.0, 0.0, 0.0, 0.0, 0.0, 0.0, 0.0, ...  \n",
       "1164  [0.0, 0.0, 0.0, 0.0, 0.0, 0.0, 0.0, 0.0, 0.0, ...  \n",
       "887   [0.0, 0.0, 0.0, 0.0, 0.0, 0.0, 0.0, 0.0, 0.0, ...  \n",
       "821   [0.0, 0.0, 0.0, 0.0, 0.0, 0.0, 0.0, 0.0, 0.0, ...  \n",
       "1017  [0.0, 0.0, 0.0, 0.0, 0.0, 0.0, 0.0, 0.0, 0.0, ...  "
      ]
     },
     "execution_count": 16,
     "metadata": {},
     "output_type": "execute_result"
    }
   ],
   "source": [
    "y_test.head()"
   ]
  },
  {
   "cell_type": "code",
   "execution_count": 17,
   "id": "4163a512",
   "metadata": {},
   "outputs": [
    {
     "data": {
      "text/plain": [
       "190"
      ]
     },
     "execution_count": 17,
     "metadata": {},
     "output_type": "execute_result"
    }
   ],
   "source": [
    "y_test.intents.nunique()"
   ]
  },
  {
   "cell_type": "code",
   "execution_count": 18,
   "id": "7c97288a",
   "metadata": {},
   "outputs": [
    {
     "data": {
      "text/plain": [
       "190"
      ]
     },
     "execution_count": 18,
     "metadata": {},
     "output_type": "execute_result"
    }
   ],
   "source": [
    "y_train.intents.nunique()"
   ]
  },
  {
   "cell_type": "markdown",
   "id": "02f8546f-d6b2-4976-9fd6-a9acec773079",
   "metadata": {},
   "source": [
    "# Training"
   ]
  },
  {
   "cell_type": "markdown",
   "id": "83ea0b6e-c3de-4dcd-9846-c410cad6bb15",
   "metadata": {},
   "source": [
    "#### Logistic Regression"
   ]
  },
  {
   "cell_type": "code",
   "execution_count": 1,
   "id": "16c65571-09c5-4b27-85c7-9c823612bf8e",
   "metadata": {},
   "outputs": [],
   "source": [
    "from sklearn.linear_model import LogisticRegression\n",
    "from sklearn.model_selection import GridSearchCV\n",
    "import numpy as np\n",
    "\n",
    "def train_logreg(X, y, **hyper_parameters):\n",
    "    model = LogisticRegression(\n",
    "                    n_jobs=-1,\n",
    "                    **hyper_parameters\n",
    "            )\n",
    "        \n",
    "\n",
    "    model.fit(X, y.intents)\n",
    "    return model"
   ]
  },
  {
   "cell_type": "code",
   "execution_count": 39,
   "id": "951944ff-ccde-4985-b7fa-c67928a91562",
   "metadata": {},
   "outputs": [],
   "source": [
    "hyper_parameters = {\n",
    "                \"multi_class\": \"multinomial\",\n",
    "                \"fit_intercept\": False,\n",
    "                \"C\": 5,\n",
    "                \"random_state\": 42,\n",
    "                \"max_iter\": 1000}\n",
    "\n",
    "logreg_clf = train_logreg(\n",
    "                    X=X_train, \n",
    "                    y=y_train,\n",
    "                    **hyper_parameters\n",
    "            )"
   ]
  },
  {
   "cell_type": "code",
   "execution_count": 24,
   "id": "92e265ea-a316-458c-8cdb-21dae32c7a77",
   "metadata": {},
   "outputs": [
    {
     "data": {
      "text/plain": [
       "0.5558312655086849"
      ]
     },
     "execution_count": 24,
     "metadata": {},
     "output_type": "execute_result"
    }
   ],
   "source": [
    "y_pred = logreg_clf.predict(X_test)\n",
    "np.sum(y_pred == y_test.intents) / y_test.shape[0]"
   ]
  },
  {
   "cell_type": "code",
   "execution_count": 25,
   "id": "e08e29ac-edb3-4594-8cd8-d92e5ad18856",
   "metadata": {},
   "outputs": [
    {
     "data": {
      "text/plain": [
       "array([[0.00382202, 0.00376217, 0.00387697, 0.00434802, 0.00378701,\n",
       "        0.0203652 , 0.00386112, 0.00377277, 0.00379206, 0.00383809,\n",
       "        0.00382853, 0.00379151, 0.00388488, 0.00384033, 0.00376115,\n",
       "        0.00519271, 0.00386738, 0.0038066 , 0.00366764, 0.00382163,\n",
       "        0.00381047, 0.00376541, 0.00382149, 0.00379371, 0.00385451,\n",
       "        0.00375297, 0.00385807, 0.00486169, 0.00384127, 0.00386689,\n",
       "        0.00383927, 0.00382324, 0.00381353, 0.00383143, 0.00340203,\n",
       "        0.00379665, 0.00382706, 0.00382519, 0.00997034, 0.00378374,\n",
       "        0.00379642, 0.00371985, 0.00440795, 0.00376949, 0.00379666,\n",
       "        0.0052829 , 0.00379539, 0.00383139, 0.00385898, 0.00380309,\n",
       "        0.010825  , 0.00381768, 0.0038315 , 0.00375465, 0.00495597,\n",
       "        0.00386907, 0.00383727, 0.00380407, 0.00388131, 0.00385049,\n",
       "        0.00567158, 0.00382539, 0.00421234, 0.00384935, 0.00381869,\n",
       "        0.00799066, 0.00988192, 0.00647337, 0.04390462, 0.00383904,\n",
       "        0.00386376, 0.00383673, 0.00386777, 0.00379908, 0.00385833,\n",
       "        0.00382976, 0.00597546, 0.00413374, 0.00398028, 0.00409834,\n",
       "        0.00562   , 0.00381865, 0.00383411, 0.00376619, 0.00387087,\n",
       "        0.00387736, 0.00562143, 0.00381364, 0.00380774, 0.00383062,\n",
       "        0.00367892, 0.00952141, 0.00384539, 0.00371781, 0.00381072,\n",
       "        0.00530481, 0.00388645, 0.00388392, 0.00381356, 0.00383792,\n",
       "        0.00388473, 0.00375736, 0.00387816, 0.00387279, 0.00369655,\n",
       "        0.01175932, 0.03359616, 0.00382856, 0.00532613, 0.00357215,\n",
       "        0.00470014, 0.00371315, 0.00387462, 0.00381805, 0.00387881,\n",
       "        0.00386568, 0.00379034, 0.00370119, 0.00381879, 0.00625019,\n",
       "        0.00447709, 0.0038558 , 0.00384072, 0.003869  , 0.00386609,\n",
       "        0.00383635, 0.00368391, 0.00726724, 0.00387245, 0.00384818,\n",
       "        0.00369639, 0.01844396, 0.00617291, 0.02142152, 0.00382885,\n",
       "        0.00387323, 0.00387056, 0.00385098, 0.00378241, 0.01204081,\n",
       "        0.00381314, 0.00383583, 0.00386344, 0.00502549, 0.00507816,\n",
       "        0.00376428, 0.0038325 , 0.00379993, 0.00382191, 0.00379514,\n",
       "        0.00352834, 0.00429689, 0.00384921, 0.00327537, 0.00598933,\n",
       "        0.00385799, 0.00385411, 0.00369534, 0.00352165, 0.0037667 ,\n",
       "        0.00354734, 0.003839  , 0.00383837, 0.00372396, 0.00383105,\n",
       "        0.00381346, 0.00376335, 0.00386018, 0.0037692 , 0.00384536,\n",
       "        0.00374672, 0.00372702, 0.00385638, 0.00879564, 0.00870887,\n",
       "        0.0052822 , 0.00652497, 0.00384989, 0.00375832, 0.00381449,\n",
       "        0.00384561, 0.00382342, 0.01023187, 0.00986194, 0.05003294,\n",
       "        0.00508328, 0.00384081, 0.00492664, 0.00623378, 0.00379026]])"
      ]
     },
     "execution_count": 25,
     "metadata": {},
     "output_type": "execute_result"
    }
   ],
   "source": [
    "logreg_clf.predict_proba([X_test.iloc[0]])"
   ]
  },
  {
   "cell_type": "markdown",
   "id": "658f6ba2-6162-41da-8d3e-adb1e398ca36",
   "metadata": {},
   "source": [
    "#### SVM"
   ]
  },
  {
   "cell_type": "code",
   "execution_count": 2,
   "id": "9f686699-a81c-4287-b39b-3a09238df4fd",
   "metadata": {},
   "outputs": [],
   "source": [
    "from sklearn import svm\n",
    "\n",
    "def train_svm(X, y, **hyper_parameters):\n",
    "    model = svm.SVC(\n",
    "                    probability=True,\n",
    "                    **hyper_parameters\n",
    "              )\n",
    "        \n",
    "    model.fit(X, y.intents)\n",
    "    return model"
   ]
  },
  {
   "cell_type": "code",
   "execution_count": 27,
   "id": "82cb3b88-8bdb-47bf-91a2-768dc820e10f",
   "metadata": {},
   "outputs": [],
   "source": [
    "hyper_parameters = {\n",
    "          \"kernel\": \"poly\", \n",
    "          \"degree\": 1,\n",
    "          \"coef0\": 0,\n",
    "          \"random_state\": 42\n",
    "        }\n",
    "svm_clf = train_svm(\n",
    "                X=X_train, \n",
    "                y=y_train,\n",
    "                **hyper_parameters\n",
    "            )"
   ]
  },
  {
   "cell_type": "code",
   "execution_count": 28,
   "id": "a05ba871-61ed-4213-8087-129c64893d58",
   "metadata": {},
   "outputs": [
    {
     "data": {
      "text/plain": [
       "0.4838709677419355"
      ]
     },
     "execution_count": 28,
     "metadata": {},
     "output_type": "execute_result"
    }
   ],
   "source": [
    "y_pred = svm_clf.predict(X_test)\n",
    "np.sum((y_pred == y_test.intents)) / y_test.shape[0]"
   ]
  },
  {
   "cell_type": "code",
   "execution_count": 29,
   "id": "f7fa34fb",
   "metadata": {},
   "outputs": [
    {
     "data": {
      "text/plain": [
       "array([[0.00306106, 0.00641751, 0.00408806, 0.00452781, 0.00490817,\n",
       "        0.00694625, 0.0021326 , 0.0023639 , 0.00467333, 0.00193648,\n",
       "        0.00478029, 0.00496637, 0.00296317, 0.00322381, 0.00436512,\n",
       "        0.01044907, 0.00268255, 0.00603941, 0.00993999, 0.00222272,\n",
       "        0.00314836, 0.00394817, 0.0055226 , 0.00359113, 0.00241712,\n",
       "        0.00401117, 0.00192506, 0.00458564, 0.00408386, 0.00290265,\n",
       "        0.00210494, 0.00492424, 0.00450757, 0.00299924, 0.00204994,\n",
       "        0.00425702, 0.00679804, 0.00206433, 0.01587772, 0.00464743,\n",
       "        0.00492184, 0.00543427, 0.0031828 , 0.00294165, 0.00319342,\n",
       "        0.01034369, 0.0048632 , 0.00204229, 0.00405178, 0.00316612,\n",
       "        0.00836922, 0.00354562, 0.00245942, 0.00593224, 0.00348146,\n",
       "        0.00248887, 0.00316653, 0.00433585, 0.00334471, 0.00264401,\n",
       "        0.00331257, 0.00271333, 0.00857719, 0.00543311, 0.00447885,\n",
       "        0.013201  , 0.00522042, 0.00940554, 0.0219233 , 0.00422381,\n",
       "        0.00459447, 0.00260931, 0.00251267, 0.00499749, 0.00169348,\n",
       "        0.00362117, 0.0035945 , 0.00770845, 0.00386738, 0.009618  ,\n",
       "        0.00616766, 0.00277313, 0.00201623, 0.00512165, 0.00171612,\n",
       "        0.00279791, 0.00411607, 0.0034554 , 0.00333144, 0.00232327,\n",
       "        0.00388121, 0.01031966, 0.00592347, 0.00669948, 0.00339062,\n",
       "        0.00421005, 0.01548727, 0.01130276, 0.0176465 , 0.01615688,\n",
       "        0.00202009, 0.00218096, 0.00234407, 0.00216622, 0.00573282,\n",
       "        0.01477894, 0.01495189, 0.0077289 , 0.00790978, 0.00869323,\n",
       "        0.00683551, 0.00565423, 0.00205638, 0.00339228, 0.00207828,\n",
       "        0.0031104 , 0.00229632, 0.00329554, 0.00258832, 0.00560935,\n",
       "        0.00582055, 0.00211127, 0.00303353, 0.00202635, 0.00589376,\n",
       "        0.00589538, 0.00291324, 0.00540782, 0.00429621, 0.00336744,\n",
       "        0.00184822, 0.0189351 , 0.01077583, 0.02400365, 0.00716035,\n",
       "        0.00265652, 0.00160176, 0.00246959, 0.00399752, 0.01280588,\n",
       "        0.00523827, 0.00186763, 0.00161377, 0.00353532, 0.00717635,\n",
       "        0.00753437, 0.00294597, 0.00249715, 0.00209274, 0.00538402,\n",
       "        0.00208698, 0.00480192, 0.00257202, 0.0030244 , 0.00753639,\n",
       "        0.0038199 , 0.00295468, 0.00314645, 0.00978125, 0.00367794,\n",
       "        0.00254226, 0.00228207, 0.00361857, 0.00583668, 0.00179064,\n",
       "        0.0052812 , 0.00676059, 0.00651593, 0.00305231, 0.00150738,\n",
       "        0.00434278, 0.0041211 , 0.00330437, 0.00526938, 0.0091313 ,\n",
       "        0.00572792, 0.00344837, 0.00252777, 0.00682988, 0.00906868,\n",
       "        0.0027591 , 0.00149334, 0.01529316, 0.01347803, 0.02621982,\n",
       "        0.00572054, 0.00305837, 0.00265141, 0.00226636, 0.00326395]])"
      ]
     },
     "execution_count": 29,
     "metadata": {},
     "output_type": "execute_result"
    }
   ],
   "source": [
    "svm_clf.predict_proba([X_test.iloc[0]])"
   ]
  },
  {
   "cell_type": "markdown",
   "id": "6a413bd9-73f7-4345-90ff-48e4a2eb026b",
   "metadata": {},
   "source": [
    "#### Neural Network"
   ]
  },
  {
   "cell_type": "code",
   "execution_count": 37,
   "id": "3f2410ff",
   "metadata": {},
   "outputs": [],
   "source": [
    "import matplotlib.pyplot as plt\n",
    "\n",
    "def plot_history(history):\n",
    "    acc = history.history['accuracy']\n",
    "    val_acc = history.history['val_accuracy']\n",
    "    loss = history.history['loss']\n",
    "    val_loss = history.history['val_loss']\n",
    "    x = range(1, len(acc) + 1)\n",
    "\n",
    "    plt.figure(figsize=(12, 5))\n",
    "    plt.subplot(1, 2, 1)\n",
    "    plt.plot(x, acc, 'b', label='Training acc')\n",
    "    plt.plot(x, val_acc, 'r', label='Validation acc')\n",
    "    plt.title('Training and validation accuracy')\n",
    "    plt.legend()\n",
    "    plt.subplot(1, 2, 2)\n",
    "    plt.plot(x, loss, 'b', label='Training loss')\n",
    "    plt.plot(x, val_loss, 'r', label='Validation loss')\n",
    "    plt.title('Training and validation loss')\n",
    "    plt.legend()"
   ]
  },
  {
   "cell_type": "code",
   "execution_count": 5,
   "id": "381e5790-2f21-41ba-8ecf-b665fccd6966",
   "metadata": {},
   "outputs": [],
   "source": [
    "from tensorflow.keras.wrappers.scikit_learn import KerasClassifier\n",
    "from sklearn.compose import TransformedTargetRegressor\n",
    "from tensorflow.keras.models import Sequential\n",
    "from tensorflow.keras.layers import Dense, Dropout\n",
    "from tensorflow.keras.optimizers import Adam\n",
    "from sklearn.preprocessing import LabelBinarizer\n",
    "from sklearn.preprocessing import OneHotEncoder\n",
    "import pandas as pd\n",
    "\n",
    "\n",
    "\n",
    "# Keras Model\n",
    "def build_nn(learning_rate, loss, \n",
    "            number_of_intent_classes,\n",
    "            n_features,\n",
    "            input_shape):\n",
    "    \n",
    "    model = Sequential()\n",
    "    model.add(\n",
    "            Dense(\n",
    "                units=input_shape[0],\n",
    "                activation=\"relu\",\n",
    "                input_shape=input_shape,\n",
    "                name=\"input_layer\",\n",
    "            )\n",
    "    )\n",
    "    model.add(Dense(units=input_shape[0], activation=\"relu\", name=\"layer_2\"))\n",
    "    # Output\n",
    "    model.add(\n",
    "        Dense(units=number_of_intent_classes, activation=\"softmax\", name=\"output_layer\")\n",
    "    )\n",
    "\n",
    "    # Compile the model\n",
    "    model.compile(\n",
    "        optimizer=Adam(learning_rate=learning_rate),\n",
    "        loss=loss,\n",
    "        metrics=[\"accuracy\"]\n",
    "    )\n",
    "    return model\n",
    "\n",
    "\n",
    "def train_nn(X, y, **hyper_parameters):\n",
    "    learning_rate = 0.001\n",
    "    loss = \"categorical_crossentropy\"\n",
    "    number_of_intent_classes = X.intents.nunique()\n",
    "    n_features = X.shape[1]\n",
    "    input_shape = (n_features,)\n",
    "    model = build_nn(learning_rate, loss, \n",
    "                     number_of_intent_classes,\n",
    "                     n_features,\n",
    "                     input_shape)\n",
    "    X = X.to_numpy()\n",
    "    y = np.array(y.intents_onehot.tolist())\n",
    "    history = model.fit(\n",
    "                    X,\n",
    "                    y,\n",
    "                    **hyper_parameters\n",
    "              )\n",
    "    \n",
    "    return model, history"
   ]
  },
  {
   "cell_type": "code",
   "execution_count": 35,
   "id": "fa111636-bfaa-46be-8bfe-262e6f01bd82",
   "metadata": {},
   "outputs": [
    {
     "name": "stdout",
     "output_type": "stream",
     "text": [
      "Epoch 1/100\n",
      "5/5 [==============================] - 1s 154ms/step - loss: 5.2406 - accuracy: 0.0235 - val_loss: 5.1889 - val_accuracy: 0.0521\n",
      "Epoch 2/100\n",
      "5/5 [==============================] - 0s 73ms/step - loss: 5.1156 - accuracy: 0.1656 - val_loss: 5.0919 - val_accuracy: 0.0571\n",
      "Epoch 3/100\n",
      "5/5 [==============================] - 0s 65ms/step - loss: 4.9341 - accuracy: 0.1322 - val_loss: 4.9599 - val_accuracy: 0.0447\n",
      "Epoch 4/100\n",
      "5/5 [==============================] - 0s 64ms/step - loss: 4.7168 - accuracy: 0.1022 - val_loss: 4.8501 - val_accuracy: 0.0397\n",
      "Epoch 5/100\n",
      "5/5 [==============================] - 0s 97ms/step - loss: 4.4787 - accuracy: 0.1115 - val_loss: 4.6957 - val_accuracy: 0.0844\n",
      "Epoch 6/100\n",
      "5/5 [==============================] - 0s 91ms/step - loss: 4.1973 - accuracy: 0.2682 - val_loss: 4.4960 - val_accuracy: 0.1911\n",
      "Epoch 7/100\n",
      "5/5 [==============================] - 1s 111ms/step - loss: 3.8624 - accuracy: 0.4288 - val_loss: 4.2608 - val_accuracy: 0.1960\n",
      "Epoch 8/100\n",
      "5/5 [==============================] - 0s 91ms/step - loss: 3.4309 - accuracy: 0.4815 - val_loss: 3.9624 - val_accuracy: 0.2506\n",
      "Epoch 9/100\n",
      "5/5 [==============================] - 0s 91ms/step - loss: 2.9436 - accuracy: 0.6070 - val_loss: 3.6388 - val_accuracy: 0.3400\n",
      "Epoch 10/100\n",
      "5/5 [==============================] - 0s 95ms/step - loss: 2.4237 - accuracy: 0.7145 - val_loss: 3.2893 - val_accuracy: 0.3970\n",
      "Epoch 11/100\n",
      "5/5 [==============================] - 0s 86ms/step - loss: 1.8790 - accuracy: 0.7941 - val_loss: 2.9410 - val_accuracy: 0.4690\n",
      "Epoch 12/100\n",
      "5/5 [==============================] - 0s 91ms/step - loss: 1.3723 - accuracy: 0.8783 - val_loss: 2.6578 - val_accuracy: 0.5037\n",
      "Epoch 13/100\n",
      "5/5 [==============================] - 0s 83ms/step - loss: 0.9629 - accuracy: 0.9171 - val_loss: 2.4311 - val_accuracy: 0.5012\n",
      "Epoch 14/100\n",
      "5/5 [==============================] - 1s 123ms/step - loss: 0.6640 - accuracy: 0.9517 - val_loss: 2.2311 - val_accuracy: 0.4938\n",
      "Epoch 15/100\n",
      "5/5 [==============================] - 0s 72ms/step - loss: 0.4621 - accuracy: 0.9524 - val_loss: 2.1737 - val_accuracy: 0.4913\n",
      "Epoch 16/100\n",
      "5/5 [==============================] - 0s 64ms/step - loss: 0.3442 - accuracy: 0.9511 - val_loss: 2.0357 - val_accuracy: 0.5385\n",
      "Epoch 17/100\n",
      "5/5 [==============================] - 0s 67ms/step - loss: 0.2300 - accuracy: 0.9748 - val_loss: 1.9881 - val_accuracy: 0.5285\n",
      "Epoch 18/100\n",
      "5/5 [==============================] - 0s 100ms/step - loss: 0.1780 - accuracy: 0.9795 - val_loss: 1.9165 - val_accuracy: 0.5409\n",
      "Epoch 19/100\n",
      "5/5 [==============================] - 0s 90ms/step - loss: 0.1471 - accuracy: 0.9769 - val_loss: 1.8732 - val_accuracy: 0.5360\n",
      "Epoch 20/100\n",
      "5/5 [==============================] - 1s 116ms/step - loss: 0.1139 - accuracy: 0.9857 - val_loss: 1.8156 - val_accuracy: 0.5484\n",
      "Epoch 21/100\n",
      "5/5 [==============================] - 1s 126ms/step - loss: 0.0858 - accuracy: 0.9913 - val_loss: 1.8027 - val_accuracy: 0.5459\n",
      "Epoch 22/100\n",
      "5/5 [==============================] - 1s 114ms/step - loss: 0.0770 - accuracy: 0.9940 - val_loss: 1.8114 - val_accuracy: 0.5360\n",
      "Epoch 23/100\n",
      "5/5 [==============================] - 0s 88ms/step - loss: 0.0692 - accuracy: 0.9935 - val_loss: 1.8391 - val_accuracy: 0.5285\n",
      "Epoch 24/100\n",
      "5/5 [==============================] - 0s 85ms/step - loss: 0.0612 - accuracy: 0.9957 - val_loss: 1.7836 - val_accuracy: 0.5360\n",
      "Epoch 25/100\n",
      "5/5 [==============================] - 0s 97ms/step - loss: 0.0541 - accuracy: 0.9957 - val_loss: 1.7380 - val_accuracy: 0.5509\n",
      "Epoch 26/100\n",
      "5/5 [==============================] - 0s 90ms/step - loss: 0.0619 - accuracy: 0.9935 - val_loss: 1.7237 - val_accuracy: 0.5509\n",
      "Epoch 27/100\n",
      "5/5 [==============================] - 1s 125ms/step - loss: 0.0444 - accuracy: 0.9963 - val_loss: 1.7265 - val_accuracy: 0.5484\n",
      "Epoch 28/100\n",
      "5/5 [==============================] - 0s 91ms/step - loss: 0.0434 - accuracy: 0.9948 - val_loss: 1.7504 - val_accuracy: 0.5484\n",
      "Epoch 29/100\n",
      "5/5 [==============================] - 0s 98ms/step - loss: 0.0447 - accuracy: 0.9922 - val_loss: 1.7636 - val_accuracy: 0.5434\n",
      "Epoch 30/100\n",
      "5/5 [==============================] - 1s 117ms/step - loss: 0.0396 - accuracy: 0.9921 - val_loss: 1.8035 - val_accuracy: 0.5409\n",
      "Epoch 31/100\n",
      "5/5 [==============================] - 0s 92ms/step - loss: 0.0456 - accuracy: 0.9914 - val_loss: 1.8201 - val_accuracy: 0.5409\n",
      "Epoch 32/100\n",
      "5/5 [==============================] - 0s 91ms/step - loss: 0.0355 - accuracy: 0.9957 - val_loss: 1.7881 - val_accuracy: 0.5509\n",
      "Epoch 33/100\n",
      "5/5 [==============================] - 1s 106ms/step - loss: 0.0337 - accuracy: 0.9918 - val_loss: 1.7719 - val_accuracy: 0.5558\n",
      "Epoch 34/100\n",
      "5/5 [==============================] - 1s 199ms/step - loss: 0.0284 - accuracy: 0.9957 - val_loss: 1.7578 - val_accuracy: 0.5583\n",
      "Epoch 35/100\n",
      "5/5 [==============================] - 0s 74ms/step - loss: 0.0265 - accuracy: 0.9975 - val_loss: 1.7639 - val_accuracy: 0.5509\n",
      "Epoch 36/100\n",
      "5/5 [==============================] - 0s 74ms/step - loss: 0.0273 - accuracy: 0.9963 - val_loss: 1.7744 - val_accuracy: 0.5533\n",
      "Epoch 37/100\n",
      "5/5 [==============================] - 0s 60ms/step - loss: 0.0282 - accuracy: 0.9934 - val_loss: 1.7899 - val_accuracy: 0.5459\n",
      "Epoch 38/100\n",
      "5/5 [==============================] - 0s 63ms/step - loss: 0.0212 - accuracy: 0.9973 - val_loss: 1.7950 - val_accuracy: 0.5360\n",
      "Epoch 39/100\n",
      "5/5 [==============================] - 0s 81ms/step - loss: 0.0240 - accuracy: 0.9948 - val_loss: 1.8021 - val_accuracy: 0.5335\n",
      "Epoch 40/100\n",
      "5/5 [==============================] - 1s 113ms/step - loss: 0.0243 - accuracy: 0.9952 - val_loss: 1.7901 - val_accuracy: 0.5360\n",
      "Epoch 41/100\n",
      "5/5 [==============================] - 1s 111ms/step - loss: 0.0200 - accuracy: 0.9963 - val_loss: 1.7807 - val_accuracy: 0.5385\n",
      "Epoch 42/100\n",
      "5/5 [==============================] - 1s 130ms/step - loss: 0.0186 - accuracy: 0.9968 - val_loss: 1.7822 - val_accuracy: 0.5360\n",
      "Epoch 43/100\n",
      "5/5 [==============================] - 1s 172ms/step - loss: 0.0167 - accuracy: 0.9968 - val_loss: 1.7833 - val_accuracy: 0.5385\n",
      "Epoch 44/100\n",
      "5/5 [==============================] - 1s 166ms/step - loss: 0.0220 - accuracy: 0.9959 - val_loss: 1.7983 - val_accuracy: 0.5285\n",
      "Epoch 45/100\n",
      "5/5 [==============================] - 1s 157ms/step - loss: 0.0254 - accuracy: 0.9968 - val_loss: 1.8041 - val_accuracy: 0.5335\n",
      "Epoch 46/100\n",
      "5/5 [==============================] - 1s 156ms/step - loss: 0.0216 - accuracy: 0.9979 - val_loss: 1.8014 - val_accuracy: 0.5385\n",
      "Epoch 47/100\n",
      "5/5 [==============================] - 1s 135ms/step - loss: 0.0210 - accuracy: 0.9961 - val_loss: 1.8042 - val_accuracy: 0.5335\n",
      "Epoch 48/100\n",
      "5/5 [==============================] - 1s 120ms/step - loss: 0.0208 - accuracy: 0.9966 - val_loss: 1.8154 - val_accuracy: 0.5310\n",
      "Epoch 49/100\n",
      "5/5 [==============================] - 0s 90ms/step - loss: 0.0292 - accuracy: 0.9946 - val_loss: 1.8071 - val_accuracy: 0.5385\n",
      "Epoch 50/100\n",
      "5/5 [==============================] - 1s 116ms/step - loss: 0.0177 - accuracy: 0.9943 - val_loss: 1.8607 - val_accuracy: 0.5310\n",
      "Epoch 51/100\n",
      "5/5 [==============================] - 1s 140ms/step - loss: 0.0454 - accuracy: 0.9944 - val_loss: 1.8642 - val_accuracy: 0.5310\n",
      "Epoch 52/100\n",
      "5/5 [==============================] - 0s 73ms/step - loss: 0.0568 - accuracy: 0.9930 - val_loss: 1.8503 - val_accuracy: 0.5211\n",
      "Epoch 53/100\n",
      "5/5 [==============================] - 0s 98ms/step - loss: 0.0471 - accuracy: 0.9939 - val_loss: 1.8384 - val_accuracy: 0.5186\n",
      "Epoch 54/100\n",
      "5/5 [==============================] - 0s 69ms/step - loss: 0.0375 - accuracy: 0.9935 - val_loss: 1.8136 - val_accuracy: 0.5335\n",
      "Epoch 55/100\n",
      "5/5 [==============================] - 1s 121ms/step - loss: 0.0252 - accuracy: 0.9926 - val_loss: 1.8322 - val_accuracy: 0.5335\n",
      "Epoch 56/100\n",
      "5/5 [==============================] - 0s 87ms/step - loss: 0.0243 - accuracy: 0.9966 - val_loss: 1.8237 - val_accuracy: 0.5409\n",
      "Epoch 57/100\n",
      "5/5 [==============================] - 1s 128ms/step - loss: 0.0254 - accuracy: 0.9959 - val_loss: 1.8168 - val_accuracy: 0.5360\n",
      "Epoch 58/100\n",
      "5/5 [==============================] - 1s 111ms/step - loss: 0.0167 - accuracy: 0.9972 - val_loss: 1.8198 - val_accuracy: 0.5335\n"
     ]
    },
    {
     "name": "stdout",
     "output_type": "stream",
     "text": [
      "Epoch 59/100\n",
      "5/5 [==============================] - 1s 117ms/step - loss: 0.0206 - accuracy: 0.9944 - val_loss: 1.8401 - val_accuracy: 0.5385\n",
      "Epoch 60/100\n",
      "5/5 [==============================] - 0s 104ms/step - loss: 0.0136 - accuracy: 0.9969 - val_loss: 1.8601 - val_accuracy: 0.5335\n",
      "Epoch 61/100\n",
      "5/5 [==============================] - 1s 130ms/step - loss: 0.0141 - accuracy: 0.9969 - val_loss: 1.8666 - val_accuracy: 0.5335\n",
      "Epoch 62/100\n",
      "5/5 [==============================] - 1s 144ms/step - loss: 0.0131 - accuracy: 0.9957 - val_loss: 1.8746 - val_accuracy: 0.5285\n",
      "Epoch 63/100\n",
      "5/5 [==============================] - 1s 190ms/step - loss: 0.0144 - accuracy: 0.9961 - val_loss: 1.8776 - val_accuracy: 0.5285\n",
      "Epoch 64/100\n",
      "5/5 [==============================] - 1s 172ms/step - loss: 0.0123 - accuracy: 0.9957 - val_loss: 1.8605 - val_accuracy: 0.5310\n",
      "Epoch 65/100\n",
      "5/5 [==============================] - 1s 214ms/step - loss: 0.0114 - accuracy: 0.9957 - val_loss: 1.8730 - val_accuracy: 0.5385\n",
      "Epoch 66/100\n",
      "5/5 [==============================] - 1s 146ms/step - loss: 0.0115 - accuracy: 0.9963 - val_loss: 1.8689 - val_accuracy: 0.5310\n",
      "Epoch 67/100\n",
      "5/5 [==============================] - 1s 187ms/step - loss: 0.0129 - accuracy: 0.9963 - val_loss: 1.8762 - val_accuracy: 0.5360\n",
      "Epoch 68/100\n",
      "5/5 [==============================] - 1s 147ms/step - loss: 0.0113 - accuracy: 0.9972 - val_loss: 1.8707 - val_accuracy: 0.5310\n",
      "Epoch 69/100\n",
      "5/5 [==============================] - 0s 86ms/step - loss: 0.0113 - accuracy: 0.9978 - val_loss: 1.8761 - val_accuracy: 0.5285\n",
      "Epoch 70/100\n",
      "5/5 [==============================] - 1s 136ms/step - loss: 0.0143 - accuracy: 0.9959 - val_loss: 1.8892 - val_accuracy: 0.5261\n",
      "Epoch 71/100\n",
      "5/5 [==============================] - 1s 119ms/step - loss: 0.0181 - accuracy: 0.9938 - val_loss: 1.8912 - val_accuracy: 0.5310\n",
      "Epoch 72/100\n",
      "5/5 [==============================] - 0s 84ms/step - loss: 0.0200 - accuracy: 0.9924 - val_loss: 1.8765 - val_accuracy: 0.5261\n",
      "Epoch 73/100\n",
      "5/5 [==============================] - 1s 147ms/step - loss: 0.0133 - accuracy: 0.9950 - val_loss: 1.8783 - val_accuracy: 0.5261\n",
      "Epoch 74/100\n",
      "5/5 [==============================] - 1s 121ms/step - loss: 0.0119 - accuracy: 0.9965 - val_loss: 1.8743 - val_accuracy: 0.5211\n",
      "Epoch 75/100\n",
      "5/5 [==============================] - 0s 91ms/step - loss: 0.0122 - accuracy: 0.9953 - val_loss: 1.8735 - val_accuracy: 0.5261\n",
      "Epoch 76/100\n",
      "5/5 [==============================] - 1s 111ms/step - loss: 0.0225 - accuracy: 0.9953 - val_loss: 1.8769 - val_accuracy: 0.5285\n",
      "Epoch 77/100\n",
      "5/5 [==============================] - 1s 107ms/step - loss: 0.0192 - accuracy: 0.9957 - val_loss: 2.0109 - val_accuracy: 0.5186\n",
      "Epoch 78/100\n",
      "5/5 [==============================] - 1s 116ms/step - loss: 0.0317 - accuracy: 0.9942 - val_loss: 1.9700 - val_accuracy: 0.5186\n",
      "Epoch 79/100\n",
      "5/5 [==============================] - 1s 110ms/step - loss: 0.0265 - accuracy: 0.9947 - val_loss: 1.9348 - val_accuracy: 0.5211\n",
      "Epoch 80/100\n",
      "5/5 [==============================] - 0s 102ms/step - loss: 0.0198 - accuracy: 0.9969 - val_loss: 1.9239 - val_accuracy: 0.5211\n",
      "Epoch 81/100\n",
      "5/5 [==============================] - 1s 115ms/step - loss: 0.0162 - accuracy: 0.9963 - val_loss: 1.9081 - val_accuracy: 0.5310\n",
      "Epoch 82/100\n",
      "5/5 [==============================] - 1s 107ms/step - loss: 0.0113 - accuracy: 0.9979 - val_loss: 1.8948 - val_accuracy: 0.5385\n",
      "Epoch 83/100\n",
      "5/5 [==============================] - 1s 109ms/step - loss: 0.0108 - accuracy: 0.9959 - val_loss: 1.8945 - val_accuracy: 0.5385\n",
      "Epoch 84/100\n",
      "5/5 [==============================] - 1s 110ms/step - loss: 0.0084 - accuracy: 0.9984 - val_loss: 1.9094 - val_accuracy: 0.5385\n",
      "Epoch 85/100\n",
      "5/5 [==============================] - 1s 171ms/step - loss: 0.0100 - accuracy: 0.9979 - val_loss: 1.9332 - val_accuracy: 0.5335\n",
      "Epoch 86/100\n",
      "5/5 [==============================] - 0s 84ms/step - loss: 0.0189 - accuracy: 0.9965 - val_loss: 1.9776 - val_accuracy: 0.5285\n",
      "Epoch 87/100\n",
      "5/5 [==============================] - 0s 89ms/step - loss: 0.0290 - accuracy: 0.9948 - val_loss: 1.9712 - val_accuracy: 0.5310\n",
      "Epoch 88/100\n",
      "5/5 [==============================] - 0s 94ms/step - loss: 0.0293 - accuracy: 0.9939 - val_loss: 1.9685 - val_accuracy: 0.5310\n",
      "Epoch 89/100\n",
      "5/5 [==============================] - 0s 89ms/step - loss: 0.0160 - accuracy: 0.9957 - val_loss: 1.9555 - val_accuracy: 0.5360\n",
      "Epoch 90/100\n",
      "5/5 [==============================] - 0s 97ms/step - loss: 0.0149 - accuracy: 0.9974 - val_loss: 1.9383 - val_accuracy: 0.5385\n",
      "Epoch 91/100\n",
      "5/5 [==============================] - 0s 94ms/step - loss: 0.0100 - accuracy: 0.9982 - val_loss: 1.9372 - val_accuracy: 0.5434\n",
      "Epoch 92/100\n",
      "5/5 [==============================] - 0s 106ms/step - loss: 0.0235 - accuracy: 0.9923 - val_loss: 1.9374 - val_accuracy: 0.5310\n",
      "Epoch 93/100\n",
      "5/5 [==============================] - 1s 107ms/step - loss: 0.0112 - accuracy: 0.9959 - val_loss: 1.9459 - val_accuracy: 0.5310\n",
      "Epoch 94/100\n",
      "5/5 [==============================] - 1s 127ms/step - loss: 0.0146 - accuracy: 0.9965 - val_loss: 1.9414 - val_accuracy: 0.5261\n",
      "Epoch 95/100\n",
      "5/5 [==============================] - 0s 99ms/step - loss: 0.0093 - accuracy: 0.9979 - val_loss: 1.9462 - val_accuracy: 0.5236\n",
      "Epoch 96/100\n",
      "5/5 [==============================] - 1s 109ms/step - loss: 0.0101 - accuracy: 0.9961 - val_loss: 1.9321 - val_accuracy: 0.5335\n",
      "Epoch 97/100\n",
      "5/5 [==============================] - 1s 106ms/step - loss: 0.0114 - accuracy: 0.9927 - val_loss: 1.9304 - val_accuracy: 0.5335\n",
      "Epoch 98/100\n",
      "5/5 [==============================] - 0s 89ms/step - loss: 0.0090 - accuracy: 0.9975 - val_loss: 1.9349 - val_accuracy: 0.5310\n",
      "Epoch 99/100\n",
      "5/5 [==============================] - 1s 119ms/step - loss: 0.0108 - accuracy: 0.9952 - val_loss: 1.9553 - val_accuracy: 0.5285\n",
      "Epoch 100/100\n",
      "5/5 [==============================] - 0s 105ms/step - loss: 0.0081 - accuracy: 0.9963 - val_loss: 2.0289 - val_accuracy: 0.5211\n"
     ]
    }
   ],
   "source": [
    "import pandas as pd\n",
    "\n",
    "hyper_parameters = {\n",
    "  \"epochs\": 100,\n",
    "  \"verbose\":True,\n",
    "  \"batch_size\": 200,\n",
    "  \"validation_data\": (X_test.to_numpy(), np.array(y_test.intents_onehot.tolist()))\n",
    "}\n",
    "\n",
    "\n",
    "nn_clf, history = train_nn(\n",
    "                X=X_train, \n",
    "                y=y_train,\n",
    "                **hyper_parameters\n",
    "          )"
   ]
  },
  {
   "cell_type": "code",
   "execution_count": 36,
   "id": "b9d6da9b",
   "metadata": {},
   "outputs": [
    {
     "name": "stderr",
     "output_type": "stream",
     "text": [
      "/usr/local/lib/python3.6/site-packages/tensorflow/python/keras/engine/sequential.py:450: UserWarning: `model.predict_classes()` is deprecated and will be removed after 2021-01-01. Please use instead:* `np.argmax(model.predict(x), axis=-1)`,   if your model does multi-class classification   (e.g. if it uses a `softmax` last-layer activation).* `(model.predict(x) > 0.5).astype(\"int32\")`,   if your model does binary classification   (e.g. if it uses a `sigmoid` last-layer activation).\n",
      "  warnings.warn('`model.predict_classes()` is deprecated and '\n"
     ]
    },
    {
     "data": {
      "text/plain": [
       "0.5210918114143921"
      ]
     },
     "execution_count": 36,
     "metadata": {},
     "output_type": "execute_result"
    }
   ],
   "source": [
    "y_pred = nn_clf.predict_classes(X_test.to_numpy());\n",
    "y_test_argmax = np.array([np.argmax(v) for v in y_test.intents_onehot.tolist()])\n",
    "np.sum((y_pred == y_test_argmax)) / y_test.shape[0]"
   ]
  },
  {
   "cell_type": "code",
   "execution_count": 38,
   "id": "36a760c1",
   "metadata": {},
   "outputs": [
    {
     "data": {
      "image/png": "[encoded data removed]",
      "text/plain": [
       "<Figure size 864x360 with 2 Axes>"
      ]
     },
     "metadata": {
      "needs_background": "light"
     },
     "output_type": "display_data"
    }
   ],
   "source": [
    "plot_history(history)"
   ]
  },
  {
   "cell_type": "markdown",
   "id": "f9ae8ad7-5407-4690-8e9b-01a0e1e1e25f",
   "metadata": {},
   "source": [
    "# Train pipeline"
   ]
  },
  {
   "cell_type": "code",
   "execution_count": 8,
   "id": "e2ac22d0",
   "metadata": {},
   "outputs": [],
   "source": [
    "from data_pipeline.data_preprocessing import clean\n",
    "\n",
    "class EnsembleModel:\n",
    "    def __init__(self, x_transformer, y_transformer, models=[]):\n",
    "        self.x_transformer = x_transformer\n",
    "        self.y_transformer = y_transformer\n",
    "        self.models = models\n",
    "        \n",
    "    def transform_input(self, sentence):\n",
    "        sentence = clean(sentence)\n",
    "        return self.x_transformer.transform([sentence])\n",
    "        \n",
    "    def predict(self, sentence):\n",
    "        vector = self.transform_input(sentence)\n",
    "        vector = vector.toarray()\n",
    "        pred = 0\n",
    "        sum_acc = 0\n",
    "        for model in self.models:\n",
    "            sum_acc += model[\"acc\"]\n",
    "            if model[\"type\"] != \"nn\":\n",
    "                pred += model[\"model\"].predict_proba(vector) * model[\"acc\"]\n",
    "            else:\n",
    "                pred += model[\"model\"].predict(vector) * model[\"acc\"]\n",
    "        return pred / sum_acc\n",
    "    \n",
    "        "
   ]
  },
  {
   "cell_type": "code",
   "execution_count": 9,
   "id": "06bc94bb-b11c-49ca-ac02-137e06552945",
   "metadata": {},
   "outputs": [],
   "source": [
    "def accuracy(model, X_test, y_test, nn=False):\n",
    "    if not nn:\n",
    "        y_pred = model.predict(X_test)\n",
    "        return np.sum((y_pred == y_test.intents)) / y_test.shape[0]\n",
    "    else:\n",
    "        y_pred = model.predict_classes(X_test.to_numpy());\n",
    "        y_test_argmax = np.array([np.argmax(v) for v in y_test.intents_onehot.tolist()])\n",
    "        nn_acc = np.sum((y_pred == y_test_argmax)) / y_test.shape[0]\n",
    "        return nn_acc\n",
    "\n",
    "def train_models(X_train, y_train, X_test, y_test):\n",
    "    models = []\n",
    "    svm_hyper_parameters = {\n",
    "          \"kernel\": \"poly\", \n",
    "          \"degree\": 1,\n",
    "          \"coef0\": 0,\n",
    "          \"random_state\": 42\n",
    "        }\n",
    "    logreg_hyper_parameters = {\n",
    "                \"multi_class\": \"multinomial\",\n",
    "                \"fit_intercept\": False,\n",
    "                \"C\": 5,\n",
    "                \"random_state\": 42,\n",
    "                \"max_iter\": 1000}\n",
    "    \n",
    "    nn_parameters = {\n",
    "      \"epochs\": 100,\n",
    "      \"verbose\":False,\n",
    "      \"batch_size\": 200,\n",
    "      \"validation_data\": (X_test.to_numpy(), np.array(y_test.intents_onehot.tolist()))\n",
    "    }\n",
    "\n",
    "    logreg_clf = train_logreg(\n",
    "                    X=X_train, \n",
    "                    y=y_train,\n",
    "                    **logreg_hyper_parameters\n",
    "                )\n",
    "    logreg_acc = accuracy(logreg_clf, X_test, y_test)\n",
    "    models.append({\"model\": logreg_clf,\n",
    "                   \"type\": \"logreg\",\n",
    "                   \"acc\": logreg_acc,\n",
    "                   \"hyper_parameters\": logreg_hyper_parameters})\n",
    "    \n",
    "    svm_clf = train_svm(\n",
    "                    X=X_train, \n",
    "                    y=y_train,\n",
    "                    **svm_hyper_parameters\n",
    "                )\n",
    "    svm_acc = accuracy(svm_clf, X_test, y_test)\n",
    "    models.append({\"model\": svm_clf,\n",
    "                   \"type\": \"svm\",\n",
    "                   \"acc\": svm_acc,\n",
    "                   \"hyper_parameters\": svm_hyper_parameters})\n",
    " \n",
    "    nn_clf, history = train_nn(\n",
    "                    X=X_train, \n",
    "                    y=y_train,\n",
    "                    **nn_parameters\n",
    "              )\n",
    "    nn_acc = accuracy(nn_clf, X_test, y_test, nn=True)\n",
    "    models.append({\"model\": nn_clf,\n",
    "                   \"type\": \"nn\",\n",
    "                   \"acc\": nn_acc,\n",
    "                   \"hyper_parameters\": nn_parameters})\n",
    "    \n",
    "    return models\n",
    "    \n",
    "    "
   ]
  },
  {
   "cell_type": "code",
   "execution_count": 10,
   "id": "e288f93e-dd95-477e-9713-f5b09d50faee",
   "metadata": {},
   "outputs": [
    {
     "ename": "NameError",
     "evalue": "name 'X_train' is not defined",
     "output_type": "error",
     "traceback": [
      "\u001b[0;31m---------------------------------------------------------------------------\u001b[0m",
      "\u001b[0;31mNameError\u001b[0m                                 Traceback (most recent call last)",
      "\u001b[0;32m<ipython-input-10-d1825577edf1>\u001b[0m in \u001b[0;36m<module>\u001b[0;34m\u001b[0m\n\u001b[0;32m----> 1\u001b[0;31m \u001b[0mmodels\u001b[0m \u001b[0;34m=\u001b[0m \u001b[0mtrain_models\u001b[0m\u001b[0;34m(\u001b[0m\u001b[0mX_train\u001b[0m\u001b[0;34m,\u001b[0m \u001b[0my_train\u001b[0m\u001b[0;34m,\u001b[0m \u001b[0mX_test\u001b[0m\u001b[0;34m,\u001b[0m \u001b[0my_test\u001b[0m\u001b[0;34m)\u001b[0m\u001b[0;34m\u001b[0m\u001b[0;34m\u001b[0m\u001b[0m\n\u001b[0m",
      "\u001b[0;31mNameError\u001b[0m: name 'X_train' is not defined"
     ]
    }
   ],
   "source": [
    "models = train_models(X_train, y_train, X_test, y_test)"
   ]
  },
  {
   "cell_type": "code",
   "execution_count": 92,
   "id": "74dff6c6",
   "metadata": {},
   "outputs": [],
   "source": [
    "ensemble = EnsembleModel(x_transformer, y_transformer, models)"
   ]
  },
  {
   "cell_type": "code",
   "execution_count": 89,
   "id": "21c50733",
   "metadata": {},
   "outputs": [],
   "source": [
    "sentence = \"quero adiantar meu 13º\""
   ]
  },
  {
   "cell_type": "code",
   "execution_count": 93,
   "id": "6633c836",
   "metadata": {},
   "outputs": [
    {
     "data": {
      "text/plain": [
       "array([[0.00286435, 0.00352983, 0.00273201, 0.00273833, 0.00304177,\n",
       "        0.00331954, 0.00212338, 0.00375717, 0.01406485, 0.18343378,\n",
       "        0.00526122, 0.00410387, 0.0024497 , 0.00248836, 0.00282622,\n",
       "        0.00392242, 0.00231839, 0.00350949, 0.00918173, 0.00215154,\n",
       "        0.00246486, 0.00863698, 0.00320888, 0.00299193, 0.00220595,\n",
       "        0.00275046, 0.00200682, 0.00570197, 0.0027013 , 0.00238169,\n",
       "        0.00212216, 0.00303504, 0.00290867, 0.00236846, 0.0020853 ,\n",
       "        0.00277708, 0.00366545, 0.00210542, 0.00481116, 0.002942  ,\n",
       "        0.00380532, 0.00324048, 0.00232877, 0.00238079, 0.00246991,\n",
       "        0.00470308, 0.00296681, 0.00209511, 0.00275142, 0.00245143,\n",
       "        0.00337355, 0.00263786, 0.00218536, 0.00356414, 0.00235487,\n",
       "        0.00220942, 0.00246989, 0.00280542, 0.00249975, 0.00227635,\n",
       "        0.00249584, 0.00236229, 0.00390367, 0.00320319, 0.00437282,\n",
       "        0.00420293, 0.00361153, 0.03933776, 0.00293288, 0.00275829,\n",
       "        0.00291953, 0.00352622, 0.00248737, 0.00415633, 0.00291403,\n",
       "        0.00257424, 0.00235696, 0.00578939, 0.00261498, 0.01736209,\n",
       "        0.0028806 , 0.00349018, 0.00213469, 0.0061547 , 0.00240636,\n",
       "        0.00236598, 0.00240444, 0.00249482, 0.0024881 , 0.00217942,\n",
       "        0.00268913, 0.00335785, 0.00329217, 0.00367152, 0.00306096,\n",
       "        0.00276485, 0.01202221, 0.00550311, 0.00874558, 0.00855141,\n",
       "        0.00208628, 0.00215919, 0.00220322, 0.00213324, 0.00484436,\n",
       "        0.00716586, 0.00357769, 0.00516362, 0.00456226, 0.00545951,\n",
       "        0.00408657, 0.00424359, 0.00205149, 0.00254115, 0.00213468,\n",
       "        0.00252487, 0.00217423, 0.00573323, 0.00234719, 0.00276952,\n",
       "        0.01500923, 0.00225961, 0.00241904, 0.00208654, 0.00341073,\n",
       "        0.00321857, 0.00234386, 0.00256582, 0.00288983, 0.00250739,\n",
       "        0.00201755, 0.00324846, 0.00818458, 0.00481758, 0.00374828,\n",
       "        0.00230386, 0.00206832, 0.00224347, 0.03966728, 0.00313775,\n",
       "        0.0031491 , 0.0020462 , 0.00195046, 0.00234926, 0.00364669,\n",
       "        0.00398981, 0.00238528, 0.0041484 , 0.0021013 , 0.00479731,\n",
       "        0.00210157, 0.00327789, 0.00225104, 0.00239985, 0.00300447,\n",
       "        0.00258622, 0.00253712, 0.00244206, 0.00488033, 0.00259734,\n",
       "        0.0023045 , 0.00223073, 0.00262255, 0.00469071, 0.00201887,\n",
       "        0.00316368, 0.00354311, 0.00349187, 0.00241013, 0.00191924,\n",
       "        0.00283392, 0.00275094, 0.09653569, 0.00243649, 0.00277988,\n",
       "        0.00300895, 0.00229668, 0.00226422, 0.00369421, 0.0046544 ,\n",
       "        0.00383294, 0.00193145, 0.00429142, 0.00346021, 0.00414738,\n",
       "        0.00283569, 0.00463462, 0.00221954, 0.00194695, 0.00249817]])"
      ]
     },
     "execution_count": 93,
     "metadata": {},
     "output_type": "execute_result"
    }
   ],
   "source": [
    "ensemble.predict(sentence)"
   ]
  },
  {
   "cell_type": "markdown",
   "id": "93b704b9-5e0c-4a2b-897f-d2866f947daa",
   "metadata": {},
   "source": [
    "# Prefect"
   ]
  },
  {
   "cell_type": "code",
   "execution_count": 11,
   "id": "e84b4669-5305-4f92-8b14-7a955cd964c1",
   "metadata": {},
   "outputs": [
    {
     "data": {
      "text/plain": [
       "True"
      ]
     },
     "execution_count": 11,
     "metadata": {},
     "output_type": "execute_result"
    }
   ],
   "source": [
    "import os\n",
    "\n",
    "# setting working dir\n",
    "os.chdir(\"../src\")\n",
    "\n",
    "from prefect import Flow, task, context\n",
    "import numpy as np\n",
    "\n",
    "from data_pipeline.data_sourcing import get_data\n",
    "from data_pipeline.data_preprocessing import fill_missing_examples, clean_examples\n",
    "from data_pipeline.feature_extracting import encode_features\n",
    "from data_pipeline.data_splitting import split\n",
    "from elasticsearch_db.elasticsearch import elastic_conection\n",
    "from elasticsearch_db.elasticsearch import get_nlp_model\n",
    "\n",
    "es = elastic_conection()\n",
    "workspace_id = \"dc1e7b3d-9137-4a20-a99c-d0d2029ef170\"\n",
    "workspace, exist = get_nlp_model(es, workspace_id=workspace_id)\n",
    "exist"
   ]
  },
  {
   "cell_type": "code",
   "execution_count": 14,
   "id": "04a30874-1902-4d1b-a530-0f23507a178f",
   "metadata": {},
   "outputs": [],
   "source": [
    "@task\n",
    "def sourcing(workspace, es):\n",
    "    \n",
    "    return get_data(\n",
    "                workspace=workspace, \n",
    "                es=es\n",
    "            )\n",
    "\n",
    "# @task\n",
    "# def imputation(df):\n",
    "    \n",
    "#     return fill_missing_examples(df)\n",
    "\n",
    "@task\n",
    "def cleansing(df):\n",
    "\n",
    "    return clean_examples(df)\n",
    "\n",
    "@task(nout=3)\n",
    "def encoding(df):\n",
    "    \n",
    "    return encode_features(df)\n",
    "\n",
    "@task(nout=4)\n",
    "def splitting(df):\n",
    "\n",
    "    return split(df)\n",
    "\n",
    "@task\n",
    "def training(X_train, y_train, X_test, y_test, x_transformer, y_transformer):\n",
    "    models = train_models(X_train, y_train, X_test, y_test)\n",
    "    ensemble = EnsembleModel(x_transformer, y_transformer, models)\n",
    "    return ensemble\n",
    "\n",
    "@task\n",
    "def save_model(ensemble):\n",
    "    pass\n"
   ]
  },
  {
   "cell_type": "code",
   "execution_count": 15,
   "id": "a7ea3fd3-6302-46e6-90a9-9fa2bdb27691",
   "metadata": {},
   "outputs": [],
   "source": [
    "# Define prefect flow\n",
    "with Flow(\"train_dataflow\") as flow:\n",
    "\n",
    "    df = sourcing(workspace=workspace, es=es)\n",
    "    df = cleansing(df=df)\n",
    "    df, x_transformer, y_transformer = encoding(df=df)\n",
    "    X_train, X_test, y_train, y_test = splitting(df=df)\n",
    "    ensemble = training(X_train, y_train, X_test, y_test, x_transformer, y_transformer)\n",
    "    save_model(ensemble)"
   ]
  },
  {
   "cell_type": "code",
   "execution_count": 16,
   "id": "c659cdfd-f058-440a-a250-f7452b086456",
   "metadata": {},
   "outputs": [
    {
     "name": "stdout",
     "output_type": "stream",
     "text": [
      "[2021-05-22 16:33:16+0000] INFO - prefect.FlowRunner | Beginning Flow run for 'train_dataflow'\n",
      "[2021-05-22 16:33:16+0000] INFO - prefect.TaskRunner | Task 'sourcing': Starting task run...\n",
      "[2021-05-22 16:33:16+0000] INFO - prefect.TaskRunner | Task 'sourcing': Finished task run for task with final state: 'Success'\n",
      "[2021-05-22 16:33:17+0000] INFO - prefect.TaskRunner | Task 'cleansing': Starting task run...\n",
      "[2021-05-22 16:33:18+0000] INFO - prefect.TaskRunner | Task 'cleansing': Finished task run for task with final state: 'Success'\n",
      "[2021-05-22 16:33:18+0000] INFO - prefect.TaskRunner | Task 'encoding': Starting task run...\n",
      "[2021-05-22 16:33:18+0000] INFO - prefect.TaskRunner | Task 'encoding': Finished task run for task with final state: 'Success'\n",
      "[2021-05-22 16:33:18+0000] INFO - prefect.TaskRunner | Task 'encoding[1]': Starting task run...\n",
      "[2021-05-22 16:33:18+0000] INFO - prefect.TaskRunner | Task 'encoding[1]': Finished task run for task with final state: 'Success'\n",
      "[2021-05-22 16:33:18+0000] INFO - prefect.TaskRunner | Task 'encoding[2]': Starting task run...\n",
      "[2021-05-22 16:33:18+0000] INFO - prefect.TaskRunner | Task 'encoding[2]': Finished task run for task with final state: 'Success'\n",
      "[2021-05-22 16:33:18+0000] INFO - prefect.TaskRunner | Task 'encoding[0]': Starting task run...\n",
      "[2021-05-22 16:33:18+0000] INFO - prefect.TaskRunner | Task 'encoding[0]': Finished task run for task with final state: 'Success'\n",
      "[2021-05-22 16:33:18+0000] INFO - prefect.TaskRunner | Task 'splitting': Starting task run...\n",
      "[2021-05-22 16:33:18+0000] INFO - prefect.TaskRunner | Task 'splitting': Finished task run for task with final state: 'Success'\n",
      "[2021-05-22 16:33:18+0000] INFO - prefect.TaskRunner | Task 'splitting[1]': Starting task run...\n",
      "[2021-05-22 16:33:18+0000] INFO - prefect.TaskRunner | Task 'splitting[1]': Finished task run for task with final state: 'Success'\n",
      "[2021-05-22 16:33:18+0000] INFO - prefect.TaskRunner | Task 'splitting[2]': Starting task run...\n",
      "[2021-05-22 16:33:18+0000] INFO - prefect.TaskRunner | Task 'splitting[2]': Finished task run for task with final state: 'Success'\n",
      "[2021-05-22 16:33:18+0000] INFO - prefect.TaskRunner | Task 'splitting[3]': Starting task run...\n",
      "[2021-05-22 16:33:18+0000] INFO - prefect.TaskRunner | Task 'splitting[3]': Finished task run for task with final state: 'Success'\n",
      "[2021-05-22 16:33:18+0000] INFO - prefect.TaskRunner | Task 'splitting[0]': Starting task run...\n",
      "[2021-05-22 16:33:18+0000] INFO - prefect.TaskRunner | Task 'splitting[0]': Finished task run for task with final state: 'Success'\n",
      "[2021-05-22 16:33:18+0000] INFO - prefect.TaskRunner | Task 'training': Starting task run...\n",
      "[2021-05-22 16:33:26+0000] ERROR - prefect.TaskRunner | Unexpected error: AttributeError(\"'DataFrame' object has no attribute 'intents'\",)\n",
      "Traceback (most recent call last):\n",
      "  File \"/usr/local/lib/python3.6/site-packages/prefect/engine/runner.py\", line 48, in inner\n",
      "    new_state = method(self, state, *args, **kwargs)\n",
      "  File \"/usr/local/lib/python3.6/site-packages/prefect/engine/task_runner.py\", line 869, in get_task_run_state\n",
      "    logger=self.logger,\n",
      "  File \"/usr/local/lib/python3.6/site-packages/prefect/utilities/executors.py\", line 299, in run_task_with_timeout\n",
      "    return task.run(*args, **kwargs)  # type: ignore\n",
      "  File \"<ipython-input-14-a8bd85ba4928>\", line 31, in training\n",
      "    models = train_models(X_train, y_train, X_test, y_test)\n",
      "  File \"<ipython-input-9-83cd0b298c50>\", line 58, in train_models\n",
      "    **nn_parameters\n",
      "  File \"<ipython-input-5-935a5cde5dad>\", line 45, in train_nn\n",
      "    number_of_intent_classes = X.intents.nunique()\n",
      "  File \"/usr/local/lib/python3.6/site-packages/pandas/core/generic.py\", line 5139, in __getattr__\n",
      "    return object.__getattribute__(self, name)\n",
      "AttributeError: 'DataFrame' object has no attribute 'intents'\n",
      "[2021-05-22 16:33:26+0000] INFO - prefect.TaskRunner | Task 'training': Finished task run for task with final state: 'Failed'\n",
      "[2021-05-22 16:33:26+0000] INFO - prefect.TaskRunner | Task 'save_model': Starting task run...\n",
      "[2021-05-22 16:33:26+0000] INFO - prefect.TaskRunner | Task 'save_model': Finished task run for task with final state: 'TriggerFailed'\n",
      "[2021-05-22 16:33:26+0000] INFO - prefect.FlowRunner | Flow run FAILED: some reference tasks failed.\n"
     ]
    },
    {
     "data": {
      "image/svg+xml": [
       "<?xml version=\"1.0\" encoding=\"UTF-8\" standalone=\"no\"?>\n",
       "<!DOCTYPE svg PUBLIC \"-//W3C//DTD SVG 1.1//EN\"\n",
       " \"http://www.w3.org/Graphics/SVG/1.1/DTD/svg11.dtd\">\n",
       "<!-- Generated by graphviz version 2.40.1 (20161225.0304)\n",
       " -->\n",
       "<!-- Title: %3 Pages: 1 -->\n",
       "<svg width=\"755pt\" height=\"695pt\"\n",
       " viewBox=\"0.00 0.00 755.04 695.00\" xmlns=\"http://www.w3.org/2000/svg\" xmlns:xlink=\"http://www.w3.org/1999/xlink\">\n",
       "<g id=\"graph0\" class=\"graph\" transform=\"scale(1 1) rotate(0) translate(4 691)\">\n",
       "<title>%3</title>\n",
       "<polygon fill=\"#ffffff\" stroke=\"transparent\" points=\"-4,4 -4,-691 751.0386,-691 751.0386,4 -4,4\"/>\n",
       "<!-- 140641070128376 -->\n",
       "<g id=\"node1\" class=\"node\">\n",
       "<title>140641070128376</title>\n",
       "<ellipse fill=\"none\" stroke=\"#000000\" cx=\"65.6442\" cy=\"-354\" rx=\"65.7887\" ry=\"18\"/>\n",
       "<text text-anchor=\"middle\" x=\"65.6442\" y=\"-350.3\" font-family=\"Times,serif\" font-size=\"14.00\" fill=\"#000000\">encoding[1]</text>\n",
       "</g>\n",
       "<!-- 140641069828024 -->\n",
       "<g id=\"node12\" class=\"node\">\n",
       "<title>140641069828024</title>\n",
       "<ellipse fill=\"none\" stroke=\"#000000\" cx=\"307.6442\" cy=\"-105\" rx=\"48.1917\" ry=\"18\"/>\n",
       "<text text-anchor=\"middle\" x=\"307.6442\" y=\"-101.3\" font-family=\"Times,serif\" font-size=\"14.00\" fill=\"#000000\">training</text>\n",
       "</g>\n",
       "<!-- 140641070128376&#45;&gt;140641069828024 -->\n",
       "<g id=\"edge3\" class=\"edge\">\n",
       "<title>140641070128376&#45;&gt;140641069828024</title>\n",
       "<path fill=\"none\" stroke=\"#000000\" d=\"M51.7331,-336.3337C34.2267,-311.8351 8.1051,-266.2407 22.6442,-228 41.4193,-178.6177 56.7842,-165.3979 103.6442,-141 128.69,-127.9597 199.7673,-117.3719 250.9804,-111.1343\"/>\n",
       "<polygon fill=\"#000000\" stroke=\"#000000\" points=\"251.4241,-114.6063 260.9387,-109.9454 250.5942,-107.6557 251.4241,-114.6063\"/>\n",
       "<text text-anchor=\"middle\" x=\"74.1442\" y=\"-242.3\" font-family=\"Times,serif\" font-size=\"14.00\" fill=\"#000000\">x_transformer</text>\n",
       "</g>\n",
       "<!-- 140641069827296 -->\n",
       "<g id=\"node2\" class=\"node\">\n",
       "<title>140641069827296</title>\n",
       "<ellipse fill=\"none\" stroke=\"#000000\" cx=\"255.6442\" cy=\"-192\" rx=\"62.2891\" ry=\"18\"/>\n",
       "<text text-anchor=\"middle\" x=\"255.6442\" y=\"-188.3\" font-family=\"Times,serif\" font-size=\"14.00\" fill=\"#000000\">splitting[3]</text>\n",
       "</g>\n",
       "<!-- 140641069827296&#45;&gt;140641069828024 -->\n",
       "<g id=\"edge2\" class=\"edge\">\n",
       "<title>140641069827296&#45;&gt;140641069828024</title>\n",
       "<path fill=\"none\" stroke=\"#000000\" d=\"M266.4186,-173.9735C273.7883,-161.6435 283.6778,-145.0975 291.9234,-131.3021\"/>\n",
       "<polygon fill=\"#000000\" stroke=\"#000000\" points=\"294.9352,-133.085 297.0615,-122.7057 288.9267,-129.4937 294.9352,-133.085\"/>\n",
       "<text text-anchor=\"middle\" x=\"306.6442\" y=\"-144.8\" font-family=\"Times,serif\" font-size=\"14.00\" fill=\"#000000\">y_test</text>\n",
       "</g>\n",
       "<!-- 140641070128600 -->\n",
       "<g id=\"node3\" class=\"node\">\n",
       "<title>140641070128600</title>\n",
       "<ellipse fill=\"none\" stroke=\"#000000\" cx=\"200.6442\" cy=\"-246\" rx=\"65.7887\" ry=\"18\"/>\n",
       "<text text-anchor=\"middle\" x=\"200.6442\" y=\"-242.3\" font-family=\"Times,serif\" font-size=\"14.00\" fill=\"#000000\">encoding[2]</text>\n",
       "</g>\n",
       "<!-- 140641070128600&#45;&gt;140641069828024 -->\n",
       "<g id=\"edge17\" class=\"edge\">\n",
       "<title>140641070128600&#45;&gt;140641069828024</title>\n",
       "<path fill=\"none\" stroke=\"#000000\" d=\"M153.9077,-233.2428C121.5825,-224.1969 83.9678,-213.1306 81.6442,-210 72.1081,-197.1523 72.1245,-186.8599 81.6442,-174 102.1508,-146.298 193.1018,-125.2351 253.1883,-114.0303\"/>\n",
       "<polygon fill=\"#000000\" stroke=\"#000000\" points=\"254.0789,-117.4256 263.287,-112.1852 252.8208,-110.5396 254.0789,-117.4256\"/>\n",
       "<text text-anchor=\"middle\" x=\"133.1442\" y=\"-188.3\" font-family=\"Times,serif\" font-size=\"14.00\" fill=\"#000000\">y_transformer</text>\n",
       "</g>\n",
       "<!-- 140641070127368 -->\n",
       "<g id=\"node4\" class=\"node\">\n",
       "<title>140641070127368</title>\n",
       "<ellipse fill=\"none\" stroke=\"#000000\" cx=\"381.6442\" cy=\"-408\" rx=\"65.7887\" ry=\"18\"/>\n",
       "<text text-anchor=\"middle\" x=\"381.6442\" y=\"-404.3\" font-family=\"Times,serif\" font-size=\"14.00\" fill=\"#000000\">encoding[0]</text>\n",
       "</g>\n",
       "<!-- 140641070128880 -->\n",
       "<g id=\"node9\" class=\"node\">\n",
       "<title>140641070128880</title>\n",
       "<ellipse fill=\"none\" stroke=\"#000000\" cx=\"398.6442\" cy=\"-300\" rx=\"50.0912\" ry=\"18\"/>\n",
       "<text text-anchor=\"middle\" x=\"398.6442\" y=\"-296.3\" font-family=\"Times,serif\" font-size=\"14.00\" fill=\"#000000\">splitting</text>\n",
       "</g>\n",
       "<!-- 140641070127368&#45;&gt;140641070128880 -->\n",
       "<g id=\"edge1\" class=\"edge\">\n",
       "<title>140641070127368&#45;&gt;140641070128880</title>\n",
       "<path fill=\"none\" stroke=\"#000000\" d=\"M384.528,-389.6793C387.1816,-372.821 391.1571,-347.5651 394.2136,-328.147\"/>\n",
       "<polygon fill=\"#000000\" stroke=\"#000000\" points=\"397.7054,-328.4728 395.8029,-318.0502 390.7905,-327.3843 397.7054,-328.4728\"/>\n",
       "<text text-anchor=\"middle\" x=\"400.1442\" y=\"-350.3\" font-family=\"Times,serif\" font-size=\"14.00\" fill=\"#000000\">df</text>\n",
       "</g>\n",
       "<!-- 140641070127816 -->\n",
       "<g id=\"node5\" class=\"node\">\n",
       "<title>140641070127816</title>\n",
       "<ellipse fill=\"none\" stroke=\"#000000\" cx=\"200.6442\" cy=\"-582\" rx=\"55.4913\" ry=\"18\"/>\n",
       "<text text-anchor=\"middle\" x=\"200.6442\" y=\"-578.3\" font-family=\"Times,serif\" font-size=\"14.00\" fill=\"#000000\">cleansing</text>\n",
       "</g>\n",
       "<!-- 140641070127480 -->\n",
       "<g id=\"node13\" class=\"node\">\n",
       "<title>140641070127480</title>\n",
       "<ellipse fill=\"none\" stroke=\"#000000\" cx=\"200.6442\" cy=\"-495\" rx=\"53.0913\" ry=\"18\"/>\n",
       "<text text-anchor=\"middle\" x=\"200.6442\" y=\"-491.3\" font-family=\"Times,serif\" font-size=\"14.00\" fill=\"#000000\">encoding</text>\n",
       "</g>\n",
       "<!-- 140641070127816&#45;&gt;140641070127480 -->\n",
       "<g id=\"edge15\" class=\"edge\">\n",
       "<title>140641070127816&#45;&gt;140641070127480</title>\n",
       "<path fill=\"none\" stroke=\"#000000\" d=\"M200.6442,-563.9735C200.6442,-552.1918 200.6442,-536.5607 200.6442,-523.1581\"/>\n",
       "<polygon fill=\"#000000\" stroke=\"#000000\" points=\"204.1443,-523.0033 200.6442,-513.0034 197.1443,-523.0034 204.1443,-523.0033\"/>\n",
       "<text text-anchor=\"middle\" x=\"208.1442\" y=\"-534.8\" font-family=\"Times,serif\" font-size=\"14.00\" fill=\"#000000\">df</text>\n",
       "</g>\n",
       "<!-- 140641069826120 -->\n",
       "<g id=\"node6\" class=\"node\">\n",
       "<title>140641069826120</title>\n",
       "<ellipse fill=\"none\" stroke=\"#000000\" cx=\"398.6442\" cy=\"-192\" rx=\"62.2891\" ry=\"18\"/>\n",
       "<text text-anchor=\"middle\" x=\"398.6442\" y=\"-188.3\" font-family=\"Times,serif\" font-size=\"14.00\" fill=\"#000000\">splitting[0]</text>\n",
       "</g>\n",
       "<!-- 140641069826120&#45;&gt;140641069828024 -->\n",
       "<g id=\"edge8\" class=\"edge\">\n",
       "<title>140641069826120&#45;&gt;140641069828024</title>\n",
       "<path fill=\"none\" stroke=\"#000000\" d=\"M380.229,-174.3943C366.6075,-161.3715 347.8941,-143.4807 332.8802,-129.1268\"/>\n",
       "<polygon fill=\"#000000\" stroke=\"#000000\" points=\"335.0595,-126.3681 325.4127,-121.9875 330.2222,-131.4278 335.0595,-126.3681\"/>\n",
       "<text text-anchor=\"middle\" x=\"384.1442\" y=\"-144.8\" font-family=\"Times,serif\" font-size=\"14.00\" fill=\"#000000\">X_train</text>\n",
       "</g>\n",
       "<!-- 140641069829816 -->\n",
       "<g id=\"node7\" class=\"node\">\n",
       "<title>140641069829816</title>\n",
       "<ellipse fill=\"none\" stroke=\"#000000\" cx=\"307.6442\" cy=\"-18\" rx=\"64.9885\" ry=\"18\"/>\n",
       "<text text-anchor=\"middle\" x=\"307.6442\" y=\"-14.3\" font-family=\"Times,serif\" font-size=\"14.00\" fill=\"#000000\">save_model</text>\n",
       "</g>\n",
       "<!-- 140641070126416 -->\n",
       "<g id=\"node8\" class=\"node\">\n",
       "<title>140641070126416</title>\n",
       "<ellipse fill=\"none\" stroke=\"#000000\" cx=\"200.6442\" cy=\"-669\" rx=\"51.1914\" ry=\"18\"/>\n",
       "<text text-anchor=\"middle\" x=\"200.6442\" y=\"-665.3\" font-family=\"Times,serif\" font-size=\"14.00\" fill=\"#000000\">sourcing</text>\n",
       "</g>\n",
       "<!-- 140641070126416&#45;&gt;140641070127816 -->\n",
       "<g id=\"edge9\" class=\"edge\">\n",
       "<title>140641070126416&#45;&gt;140641070127816</title>\n",
       "<path fill=\"none\" stroke=\"#000000\" d=\"M200.6442,-650.9735C200.6442,-639.1918 200.6442,-623.5607 200.6442,-610.1581\"/>\n",
       "<polygon fill=\"#000000\" stroke=\"#000000\" points=\"204.1443,-610.0033 200.6442,-600.0034 197.1443,-610.0034 204.1443,-610.0033\"/>\n",
       "<text text-anchor=\"middle\" x=\"208.1442\" y=\"-621.8\" font-family=\"Times,serif\" font-size=\"14.00\" fill=\"#000000\">df</text>\n",
       "</g>\n",
       "<!-- 140641070128880&#45;&gt;140641069827296 -->\n",
       "<g id=\"edge13\" class=\"edge\">\n",
       "<title>140641070128880&#45;&gt;140641069827296</title>\n",
       "<path fill=\"none\" stroke=\"#000000\" d=\"M360.115,-288.2719C344.7443,-282.465 327.4578,-274.4284 313.6442,-264 297.0454,-251.469 282.3911,-233.1784 271.965,-218.1685\"/>\n",
       "<polygon fill=\"#000000\" stroke=\"#000000\" points=\"274.8121,-216.13 266.3322,-209.7784 269.0003,-220.0318 274.8121,-216.13\"/>\n",
       "<text text-anchor=\"middle\" x=\"354.1442\" y=\"-242.3\" font-family=\"Times,serif\" font-size=\"14.00\" fill=\"#000000\">task_result</text>\n",
       "</g>\n",
       "<!-- 140641070128880&#45;&gt;140641069826120 -->\n",
       "<g id=\"edge7\" class=\"edge\">\n",
       "<title>140641070128880&#45;&gt;140641069826120</title>\n",
       "<path fill=\"none\" stroke=\"#000000\" d=\"M398.6442,-281.6793C398.6442,-264.821 398.6442,-239.5651 398.6442,-220.147\"/>\n",
       "<polygon fill=\"#000000\" stroke=\"#000000\" points=\"402.1443,-220.0501 398.6442,-210.0502 395.1443,-220.0502 402.1443,-220.0501\"/>\n",
       "<text text-anchor=\"middle\" x=\"439.1442\" y=\"-242.3\" font-family=\"Times,serif\" font-size=\"14.00\" fill=\"#000000\">task_result</text>\n",
       "</g>\n",
       "<!-- 140641069826736 -->\n",
       "<g id=\"node10\" class=\"node\">\n",
       "<title>140641069826736</title>\n",
       "<ellipse fill=\"none\" stroke=\"#000000\" cx=\"541.6442\" cy=\"-192\" rx=\"62.2891\" ry=\"18\"/>\n",
       "<text text-anchor=\"middle\" x=\"541.6442\" y=\"-188.3\" font-family=\"Times,serif\" font-size=\"14.00\" fill=\"#000000\">splitting[1]</text>\n",
       "</g>\n",
       "<!-- 140641070128880&#45;&gt;140641069826736 -->\n",
       "<g id=\"edge5\" class=\"edge\">\n",
       "<title>140641070128880&#45;&gt;140641069826736</title>\n",
       "<path fill=\"none\" stroke=\"#000000\" d=\"M437.1733,-288.2719C452.544,-282.465 469.8306,-274.4284 483.6442,-264 500.2429,-251.469 514.8973,-233.1784 525.3233,-218.1685\"/>\n",
       "<polygon fill=\"#000000\" stroke=\"#000000\" points=\"528.288,-220.0318 530.9561,-209.7784 522.4763,-216.13 528.288,-220.0318\"/>\n",
       "<text text-anchor=\"middle\" x=\"557.1442\" y=\"-242.3\" font-family=\"Times,serif\" font-size=\"14.00\" fill=\"#000000\">task_result</text>\n",
       "</g>\n",
       "<!-- 140641069826960 -->\n",
       "<g id=\"node11\" class=\"node\">\n",
       "<title>140641069826960</title>\n",
       "<ellipse fill=\"none\" stroke=\"#000000\" cx=\"684.6442\" cy=\"-192\" rx=\"62.2891\" ry=\"18\"/>\n",
       "<text text-anchor=\"middle\" x=\"684.6442\" y=\"-188.3\" font-family=\"Times,serif\" font-size=\"14.00\" fill=\"#000000\">splitting[2]</text>\n",
       "</g>\n",
       "<!-- 140641070128880&#45;&gt;140641069826960 -->\n",
       "<g id=\"edge6\" class=\"edge\">\n",
       "<title>140641070128880&#45;&gt;140641069826960</title>\n",
       "<path fill=\"none\" stroke=\"#000000\" d=\"M446.3303,-294.5221C497.4346,-288.1292 574.8297,-276.789 601.6442,-264 625.1708,-252.7792 647.2286,-233.0244 662.6831,-217.0425\"/>\n",
       "<polygon fill=\"#000000\" stroke=\"#000000\" points=\"665.4218,-219.239 669.7169,-209.5538 660.3195,-214.4466 665.4218,-219.239\"/>\n",
       "<text text-anchor=\"middle\" x=\"690.1442\" y=\"-242.3\" font-family=\"Times,serif\" font-size=\"14.00\" fill=\"#000000\">task_result</text>\n",
       "</g>\n",
       "<!-- 140641069826736&#45;&gt;140641069828024 -->\n",
       "<g id=\"edge16\" class=\"edge\">\n",
       "<title>140641069826736&#45;&gt;140641069828024</title>\n",
       "<path fill=\"none\" stroke=\"#000000\" d=\"M506.2724,-177.1629C480.9109,-166.6803 445.8547,-152.5063 414.6442,-141 394.9126,-133.7256 372.9246,-126.225 354.0379,-119.9656\"/>\n",
       "<polygon fill=\"#000000\" stroke=\"#000000\" points=\"355.0655,-116.6191 344.4724,-116.8133 352.8745,-123.2674 355.0655,-116.6191\"/>\n",
       "<text text-anchor=\"middle\" x=\"475.6442\" y=\"-144.8\" font-family=\"Times,serif\" font-size=\"14.00\" fill=\"#000000\">X_test</text>\n",
       "</g>\n",
       "<!-- 140641069826960&#45;&gt;140641069828024 -->\n",
       "<g id=\"edge10\" class=\"edge\">\n",
       "<title>140641069826960&#45;&gt;140641069828024</title>\n",
       "<path fill=\"none\" stroke=\"#000000\" d=\"M641.9027,-178.839C605.1983,-167.8223 550.7529,-152.1571 502.6442,-141 455.4426,-130.0533 401.1996,-120.2615 361.9259,-113.6637\"/>\n",
       "<polygon fill=\"#000000\" stroke=\"#000000\" points=\"362.4636,-110.2051 352.0245,-112.0147 361.3136,-117.11 362.4636,-110.2051\"/>\n",
       "<text text-anchor=\"middle\" x=\"583.1442\" y=\"-144.8\" font-family=\"Times,serif\" font-size=\"14.00\" fill=\"#000000\">y_train</text>\n",
       "</g>\n",
       "<!-- 140641069828024&#45;&gt;140641069829816 -->\n",
       "<g id=\"edge14\" class=\"edge\">\n",
       "<title>140641069828024&#45;&gt;140641069829816</title>\n",
       "<path fill=\"none\" stroke=\"#000000\" d=\"M307.6442,-86.9735C307.6442,-75.1918 307.6442,-59.5607 307.6442,-46.1581\"/>\n",
       "<polygon fill=\"#000000\" stroke=\"#000000\" points=\"311.1443,-46.0033 307.6442,-36.0034 304.1443,-46.0034 311.1443,-46.0033\"/>\n",
       "<text text-anchor=\"middle\" x=\"342.1442\" y=\"-57.8\" font-family=\"Times,serif\" font-size=\"14.00\" fill=\"#000000\">ensemble</text>\n",
       "</g>\n",
       "<!-- 140641070127480&#45;&gt;140641070128376 -->\n",
       "<g id=\"edge12\" class=\"edge\">\n",
       "<title>140641070127480&#45;&gt;140641070128376</title>\n",
       "<path fill=\"none\" stroke=\"#000000\" d=\"M154.1593,-485.8568C137.0876,-480.4909 118.7509,-472.0837 105.6442,-459 84.8127,-438.205 74.6416,-405.4456 69.8011,-382.0502\"/>\n",
       "<polygon fill=\"#000000\" stroke=\"#000000\" points=\"73.2077,-381.2251 67.9331,-372.0366 66.3264,-382.5088 73.2077,-381.2251\"/>\n",
       "<text text-anchor=\"middle\" x=\"146.1442\" y=\"-447.8\" font-family=\"Times,serif\" font-size=\"14.00\" fill=\"#000000\">task_result</text>\n",
       "</g>\n",
       "<!-- 140641070127480&#45;&gt;140641070128600 -->\n",
       "<g id=\"edge11\" class=\"edge\">\n",
       "<title>140641070127480&#45;&gt;140641070128600</title>\n",
       "<path fill=\"none\" stroke=\"#000000\" d=\"M200.6442,-476.6904C200.6442,-433.5957 200.6442,-325.5283 200.6442,-274.0767\"/>\n",
       "<polygon fill=\"#000000\" stroke=\"#000000\" points=\"204.1443,-274.0005 200.6442,-264.0006 197.1443,-274.0006 204.1443,-274.0005\"/>\n",
       "<text text-anchor=\"middle\" x=\"241.1442\" y=\"-404.3\" font-family=\"Times,serif\" font-size=\"14.00\" fill=\"#000000\">task_result</text>\n",
       "</g>\n",
       "<!-- 140641070127480&#45;&gt;140641070127368 -->\n",
       "<g id=\"edge4\" class=\"edge\">\n",
       "<title>140641070127480&#45;&gt;140641070127368</title>\n",
       "<path fill=\"none\" stroke=\"#000000\" d=\"M231.3484,-480.2416C261.0909,-465.9455 306.4298,-444.1527 339.533,-428.2413\"/>\n",
       "<polygon fill=\"#000000\" stroke=\"#000000\" points=\"341.455,-431.2008 348.9516,-423.7141 338.4224,-424.8918 341.455,-431.2008\"/>\n",
       "<text text-anchor=\"middle\" x=\"342.1442\" y=\"-447.8\" font-family=\"Times,serif\" font-size=\"14.00\" fill=\"#000000\">task_result</text>\n",
       "</g>\n",
       "</g>\n",
       "</svg>\n"
      ],
      "text/plain": [
       "<graphviz.dot.Digraph at 0x7fe98d04ff28>"
      ]
     },
     "execution_count": 16,
     "metadata": {},
     "output_type": "execute_result"
    }
   ],
   "source": [
    "# Run prefect flow\n",
    "flow.run()\n",
    "\n",
    "# Export flow as a PDF\n",
    "flow.visualize(filename=\"../src/data_pipeline/flow_diagrams/train_dataflow\")"
   ]
  },
  {
   "cell_type": "code",
   "execution_count": null,
   "id": "59c9623a-36cf-4c86-9048-fbeec2f5a173",
   "metadata": {},
   "outputs": [],
   "source": []
  }
 ],
 "metadata": {
  "kernelspec": {
   "display_name": "Python 3",
   "language": "python",
   "name": "python3"
  },
  "language_info": {
   "codemirror_mode": {
    "name": "ipython",
    "version": 3
   },
   "file_extension": ".py",
   "mimetype": "text/x-python",
   "name": "python",
   "nbconvert_exporter": "python",
   "pygments_lexer": "ipython3",
   "version": "3.6.13"
  }
 },
 "nbformat": 4,
 "nbformat_minor": 5
}
