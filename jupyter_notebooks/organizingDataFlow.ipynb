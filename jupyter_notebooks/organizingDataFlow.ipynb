{
 "cells": [
  {
   "cell_type": "markdown",
   "id": "466a39b1",
   "metadata": {},
   "source": [
    "# Connecting"
   ]
  },
  {
   "cell_type": "code",
   "execution_count": 1,
   "id": "ef4e19ea",
   "metadata": {},
   "outputs": [],
   "source": [
    "import os\n",
    "\n",
    "# setting working dir\n",
    "os.chdir(\"../src\")"
   ]
  },
  {
   "cell_type": "code",
   "execution_count": 2,
   "id": "fe8848e9",
   "metadata": {},
   "outputs": [],
   "source": [
    "from elasticsearch_db.elasticsearch import elastic_conection\n",
    "from elasticsearch_db.elasticsearch import get_nlp_model\n",
    "\n",
    "es = elastic_conection()"
   ]
  },
  {
   "cell_type": "code",
   "execution_count": 3,
   "id": "839079b1",
   "metadata": {},
   "outputs": [
    {
     "data": {
      "text/plain": [
       "True"
      ]
     },
     "execution_count": 3,
     "metadata": {},
     "output_type": "execute_result"
    }
   ],
   "source": [
    "workspace_id = \"dc1e7b3d-9137-4a20-a99c-d0d2029ef170\"\n",
    "workspace, exist = get_nlp_model(es, workspace_id=workspace_id)\n",
    "exist"
   ]
  },
  {
   "cell_type": "markdown",
   "id": "28f5eedf",
   "metadata": {},
   "source": [
    "# Data Sourcing"
   ]
  },
  {
   "cell_type": "code",
   "execution_count": 4,
   "id": "18bf9abb",
   "metadata": {},
   "outputs": [
    {
     "data": {
      "text/plain": [
       "\u001b[0;31mSignature:\u001b[0m \u001b[0mget_data\u001b[0m\u001b[0;34m(\u001b[0m\u001b[0mworkspace\u001b[0m\u001b[0;34m,\u001b[0m \u001b[0mes\u001b[0m\u001b[0;34m)\u001b[0m\u001b[0;34m\u001b[0m\u001b[0;34m\u001b[0m\u001b[0m\n",
       "\u001b[0;31mDocstring:\u001b[0m\n",
       "Get all the intents in the elasticsearch\n",
       "workspace's index.\n",
       "\n",
       "Parameters\n",
       "----------\n",
       "workspace: the workspace object\n",
       "es: the elasticsearch conection instance\n",
       "\n",
       "Returns\n",
       "-------\n",
       "list: a list of namedtuple Intents\n",
       "    \n",
       "Examples\n",
       "--------\n",
       "\n",
       "Raises\n",
       "------\n",
       "\n",
       "Notes\n",
       "-----\n",
       "\u001b[0;31mFile:\u001b[0m      /usr/omni_nlu_api/src/data_pipeline/data_sourcing.py\n",
       "\u001b[0;31mType:\u001b[0m      function\n"
      ]
     },
     "metadata": {},
     "output_type": "display_data"
    }
   ],
   "source": [
    "from data_pipeline.data_sourcing import get_data\n",
    "\n",
    "get_data?"
   ]
  },
  {
   "cell_type": "code",
   "execution_count": 5,
   "id": "3aaa19ab",
   "metadata": {},
   "outputs": [
    {
     "name": "stdout",
     "output_type": "stream",
     "text": [
      "206\n",
      "Intent(intent_name='Inativar_Posição', text_examples=['Como realizo a inativação de uma posição de minha estrutura?', 'Como realizo a reativação de uma posição em minha estrutura?', 'Em quanto tempo a inativação de uma posição é efetivada?', 'Gostaria de fazer a inativação de uma posição, como faço?', 'Realizei a inativação de uma posição e ela continua visível?'])\n"
     ]
    }
   ],
   "source": [
    "data = get_data(workspace=workspace, es=es)\n",
    "print(len(data))\n",
    "print(data[0])"
   ]
  },
  {
   "cell_type": "markdown",
   "id": "4740f9e2",
   "metadata": {},
   "source": [
    "# Data Preprocessing"
   ]
  },
  {
   "cell_type": "markdown",
   "id": "61f522d5",
   "metadata": {},
   "source": [
    "### Create artificial Examples"
   ]
  },
  {
   "cell_type": "code",
   "execution_count": 6,
   "id": "840d4a8c",
   "metadata": {},
   "outputs": [
    {
     "data": {
      "text/plain": [
       "\u001b[0;31mSignature:\u001b[0m \u001b[0mfill_missing_examples\u001b[0m\u001b[0;34m(\u001b[0m\u001b[0mdata\u001b[0m\u001b[0;34m,\u001b[0m \u001b[0mrandom_seed\u001b[0m\u001b[0;34m=\u001b[0m\u001b[0;36m42\u001b[0m\u001b[0;34m)\u001b[0m\u001b[0;34m\u001b[0m\u001b[0;34m\u001b[0m\u001b[0m\n",
       "\u001b[0;31mDocstring:\u001b[0m\n",
       "We expect at least 8 examples for each intent,\n",
       "5 to train and 3 to test the ML models.\n",
       "\n",
       "This function identify intents with less then 8 examples\n",
       "and fill it up with artificial examples created from the \n",
       "exesting ones.\n",
       "\n",
       "Parameters\n",
       "----------\n",
       "data: list of namedtuple representing Intents\n",
       "\n",
       "Returns\n",
       "-------\n",
       "list: list of namedtuple representing Intents\n",
       "    \n",
       "Examples\n",
       "--------\n",
       "input = [\n",
       "    Intent(\n",
       "        intent_name='Inativar_Posição', \n",
       "        text_examples=['Como realizo a inativação de uma posição de minha estrutura?', \n",
       "                       'Como realizo a reativação de uma posição em minha estrutura?', \n",
       "                       'Em quanto tempo a inativação de uma posição é efetivada?', \n",
       "                       'Gostaria de fazer a inativação de uma posição, como faço?', \n",
       "                       'Realizei a inativação de uma posição e ela continua visível?']\n",
       "        )\n",
       "]\n",
       "\n",
       "output = [\n",
       "    Intent(\n",
       "        intent_name='Inativar_Posição', \n",
       "        text_examples=['Como realizo a inativação de uma posição de minha estrutura?', \n",
       "                       'Como realizo a reativação de uma posição em minha estrutura?', \n",
       "                       'Em quanto tempo a inativação de uma posição é efetivada?', \n",
       "                       'Gostaria de fazer a inativação de uma posição, como faço?', \n",
       "                       'Realizei a inativação de uma posição e ela continua visível?', \n",
       "                       'como realizar o inativação de umar posição de meu estruturar', \n",
       "                       'realizei o inativação de umar posição e ele continuar visível', \n",
       "                       'em quantum tempo o inativação de umar posição ser efetivada']\n",
       "    )\n",
       "]\n",
       "\n",
       "Raises\n",
       "------\n",
       "\n",
       "Notes\n",
       "-----\n",
       "\u001b[0;31mFile:\u001b[0m      /usr/omni_nlu_api/src/data_pipeline/data_preprocessing.py\n",
       "\u001b[0;31mType:\u001b[0m      function\n"
      ]
     },
     "metadata": {},
     "output_type": "display_data"
    }
   ],
   "source": [
    "from data_pipeline.data_preprocessing import fill_missing_examples\n",
    "\n",
    "fill_missing_examples?"
   ]
  },
  {
   "cell_type": "code",
   "execution_count": 7,
   "id": "f6e868bc",
   "metadata": {},
   "outputs": [],
   "source": [
    "data = fill_missing_examples(data)"
   ]
  },
  {
   "cell_type": "markdown",
   "id": "3a99f225",
   "metadata": {},
   "source": [
    "# Data Splitting"
   ]
  },
  {
   "cell_type": "code",
   "execution_count": null,
   "id": "e68fa3ff",
   "metadata": {},
   "outputs": [],
   "source": []
  }
 ],
 "metadata": {
  "kernelspec": {
   "display_name": "Python 3",
   "language": "python",
   "name": "python3"
  },
  "language_info": {
   "codemirror_mode": {
    "name": "ipython",
    "version": 3
   },
   "file_extension": ".py",
   "mimetype": "text/x-python",
   "name": "python",
   "nbconvert_exporter": "python",
   "pygments_lexer": "ipython3",
   "version": "3.6.13"
  }
 },
 "nbformat": 4,
 "nbformat_minor": 5
}
