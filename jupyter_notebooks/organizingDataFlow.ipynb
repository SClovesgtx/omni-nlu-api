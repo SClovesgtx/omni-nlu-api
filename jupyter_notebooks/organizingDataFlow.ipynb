{
 "cells": [
  {
   "cell_type": "markdown",
   "id": "bed3a1a0",
   "metadata": {},
   "source": [
    "# Connecting"
   ]
  },
  {
   "cell_type": "code",
   "execution_count": 1,
   "id": "32399fde",
   "metadata": {},
   "outputs": [],
   "source": [
    "import os\n",
    "\n",
    "# setting working dir\n",
    "os.chdir(\"../src\")"
   ]
  },
  {
   "cell_type": "code",
   "execution_count": 2,
   "id": "b5af2ae7",
   "metadata": {},
   "outputs": [],
   "source": [
    "from elasticsearch_db.elasticsearch import elastic_conection\n",
    "from elasticsearch_db.elasticsearch import get_nlp_model\n",
    "\n",
    "es = elastic_conection()"
   ]
  },
  {
   "cell_type": "code",
   "execution_count": 3,
   "id": "87ba7d9a",
   "metadata": {},
   "outputs": [
    {
     "data": {
      "text/plain": [
       "True"
      ]
     },
     "execution_count": 3,
     "metadata": {},
     "output_type": "execute_result"
    }
   ],
   "source": [
    "workspace_id = \"dc1e7b3d-9137-4a20-a99c-d0d2029ef170\"\n",
    "workspace, exist = get_nlp_model(es, workspace_id=workspace_id)\n",
    "exist"
   ]
  },
  {
   "cell_type": "markdown",
   "id": "783fa1ea",
   "metadata": {},
   "source": [
    "# Data Sourcing"
   ]
  },
  {
   "cell_type": "code",
   "execution_count": 4,
   "id": "d206981c",
   "metadata": {},
   "outputs": [],
   "source": [
    "from data_pipeline.data_sourcing import get_data"
   ]
  },
  {
   "cell_type": "code",
   "execution_count": 5,
   "id": "ced4471b",
   "metadata": {},
   "outputs": [],
   "source": [
    "data = get_data(workspace=workspace, es=es)"
   ]
  },
  {
   "cell_type": "code",
   "execution_count": 6,
   "id": "b5321ef3",
   "metadata": {},
   "outputs": [
    {
     "name": "stdout",
     "output_type": "stream",
     "text": [
      "206\n"
     ]
    },
    {
     "data": {
      "text/plain": [
       "{'intent': 'Inativar_Posição',\n",
       " 'examples': [{'text': 'Como realizo a inativação de uma posição de minha estrutura?'},\n",
       "  {'text': 'Como realizo a reativação de uma posição em minha estrutura?'},\n",
       "  {'text': 'Em quanto tempo a inativação de uma posição é efetivada?'},\n",
       "  {'text': 'Gostaria de fazer a inativação de uma posição, como faço?'},\n",
       "  {'text': 'Realizei a inativação de uma posição e ela continua visível?'}],\n",
       " 'description': 'tema Dúvidas sobre reembolso, adiantamentos e prestação de contas',\n",
       " 'doc_type': 'intent'}"
      ]
     },
     "execution_count": 6,
     "metadata": {},
     "output_type": "execute_result"
    }
   ],
   "source": [
    "print(len(data))\n",
    "data[0]"
   ]
  },
  {
   "cell_type": "code",
   "execution_count": null,
   "id": "7aa5c147",
   "metadata": {},
   "outputs": [],
   "source": []
  }
 ],
 "metadata": {
  "kernelspec": {
   "display_name": "Python 3",
   "language": "python",
   "name": "python3"
  },
  "language_info": {
   "codemirror_mode": {
    "name": "ipython",
    "version": 3
   },
   "file_extension": ".py",
   "mimetype": "text/x-python",
   "name": "python",
   "nbconvert_exporter": "python",
   "pygments_lexer": "ipython3",
   "version": "3.6.13"
  }
 },
 "nbformat": 4,
 "nbformat_minor": 5
}
