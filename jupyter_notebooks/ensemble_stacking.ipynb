{
 "cells": [
  {
   "cell_type": "markdown",
   "id": "invalid-contract",
   "metadata": {},
   "source": [
    "This notebook has the purpose to adapt the code present in the tutorial [Stacking Ensemble Machine Learning With Python](https://machinelearningmastery.com/stacking-ensemble-machine-learning-with-python/) into Omni MLU API. "
   ]
  },
  {
   "cell_type": "markdown",
   "id": "polish-metallic",
   "metadata": {},
   "source": [
    "According to the book Machine Learning Design Patterns, pg 106:\n",
    "\n",
    "\"*You can think of staking as <mark>more advanced version of model averaging</mark>, where instead of tacking an average or weighted average, we train a second machine learning model on the outputs to learn how best to combine the results to the models in our ensemble to produce a predction. <mark>This provides all the benefits of decreasing variance as with bagging techniques but also controls for high bias</mark>.*\""
   ]
  },
  {
   "cell_type": "code",
   "execution_count": null,
   "id": "crude-prescription",
   "metadata": {},
   "outputs": [],
   "source": []
  }
 ],
 "metadata": {
  "kernelspec": {
   "display_name": "Python 3",
   "language": "python",
   "name": "python3"
  },
  "language_info": {
   "codemirror_mode": {
    "name": "ipython",
    "version": 3
   },
   "file_extension": ".py",
   "mimetype": "text/x-python",
   "name": "python",
   "nbconvert_exporter": "python",
   "pygments_lexer": "ipython3",
   "version": "3.6.13"
  }
 },
 "nbformat": 4,
 "nbformat_minor": 5
}
