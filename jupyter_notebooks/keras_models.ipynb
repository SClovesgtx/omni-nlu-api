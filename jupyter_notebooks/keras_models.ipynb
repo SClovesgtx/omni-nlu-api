{
 "cells": [
  {
   "cell_type": "markdown",
   "id": "a778d065",
   "metadata": {},
   "source": [
    "![](imgs/cnn.gif)"
   ]
  },
  {
   "cell_type": "markdown",
   "id": "5307cac1",
   "metadata": {},
   "source": [
    "To see the possible values for activation funtions see [Layer activation functions](https://keras.io/api/layers/activations/#sigmoid-function)."
   ]
  },
  {
   "cell_type": "code",
   "execution_count": null,
   "id": "069bfa73",
   "metadata": {},
   "outputs": [],
   "source": []
  }
 ],
 "metadata": {
  "kernelspec": {
   "display_name": "Python 3",
   "language": "python",
   "name": "python3"
  },
  "language_info": {
   "codemirror_mode": {
    "name": "ipython",
    "version": 3
   },
   "file_extension": ".py",
   "mimetype": "text/x-python",
   "name": "python",
   "nbconvert_exporter": "python",
   "pygments_lexer": "ipython3",
   "version": "3.6.13"
  }
 },
 "nbformat": 4,
 "nbformat_minor": 5
}
