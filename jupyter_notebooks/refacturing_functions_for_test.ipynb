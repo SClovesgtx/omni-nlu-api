{
 "cells": [
  {
   "cell_type": "markdown",
   "id": "amended-breed",
   "metadata": {},
   "source": [
    "### 1 - patterns_matcher\n",
    "\n",
    "Please read [typing — Support for type hints](https://docs.python.org/3/library/typing.html)"
   ]
  },
  {
   "cell_type": "code",
   "execution_count": 18,
   "id": "binary-diesel",
   "metadata": {},
   "outputs": [],
   "source": [
    "from typing import Tuple, List, Dict\n",
    "\n",
    "PATTERNS = List[Tuple[str, List[str]]]\n",
    "FOUND_ENTITIES = List[Dict[str, List[str]]]"
   ]
  },
  {
   "cell_type": "code",
   "execution_count": 19,
   "id": "mathematical-intermediate",
   "metadata": {},
   "outputs": [],
   "source": [
    "import re\n",
    "\n",
    "def patterns_matcher(patterns:PATTERNS, sentence:str) -> FOUND_ENTITIES:\n",
    "    found_entities = []\n",
    "    for entity, values in patterns:\n",
    "        for value in values:\n",
    "            results = re.findall(value, sentence)\n",
    "            if results:\n",
    "                found_entities.append({entity: results})\n",
    "            else:\n",
    "                pass\n",
    "    return found_entities"
   ]
  },
  {
   "cell_type": "code",
   "execution_count": 20,
   "id": "behavioral-homework",
   "metadata": {},
   "outputs": [],
   "source": [
    "patterns = [(\"ContactInfo:email\", [\n",
    "            \"\\\\b[A-Za-z0-9._%+-]+@[A-Za-z0-9.-]+\\\\.[A-Za-z]{2,}\\\\b\",\n",
    "            \"^[a-zA-Z0-9.!#$%&'*+/=?^_`{|}~-]+@[a-zA-Z0-9](?:[a-zA-Z0-9-]\\\n",
    "            {0,61}[a-zA-Z0-9])?(?:\\\\.[a-zA-Z0-9](?:[a-zA-Z0-9-]{0,61}[a-zA-Z0-9])?)*$\"])]\n",
    "\n",
    "sentence = \"olá meu email é clovesgtx@gmail.com\""
   ]
  },
  {
   "cell_type": "code",
   "execution_count": 21,
   "id": "endless-drink",
   "metadata": {},
   "outputs": [
    {
     "data": {
      "text/plain": [
       "[{'ContactInfo:email': ['clovesgtx@gmail.com']}]"
      ]
     },
     "execution_count": 21,
     "metadata": {},
     "output_type": "execute_result"
    }
   ],
   "source": [
    "patterns_matcher(patterns=patterns,\n",
    "                 sentence=sentence)"
   ]
  }
 ],
 "metadata": {
  "kernelspec": {
   "display_name": "Python 3",
   "language": "python",
   "name": "python3"
  },
  "language_info": {
   "codemirror_mode": {
    "name": "ipython",
    "version": 3
   },
   "file_extension": ".py",
   "mimetype": "text/x-python",
   "name": "python",
   "nbconvert_exporter": "python",
   "pygments_lexer": "ipython3",
   "version": "3.6.13"
  }
 },
 "nbformat": 4,
 "nbformat_minor": 5
}
