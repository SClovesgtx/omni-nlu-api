{
 "cells": [
  {
   "cell_type": "code",
   "execution_count": 1,
   "metadata": {},
   "outputs": [],
   "source": [
    "import os\n",
    "\n",
    "default_path = \"/home/cloves/Desktop/omni_nlp_api\"\n",
    "os.chdir(default_path)"
   ]
  },
  {
   "cell_type": "code",
   "execution_count": 2,
   "metadata": {},
   "outputs": [],
   "source": [
    "import numpy as np\n",
    "import json\n",
    "\n",
    "with open(\"feature_encoding/tfidf/resources/intents_dictionary-dc1e7b3d-9137-4a20-a99c-d0d2029ef170.json\", 'r') as f:\n",
    "      intents_dictionary = json.load(f)\n",
    "\n",
    "with open('feature_encoding/tfidf/resources/X_train_tfidf_dc1e7b3d-9137-4a20-a99c-d0d2029ef170.npy', 'rb') as f:\n",
    "    X_train = np.load(f)\n",
    "    \n",
    "with open('feature_encoding/tfidf/resources/y_train_tfidf_dc1e7b3d-9137-4a20-a99c-d0d2029ef170.npy', 'rb') as f:\n",
    "    y_train = np.load(f)\n",
    "    \n",
    "with open('feature_encoding/tfidf/resources/X_test_tfidf_dc1e7b3d-9137-4a20-a99c-d0d2029ef170.npy', 'rb') as f:\n",
    "    X_test = np.load(f)\n",
    "    \n",
    "with open('feature_encoding/tfidf/resources/y_test_tfidf_dc1e7b3d-9137-4a20-a99c-d0d2029ef170.npy', 'rb') as f:\n",
    "    y_test = np.load(f)"
   ]
  },
  {
   "cell_type": "markdown",
   "metadata": {},
   "source": [
    "# CNN"
   ]
  },
  {
   "cell_type": "markdown",
   "metadata": {},
   "source": [
    "To see the possible values for activation funtions see [Layer activation functions](https://keras.io/api/layers/activations/#sigmoid-function)."
   ]
  },
  {
   "cell_type": "markdown",
   "metadata": {},
   "source": [
    "```json\n",
    "{\n",
    "   \"intermediate_layers\": [\n",
    "        {\"activation\":\"relu\", \"number_of_neurons\": 900}\n",
    "   ],\n",
    "   \"epochs\":100,\n",
    "   \"batch_size\":100\n",
    "   \"learning_rate\":0.001\n",
    "}\n",
    "```"
   ]
  },
  {
   "cell_type": "markdown",
   "metadata": {},
   "source": [
    "# Multi Losgist Regression"
   ]
  },
  {
   "cell_type": "markdown",
   "metadata": {},
   "source": [
    "To understand what these hyperparameter mean read [sklearn.linear_model.LogisticRegression](https://scikit-learn.org/stable/modules/generated/sklearn.linear_model.LogisticRegression.html) and [Don’t Sweat the Solver Stuff](https://towardsdatascience.com/dont-sweat-the-solver-stuff-aea7cddc3451)"
   ]
  },
  {
   "cell_type": "code",
   "execution_count": 15,
   "metadata": {},
   "outputs": [],
   "source": [
    "settings = {\n",
    "    \"C\":1.0, # C >= 1.0\n",
    "    \"fit_intercept\":True,\n",
    "    \"intercept_scaling\":1,\n",
    "    \"max_iter\":100,\n",
    "    \"warm_start\":False,\n",
    "    \"random_state\":42\n",
    "}\n",
    "\n",
    "settings2 = {\n",
    "    \"C\":5.0, # C >= 1.0\n",
    "    \"fit_intercept\":False,\n",
    "    \"random_state\":1\n",
    "}"
   ]
  },
  {
   "cell_type": "code",
   "execution_count": 16,
   "metadata": {},
   "outputs": [
    {
     "data": {
      "text/plain": [
       "0.7890173410404624"
      ]
     },
     "execution_count": 16,
     "metadata": {},
     "output_type": "execute_result"
    }
   ],
   "source": [
    "from models.multinomialLogit.classifier import train_logit_model\n",
    "\n",
    "train_logit_model(X_train=X_train,\n",
    "                  y_train=y_train,\n",
    "                  X_test=X_test,\n",
    "                  y_test=y_test,\n",
    "                  workspace_id=\"12345\",\n",
    "                  settings=settings2)"
   ]
  },
  {
   "cell_type": "code",
   "execution_count": 17,
   "metadata": {},
   "outputs": [
    {
     "data": {
      "text/plain": [
       "0.5057803468208093"
      ]
     },
     "execution_count": 17,
     "metadata": {},
     "output_type": "execute_result"
    }
   ],
   "source": [
    "train_logit_model(X_train=X_train,\n",
    "                  y_train=y_train,\n",
    "                  X_test=X_test,\n",
    "                  y_test=y_test,\n",
    "                  workspace_id=\"123456\")"
   ]
  }
 ],
 "metadata": {
  "kernelspec": {
   "display_name": "Python 3",
   "language": "python",
   "name": "python3"
  },
  "language_info": {
   "codemirror_mode": {
    "name": "ipython",
    "version": 3
   },
   "file_extension": ".py",
   "mimetype": "text/x-python",
   "name": "python",
   "nbconvert_exporter": "python",
   "pygments_lexer": "ipython3",
   "version": "3.6.9"
  }
 },
 "nbformat": 4,
 "nbformat_minor": 4
}
