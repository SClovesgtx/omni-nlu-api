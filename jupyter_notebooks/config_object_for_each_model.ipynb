{
 "cells": [
  {
   "cell_type": "code",
   "execution_count": 9,
   "metadata": {},
   "outputs": [],
   "source": [
    "import os\n",
    "\n",
    "default_path = \"/home/cloves/Desktop/omni_nlp_api\"\n",
    "os.chdir(default_path)"
   ]
  },
  {
   "cell_type": "code",
   "execution_count": 10,
   "metadata": {},
   "outputs": [],
   "source": [
    "import numpy as np\n",
    "import json\n",
    "\n",
    "with open(\"feature_encoding/tfidf/resources/intents_dictionary-dc1e7b3d-9137-4a20-a99c-d0d2029ef170.json\", 'r') as f:\n",
    "      intents_dictionary = json.load(f)\n",
    "\n",
    "with open('feature_encoding/tfidf/resources/X_train_tfidf_dc1e7b3d-9137-4a20-a99c-d0d2029ef170.npy', 'rb') as f:\n",
    "    X_train = np.load(f)\n",
    "    \n",
    "with open('feature_encoding/tfidf/resources/y_train_tfidf_dc1e7b3d-9137-4a20-a99c-d0d2029ef170.npy', 'rb') as f:\n",
    "    y_train = np.load(f)\n",
    "    \n",
    "with open('feature_encoding/tfidf/resources/X_test_tfidf_dc1e7b3d-9137-4a20-a99c-d0d2029ef170.npy', 'rb') as f:\n",
    "    X_test = np.load(f)\n",
    "    \n",
    "with open('feature_encoding/tfidf/resources/y_test_tfidf_dc1e7b3d-9137-4a20-a99c-d0d2029ef170.npy', 'rb') as f:\n",
    "    y_test = np.load(f)"
   ]
  },
  {
   "cell_type": "markdown",
   "metadata": {},
   "source": [
    "# CNN"
   ]
  },
  {
   "cell_type": "markdown",
   "metadata": {},
   "source": [
    "![](imgs/cnn.gif)"
   ]
  },
  {
   "cell_type": "markdown",
   "metadata": {},
   "source": [
    "To see the possible values for activation funtions see [Layer activation functions](https://keras.io/api/layers/activations/#sigmoid-function)."
   ]
  },
  {
   "cell_type": "markdown",
   "metadata": {},
   "source": [
    "```json\n",
    "{\n",
    "   \"intermediate_layers\": [\n",
    "        {\"activation\":\"relu\", \"number_of_neurons\": 900}\n",
    "   ],\n",
    "   \"epochs\":100,\n",
    "   \"batch_size\":100\n",
    "   \"learning_rate\":0.001\n",
    "}\n",
    "```"
   ]
  },
  {
   "cell_type": "markdown",
   "metadata": {},
   "source": [
    "# Multi Losgist Regression"
   ]
  },
  {
   "cell_type": "markdown",
   "metadata": {},
   "source": [
    "To understand what these hyperparameter mean read [sklearn.linear_model.LogisticRegression](https://scikit-learn.org/stable/modules/generated/sklearn.linear_model.LogisticRegression.html) and [Don’t Sweat the Solver Stuff](https://towardsdatascience.com/dont-sweat-the-solver-stuff-aea7cddc3451)"
   ]
  },
  {
   "cell_type": "code",
   "execution_count": 5,
   "metadata": {},
   "outputs": [],
   "source": [
    "settings = {\n",
    "    \"C\":1.0, # C >= 1.0\n",
    "    \"fit_intercept\":True,\n",
    "    \"intercept_scaling\":1,\n",
    "    \"max_iter\":100,\n",
    "    \"warm_start\":False,\n",
    "    \"random_state\":42\n",
    "}\n",
    "\n",
    "omni_default_settings = {\n",
    "    \"C\":5.0, # C >= 1.0\n",
    "    \"fit_intercept\":False,\n",
    "    \"random_state\":1\n",
    "}"
   ]
  },
  {
   "cell_type": "code",
   "execution_count": 6,
   "metadata": {},
   "outputs": [
    {
     "output_type": "execute_result",
     "data": {
      "text/plain": [
       "0.7890173410404624"
      ]
     },
     "metadata": {},
     "execution_count": 6
    }
   ],
   "source": [
    "from models.multinomialLogit.classifier import train_logit_model\n",
    "\n",
    "train_logit_model(X_train=X_train,\n",
    "                  y_train=y_train,\n",
    "                  X_test=X_test,\n",
    "                  y_test=y_test,\n",
    "                  workspace_id=\"12345\",\n",
    "                  settings=omni_default_settings)"
   ]
  },
  {
   "cell_type": "code",
   "execution_count": 7,
   "metadata": {},
   "outputs": [
    {
     "output_type": "execute_result",
     "data": {
      "text/plain": [
       "0.5057803468208093"
      ]
     },
     "metadata": {},
     "execution_count": 7
    }
   ],
   "source": [
    "train_logit_model(X_train=X_train,\n",
    "                  y_train=y_train,\n",
    "                  X_test=X_test,\n",
    "                  y_test=y_test,\n",
    "                  workspace_id=\"123456\")"
   ]
  },
  {
   "cell_type": "markdown",
   "metadata": {},
   "source": [
    "# Poly SVM"
   ]
  },
  {
   "source": [
    "![](imgs/svm.gif)"
   ],
   "cell_type": "markdown",
   "metadata": {}
  },
  {
   "source": [
    "To understand what these hyperparameter mean read:\n",
    "\n",
    "* [sklearn.svm.SVC](https://scikit-learn.org/stable/modules/generated/sklearn.svm.SVC.html)\n",
    "* [Support Vector Machines](https://scikit-learn.org/stable/modules/svm.html#svm)"
   ],
   "cell_type": "markdown",
   "metadata": {}
  },
  {
   "cell_type": "code",
   "execution_count": 11,
   "metadata": {},
   "outputs": [],
   "source": [
    "omni_default_settings = { \n",
    "    \"degree\":1, \n",
    "    \"coef0\":0.0, \n",
    "    \"random_state\":42\n",
    "}"
   ]
  },
  {
   "cell_type": "code",
   "execution_count": 12,
   "metadata": {},
   "outputs": [
    {
     "output_type": "execute_result",
     "data": {
      "text/plain": [
       "0.7384393063583815"
      ]
     },
     "metadata": {},
     "execution_count": 12
    }
   ],
   "source": [
    "from models.polySVM.classifier import train_svm_model\n",
    "\n",
    "train_svm_model(\n",
    "    X_train=X_train,\n",
    "    y_train=y_train,\n",
    "    X_test=X_test,\n",
    "    y_test=y_test,\n",
    "    workspace_id=\"12345\",\n",
    "    settings=omni_default_settings\n",
    ")"
   ]
  },
  {
   "cell_type": "code",
   "execution_count": null,
   "metadata": {},
   "outputs": [],
   "source": []
  }
 ],
 "metadata": {
  "kernelspec": {
   "display_name": "Python 3",
   "language": "python",
   "name": "python3"
  },
  "language_info": {
   "codemirror_mode": {
    "name": "ipython",
    "version": 3
   },
   "file_extension": ".py",
   "mimetype": "text/x-python",
   "name": "python",
   "nbconvert_exporter": "python",
   "pygments_lexer": "ipython3",
   "version": "3.6.9-final"
  }
 },
 "nbformat": 4,
 "nbformat_minor": 4
}