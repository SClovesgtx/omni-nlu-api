{
 "cells": [
  {
   "cell_type": "markdown",
   "metadata": {},
   "source": [
    "# Omni NLP API"
   ]
  },
  {
   "cell_type": "markdown",
   "metadata": {},
   "source": [
    "### 1º - Adicionar Conteúdo para Treino"
   ]
  },
  {
   "cell_type": "code",
   "execution_count": 1,
   "metadata": {},
   "outputs": [],
   "source": [
    "import os\n",
    "\n",
    "default_path = \"/home/cloves/Desktop/omni_nlp_api\"\n",
    "os.chdir(default_path)"
   ]
  },
  {
   "cell_type": "code",
   "execution_count": 2,
   "metadata": {},
   "outputs": [
    {
     "data": {
      "text/plain": [
       "{'intent': 'Vizinho_Invadindo_Terreno',\n",
       " 'examples': [{'text': 'A unidade está sendo invadida. Quem pode ajudar?'},\n",
       "  {'text': 'Estamos com problema com vizinhos da unidade. Com quem posso falar?'},\n",
       "  {'text': 'Nosso terreno está sendo invadido pelo vizinho da unidade. O que fazer?'},\n",
       "  {'text': 'O vizinho da unidade está invadindo uma parte do imóvel da Yara. O que fazer?'}],\n",
       " 'description': ''}"
      ]
     },
     "execution_count": 2,
     "metadata": {},
     "output_type": "execute_result"
    }
   ],
   "source": [
    "# LER DADOS\n",
    "import json\n",
    "\n",
    "file = open('/home/cloves/Downloads/skill-COE_YARA_PRD.json', \"r\") \n",
    "workspace = json.load(file)\n",
    "workspace[\"intents\"][-1]"
   ]
  },
  {
   "cell_type": "markdown",
   "metadata": {},
   "source": [
    "###### Entidades"
   ]
  },
  {
   "cell_type": "code",
   "execution_count": 3,
   "metadata": {},
   "outputs": [
    {
     "name": "stdout",
     "output_type": "stream",
     "text": [
      "Entity Actions was created with id UJRqEXgB-J8onNE9odMS\n",
      "Entity Assistencias was created with id UZRqEXgB-J8onNE9odOB\n",
      "Entity CEP was created with id UpRqEXgB-J8onNE9odOg\n",
      "Entity ContactInfo was created with id U5RqEXgB-J8onNE9odO5\n",
      "Entity CulturaPlatacao was created with id VJRqEXgB-J8onNE9odPZ\n",
      "Entity DataProgramada was created with id VZRqEXgB-J8onNE9odP4\n",
      "Entity Datas was created with id VpRqEXgB-J8onNE9otMT\n",
      "Entity DecimoTerceiro was created with id V5RqEXgB-J8onNE9otMv\n",
      "Entity DetalheAgendamentoFerias was created with id WJRqEXgB-J8onNE9otNR\n",
      "Entity DetalheCartaoAlimentacaoRefeicao was created with id WZRqEXgB-J8onNE9otN2\n",
      "Entity DetalheDesconto was created with id WpRqEXgB-J8onNE9otOS\n",
      "Entity EntedidadesGerais was created with id W5RqEXgB-J8onNE9otOt\n",
      "Entity EntidadeGeral was created with id XJRqEXgB-J8onNE9otPN\n",
      "Entity ErroMercadoEletronico was created with id XZRqEXgB-J8onNE9otPm\n",
      "Entity hash was created with id XpRqEXgB-J8onNE9otP9\n",
      "Entity Institucional was created with id X5RqEXgB-J8onNE9o9Mb\n",
      "Entity JornadasYara was created with id YJRqEXgB-J8onNE9o9M1\n",
      "Entity LocalizacaoPlantacao was created with id YZRqEXgB-J8onNE9o9NQ\n",
      "Entity Previdencia was created with id YpRqEXgB-J8onNE9o9Np\n",
      "Entity Questao was created with id Y5RqEXgB-J8onNE9o9OG\n",
      "Entity ReceberCancelarAdiantamentoSalarial was created with id ZJRqEXgB-J8onNE9o9O2\n",
      "Entity SimNao was created with id ZZRqEXgB-J8onNE9o9Pf\n",
      "Entity Tema was created with id ZpRqEXgB-J8onNE9pNMA\n",
      "Entity ValidaWhats was created with id Z5RqEXgB-J8onNE9pNMj\n"
     ]
    }
   ],
   "source": [
    "import requests\n",
    "\n",
    "url_api = \"http://0.0.0.0:5000/\"\n",
    "params = {'workspace_id': 'dc1e7b3d-9137-4a20-a99c-d0d2029ef170'}\n",
    "end_point = \"nlp_models/entities\"\n",
    "\n",
    "for entity in workspace[\"entities\"]:\n",
    "    if \"sys\" not in entity[\"entity\"].split(\"-\"):\n",
    "        r = requests.post(url_api+end_point, params=params, json=entity)\n",
    "        r = r.json()\n",
    "        if r[\"result\"] == \"created\":\n",
    "            print(\"Entity %s was created with id %s\"%(entity[\"entity\"],r[\"_id\"]))\n",
    "        else:\n",
    "            print(\"Entity %s was not created\"%entity[\"entity\"])"
   ]
  },
  {
   "cell_type": "markdown",
   "metadata": {},
   "source": [
    "##### Intenções"
   ]
  },
  {
   "cell_type": "code",
   "execution_count": 4,
   "metadata": {},
   "outputs": [
    {
     "name": "stdout",
     "output_type": "stream",
     "text": [
      "Intent Abono was created with id aJRqEXgB-J8onNE9u9NA\n",
      "Intent Abrir_Chamado_Salario was created with id aZRqEXgB-J8onNE9u9N3\n",
      "Intent Acessar_CMS was created with id apRqEXgB-J8onNE9u9Of\n",
      "Intent Acessar_Concur was created with id a5RqEXgB-J8onNE9u9O8\n",
      "Intent Acessar_MercadoEletronico was created with id bJRqEXgB-J8onNE9u9Ph\n",
      "Intent Acessar_Painel_Colaborador was created with id bZRqEXgB-J8onNE9vNMN\n",
      "Intent Acessar_SAP_MercadoEletronico was created with id bpRqEXgB-J8onNE9vNNC\n",
      "Intent Acionista_Yara_GICS was created with id b5RqEXgB-J8onNE9vNOD\n",
      "Intent Acompanhar_Pedido_MercadoEletronico was created with id cJRqEXgB-J8onNE9vNPI\n",
      "Intent Acompanhar_Saldo_Previdencia_Privada was created with id cZRqEXgB-J8onNE9vdMT\n",
      "Intent Acompanhar_Solicitacao was created with id cpRqEXgB-J8onNE9vdNP\n",
      "Intent Aderir_Beneficio_Previdencia_Privada was created with id c5RqEXgB-J8onNE9vdNq\n",
      "Intent Adiantamento_Duplicado was created with id dJRqEXgB-J8onNE9vdOS\n",
      "Intent Adiantamento_e_QuandoReceber_13_Salario was created with id dZRqEXgB-J8onNE9vdO8\n",
      "Intent Aditivar_Contrato was created with id dpRqEXgB-J8onNE9vdPm\n",
      "Intent Agendamento_Alteracao_Ferias was created with id d5RqEXgB-J8onNE9vtMI\n",
      "Intent Agilidade_Negocios was created with id eJRqEXgB-J8onNE9vtM5\n",
      "Intent Ajuda_Manual_CMS was created with id eZRqEXgB-J8onNE9vtNv\n",
      "Intent Ajustar_Ponto was created with id epRqEXgB-J8onNE9vtOX\n",
      "Intent Ajuste_Informacao_Convenio was created with id e5RqEXgB-J8onNE9vtOx\n",
      "Intent Alteracao_Beneficios_Previdencia was created with id fJRqEXgB-J8onNE9vtPK\n",
      "Intent Alteracao_CargoSalario was created with id fZRqEXgB-J8onNE9vtPk\n",
      "Intent Alteracao_CC was created with id fpRqEXgB-J8onNE9v9MP\n",
      "Intent Alteração_ContratoProrrogacao was created with id f5RqEXgB-J8onNE9v9M9\n",
      "Intent Alteração_Gestor was created with id gJRqEXgB-J8onNE9v9NX\n",
      "Intent Alterar_Aprovador was created with id gZRqEXgB-J8onNE9v9N6\n",
      "Intent Alterar_Cargo was created with id gpRqEXgB-J8onNE9v9OY\n",
      "Intent Alterar_Centro_Custo was created with id g5RqEXgB-J8onNE9v9O0\n",
      "Intent Alterar_Conta_Pagamento was created with id hJRqEXgB-J8onNE9v9PU\n",
      "Intent Alterar_Contrato was created with id hZRqEXgB-J8onNE9v9P3\n",
      "Intent Alterar_EnquadramentoMerito was created with id hpRqEXgB-J8onNE9wNMV\n",
      "Intent Alterar_Posicao was created with id h5RqEXgB-J8onNE9wNM0\n",
      "Intent Alterar_Promocao was created with id iJRqEXgB-J8onNE9wNNS\n",
      "Intent Alterar_Tipo_Registro_Ponto was created with id iZRqEXgB-J8onNE9wNNp\n",
      "Intent Alterar_Vale_RefeicaoAlimentacao was created with id ipRqEXgB-J8onNE9wNOD\n",
      "Intent Ambicao_CoE was created with id i5RqEXgB-J8onNE9wNOg\n",
      "Intent Ambiente_ConfiancaAgradavel was created with id jJRqEXgB-J8onNE9wNO9\n",
      "Intent Apresentacao_Institucional was created with id jZRqEXgB-J8onNE9wNPV\n",
      "Intent Aprovações_YPP was created with id jpRqEXgB-J8onNE9wNPt\n",
      "Intent Aprovar_Solicitacao_Pendente_Ponto was created with id j5RqEXgB-J8onNE9wdME\n",
      "Intent Arquivar_Contrato was created with id kJRqEXgB-J8onNE9wdMh\n",
      "Intent Assinar_Contrato was created with id kZRqEXgB-J8onNE9wdM7\n",
      "Intent Assinar_Digitalmente_Contrato was created with id kpRqEXgB-J8onNE9wdNU\n",
      "Intent Bem_Estar was created with id k5RqEXgB-J8onNE9wdNy\n",
      "Intent Bonus_Mobilidade was created with id lJRqEXgB-J8onNE9wdOI\n",
      "Intent Bot_Capabilities was created with id lZRqEXgB-J8onNE9wdOh\n",
      "Intent Branding was created with id lpRqEXgB-J8onNE9wdO7\n",
      "Intent Cadastro_Concur was created with id l5RqEXgB-J8onNE9wdPU\n",
      "Intent Canais_Atendimentos_CoE was created with id mJRqEXgB-J8onNE9wdPw\n",
      "Intent Cancelar_Previdencia was created with id mZRqEXgB-J8onNE9wtMJ\n",
      "Intent Cartao_Bloqueado_SenhaInvalida was created with id mpRqEXgB-J8onNE9wtMh\n",
      "Intent Cartao_Cancelado was created with id m5RqEXgB-J8onNE9wtM9\n",
      "Intent Cartao_Clonado_Cambial was created with id nJRqEXgB-J8onNE9wtNZ\n",
      "Intent Colaboracao_CoE was created with id nZRqEXgB-J8onNE9wtN3\n",
      "Intent Comprovant_CNPJ was created with id npRqEXgB-J8onNE9wtOR\n",
      "Intent Comprovante_Pagamento_Juridico was created with id n5RqEXgB-J8onNE9wtOq\n",
      "Intent Concur_Cursos was created with id oJRqEXgB-J8onNE9wtPC\n",
      "Intent Concur_Delegacao was created with id oZRqEXgB-J8onNE9wtPa\n",
      "Intent Consultar_Procuracao was created with id opRqEXgB-J8onNE9wtP5\n",
      "Intent Conta_Bancaria was created with id o5RqEXgB-J8onNE9w9Md\n",
      "Intent Contato_Operadora_Previdencia_Privada was created with id pJRqEXgB-J8onNE9w9M4\n",
      "Intent Contracheque_Recebido_Sem_Constar_Conta was created with id pZRqEXgB-J8onNE9w9NS\n",
      "Intent Contracheque_Sem_Constar_Dependente_IRRF was created with id ppRqEXgB-J8onNE9w9Nr\n",
      "Intent Contrato_Aprovado_Proximo_Passo was created with id p5RqEXgB-J8onNE9w9OD\n",
      "Intent Contrato_Devolvido_Juridico was created with id qJRqEXgB-J8onNE9w9Oc\n",
      "Intent Contrato_Social_ou_Estatuto_Empresa was created with id qZRqEXgB-J8onNE9w9O1\n",
      "Intent Contribuicoes_Previdencia_Privada was created with id qpRqEXgB-J8onNE9w9PR\n",
      "Intent Controladoria_Juridica was created with id q5RqEXgB-J8onNE9w9Px\n",
      "Intent Criar_Posição was created with id rJRqEXgB-J8onNE9xNMO\n",
      "Intent Curiosidade_CoE was created with id rZRqEXgB-J8onNE9xNMq\n",
      "Intent Custo_Movimentação_Estado was created with id rpRqEXgB-J8onNE9xNNE\n",
      "Intent Data_Entrega_Veiculo_Definitivo was created with id r5RqEXgB-J8onNE9xNNd\n",
      "Intent Data_Envio_Vale_RefeicaoAlimentacao was created with id sJRqEXgB-J8onNE9xNN9\n",
      "Intent Data_Limite_Ferias was created with id sZRqEXgB-J8onNE9xNOY\n",
      "Intent Data_Pagamento_Salario was created with id spRqEXgB-J8onNE9xNO1\n",
      "Intent Data_Pagamento_Vale_RefeicaoAlimentação was created with id s5RqEXgB-J8onNE9xNPX\n",
      "Intent Desconto_em_Folha was created with id tJRqEXgB-J8onNE9xNP1\n",
      "Intent Despesa_Pessoal_Marcado_Relatorio_Concur was created with id tZRqEXgB-J8onNE9xdMS\n",
      "Intent Detalhe_Sobre_Desconto was created with id tpRqEXgB-J8onNE9xdMu\n",
      "Intent Devolucao_Veiculo was created with id t5RqEXgB-J8onNE9xdNI\n",
      "Intent Diferenca_Previdencia_Privada was created with id uJRqEXgB-J8onNE9xdNo\n",
      "Intent Direcao_Defensiva was created with id uZRqEXgB-J8onNE9xdOy\n",
      "Intent Direito_ao_13 was created with id upRqEXgB-J8onNE9xdPK\n",
      "Intent Divisao_Ferias was created with id u5RqEXgB-J8onNE9xdPm\n",
      "Intent Documento_Oficial_Justica was created with id vJRqEXgB-J8onNE9xtMD\n",
      "Intent Documento_Sem_Carimbo_Juridico was created with id vZRqEXgB-J8onNE9xtMe\n",
      "Intent Download_Aplicativo_Convenio was created with id vpRqEXgB-J8onNE9xtM3\n",
      "Intent Duvida_Formularo_Adesao_Previdencia was created with id v5RqEXgB-J8onNE9xtNP\n",
      "Intent Duvidas_Benefícios was created with id wJRqEXgB-J8onNE9xtNo\n",
      "Intent Duvidas_Celular_Corporativo was created with id wZRqEXgB-J8onNE9xtOZ\n",
      "Intent Duvidas_Despesas was created with id wpRqEXgB-J8onNE9xtOz\n",
      "Intent Duvidas_Funcoes_Cartao was created with id w5RqEXgB-J8onNE9xtPQ\n",
      "Intent Duvidas_Outro_CC was created with id xJRqEXgB-J8onNE9xtPr\n",
      "Intent Elegibilidade_Previdencia_Privada was created with id xZRqEXgB-J8onNE9x9MJ\n",
      "Intent Emissoes_Cartao was created with id xpRqEXgB-J8onNE9x9Mo\n",
      "Intent Empresa_Seguro_Frota was created with id x5RqEXgB-J8onNE9x9NF\n",
      "Intent Erros_MercadoEletronico was created with id yJRqEXgB-J8onNE9x9Ni\n",
      "Intent Espirito_Servir was created with id yZRqEXgB-J8onNE9x9N-\n",
      "Intent Esquecer_Senha_Vale_RefeicaoAlimentacao was created with id ypRqEXgB-J8onNE9x9Ob\n",
      "Intent Estrategia_Aprovar was created with id y5RqEXgB-J8onNE9x9O0\n",
      "Intent Exclusoes_Concur was created with id zJRqEXgB-J8onNE9x9PN\n",
      "Intent Ex_Colaborador_Resgate_Previdencia was created with id zZRqEXgB-J8onNE9x9Pl\n",
      "Intent Extensao_Contrato was created with id zpRqEXgB-J8onNE9yNMB\n",
      "Intent Extrair_Relatorio_Ponto_Todos_Colaboradores was created with id z5RqEXgB-J8onNE9yNMc\n",
      "Intent Extrato_Plano was created with id 0JRqEXgB-J8onNE9yNM2\n",
      "Intent Fazer_Contrato was created with id 0ZRqEXgB-J8onNE9yNNO\n",
      "Intent Foco_Cliente was created with id 0pRqEXgB-J8onNE9yNNo\n",
      "Intent Fornecedor_ME was created with id 05RqEXgB-J8onNE9yNOE\n",
      "Intent Funcoes_Cartao_Corporativo was created with id 1JRqEXgB-J8onNE9yNOj\n",
      "Intent Fundacao_Valores was created with id 1ZRqEXgB-J8onNE9yNO-\n",
      "Intent General_Ending was created with id 1pRqEXgB-J8onNE9yNP2\n",
      "Intent General_Greetings was created with id 15RqEXgB-J8onNE9ydMV\n",
      "Intent General_Negative_Feedback was created with id 2JRqEXgB-J8onNE9ydMv\n",
      "Intent General_Positive_Feedback was created with id 2ZRqEXgB-J8onNE9ydNK\n",
      "Intent Gestor_Responsavel_Departamento_Juridico was created with id 2pRqEXgB-J8onNE9ydNj\n",
      "Intent Hora_Extra was created with id 25RqEXgB-J8onNE9ydN_\n",
      "Intent Imposto_Renda_Previdencia_Privada was created with id 3JRqEXgB-J8onNE9ydOY\n",
      "Intent Inativar_Posição was created with id 3ZRqEXgB-J8onNE9ydOx\n",
      "Intent Incluir_Colaborador_Convenio was created with id 3pRqEXgB-J8onNE9ydPJ\n",
      "Intent Incluir_Dependente_Plano_Saude was created with id 35RqEXgB-J8onNE9ydPn\n",
      "Intent IncluirRemover_Colaborador was created with id 4JRqEXgB-J8onNE9ytMC\n",
      "Intent Inconformidades_Legais was created with id 4ZRqEXgB-J8onNE9ytMd\n",
      "Intent Info_Concur_SAP was created with id 4pRqEXgB-J8onNE9ytM2\n",
      "Intent Informacao_Geral_Sistemas was created with id 45RqEXgB-J8onNE9ytNT\n",
      "Intent Informacoes_Relatorio_Aberto was created with id 5JRqEXgB-J8onNE9ytNw\n",
      "Intent Informacoes_Relatorio_Gerais was created with id 5ZRqEXgB-J8onNE9ytOM\n",
      "Intent Informacoes_Relatorio_Nao_Aprovado was created with id 5pRqEXgB-J8onNE9ytO5\n",
      "Intent Licenca_Mais_Ferias was created with id 55RqEXgB-J8onNE9ytPX\n",
      "Intent Localizar_Veiculo was created with id 6JRqEXgB-J8onNE9ytPy\n",
      "Intent Manutencoes was created with id 6ZRqEXgB-J8onNE9y9MK\n",
      "Intent Marcar_Falta_Colaborador was created with id 6pRqEXgB-J8onNE9y9Ml\n",
      "Intent ME_Conta_Contábil was created with id 65RqEXgB-J8onNE9y9M-\n",
      "Intent Mistura_Cartao_Reembolso was created with id 7JRqEXgB-J8onNE9y9NZ\n",
      "Intent Modelo_Contrato was created with id 7ZRqEXgB-J8onNE9y9Nx\n",
      "Intent Nossa_Missao was created with id 7pRqEXgB-J8onNE9y9OL\n",
      "Intent Nossa_Visao was created with id 75RqEXgB-J8onNE9y9Ot\n",
      "Intent Novo_Colaborador was created with id 8JRqEXgB-J8onNE9y9PG\n",
      "Intent Novo_Portal_CoE_Gostou was created with id 8ZRqEXgB-J8onNE9y9Pf\n",
      "Intent Novo_Portal_CoE_NãoGostou was created with id 8pRqEXgB-J8onNE9y9P5\n",
      "Intent Orientacoes_PTP was created with id 85RqEXgB-J8onNE9zNMY\n",
      "Intent Pagamento_Ferias was created with id 9JRqEXgB-J8onNE9zNM1\n",
      "Intent Pagamento_Licenca_Maternidade was created with id 9ZRqEXgB-J8onNE9zNNR\n",
      "Intent Periodo_Amamentacao_Licenca_Maternidade was created with id 9pRqEXgB-J8onNE9zNNs\n",
      "Intent Periodo_Licenca_Maternidade was created with id 95RqEXgB-J8onNE9zNOk\n",
      "Intent Pessoas_Focadas_Excelencia was created with id -JRqEXgB-J8onNE9zNO_\n",
      "Intent Pessoas_Responsaveis_Juridico was created with id -ZRqEXgB-J8onNE9zNPf\n",
      "Intent Ponto_Colaborar_Não_Aparece was created with id -pRqEXgB-J8onNE9zNP5\n",
      "Intent Prazo_Ajuste_Ponto was created with id -5RqEXgB-J8onNE9zdMX\n",
      "Intent Prazo_Atendimento_Juridico was created with id _JRqEXgB-J8onNE9zdM2\n",
      "Intent Prazo_Juridico_Responder was created with id _ZRqEXgB-J8onNE9zdNR\n",
      "Intent Previdencia_Privada_Desconto was created with id _pRqEXgB-J8onNE9zdNu\n",
      "Intent Priorizar_Criacao_Pedidos was created with id _5RqEXgB-J8onNE9zdOK\n",
      "Intent Procedimento_Contrato_Assinado was created with id AJRqEXgB-J8onNE9zdSx\n",
      "Intent Procedimento_Recusado_Convenio was created with id AZRqEXgB-J8onNE9zdTU\n",
      "Intent Procedimentos_Concur was created with id ApRqEXgB-J8onNE9zdT0\n",
      "Intent Procedimentos_Convenio was created with id A5RqEXgB-J8onNE9ztQS\n",
      "Intent Proposito_CoE was created with id BJRqEXgB-J8onNE9ztQx\n",
      "Intent Proposta_Comercial_Juridico was created with id BZRqEXgB-J8onNE9ztRR\n",
      "Intent Proposta_Rubricada was created with id BpRqEXgB-J8onNE9ztRr\n",
      "Intent Prorrogacao_Licenca_Maternidade was created with id B5RqEXgB-J8onNE9ztSF\n",
      "Intent ReceberCancelar_Adiantamento_Salarial was created with id CJRqEXgB-J8onNE9ztSi\n",
      "Intent Receber_Cartao_Convenio was created with id CZRqEXgB-J8onNE9ztS9\n",
      "Intent Receber_Oficio was created with id CpRqEXgB-J8onNE9ztTa\n",
      "Intent Recebimento_Beneficio_Previdencia_Privada was created with id C5RqEXgB-J8onNE9z9QY\n",
      "Intent Reconhecer_Firma_Contrato was created with id DJRqEXgB-J8onNE9z9RV\n",
      "Intent Reembolso_Janta_HomeOffice was created with id DZRqEXgB-J8onNE9z9R4\n",
      "Intent Reembolso_Sem_Cobertura_Convenio was created with id DpRqEXgB-J8onNE9z9SW\n",
      "Intent Relatorio_Inconsistencias_Ponto was created with id D5RqEXgB-J8onNE9z9Sw\n",
      "Intent Relatorio_Old was created with id EJRqEXgB-J8onNE9z9TJ\n",
      "Intent Relatorio_Programacao_Ferias was created with id EZRqEXgB-J8onNE9z9Tk\n",
      "Intent Renovacao_Contrato_Veiculo was created with id EpRqEXgB-J8onNE9z9T8\n",
      "Intent Repassar_Gestao_Colaborador was created with id E5RqEXgB-J8onNE90NQY\n",
      "Intent Representantes_Legais was created with id FJRqEXgB-J8onNE90NQy\n",
      "Intent Resgatar_Previdencia was created with id FZRqEXgB-J8onNE90NRL\n",
      "Intent Responsabilidade_CoE was created with id FpRqEXgB-J8onNE90NRh\n",
      "Intent Retorno_Contrato_CMS_Não_Entendi was created with id F5RqEXgB-J8onNE90NR_\n",
      "Intent SegundaVia_Cartao_Ticketlog was created with id GJRqEXgB-J8onNE90NSa\n",
      "Intent SegundaVia_Vale_RefeicaoAlimentacao was created with id GZRqEXgB-J8onNE90NS5\n",
      "Intent Solicitacao_Aprovada_Proximo_Passo was created with id GpRqEXgB-J8onNE90NTU\n",
      "Intent Solicitacao_Negada_Documento_Aprovado was created with id G5RqEXgB-J8onNE90NTu\n",
      "Intent Solicitar_Cartao_Combustivel was created with id HJRqEXgB-J8onNE90dQK\n",
      "Intent Solicitar_Holerite was created with id HZRqEXgB-J8onNE90dQo\n",
      "Intent Solicitar_IRPF was created with id HpRqEXgB-J8onNE90dRE\n",
      "Intent Solicitar_Ponto_Pos_FechamentoReembolso was created with id H5RqEXgB-J8onNE90dRc\n",
      "Intent Solicitar_Procuracao was created with id IJRqEXgB-J8onNE90dR0\n",
      "Intent Solicitar_Troca_Veiculo was created with id IZRqEXgB-J8onNE90dSR\n",
      "Intent Status_Ferias_e_Programacao_Sem_Confirmação was created with id IpRqEXgB-J8onNE90dSs\n",
      "Intent Status_Item_Cancelado was created with id I5RqEXgB-J8onNE90dTN\n",
      "Intent Tecnologia_Facilitadora_Eficiencia was created with id JJRqEXgB-J8onNE90tQO\n",
      "Intent Testemunha_Contrato was created with id JZRqEXgB-J8onNE90tRD\n",
      "Intent Tipos_Reembolso was created with id JpRqEXgB-J8onNE90tRi\n",
      "Intent Transferencia_Veiculo was created with id J5RqEXgB-J8onNE90tR8\n",
      "Intent Transferir_Colaborador_Filial was created with id KJRqEXgB-J8onNE90tSf\n",
      "Intent Treinamento_Juridico was created with id KZRqEXgB-J8onNE90tS_\n",
      "Intent Tributacao_Previdencia_Privada was created with id KpRqEXgB-J8onNE90tTk\n",
      "Intent TrocaDevolucao_Ticketlog was created with id K5RqEXgB-J8onNE909QD\n",
      "Intent Usuario_Invalido_NaoCadastrado was created with id LJRqEXgB-J8onNE909Ql\n",
      "Intent Valor_13 was created with id LZRqEXgB-J8onNE909RD\n",
      "Intent Valor_Depositado_Vale_RefeicaoAlimentacao_Errado was created with id LpRqEXgB-J8onNE909Rm\n",
      "Intent Valores_Geral was created with id L5RqEXgB-J8onNE909SN\n",
      "Intent Valores_Política was created with id MJRqEXgB-J8onNE909Ss\n",
      "Intent Valores_Yara was created with id MZRqEXgB-J8onNE909TU\n",
      "Intent Veiculo_Definitivo was created with id MpRqEXgB-J8onNE909Tv\n",
      "Intent Veiculo_Disponiveis was created with id M5RqEXgB-J8onNE91NQK\n",
      "Intent Veiculo_Problema was created with id NJRqEXgB-J8onNE91NQp\n",
      "Intent Veiculo_Provisorio was created with id NZRqEXgB-J8onNE91NRI\n",
      "Intent Verificar_Banco_Horas was created with id NpRqEXgB-J8onNE91NRj\n",
      "Intent Verificar_Colaborador_Convenio was created with id N5RqEXgB-J8onNE91NR9\n",
      "Intent Verificar_Historico_Previdencia was created with id OJRqEXgB-J8onNE91NSW\n",
      "Intent Verificar_Numero_Carteirinha_Convenio was created with id OZRqEXgB-J8onNE91NSv\n",
      "Intent Verificar_Numero_Vale_RefeicaoAlimentacao was created with id OpRqEXgB-J8onNE91NTG\n",
      "Intent Verificar_Status_Ferias was created with id O5RqEXgB-J8onNE91NTh\n",
      "Intent Verificar_Valor_Locacao_Veiculo was created with id PJRqEXgB-J8onNE91NT6\n",
      "Intent Visao_Geral_Previdencia_Privada was created with id PZRqEXgB-J8onNE91dQV\n",
      "Intent Vizinho_Invadindo_Terreno was created with id PpRqEXgB-J8onNE91dQx\n"
     ]
    }
   ],
   "source": [
    "end_point = \"nlp_models/intents\"\n",
    "\n",
    "for intent in workspace[\"intents\"]:\n",
    "    r = requests.post(url_api+end_point, params=params, json=intent)\n",
    "    r = r.json()\n",
    "    if r[\"result\"] == \"created\":\n",
    "        print(\"Intent %s was created with id %s\"%(intent[\"intent\"],r[\"_id\"]))\n",
    "    else:\n",
    "        print(\"Intent %s was not created\"%intent[\"intent\"])"
   ]
  },
  {
   "cell_type": "code",
   "execution_count": 5,
   "metadata": {},
   "outputs": [
    {
     "data": {
      "text/plain": [
       "{'_id': 'D5RqEXgB-J8onNE9z9Sw',\n",
       " '_index': 'nlp_model-dc1e7b3d-9137-4a20-a99c-d0d2029ef170-08032021073744',\n",
       " '_score': 4.9698133,\n",
       " '_source': {'description': '',\n",
       "  'doc_type': 'intent',\n",
       "  'examples': [{'text': 'Como faço para ver os erros do meu ponto?'},\n",
       "   {'text': 'Devo abrir um chamado para solicitar um relatório de inconsistências do ponto?'},\n",
       "   {'text': 'Gostaria de saber quantas inconsistências de ponto existe na minha equipe?'},\n",
       "   {'text': 'Necessito de um relatório de inconsistências, onde posso obter?'},\n",
       "   {'text': 'preciso de um relatorio de inconsistencias do ponto dos meus colaboradores, onde eu acho isso?'},\n",
       "   {'text': 'Quantas marcações ímpares há na minha equipe?'}],\n",
       "  'intent': 'Relatorio_Inconsistencias_Ponto'},\n",
       " '_type': '_doc'}"
      ]
     },
     "execution_count": 5,
     "metadata": {},
     "output_type": "execute_result"
    }
   ],
   "source": [
    "r = requests.get(url_api+end_point, params={\"workspace_id\": \"dc1e7b3d-9137-4a20-a99c-d0d2029ef170\",\n",
    "                                            \"intent_name\": \"Relatorio_Inconsistencias_Ponto\"})\n",
    "r = r.json()\n",
    "r"
   ]
  },
  {
   "cell_type": "code",
   "execution_count": 6,
   "metadata": {},
   "outputs": [
    {
     "data": {
      "text/plain": [
       "{'_id': 'D5RqEXgB-J8onNE9z9Sw',\n",
       " '_index': 'nlp_model-dc1e7b3d-9137-4a20-a99c-d0d2029ef170-08032021073744',\n",
       " '_score': 5.105079,\n",
       " '_source': {'artificial_examples': [{'constructed': 'devo abrir um chamar parir solicitar um relatório de inconsistência do pontar',\n",
       "    'original': 'Devo abrir um chamado para solicitar um relatório de inconsistências do ponto?'},\n",
       "   {'constructed': 'necessito de um relatório de inconsistência onde poder obter',\n",
       "    'original': 'Necessito de um relatório de inconsistências, onde posso obter?'}],\n",
       "  'description': '',\n",
       "  'doc_type': 'intent',\n",
       "  'examples': [{'text': 'Como faço para ver os erros do meu ponto?'},\n",
       "   {'text': 'Devo abrir um chamado para solicitar um relatório de inconsistências do ponto?'},\n",
       "   {'text': 'Gostaria de saber quantas inconsistências de ponto existe na minha equipe?'},\n",
       "   {'text': 'Necessito de um relatório de inconsistências, onde posso obter?'},\n",
       "   {'text': 'preciso de um relatorio de inconsistencias do ponto dos meus colaboradores, onde eu acho isso?'},\n",
       "   {'text': 'Quantas marcações ímpares há na minha equipe?'}],\n",
       "  'for_test': [{'text': 'Quantas marcações ímpares há na minha equipe?'},\n",
       "   {'text': 'devo abrir um chamar parir solicitar um relatório de inconsistência do pontar'},\n",
       "   {'text': 'necessito de um relatório de inconsistência onde poder obter'}],\n",
       "  'for_train': [{'text': 'Como faço para ver os erros do meu ponto?'},\n",
       "   {'text': 'Devo abrir um chamado para solicitar um relatório de inconsistências do ponto?'},\n",
       "   {'text': 'Gostaria de saber quantas inconsistências de ponto existe na minha equipe?'},\n",
       "   {'text': 'Necessito de um relatório de inconsistências, onde posso obter?'},\n",
       "   {'text': 'preciso de um relatorio de inconsistencias do ponto dos meus colaboradores, onde eu acho isso?'}],\n",
       "  'intent': 'Relatorio_Inconsistencias_Ponto'},\n",
       " '_type': '_doc'}"
      ]
     },
     "execution_count": 6,
     "metadata": {},
     "output_type": "execute_result"
    }
   ],
   "source": [
    "r = requests.get(url_api+end_point, params={\"workspace_id\": \"dc1e7b3d-9137-4a20-a99c-d0d2029ef170\",\n",
    "                                            \"intent_name\": \"Relatorio_Inconsistencias_Ponto\"})\n",
    "r = r.json()\n",
    "r"
   ]
  },
  {
   "cell_type": "markdown",
   "metadata": {},
   "source": [
    "# Watson Assistant"
   ]
  },
  {
   "cell_type": "markdown",
   "metadata": {},
   "source": [
    "#### 1º - Se Conectar ao Watson"
   ]
  },
  {
   "cell_type": "code",
   "execution_count": null,
   "metadata": {},
   "outputs": [],
   "source": [
    "import os\n",
    "import json\n",
    "from ibm_watson import AssistantV1\n",
    "from ibm_cloud_sdk_core.authenticators import IAMAuthenticator\n",
    "\n",
    "API_KEY = \"nA36HqlqQkQSDf0EywIeYGPl0qI_nNvLqvBUI_zhhUmR\" # os.environ['API_KEY']\n",
    "SERVICE_URL = \"https://api.us-south.assistant.watson.cloud.ibm.com/instances/12c017ac-1bb4-4364-8493-9cc9ba98aa26\" # os.environ['SERVICE_URL']\n",
    "# ASSISTANT_ID = \"11cdca6b-e73e-48fc-8523-13d9ee68df8b\" # os.environ['ASSISTANT_ID']"
   ]
  },
  {
   "cell_type": "markdown",
   "metadata": {},
   "source": [
    "#### 2º - Criar Skill"
   ]
  },
  {
   "cell_type": "code",
   "execution_count": null,
   "metadata": {},
   "outputs": [],
   "source": [
    "# criar skill\n",
    "authenticator = IAMAuthenticator(API_KEY)\n",
    "assistant = AssistantV1(\n",
    "    version='2020-04-01',\n",
    "    authenticator = authenticator\n",
    ")"
   ]
  },
  {
   "cell_type": "code",
   "execution_count": null,
   "metadata": {},
   "outputs": [],
   "source": [
    "def create_skill_for_test():\n",
    "    response=assistant.create_workspace(\n",
    "        name='teste-com-api-omni-06-03-2021',\n",
    "        language=\"pt-br\",\n",
    "        description='Skill para teste de acurácia'\n",
    "    ).get_result()\n",
    "    print(json.dumps(response, indent=2))\n",
    "    return response[\"workspace_id\"]\n",
    "    \n",
    "skill_id_test = create_skill_for_test()"
   ]
  },
  {
   "cell_type": "markdown",
   "metadata": {},
   "source": [
    "#### 3º - Adicionar Conteúdo (intents e entities)"
   ]
  },
  {
   "cell_type": "code",
   "execution_count": null,
   "metadata": {},
   "outputs": [],
   "source": [
    "from elastic_db.elasticsearch import elastic_conection, NLPmodelIndex\n",
    "\n",
    "es = elastic_conection()\n",
    "index = NLPmodelIndex(es=es, workspace_id=\"dc1e7b3d-9137-4a20-a99c-d0d2029ef170\")\n",
    "index.index_alias"
   ]
  },
  {
   "cell_type": "code",
   "execution_count": null,
   "metadata": {},
   "outputs": [],
   "source": [
    "def add_intents(intents, skill_id_test):\n",
    "    for intent in intents:\n",
    "        response=assistant.create_intent(\n",
    "            workspace_id=skill_id_test,\n",
    "            intent=intent[\"intent\"],\n",
    "            examples=intent[\"for_train\"]\n",
    "        ).get_result()\n",
    "        print(\"Intenção %s criada!\"%response[\"intent\"])\n",
    "        \n",
    "query = {\n",
    "  \"size\": 1000, \n",
    "  \"query\": {\n",
    "    \"term\": {\n",
    "      \"doc_type.keyword\": \"intent\"\n",
    "    }\n",
    "  }\n",
    "}\n",
    "\n",
    "intents = es.search(index=index.index_alias, body=query)\n",
    "intents = [result[\"_source\"] for result in intents[\"hits\"][\"hits\"]]\n",
    "add_intents(intents, skill_id_test)"
   ]
  },
  {
   "cell_type": "markdown",
   "metadata": {},
   "source": [
    "#### 4º - Função para se comunicar com Skill criada"
   ]
  },
  {
   "cell_type": "code",
   "execution_count": null,
   "metadata": {},
   "outputs": [],
   "source": [
    "skill_id_test = \"8b1f8007-c5dd-4366-b48a-34bf295a929c\""
   ]
  },
  {
   "cell_type": "code",
   "execution_count": null,
   "metadata": {},
   "outputs": [],
   "source": [
    "import json\n",
    "from ibm_watson import AssistantV1\n",
    "from ibm_cloud_sdk_core.authenticators import IAMAuthenticator\n",
    "\n",
    "authenticator = IAMAuthenticator(API_KEY)\n",
    "assistant = AssistantV1(\n",
    "    version='2020-04-01',\n",
    "    authenticator = authenticator\n",
    ")\n",
    "\n",
    "assistant.set_service_url(SERVICE_URL)\n",
    "\n",
    "def watson_predict(sentence):\n",
    "    response = assistant.message(\n",
    "        workspace_id=skill_id_test,\n",
    "        input={\n",
    "            'message_type': 'text',\n",
    "            'text': sentence\n",
    "        }\n",
    "    ).get_result()\n",
    "    if response.get(\"intents\") and response[\"intents\"]:\n",
    "        return (response[\"intents\"][0][\"intent\"], response[\"intents\"][0][\"confidence\"])\n",
    "    else:\n",
    "        return \"failed to identify\", -1.0"
   ]
  },
  {
   "cell_type": "markdown",
   "metadata": {},
   "source": [
    "# Battle Omni NLP API vs. Watson Assistent"
   ]
  },
  {
   "cell_type": "code",
   "execution_count": null,
   "metadata": {},
   "outputs": [],
   "source": [
    "from elasticsearch import Elasticsearch\n",
    "\n",
    "query = {\n",
    "      \"size\": 1000,\n",
    "      \"query\": {\n",
    "        \"term\": {\n",
    "          \"doc_type.keyword\": \"intent\"\n",
    "        }\n",
    "      }\n",
    "    }\n",
    "\n",
    "es = Elasticsearch([{'host':\"localhost\",'port':9200}])\n",
    "\n",
    "intents = es.search(index=\"nlp_model-dc1e7b3d-9137-4a20-a99c-d0d2029ef170\", body=query)\n",
    "intents = [result[\"_source\"] for result in intents[\"hits\"][\"hits\"]]\n",
    "train_examples = []\n",
    "test_examples = []\n",
    "for intent in intents:\n",
    "    intent_name = intent[\"intent\"]\n",
    "    train_examples += [(example[\"text\"], intent_name) for example in intent[\"for_train\"]]\n",
    "    test_examples += [(example[\"text\"], intent_name) for example in intent[\"for_test\"]]"
   ]
  },
  {
   "cell_type": "code",
   "execution_count": null,
   "metadata": {},
   "outputs": [],
   "source": [
    "print(len(train_examples), len(test_examples))"
   ]
  },
  {
   "cell_type": "code",
   "execution_count": null,
   "metadata": {},
   "outputs": [],
   "source": [
    "692/(1039+692)"
   ]
  },
  {
   "cell_type": "code",
   "execution_count": null,
   "metadata": {},
   "outputs": [],
   "source": [
    "url = url_api+\"nlp_model/resources/classify/\"\n",
    "omni_right_answer = 0\n",
    "watson_right_answer = 0\n",
    "for test in test_examples:\n",
    "    params[\"sentence\"] = test[0]\n",
    "    r = requests.get(url, params=params)\n",
    "    omni_result = r.json()\n",
    "    watson_result = watson_predict(test[0])\n",
    "    print(\"-------------------------------------------\")\n",
    "    print(\"sentence: %s\"%test[0])\n",
    "    print(\"\\n\")\n",
    "    print(\"Omni NLP API\\n\")\n",
    "    print(\"predict_intent: %s\"%omni_result[\"intents\"][0][\"intent\"])\n",
    "    print(\"score: %.2f\"%omni_result[\"intents\"][0][\"confidence\"])\n",
    "    print(\"right_intent: %s\"%test[1])\n",
    "    if omni_result[\"intents\"][0][\"intent\"] == test[1]:\n",
    "        omni_right_answer += 1\n",
    "        print(\"is it right?: yes\")\n",
    "    else:\n",
    "         print(\"is it right?: no\")\n",
    "    print(\"quantity of right answers: %s\" %omni_right_answer)\n",
    "    print(\"\\n\")\n",
    "    \n",
    "    print(\"Watson Assistent\\n\")\n",
    "    print(\"predict_intent: %s\"%watson_result[0])\n",
    "    print(\"score: %.2f\"%watson_result[1])\n",
    "    print(\"right_intent: %s\"%test[1])\n",
    "    if watson_result[0] == test[1]:\n",
    "        watson_right_answer += 1\n",
    "        print(\"is it right?: yes\")\n",
    "    else:\n",
    "         print(\"is it right?: no\")\n",
    "    print(\"quantity of right answers: %s\" %watson_right_answer)\n",
    "    print(\"\\n\")\n",
    "\n",
    "print(\"-------------------------------------------\\n\")\n",
    "print(\"Total of questions: %d\\n\"%len(test_examples))\n",
    "print(\"Omni NLP API\\n\") \n",
    "print(\"Total of right answers: %d\"%omni_right_answer)\n",
    "omni_acc = round(omni_right_answer/len(test_examples), 2)*100\n",
    "print(\"Accuracy: %s\\n\"%omni_acc)\n",
    "\n",
    "print(\"Watson Assistent\\n\") \n",
    "print(\"Total of right answers: %d\"%watson_right_answer)\n",
    "watson_acc = round(watson_right_answer/len(test_examples), 2)*100\n",
    "print(\"Accuracy: %s\"%watson_acc)"
   ]
  },
  {
   "cell_type": "code",
   "execution_count": null,
   "metadata": {},
   "outputs": [],
   "source": []
  }
 ],
 "metadata": {
  "kernelspec": {
   "display_name": "Python 3",
   "language": "python",
   "name": "python3"
  },
  "language_info": {
   "codemirror_mode": {
    "name": "ipython",
    "version": 3
   },
   "file_extension": ".py",
   "mimetype": "text/x-python",
   "name": "python",
   "nbconvert_exporter": "python",
   "pygments_lexer": "ipython3",
   "version": "3.6.13"
  }
 },
 "nbformat": 4,
 "nbformat_minor": 4
}
