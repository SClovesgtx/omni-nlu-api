{
 "cells": [
  {
   "cell_type": "markdown",
   "metadata": {},
   "source": [
    "# Omni NLP API"
   ]
  },
  {
   "cell_type": "markdown",
   "metadata": {},
   "source": [
    "### 1º - Adicionar Conteúdo para Treino"
   ]
  },
  {
   "cell_type": "code",
   "execution_count": 1,
   "metadata": {},
   "outputs": [],
   "source": [
    "import os\n",
    "\n",
    "# setting working dir\n",
    "os.chdir(\"../src\")"
   ]
  },
  {
   "cell_type": "code",
   "execution_count": 2,
   "metadata": {},
   "outputs": [
    {
     "data": {
      "text/plain": [
       "{'intent': 'Vizinho_Invadindo_Terreno',\n",
       " 'examples': [{'text': 'A unidade está sendo invadida. Quem pode ajudar?'},\n",
       "  {'text': 'Estamos com problema com vizinhos da unidade. Com quem posso falar?'},\n",
       "  {'text': 'Nosso terreno está sendo invadido pelo vizinho da unidade. O que fazer?'},\n",
       "  {'text': 'O vizinho da unidade está invadindo uma parte do imóvel da Yara. O que fazer?'}],\n",
       " 'description': ''}"
      ]
     },
     "execution_count": 2,
     "metadata": {},
     "output_type": "execute_result"
    }
   ],
   "source": [
    "# LER DADOS\n",
    "import json\n",
    "\n",
    "file = open('skills/skill-COE_YARA_PRD.json', \"r\") \n",
    "workspace = json.load(file)\n",
    "workspace[\"intents\"][-1]"
   ]
  },
  {
   "cell_type": "markdown",
   "metadata": {},
   "source": [
    "###### Entidades"
   ]
  },
  {
   "cell_type": "code",
   "execution_count": 4,
   "metadata": {},
   "outputs": [
    {
     "name": "stdout",
     "output_type": "stream",
     "text": [
      "Entity Assistencias was created with id rdQMvHgB25AvKfg7f7y9\n",
      "Entity CEP was created with id rtQMvHgB25AvKfg7hLwp\n",
      "Entity ContactInfo was created with id r9QMvHgB25AvKfg7iLxg\n",
      "Entity CulturaPlatacao was created with id sNQMvHgB25AvKfg7jLx_\n",
      "Entity DataProgramada was created with id sdQMvHgB25AvKfg7kLyf\n",
      "Entity Datas was created with id stQMvHgB25AvKfg7lLy4\n",
      "Entity DecimoTerceiro was created with id s9QMvHgB25AvKfg7mLzT\n",
      "Entity DetalheDesconto was created with id tNQMvHgB25AvKfg7nLzg\n",
      "Entity EntedidadesGerais was created with id tdQMvHgB25AvKfg7oLzz\n",
      "Entity EntidadeGeral was created with id ttQMvHgB25AvKfg7pbwH\n",
      "Entity hash was created with id t9QMvHgB25AvKfg7qbwZ\n",
      "Entity Institucional was created with id uNQMvHgB25AvKfg7rbwt\n",
      "Entity JornadasYara was created with id udQMvHgB25AvKfg7sbxd\n",
      "Entity LocalizacaoPlantacao was created with id utQMvHgB25AvKfg7tbxx\n",
      "Entity Previdencia was created with id u9QMvHgB25AvKfg7ubyI\n",
      "Entity Questao was created with id vNQMvHgB25AvKfg7vbyj\n",
      "Entity ReceberCancelarAdiantamentoSalarial was created with id vdQMvHgB25AvKfg7wby0\n",
      "Entity SimNao was created with id vtQMvHgB25AvKfg7xbzI\n",
      "Entity Tema was created with id v9QMvHgB25AvKfg7ybzc\n",
      "Entity ValidaWhats was created with id wNQMvHgB25AvKfg7zbzy\n"
     ]
    }
   ],
   "source": [
    "import requests\n",
    "import time\n",
    "\n",
    "url_api = \"http://api:5000/\"\n",
    "params = {'workspace_id': 'dc1e7b3d-9137-4a20-a99c-d0d2029ef170'}\n",
    "end_point = \"nlp_models/entities\"\n",
    "\n",
    "for entity in workspace[\"entities\"]:\n",
    "    if \"sys\" not in entity[\"entity\"].split(\"-\"):\n",
    "        time.sleep(1)\n",
    "        r = requests.post(url_api+end_point, params=params, json=entity)\n",
    "        r = r.json()\n",
    "        if r[\"result\"] == \"created\":\n",
    "            print(\"Entity %s was created with id %s\"%(entity[\"entity\"],r[\"_id\"]))\n",
    "        else:\n",
    "            print(\"Entity %s was not created\"%entity[\"entity\"])"
   ]
  },
  {
   "cell_type": "markdown",
   "metadata": {},
   "source": [
    "##### Intenções"
   ]
  },
  {
   "cell_type": "code",
   "execution_count": 5,
   "metadata": {},
   "outputs": [
    {
     "name": "stdout",
     "output_type": "stream",
     "text": [
      "Intent Abono was created with id wdQNvHgB25AvKfg7Xbxv\n",
      "Intent Abrir_Chamado_Salario was created with id wtQNvHgB25AvKfg7Xbyv\n",
      "Intent Acessar_CMS was created with id w9QNvHgB25AvKfg7Xbzm\n",
      "Intent Acessar_Concur was created with id xNQNvHgB25AvKfg7Xrwk\n",
      "Intent Acessar_Painel_Colaborador was created with id xdQNvHgB25AvKfg7XrxS\n",
      "Intent Acionista_Yara_GICS was created with id xtQNvHgB25AvKfg7XryM\n",
      "Intent Acompanhar_Saldo_Previdencia_Privada was created with id x9QNvHgB25AvKfg7Xry5\n",
      "Intent Acompanhar_Solicitacao was created with id yNQNvHgB25AvKfg7X7wk\n",
      "Intent Aderir_Beneficio_Previdencia_Privada was created with id ydQNvHgB25AvKfg7X7xL\n",
      "Intent Adiantamento_Duplicado was created with id ytQNvHgB25AvKfg7X7xw\n",
      "Intent Adiantamento_e_QuandoReceber_13_Salario was created with id y9QNvHgB25AvKfg7X7yT\n",
      "Intent Aditivar_Contrato was created with id zNQNvHgB25AvKfg7X7y4\n",
      "Intent Agendamento_Alteracao_Ferias was created with id zdQNvHgB25AvKfg7X7zb\n",
      "Intent Agilidade_Negocios was created with id ztQNvHgB25AvKfg7YLwB\n",
      "Intent Ajuda_Manual_CMS was created with id z9QNvHgB25AvKfg7YLws\n",
      "Intent Ajustar_Ponto was created with id 0NQNvHgB25AvKfg7YLxV\n",
      "Intent Ajuste_Informacao_Convenio was created with id 0dQNvHgB25AvKfg7YLyF\n",
      "Intent Alteracao_Beneficios_Previdencia was created with id 0tQNvHgB25AvKfg7YLyr\n",
      "Intent Alteracao_CargoSalario was created with id 09QNvHgB25AvKfg7YLzS\n",
      "Intent Alteracao_CC was created with id 1NQNvHgB25AvKfg7YbwZ\n",
      "Intent Alteração_ContratoProrrogacao was created with id 1dQNvHgB25AvKfg7YbxA\n",
      "Intent Alteração_Gestor was created with id 1tQNvHgB25AvKfg7Ybxy\n",
      "Intent Alterar_Aprovador was created with id 19QNvHgB25AvKfg7YbyX\n",
      "Intent Alterar_Cargo was created with id 2NQNvHgB25AvKfg7YbzA\n",
      "Intent Alterar_Centro_Custo was created with id 2dQNvHgB25AvKfg7Ybzr\n",
      "Intent Alterar_Conta_Pagamento was created with id 2tQNvHgB25AvKfg7YrwR\n",
      "Intent Alterar_Contrato was created with id 29QNvHgB25AvKfg7Yrwy\n",
      "Intent Alterar_EnquadramentoMerito was created with id 3NQNvHgB25AvKfg7YrxT\n",
      "Intent Alterar_Posicao was created with id 3dQNvHgB25AvKfg7Yrx2\n",
      "Intent Alterar_Promocao was created with id 3tQNvHgB25AvKfg7YryW\n",
      "Intent Alterar_Tipo_Registro_Ponto was created with id 39QNvHgB25AvKfg7Yry_\n",
      "Intent Alterar_Vale_RefeicaoAlimentacao was created with id 4NQNvHgB25AvKfg7Yrzj\n",
      "Intent Ambicao_CoE was created with id 4dQNvHgB25AvKfg7Y7wF\n",
      "Intent Ambiente_ConfiancaAgradavel was created with id 4tQNvHgB25AvKfg7Y7wo\n",
      "Intent Apresentacao_Institucional was created with id 49QNvHgB25AvKfg7Y7xN\n",
      "Intent Aprovações_YPP was created with id 5NQNvHgB25AvKfg7Y7xt\n",
      "Intent Aprovar_Solicitacao_Pendente_Ponto was created with id 5dQNvHgB25AvKfg7Y7ya\n",
      "Intent Arquivar_Contrato was created with id 5tQNvHgB25AvKfg7Y7y-\n",
      "Intent Assinar_Contrato was created with id 59QNvHgB25AvKfg7Y7zh\n",
      "Intent Assinar_Digitalmente_Contrato was created with id 6NQNvHgB25AvKfg7ZLwA\n",
      "Intent Bem_Estar was created with id 6dQNvHgB25AvKfg7ZLwf\n",
      "Intent Bonus_Mobilidade was created with id 6tQNvHgB25AvKfg7ZLw_\n",
      "Intent Bot_Capabilities was created with id 69QNvHgB25AvKfg7ZLxh\n",
      "Intent Branding was created with id 7NQNvHgB25AvKfg7ZLyD\n",
      "Intent Cadastro_Concur was created with id 7dQNvHgB25AvKfg7ZLyk\n",
      "Intent Canais_Atendimentos_CoE was created with id 7tQNvHgB25AvKfg7ZLzG\n",
      "Intent Cancelar_Previdencia was created with id 79QNvHgB25AvKfg7ZLzj\n",
      "Intent Cartao_Bloqueado_SenhaInvalida was created with id 8NQNvHgB25AvKfg7ZbwG\n",
      "Intent Cartao_Cancelado was created with id 8dQNvHgB25AvKfg7Zbw3\n",
      "Intent Cartao_Clonado_Cambial was created with id 8tQNvHgB25AvKfg7Zbxb\n",
      "Intent Colaboracao_CoE was created with id 89QNvHgB25AvKfg7ZbyK\n",
      "Intent Comprovant_CNPJ was created with id 9NQNvHgB25AvKfg7Zbyq\n",
      "Intent Comprovante_Pagamento_Juridico was created with id 9dQNvHgB25AvKfg7ZbzV\n",
      "Intent Concur_Cursos was created with id 9tQNvHgB25AvKfg7Zbz-\n",
      "Intent Concur_Delegacao was created with id 99QNvHgB25AvKfg7Zrws\n",
      "Intent Consultar_Procuracao was created with id -NQNvHgB25AvKfg7ZrxL\n",
      "Intent Conta_Bancaria was created with id -dQNvHgB25AvKfg7Zrxr\n",
      "Intent Contato_Operadora_Previdencia_Privada was created with id -tQNvHgB25AvKfg7ZryJ\n",
      "Intent Contracheque_Recebido_Sem_Constar_Conta was created with id -9QNvHgB25AvKfg7Zryn\n",
      "Intent Contracheque_Sem_Constar_Dependente_IRRF was created with id _NQNvHgB25AvKfg7ZrzG\n",
      "Intent Contrato_Aprovado_Proximo_Passo was created with id _dQNvHgB25AvKfg7Zrzj\n",
      "Intent Contrato_Devolvido_Juridico was created with id _tQNvHgB25AvKfg7Z7wB\n",
      "Intent Contrato_Social_ou_Estatuto_Empresa was created with id _9QNvHgB25AvKfg7Z7wl\n",
      "Intent Contribuicoes_Previdencia_Privada was created with id ANQNvHgB25AvKfg7Z71E\n",
      "Intent Controladoria_Juridica was created with id AdQNvHgB25AvKfg7Z71j\n",
      "Intent Criar_Posição was created with id AtQNvHgB25AvKfg7Z72C\n",
      "Intent Curiosidade_CoE was created with id A9QNvHgB25AvKfg7Z72j\n",
      "Intent Custo_Movimentação_Estado was created with id BNQNvHgB25AvKfg7Z73D\n",
      "Intent Data_Entrega_Veiculo_Definitivo was created with id BdQNvHgB25AvKfg7Z73g\n",
      "Intent Data_Envio_Vale_RefeicaoAlimentacao was created with id BtQNvHgB25AvKfg7aL0B\n",
      "Intent Data_Limite_Ferias was created with id B9QNvHgB25AvKfg7aL0i\n",
      "Intent Data_Pagamento_Salario was created with id CNQNvHgB25AvKfg7aL0_\n",
      "Intent Data_Pagamento_Vale_RefeicaoAlimentação was created with id CdQNvHgB25AvKfg7aL1c\n",
      "Intent Desconto_em_Folha was created with id CtQNvHgB25AvKfg7aL16\n",
      "Intent Despesa_Pessoal_Marcado_Relatorio_Concur was created with id C9QNvHgB25AvKfg7aL2Y\n",
      "Intent Detalhe_Sobre_Desconto was created with id DNQNvHgB25AvKfg7aL20\n",
      "Intent Devolucao_Veiculo was created with id DdQNvHgB25AvKfg7aL3f\n",
      "Intent Diferenca_Previdencia_Privada was created with id DtQNvHgB25AvKfg7ab0A\n",
      "Intent Direcao_Defensiva was created with id D9QNvHgB25AvKfg7ab0f\n",
      "Intent Direito_ao_13 was created with id ENQNvHgB25AvKfg7ab0_\n",
      "Intent Divisao_Ferias was created with id EdQNvHgB25AvKfg7ab1h\n",
      "Intent Documento_Oficial_Justica was created with id EtQNvHgB25AvKfg7ab2G\n",
      "Intent Documento_Sem_Carimbo_Juridico was created with id E9QNvHgB25AvKfg7ab2_\n",
      "Intent Download_Aplicativo_Convenio was created with id FNQNvHgB25AvKfg7ab3h\n",
      "Intent Duvida_Formularo_Adesao_Previdencia was created with id FdQNvHgB25AvKfg7ab3-\n",
      "Intent Duvidas_Benefícios was created with id FtQNvHgB25AvKfg7ar0e\n",
      "Intent Duvidas_Celular_Corporativo was created with id F9QNvHgB25AvKfg7ar0-\n",
      "Intent Duvidas_Despesas was created with id GNQNvHgB25AvKfg7ar1f\n",
      "Intent Duvidas_Funcoes_Cartao was created with id GdQNvHgB25AvKfg7ar2B\n",
      "Intent Duvidas_Outro_CC was created with id GtQNvHgB25AvKfg7ar2g\n",
      "Intent Elegibilidade_Previdencia_Privada was created with id G9QNvHgB25AvKfg7ar29\n",
      "Intent Emissoes_Cartao was created with id HNQNvHgB25AvKfg7ar3b\n",
      "Intent Empresa_Seguro_Frota was created with id HdQNvHgB25AvKfg7ar36\n",
      "Intent Espirito_Servir was created with id HtQNvHgB25AvKfg7a70X\n",
      "Intent Esquecer_Senha_Vale_RefeicaoAlimentacao was created with id H9QNvHgB25AvKfg7a702\n",
      "Intent Exclusoes_Concur was created with id INQNvHgB25AvKfg7a71X\n",
      "Intent Ex_Colaborador_Resgate_Previdencia was created with id IdQNvHgB25AvKfg7a711\n",
      "Intent Extensao_Contrato was created with id ItQNvHgB25AvKfg7a72T\n",
      "Intent Extrair_Relatorio_Ponto_Todos_Colaboradores was created with id I9QNvHgB25AvKfg7a72x\n",
      "Intent Extrato_Plano was created with id JNQNvHgB25AvKfg7bL0C\n",
      "Intent Fazer_Contrato was created with id JdQNvHgB25AvKfg7bL0n\n",
      "Intent Foco_Cliente was created with id JtQNvHgB25AvKfg7bL1G\n",
      "Intent Funcoes_Cartao_Corporativo was created with id J9QNvHgB25AvKfg7bL1m\n",
      "Intent Fundacao_Valores was created with id KNQNvHgB25AvKfg7bL2H\n",
      "Intent General_Ending was created with id KdQNvHgB25AvKfg7bL2m\n",
      "Intent General_Greetings was created with id KtQNvHgB25AvKfg7bL3H\n",
      "Intent General_Negative_Feedback was created with id K9QNvHgB25AvKfg7bL3o\n",
      "Intent General_Positive_Feedback was created with id LNQNvHgB25AvKfg7bb0J\n",
      "Intent Gestor_Responsavel_Departamento_Juridico was created with id LdQNvHgB25AvKfg7bb0p\n",
      "Intent Hora_Extra was created with id LtQNvHgB25AvKfg7bb1H\n",
      "Intent Imposto_Renda_Previdencia_Privada was created with id L9QNvHgB25AvKfg7bb1t\n",
      "Intent Inativar_Posição was created with id MNQNvHgB25AvKfg7bb2X\n",
      "Intent Incluir_Colaborador_Convenio was created with id MdQNvHgB25AvKfg7bb22\n",
      "Intent Incluir_Dependente_Plano_Saude was created with id MtQNvHgB25AvKfg7br0T\n",
      "Intent IncluirRemover_Colaborador was created with id M9QNvHgB25AvKfg7br1X\n",
      "Intent Inconformidades_Legais was created with id NNQNvHgB25AvKfg7br2O\n",
      "Intent Info_Concur_SAP was created with id NdQNvHgB25AvKfg7br29\n",
      "Intent Informacao_Geral_Sistemas was created with id NtQNvHgB25AvKfg7br3o\n",
      "Intent Informacoes_Relatorio_Aberto was created with id N9QNvHgB25AvKfg7b70J\n",
      "Intent Informacoes_Relatorio_Gerais was created with id ONQNvHgB25AvKfg7b700\n",
      "Intent Informacoes_Relatorio_Nao_Aprovado was created with id OdQNvHgB25AvKfg7b71d\n",
      "Intent Licenca_Mais_Ferias was created with id OtQNvHgB25AvKfg7b72T\n",
      "Intent Localizar_Veiculo was created with id O9QNvHgB25AvKfg7b73d\n",
      "Intent Manutencoes was created with id PNQNvHgB25AvKfg7cL0X\n",
      "Intent Marcar_Falta_Colaborador was created with id PdQNvHgB25AvKfg7cL02\n",
      "Intent Mistura_Cartao_Reembolso was created with id PtQNvHgB25AvKfg7cL1Y\n",
      "Intent Modelo_Contrato was created with id P9QNvHgB25AvKfg7cL17\n",
      "Intent Nossa_Missao was created with id QNQNvHgB25AvKfg7cL2p\n",
      "Intent Nossa_Visao was created with id QdQNvHgB25AvKfg7cL3X\n",
      "Intent Novo_Colaborador was created with id QtQNvHgB25AvKfg7cb0B\n",
      "Intent Novo_Portal_CoE_Gostou was created with id Q9QNvHgB25AvKfg7cb0m\n",
      "Intent Novo_Portal_CoE_NãoGostou was created with id RNQNvHgB25AvKfg7cb1L\n",
      "Intent Orientacoes_PTP was created with id RdQNvHgB25AvKfg7cb2G\n",
      "Intent Pagamento_Ferias was created with id RtQNvHgB25AvKfg7cb2w\n",
      "Intent Pagamento_Licenca_Maternidade was created with id R9QNvHgB25AvKfg7cb3b\n",
      "Intent Periodo_Amamentacao_Licenca_Maternidade was created with id SNQNvHgB25AvKfg7cr0Q\n",
      "Intent Periodo_Licenca_Maternidade was created with id SdQNvHgB25AvKfg7cr1W\n",
      "Intent Pessoas_Focadas_Excelencia was created with id StQNvHgB25AvKfg7cr2v\n",
      "Intent Pessoas_Responsaveis_Juridico was created with id S9QNvHgB25AvKfg7cr35\n",
      "Intent Ponto_Colaborar_Não_Aparece was created with id TNQNvHgB25AvKfg7c70b\n",
      "Intent Prazo_Ajuste_Ponto was created with id TdQNvHgB25AvKfg7c71V\n",
      "Intent Prazo_Atendimento_Juridico was created with id TtQNvHgB25AvKfg7c72O\n",
      "Intent Prazo_Juridico_Responder was created with id T9QNvHgB25AvKfg7c724\n",
      "Intent Previdencia_Privada_Desconto was created with id UNQNvHgB25AvKfg7c73f\n",
      "Intent Procedimento_Contrato_Assinado was created with id UdQNvHgB25AvKfg7dL0D\n",
      "Intent Procedimento_Recusado_Convenio was created with id UtQNvHgB25AvKfg7dL0n\n",
      "Intent Procedimentos_Concur was created with id U9QNvHgB25AvKfg7dL1X\n",
      "Intent Procedimentos_Convenio was created with id VNQNvHgB25AvKfg7dL13\n",
      "Intent Proposito_CoE was created with id VdQNvHgB25AvKfg7dL2Z\n",
      "Intent Proposta_Comercial_Juridico was created with id VtQNvHgB25AvKfg7dL3T\n",
      "Intent Proposta_Rubricada was created with id V9QNvHgB25AvKfg7db0X\n",
      "Intent Prorrogacao_Licenca_Maternidade was created with id WNQNvHgB25AvKfg7db1i\n",
      "Intent ReceberCancelar_Adiantamento_Salarial was created with id WdQNvHgB25AvKfg7db22\n",
      "Intent Receber_Cartao_Convenio was created with id WtQNvHgB25AvKfg7db3n\n",
      "Intent Receber_Oficio was created with id W9QNvHgB25AvKfg7dr0E\n",
      "Intent Recebimento_Beneficio_Previdencia_Privada was created with id XNQNvHgB25AvKfg7dr01\n",
      "Intent Reconhecer_Firma_Contrato was created with id XdQNvHgB25AvKfg7dr1c\n",
      "Intent Reembolso_Janta_HomeOffice was created with id XtQNvHgB25AvKfg7dr2M\n",
      "Intent Reembolso_Sem_Cobertura_Convenio was created with id X9QNvHgB25AvKfg7dr3P\n",
      "Intent Relatorio_Inconsistencias_Ponto was created with id YNQNvHgB25AvKfg7d70A\n",
      "Intent Relatorio_Old was created with id YdQNvHgB25AvKfg7d70t\n",
      "Intent Relatorio_Programacao_Ferias was created with id YtQNvHgB25AvKfg7d71L\n",
      "Intent Renovacao_Contrato_Veiculo was created with id Y9QNvHgB25AvKfg7d71w\n",
      "Intent Repassar_Gestao_Colaborador was created with id ZNQNvHgB25AvKfg7d72V\n",
      "Intent Representantes_Legais was created with id ZdQNvHgB25AvKfg7d73A\n",
      "Intent Resgatar_Previdencia was created with id ZtQNvHgB25AvKfg7d73y\n",
      "Intent Responsabilidade_CoE was created with id Z9QNvHgB25AvKfg7eL0e\n",
      "Intent Retorno_Contrato_CMS_Não_Entendi was created with id aNQNvHgB25AvKfg7eL0_\n",
      "Intent SegundaVia_Cartao_Ticketlog was created with id adQNvHgB25AvKfg7eL1h\n",
      "Intent SegundaVia_Vale_RefeicaoAlimentacao was created with id atQNvHgB25AvKfg7eL1-\n",
      "Intent Solicitacao_Aprovada_Proximo_Passo was created with id a9QNvHgB25AvKfg7eL2e\n",
      "Intent Solicitacao_Negada_Documento_Aprovado was created with id bNQNvHgB25AvKfg7eL3E\n",
      "Intent Solicitar_Cartao_Combustivel was created with id bdQNvHgB25AvKfg7eL3v\n",
      "Intent Solicitar_Holerite was created with id btQNvHgB25AvKfg7eb0V\n",
      "Intent Solicitar_IRPF was created with id b9QNvHgB25AvKfg7eb07\n",
      "Intent Solicitar_Ponto_Pos_FechamentoReembolso was created with id cNQNvHgB25AvKfg7eb1j\n",
      "Intent Solicitar_Procuracao was created with id cdQNvHgB25AvKfg7eb2W\n",
      "Intent Solicitar_Troca_Veiculo was created with id ctQNvHgB25AvKfg7eb3H\n",
      "Intent Status_Ferias_e_Programacao_Sem_Confirmação was created with id c9QNvHgB25AvKfg7eb3o\n",
      "Intent Tecnologia_Facilitadora_Eficiencia was created with id dNQNvHgB25AvKfg7er0V\n",
      "Intent Testemunha_Contrato was created with id ddQNvHgB25AvKfg7er1I\n",
      "Intent Tipos_Reembolso was created with id dtQNvHgB25AvKfg7er2A\n",
      "Intent Transferencia_Veiculo was created with id d9QNvHgB25AvKfg7er24\n",
      "Intent Transferir_Colaborador_Filial was created with id eNQNvHgB25AvKfg7er3k\n",
      "Intent Treinamento_Juridico was created with id edQNvHgB25AvKfg7e70N\n",
      "Intent Tributacao_Previdencia_Privada was created with id etQNvHgB25AvKfg7e70v\n",
      "Intent TrocaDevolucao_Ticketlog was created with id e9QNvHgB25AvKfg7e71u\n",
      "Intent Usuario_Invalido_NaoCadastrado was created with id fNQNvHgB25AvKfg7e72h\n",
      "Intent Valor_13 was created with id fdQNvHgB25AvKfg7e73Q\n",
      "Intent Valor_Depositado_Vale_RefeicaoAlimentacao_Errado was created with id ftQNvHgB25AvKfg7fL0F\n",
      "Intent Valores_Geral was created with id f9QNvHgB25AvKfg7fL0u\n",
      "Intent Valores_Política was created with id gNQNvHgB25AvKfg7fL1S\n",
      "Intent Valores_Yara was created with id gdQNvHgB25AvKfg7fL13\n",
      "Intent Veiculo_Definitivo was created with id gtQNvHgB25AvKfg7fL2X\n",
      "Intent Veiculo_Disponiveis was created with id g9QNvHgB25AvKfg7fL28\n",
      "Intent Veiculo_Problema was created with id hNQNvHgB25AvKfg7fL3m\n",
      "Intent Veiculo_Provisorio was created with id hdQNvHgB25AvKfg7fb0I\n",
      "Intent Verificar_Banco_Horas was created with id htQNvHgB25AvKfg7fb0x\n",
      "Intent Verificar_Colaborador_Convenio was created with id h9QNvHgB25AvKfg7fb1j\n",
      "Intent Verificar_Historico_Previdencia was created with id iNQNvHgB25AvKfg7fb2R\n",
      "Intent Verificar_Numero_Carteirinha_Convenio was created with id idQNvHgB25AvKfg7fb3A\n",
      "Intent Verificar_Numero_Vale_RefeicaoAlimentacao was created with id itQNvHgB25AvKfg7fb3t\n",
      "Intent Verificar_Status_Ferias was created with id i9QNvHgB25AvKfg7fr0k\n",
      "Intent Verificar_Valor_Locacao_Veiculo was created with id jNQNvHgB25AvKfg7fr1Z\n",
      "Intent Visao_Geral_Previdencia_Privada was created with id jdQNvHgB25AvKfg7fr1-\n",
      "Intent Vizinho_Invadindo_Terreno was created with id jtQNvHgB25AvKfg7fr2-\n"
     ]
    }
   ],
   "source": [
    "end_point = \"nlp_models/intents\"\n",
    "\n",
    "for intent in workspace[\"intents\"]:\n",
    "    r = requests.post(url_api+end_point, params=params, json=intent)\n",
    "    r = r.json()\n",
    "    if r[\"result\"] == \"created\":\n",
    "        print(\"Intent %s was created with id %s\"%(intent[\"intent\"],r[\"_id\"]))\n",
    "    else:\n",
    "        print(\"Intent %s was not created\"%intent[\"intent\"])"
   ]
  },
  {
   "cell_type": "code",
   "execution_count": 5,
   "metadata": {},
   "outputs": [
    {
     "data": {
      "text/plain": [
       "{'_id': 'D5RqEXgB-J8onNE9z9Sw',\n",
       " '_index': 'nlp_model-dc1e7b3d-9137-4a20-a99c-d0d2029ef170-08032021073744',\n",
       " '_score': 4.9698133,\n",
       " '_source': {'description': '',\n",
       "  'doc_type': 'intent',\n",
       "  'examples': [{'text': 'Como faço para ver os erros do meu ponto?'},\n",
       "   {'text': 'Devo abrir um chamado para solicitar um relatório de inconsistências do ponto?'},\n",
       "   {'text': 'Gostaria de saber quantas inconsistências de ponto existe na minha equipe?'},\n",
       "   {'text': 'Necessito de um relatório de inconsistências, onde posso obter?'},\n",
       "   {'text': 'preciso de um relatorio de inconsistencias do ponto dos meus colaboradores, onde eu acho isso?'},\n",
       "   {'text': 'Quantas marcações ímpares há na minha equipe?'}],\n",
       "  'intent': 'Relatorio_Inconsistencias_Ponto'},\n",
       " '_type': '_doc'}"
      ]
     },
     "execution_count": 5,
     "metadata": {},
     "output_type": "execute_result"
    }
   ],
   "source": [
    "r = requests.get(url_api+end_point, params={\"workspace_id\": \"dc1e7b3d-9137-4a20-a99c-d0d2029ef170\",\n",
    "                                            \"intent_name\": \"Relatorio_Inconsistencias_Ponto\"})\n",
    "r = r.json()\n",
    "r"
   ]
  },
  {
   "cell_type": "code",
   "execution_count": 6,
   "metadata": {},
   "outputs": [
    {
     "data": {
      "text/plain": [
       "{'_id': 'D5RqEXgB-J8onNE9z9Sw',\n",
       " '_index': 'nlp_model-dc1e7b3d-9137-4a20-a99c-d0d2029ef170-08032021073744',\n",
       " '_score': 5.105079,\n",
       " '_source': {'artificial_examples': [{'constructed': 'devo abrir um chamar parir solicitar um relatório de inconsistência do pontar',\n",
       "    'original': 'Devo abrir um chamado para solicitar um relatório de inconsistências do ponto?'},\n",
       "   {'constructed': 'necessito de um relatório de inconsistência onde poder obter',\n",
       "    'original': 'Necessito de um relatório de inconsistências, onde posso obter?'}],\n",
       "  'description': '',\n",
       "  'doc_type': 'intent',\n",
       "  'examples': [{'text': 'Como faço para ver os erros do meu ponto?'},\n",
       "   {'text': 'Devo abrir um chamado para solicitar um relatório de inconsistências do ponto?'},\n",
       "   {'text': 'Gostaria de saber quantas inconsistências de ponto existe na minha equipe?'},\n",
       "   {'text': 'Necessito de um relatório de inconsistências, onde posso obter?'},\n",
       "   {'text': 'preciso de um relatorio de inconsistencias do ponto dos meus colaboradores, onde eu acho isso?'},\n",
       "   {'text': 'Quantas marcações ímpares há na minha equipe?'}],\n",
       "  'for_test': [{'text': 'Quantas marcações ímpares há na minha equipe?'},\n",
       "   {'text': 'devo abrir um chamar parir solicitar um relatório de inconsistência do pontar'},\n",
       "   {'text': 'necessito de um relatório de inconsistência onde poder obter'}],\n",
       "  'for_train': [{'text': 'Como faço para ver os erros do meu ponto?'},\n",
       "   {'text': 'Devo abrir um chamado para solicitar um relatório de inconsistências do ponto?'},\n",
       "   {'text': 'Gostaria de saber quantas inconsistências de ponto existe na minha equipe?'},\n",
       "   {'text': 'Necessito de um relatório de inconsistências, onde posso obter?'},\n",
       "   {'text': 'preciso de um relatorio de inconsistencias do ponto dos meus colaboradores, onde eu acho isso?'}],\n",
       "  'intent': 'Relatorio_Inconsistencias_Ponto'},\n",
       " '_type': '_doc'}"
      ]
     },
     "execution_count": 6,
     "metadata": {},
     "output_type": "execute_result"
    }
   ],
   "source": [
    "r = requests.get(url_api+end_point, params={\"workspace_id\": \"dc1e7b3d-9137-4a20-a99c-d0d2029ef170\",\n",
    "                                            \"intent_name\": \"Relatorio_Inconsistencias_Ponto\"})\n",
    "r = r.json()\n",
    "r"
   ]
  },
  {
   "cell_type": "markdown",
   "metadata": {},
   "source": [
    "# Watson Assistant"
   ]
  },
  {
   "cell_type": "markdown",
   "metadata": {},
   "source": [
    "#### 1º - Se Conectar ao Watson"
   ]
  },
  {
   "cell_type": "code",
   "execution_count": null,
   "metadata": {},
   "outputs": [],
   "source": [
    "import os\n",
    "import json\n",
    "from ibm_watson import AssistantV1\n",
    "from ibm_cloud_sdk_core.authenticators import IAMAuthenticator\n",
    "\n",
    "API_KEY = \"nA36HqlqQkQSDf0EywIeYGPl0qI_nNvLqvBUI_zhhUmR\" # os.environ['API_KEY']\n",
    "SERVICE_URL = \"https://api.us-south.assistant.watson.cloud.ibm.com/instances/12c017ac-1bb4-4364-8493-9cc9ba98aa26\" # os.environ['SERVICE_URL']\n",
    "# ASSISTANT_ID = \"11cdca6b-e73e-48fc-8523-13d9ee68df8b\" # os.environ['ASSISTANT_ID']"
   ]
  },
  {
   "cell_type": "markdown",
   "metadata": {},
   "source": [
    "#### 2º - Criar Skill"
   ]
  },
  {
   "cell_type": "code",
   "execution_count": null,
   "metadata": {},
   "outputs": [],
   "source": [
    "# criar skill\n",
    "authenticator = IAMAuthenticator(API_KEY)\n",
    "assistant = AssistantV1(\n",
    "    version='2020-04-01',\n",
    "    authenticator = authenticator\n",
    ")"
   ]
  },
  {
   "cell_type": "code",
   "execution_count": null,
   "metadata": {},
   "outputs": [],
   "source": [
    "def create_skill_for_test():\n",
    "    response=assistant.create_workspace(\n",
    "        name='teste-com-api-omni-06-03-2021',\n",
    "        language=\"pt-br\",\n",
    "        description='Skill para teste de acurácia'\n",
    "    ).get_result()\n",
    "    print(json.dumps(response, indent=2))\n",
    "    return response[\"workspace_id\"]\n",
    "    \n",
    "skill_id_test = create_skill_for_test()"
   ]
  },
  {
   "cell_type": "markdown",
   "metadata": {},
   "source": [
    "#### 3º - Adicionar Conteúdo (intents e entities)"
   ]
  },
  {
   "cell_type": "code",
   "execution_count": null,
   "metadata": {},
   "outputs": [],
   "source": [
    "from elastic_db.elasticsearch import elastic_conection, NLPmodelIndex\n",
    "\n",
    "es = elastic_conection()\n",
    "index = NLPmodelIndex(es=es, workspace_id=\"dc1e7b3d-9137-4a20-a99c-d0d2029ef170\")\n",
    "index.index_alias"
   ]
  },
  {
   "cell_type": "code",
   "execution_count": null,
   "metadata": {},
   "outputs": [],
   "source": [
    "def add_intents(intents, skill_id_test):\n",
    "    for intent in intents:\n",
    "        response=assistant.create_intent(\n",
    "            workspace_id=skill_id_test,\n",
    "            intent=intent[\"intent\"],\n",
    "            examples=intent[\"for_train\"]\n",
    "        ).get_result()\n",
    "        print(\"Intenção %s criada!\"%response[\"intent\"])\n",
    "        \n",
    "query = {\n",
    "  \"size\": 1000, \n",
    "  \"query\": {\n",
    "    \"term\": {\n",
    "      \"doc_type.keyword\": \"intent\"\n",
    "    }\n",
    "  }\n",
    "}\n",
    "\n",
    "intents = es.search(index=index.index_alias, body=query)\n",
    "intents = [result[\"_source\"] for result in intents[\"hits\"][\"hits\"]]\n",
    "add_intents(intents, skill_id_test)"
   ]
  },
  {
   "cell_type": "markdown",
   "metadata": {},
   "source": [
    "#### 4º - Função para se comunicar com Skill criada"
   ]
  },
  {
   "cell_type": "code",
   "execution_count": null,
   "metadata": {},
   "outputs": [],
   "source": [
    "skill_id_test = \"8b1f8007-c5dd-4366-b48a-34bf295a929c\""
   ]
  },
  {
   "cell_type": "code",
   "execution_count": null,
   "metadata": {},
   "outputs": [],
   "source": [
    "import json\n",
    "from ibm_watson import AssistantV1\n",
    "from ibm_cloud_sdk_core.authenticators import IAMAuthenticator\n",
    "\n",
    "authenticator = IAMAuthenticator(API_KEY)\n",
    "assistant = AssistantV1(\n",
    "    version='2020-04-01',\n",
    "    authenticator = authenticator\n",
    ")\n",
    "\n",
    "assistant.set_service_url(SERVICE_URL)\n",
    "\n",
    "def watson_predict(sentence):\n",
    "    response = assistant.message(\n",
    "        workspace_id=skill_id_test,\n",
    "        input={\n",
    "            'message_type': 'text',\n",
    "            'text': sentence\n",
    "        }\n",
    "    ).get_result()\n",
    "    if response.get(\"intents\") and response[\"intents\"]:\n",
    "        return (response[\"intents\"][0][\"intent\"], response[\"intents\"][0][\"confidence\"])\n",
    "    else:\n",
    "        return \"failed to identify\", -1.0"
   ]
  },
  {
   "cell_type": "markdown",
   "metadata": {},
   "source": [
    "# Battle Omni NLP API vs. Watson Assistent"
   ]
  },
  {
   "cell_type": "code",
   "execution_count": null,
   "metadata": {},
   "outputs": [],
   "source": [
    "from elasticsearch import Elasticsearch\n",
    "\n",
    "query = {\n",
    "      \"size\": 1000,\n",
    "      \"query\": {\n",
    "        \"term\": {\n",
    "          \"doc_type.keyword\": \"intent\"\n",
    "        }\n",
    "      }\n",
    "    }\n",
    "\n",
    "es = Elasticsearch([{'host':\"localhost\",'port':9200}])\n",
    "\n",
    "intents = es.search(index=\"nlp_model-dc1e7b3d-9137-4a20-a99c-d0d2029ef170\", body=query)\n",
    "intents = [result[\"_source\"] for result in intents[\"hits\"][\"hits\"]]\n",
    "train_examples = []\n",
    "test_examples = []\n",
    "for intent in intents:\n",
    "    intent_name = intent[\"intent\"]\n",
    "    train_examples += [(example[\"text\"], intent_name) for example in intent[\"for_train\"]]\n",
    "    test_examples += [(example[\"text\"], intent_name) for example in intent[\"for_test\"]]"
   ]
  },
  {
   "cell_type": "code",
   "execution_count": null,
   "metadata": {},
   "outputs": [],
   "source": [
    "print(len(train_examples), len(test_examples))"
   ]
  },
  {
   "cell_type": "code",
   "execution_count": null,
   "metadata": {},
   "outputs": [],
   "source": [
    "692/(1039+692)"
   ]
  },
  {
   "cell_type": "code",
   "execution_count": null,
   "metadata": {},
   "outputs": [],
   "source": [
    "url = url_api+\"nlp_model/resources/classify/\"\n",
    "omni_right_answer = 0\n",
    "watson_right_answer = 0\n",
    "for test in test_examples:\n",
    "    params[\"sentence\"] = test[0]\n",
    "    r = requests.get(url, params=params)\n",
    "    omni_result = r.json()\n",
    "    watson_result = watson_predict(test[0])\n",
    "    print(\"-------------------------------------------\")\n",
    "    print(\"sentence: %s\"%test[0])\n",
    "    print(\"\\n\")\n",
    "    print(\"Omni NLP API\\n\")\n",
    "    print(\"predict_intent: %s\"%omni_result[\"intents\"][0][\"intent\"])\n",
    "    print(\"score: %.2f\"%omni_result[\"intents\"][0][\"confidence\"])\n",
    "    print(\"right_intent: %s\"%test[1])\n",
    "    if omni_result[\"intents\"][0][\"intent\"] == test[1]:\n",
    "        omni_right_answer += 1\n",
    "        print(\"is it right?: yes\")\n",
    "    else:\n",
    "         print(\"is it right?: no\")\n",
    "    print(\"quantity of right answers: %s\" %omni_right_answer)\n",
    "    print(\"\\n\")\n",
    "    \n",
    "    print(\"Watson Assistent\\n\")\n",
    "    print(\"predict_intent: %s\"%watson_result[0])\n",
    "    print(\"score: %.2f\"%watson_result[1])\n",
    "    print(\"right_intent: %s\"%test[1])\n",
    "    if watson_result[0] == test[1]:\n",
    "        watson_right_answer += 1\n",
    "        print(\"is it right?: yes\")\n",
    "    else:\n",
    "         print(\"is it right?: no\")\n",
    "    print(\"quantity of right answers: %s\" %watson_right_answer)\n",
    "    print(\"\\n\")\n",
    "\n",
    "print(\"-------------------------------------------\\n\")\n",
    "print(\"Total of questions: %d\\n\"%len(test_examples))\n",
    "print(\"Omni NLP API\\n\") \n",
    "print(\"Total of right answers: %d\"%omni_right_answer)\n",
    "omni_acc = round(omni_right_answer/len(test_examples), 2)*100\n",
    "print(\"Accuracy: %s\\n\"%omni_acc)\n",
    "\n",
    "print(\"Watson Assistent\\n\") \n",
    "print(\"Total of right answers: %d\"%watson_right_answer)\n",
    "watson_acc = round(watson_right_answer/len(test_examples), 2)*100\n",
    "print(\"Accuracy: %s\"%watson_acc)"
   ]
  },
  {
   "cell_type": "code",
   "execution_count": null,
   "metadata": {},
   "outputs": [],
   "source": []
  }
 ],
 "metadata": {
  "kernelspec": {
   "display_name": "Python 3",
   "language": "python",
   "name": "python3"
  },
  "language_info": {
   "codemirror_mode": {
    "name": "ipython",
    "version": 3
   },
   "file_extension": ".py",
   "mimetype": "text/x-python",
   "name": "python",
   "nbconvert_exporter": "python",
   "pygments_lexer": "ipython3",
   "version": "3.6.13"
  }
 },
 "nbformat": 4,
 "nbformat_minor": 4
}
