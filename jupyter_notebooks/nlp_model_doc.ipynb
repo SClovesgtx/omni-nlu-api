{
 "cells": [
  {
   "cell_type": "markdown",
   "metadata": {},
   "source": [
    "```json\n",
    "{\n",
    "    \"workspace_id\": \"dc1e7b3d-9137-4a20-a99c-d0d2029ef170\",\n",
    "    \"customer_id\": \"yara\",\n",
    "    \"models\": [\n",
    "        {\n",
    "          \"model\": \"BM25\",\n",
    "          \"auto_tuning\": false,\n",
    "          \"parameters\": {\n",
    "            \"b\": 0.7,\n",
    "            \"k1\": 1.2\n",
    "          }\n",
    "        },\n",
    "        {\n",
    "          \"model\": \"neuralNetWork\",\n",
    "          \"auto_tuning\": false,\n",
    "          \"parameters\": {\n",
    "            \"intermediate_layers\": [\n",
    "                {\"number_of_neurons\": 900, \"activation_function\": \"relu\"},\n",
    "                {\"number_of_neurons\": 700, \"activation_function\": \"relu\"}\n",
    "            ],\n",
    "           \"loss_function\": \"categorical_crossentropy\",\n",
    "           \"epochs\": 100,\n",
    "           \"batch_size\": 100\n",
    "          }\n",
    "        },\n",
    "        {\n",
    "          \"model\": \"multinomialLogit\",\n",
    "          \"auto_tuning\": false,\n",
    "          \"parameters\": {\n",
    "            \"penalty\": \"elasticnet\",\n",
    "            \"C\": 1.0,\n",
    "            \"fit_intercept\": True,\n",
    "            \"solver\": \"lbfgs\"\n",
    "          }\n",
    "        },\n",
    "        {\n",
    "          \"model\": \"polySVM\",\n",
    "          \"auto_tuning\": false,\n",
    "          \"parameters\": {\n",
    "            \"kernel\": 'poly', \n",
    "            \"degree\": 1, \n",
    "            \"coef0\": 0.0\n",
    "          }\n",
    "        }\n",
    "        \n",
    "    ]\n",
    "   \"accuracies\": [\n",
    "      {\"model\": \"neuralNetWork\", \"accuracy\": 0.8092485666275024},\n",
    "      {\"model\": \"BM25\", \"accuracy\": 0.7586705202312138},\n",
    "      {\"model\": \"polySVM\", \"accuracy\": 0.7413294797687862},\n",
    "      {\"model\": \"multinomialLogit\", \"accuracy\": 0.5057803468208093}\n",
    "    ]\n",
    "  }\n",
    " ```"
   ]
  }
 ],
 "metadata": {
  "kernelspec": {
   "display_name": "Python 3",
   "language": "python",
   "name": "python3"
  },
  "language_info": {
   "codemirror_mode": {
    "name": "ipython",
    "version": 3
   },
   "file_extension": ".py",
   "mimetype": "text/x-python",
   "name": "python",
   "nbconvert_exporter": "python",
   "pygments_lexer": "ipython3",
   "version": "3.6.9"
  }
 },
 "nbformat": 4,
 "nbformat_minor": 4
}
