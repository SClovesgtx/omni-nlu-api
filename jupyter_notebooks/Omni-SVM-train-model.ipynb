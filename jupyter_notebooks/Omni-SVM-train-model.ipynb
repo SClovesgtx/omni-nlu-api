{
 "cells": [
  {
   "cell_type": "code",
   "execution_count": 1,
   "metadata": {},
   "outputs": [],
   "source": [
    "import numpy as np\n",
    "import json\n",
    "\n",
    "with open(\"data/intents_dictionary_tfidf_cedae.json\", 'r') as f:\n",
    "      intents_dictionary = json.load(f)\n",
    "\n",
    "with open('data/X_train_tdidf_cedae.npy', 'rb') as f:\n",
    "    X_train = np.load(f)\n",
    "    \n",
    "with open('data/y_train_tdidf_cedae.npy', 'rb') as f:\n",
    "    y_train = np.load(f)\n",
    "    \n",
    "with open('data/X_test_tdidf_cedae.npy', 'rb') as f:\n",
    "    X_test = np.load(f)\n",
    "    \n",
    "with open('data/y_test_tdidf_cedae.npy', 'rb') as f:\n",
    "    y_test = np.load(f)\n",
    "    \n",
    "y_train = [np.argmax(onehot) for onehot in y_train.tolist()]\n",
    "y_test = [np.argmax(onehot) for onehot in y_test.tolist()]"
   ]
  },
  {
   "cell_type": "code",
   "execution_count": 5,
   "metadata": {},
   "outputs": [
    {
     "data": {
      "text/plain": [
       "0.6509433962264151"
      ]
     },
     "execution_count": 5,
     "metadata": {},
     "output_type": "execute_result"
    }
   ],
   "source": [
    "from sklearn import svm\n",
    "from sklearn.metrics import accuracy_score\n",
    "\n",
    "classifier = svm.SVC(kernel='poly', degree=1, coef0=0.0, random_state=42) # ‘auto’ que usa 1 / n_features\n",
    "\n",
    "classifier.fit(X_train, y_train)\n",
    "\n",
    "y_pred = classifier.predict(X_test)\n",
    "\n",
    "accuracy_score(y_test, y_pred)"
   ]
  },
  {
   "cell_type": "code",
   "execution_count": 7,
   "metadata": {},
   "outputs": [
    {
     "data": {
      "text/plain": [
       "['nlp_models/cedae-svm-bestModel-65acc-2020-02-06.joblib']"
      ]
     },
     "execution_count": 7,
     "metadata": {},
     "output_type": "execute_result"
    }
   ],
   "source": [
    "from joblib import dump\n",
    "\n",
    "dump(classifier, 'nlp_models/cedae-svm-bestModel-65acc-2020-02-06.joblib') "
   ]
  },
  {
   "cell_type": "code",
   "execution_count": null,
   "metadata": {},
   "outputs": [],
   "source": []
  }
 ],
 "metadata": {
  "kernelspec": {
   "display_name": ".myenv",
   "language": "python",
   "name": ".myenv"
  },
  "language_info": {
   "codemirror_mode": {
    "name": "ipython",
    "version": 3
   },
   "file_extension": ".py",
   "mimetype": "text/x-python",
   "name": "python",
   "nbconvert_exporter": "python",
   "pygments_lexer": "ipython3",
   "version": "3.6.9"
  }
 },
 "nbformat": 4,
 "nbformat_minor": 4
}
