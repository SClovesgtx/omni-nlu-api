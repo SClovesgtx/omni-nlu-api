{
 "cells": [
  {
   "cell_type": "markdown",
   "id": "micro-laptop",
   "metadata": {},
   "source": [
    "# LUIS\n",
    "\n",
    "[models - Create intent](https://westus.dev.cognitive.microsoft.com/docs/services/5890b47c39e2bb17b84a55ff/operations/5890b47c39e2bb052c5b9c0c)\n",
    "\n",
    "```\n",
    "Omni Azure subscription\n",
    "Resource group\n",
    "Omni\n",
    "Resource type\n",
    "Language Understanding (LUIS)\n",
    "Location\n",
    "westus\n",
    "Primary key\n",
    "598123f93b9449aa90aa2a320e504482\n",
    "Click to copy\n",
    "Secondary key\n",
    "3202ebddcd5e46d8bc1ac684a77429a8\n",
    "Click to copy\n",
    "Endpoint URL\n",
    "https://westus.api.cognitive.microsoft.com/\n",
    "```"
   ]
  },
  {
   "cell_type": "code",
   "execution_count": 3,
   "id": "interracial-diagnosis",
   "metadata": {},
   "outputs": [],
   "source": [
    "import os\n",
    "\n",
    "default_path = \"/usr/src/app\"\n",
    "os.chdir(default_path)"
   ]
  },
  {
   "cell_type": "code",
   "execution_count": 4,
   "id": "distinguished-lloyd",
   "metadata": {},
   "outputs": [
    {
     "data": {
      "text/plain": [
       "{'intent': 'Vizinho_Invadindo_Terreno',\n",
       " 'examples': [{'text': 'A unidade está sendo invadida. Quem pode ajudar?'},\n",
       "  {'text': 'Estamos com problema com vizinhos da unidade. Com quem posso falar?'},\n",
       "  {'text': 'Nosso terreno está sendo invadido pelo vizinho da unidade. O que fazer?'},\n",
       "  {'text': 'O vizinho da unidade está invadindo uma parte do imóvel da Yara. O que fazer?'}],\n",
       " 'description': ''}"
      ]
     },
     "execution_count": 4,
     "metadata": {},
     "output_type": "execute_result"
    }
   ],
   "source": [
    "# LER DADOS\n",
    "import json\n",
    "\n",
    "file = open('data/skill-COE_YARA_PRD.json', \"r\") \n",
    "workspace = json.load(file)\n",
    "workspace[\"intents\"][-1]"
   ]
  }
 ],
 "metadata": {
  "kernelspec": {
   "display_name": "Python 3",
   "language": "python",
   "name": "python3"
  },
  "language_info": {
   "codemirror_mode": {
    "name": "ipython",
    "version": 3
   },
   "file_extension": ".py",
   "mimetype": "text/x-python",
   "name": "python",
   "nbconvert_exporter": "python",
   "pygments_lexer": "ipython3",
   "version": "3.6.13"
  }
 },
 "nbformat": 4,
 "nbformat_minor": 5
}
