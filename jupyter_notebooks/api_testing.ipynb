{
 "cells": [
  {
   "cell_type": "markdown",
   "metadata": {},
   "source": [
    "# Create index model"
   ]
  },
  {
   "cell_type": "code",
   "execution_count": 4,
   "metadata": {},
   "outputs": [],
   "source": [
    "import requests"
   ]
  },
  {
   "cell_type": "code",
   "execution_count": 1,
   "metadata": {},
   "outputs": [],
   "source": [
    "url_api = \"http://127.0.0.1:5000/\"\n",
    "\n",
    "# nlp_model = {\n",
    "#     \"customer_id\": \"yara\",\n",
    "#     \"recipe\": {\n",
    "#         \"model_kind\": \"BM25\",\n",
    "#         \"BM25\": {\n",
    "#             \"b\": 0.75,\n",
    "#             \"k1\": 1.2\n",
    "#         }\n",
    "#     }\n",
    "# }\n",
    "\n",
    "params = {'workspace_id': 'dc1e7b3d-9137-4a20-a99c-d0d2029ef170-all'}\n",
    "\n",
    "# r = requests.post(url_api+\"nlp_model/\", params=params, json=nlp_model)"
   ]
  },
  {
   "cell_type": "code",
   "execution_count": 28,
   "metadata": {},
   "outputs": [
    {
     "name": "stdout",
     "output_type": "stream",
     "text": [
      "{'_id': 'dc1e7b3d-9137-4a20-a99c-d0d2029ef170', '_index': 'nlp_model-dc1e7b3d-9137-4a20-a99c-d0d2029ef170-03012021112419', '_primary_term': 1, '_seq_no': 0, '_shards': {'failed': 0, 'successful': 1, 'total': 2}, '_type': '_doc', '_version': 1, 'result': 'created'}\n"
     ]
    }
   ],
   "source": [
    "print(r.json())"
   ]
  },
  {
   "cell_type": "markdown",
   "metadata": {},
   "source": [
    "# Read dataset"
   ]
  },
  {
   "cell_type": "code",
   "execution_count": 1,
   "metadata": {},
   "outputs": [
    {
     "data": {
      "text/plain": [
       "{'intent': 'Visao_Geral_Previdencia_Privada',\n",
       " 'examples': [{'text': 'como funciona o plano de previdência privada'},\n",
       "  {'text': 'gostaria de saber mais sobre o plano de previdência privada'},\n",
       "  {'text': 'me dê uma visão geral de como funciona o plano de previdência privada'},\n",
       "  {'text': 'o que plano de previdência privada?'},\n",
       "  {'text': 'pode me falar mais sobre previdência privada?'}],\n",
       " 'description': 'tema Previdência Privada'}"
      ]
     },
     "execution_count": 1,
     "metadata": {},
     "output_type": "execute_result"
    }
   ],
   "source": [
    "import json\n",
    "\n",
    "file = open('/home/cloves/Downloads/skill-DIGITAL_YARA_PRD.json', \"r\") \n",
    "workspace = json.load(file)\n",
    "workspace[\"intents\"][-1]"
   ]
  },
  {
   "cell_type": "code",
   "execution_count": 2,
   "metadata": {},
   "outputs": [
    {
     "data": {
      "text/plain": [
       "{'entity': 'Transbordo',\n",
       " 'values': [{'type': 'synonyms', 'value': 'transbordo', 'synonyms': []}],\n",
       " 'fuzzy_match': True}"
      ]
     },
     "execution_count": 2,
     "metadata": {},
     "output_type": "execute_result"
    }
   ],
   "source": [
    "workspace[\"entities\"][-1]"
   ]
  },
  {
   "cell_type": "markdown",
   "metadata": {},
   "source": [
    "# Add Entities"
   ]
  },
  {
   "cell_type": "code",
   "execution_count": 5,
   "metadata": {},
   "outputs": [
    {
     "name": "stdout",
     "output_type": "stream",
     "text": [
      "Entity Assistencias was created with id 5dbJi3cB_pG9ugNAOOCa\n",
      "Entity CEP was created with id 7dbJi3cB_pG9ugNAPeDM\n",
      "Entity ContactInfo was created with id 7tbJi3cB_pG9ugNAQuDK\n",
      "Entity CulturaPlatacao was created with id 79bJi3cB_pG9ugNAR-DW\n",
      "Entity DataProgramada was created with id 8NbJi3cB_pG9ugNATODh\n",
      "Entity Datas was created with id 89bJi3cB_pG9ugNAUeDk\n",
      "Entity DetalheDesconto was created with id 2dbJi3cB_pG9ugNAVuH2\n",
      "Entity EntedidadesGerais was created with id 2tbJi3cB_pG9ugNAXOEF\n",
      "Entity hash was created with id 3NbJi3cB_pG9ugNAYeEO\n",
      "Entity LocalizacaoPlantacao was created with id 5NbJi3cB_pG9ugNAZuEW\n",
      "Entity Previdencia was created with id 5dbJi3cB_pG9ugNAa-Et\n",
      "Entity Questao was created with id 5tbJi3cB_pG9ugNAcOE3\n",
      "Entity ReceberCancelarAdiantamentoSalarial was created with id 59bJi3cB_pG9ugNAdeFL\n",
      "Entity SimNao was created with id 6tbJi3cB_pG9ugNAeuFL\n",
      "Entity Tema was created with id z9bJi3cB_pG9ugNAf-JY\n",
      "Entity Transbordo was created with id 0dbJi3cB_pG9ugNAhOJv\n"
     ]
    }
   ],
   "source": [
    "end_point = \"nlp_model/entities/\"\n",
    "\n",
    "for entity in workspace[\"entities\"]:\n",
    "    if \"sys\" not in entity[\"entity\"].split(\"-\"):\n",
    "        r = requests.post(url_api+end_point, params=params, json=entity)\n",
    "        r = r.json()\n",
    "        if r[\"result\"] == \"created\":\n",
    "            print(\"Entity %s was created with id %s\"%(entity[\"entity\"],r[\"_id\"]))\n",
    "        else:\n",
    "            print(\"Entity %s was not created\"%entity[\"entity\"])"
   ]
  },
  {
   "cell_type": "code",
   "execution_count": 31,
   "metadata": {},
   "outputs": [],
   "source": [
    "from elastic_db.elasticsearch import elastic_conection, NLPmodelIndex\n",
    "\n",
    "es = elastic_conection()\n",
    "\n",
    "index = NLPmodelIndex(es, workspace_id=\"dc1e7b3d-9137-4a20-a99c-d0d2029ef170\")"
   ]
  },
  {
   "cell_type": "code",
   "execution_count": 32,
   "metadata": {},
   "outputs": [
    {
     "data": {
      "text/plain": [
       "{'EntedidadesGerais:Agendamento de Férias': ['Agendamento de Férias',\n",
       "  'Agendamento',\n",
       "  'Nova programação'],\n",
       " 'EntedidadesGerais:Alteração da Data de Férias': ['Alteração da Data de Férias',\n",
       "  'Alteração'],\n",
       " 'EntedidadesGerais:Alteração de Cargo': ['Alteração de Cargo'],\n",
       " 'EntedidadesGerais:Alteração de Centro de Custo': ['Alteração de Centro de Custo'],\n",
       " 'EntedidadesGerais:Alteração de Gestor': ['Alteração de Gestor'],\n",
       " 'EntedidadesGerais:Alteração de Tipo de Contrato': ['Alteração de Tipo de Contrato'],\n",
       " 'EntedidadesGerais:Central de Serviço': ['Central de Serviço'],\n",
       " 'EntedidadesGerais:Enquadramento': ['Enquadramento'],\n",
       " 'EntedidadesGerais:Extensão do Contrato': ['Extensão do Contrato'],\n",
       " 'EntedidadesGerais:Mérito': ['Mérito'],\n",
       " 'EntedidadesGerais:Promoção': ['Promoção'],\n",
       " 'EntedidadesGerais:Transferência entre filiais': ['Transferência entre filiais'],\n",
       " 'DetalheDesconto:Cartão combustível': ['Cartão combustível'],\n",
       " 'DetalheDesconto:Cartão combustívelPensão Alimentícia': ['Cartão combustívelPensão Alimentícia'],\n",
       " 'DetalheDesconto:Empréstimos': ['Empréstimos'],\n",
       " 'DetalheDesconto:Faltas': ['Faltas'],\n",
       " 'DetalheDesconto:Farmácia': ['Farmácia'],\n",
       " 'DetalheDesconto:Gympass': ['Gympass'],\n",
       " 'DetalheDesconto:Multas': ['Multas'],\n",
       " 'DetalheDesconto:Outros itens relacionados a Folha de Pagamento': ['Outros itens relacionados a Folha de Pagamento'],\n",
       " 'DetalheDesconto:Pensão Alimentícia': ['Pensão Alimentícia'],\n",
       " 'DetalheDesconto:Plano de saúde/Odonto': ['Plano de saúde/Odonto'],\n",
       " 'DetalheDesconto:Previdência': ['Previdência'],\n",
       " 'DetalheDesconto:Refeição': ['Refeição'],\n",
       " 'DetalheDesconto:Seguros': ['Seguros'],\n",
       " 'DetalheDesconto:Transporte': ['Transporte'],\n",
       " 'DetalheDesconto:Vale Transporte': ['Vale Transporte'],\n",
       " 'DecimoTerceiro:décimo terceiro': ['décimo terceiro', '13', '13º'],\n",
       " 'CulturaPlatacao:Banana': ['Banana'],\n",
       " 'CulturaPlatacao:Café': ['Café'],\n",
       " 'CulturaPlatacao:Cana-de-Açúcar': ['Cana-de-Açúcar'],\n",
       " 'CulturaPlatacao:Milho': ['Milho'],\n",
       " 'CulturaPlatacao:Outras culturas': ['Outras culturas'],\n",
       " 'CulturaPlatacao:Soja': ['Soja'],\n",
       " 'DataProgramada:Data programada - hoje = 35 dias ou mais': ['Data programada - hoje = 35 dias ou mais'],\n",
       " 'DataProgramada:Data programada - hoje = menos de 35 dias': ['Data programada - hoje = menos de 35 dias'],\n",
       " 'EntidadeGeral:Verificar Solicitação': ['Verificar Solicitação'],\n",
       " 'Previdencia:Acompanhar Saldo': ['Acompanhar Saldo'],\n",
       " 'Previdencia:Aderir ao Benefício': ['Aderir ao Benefício'],\n",
       " 'Previdencia:Aderir o Benefício': ['Aderir o Benefício'],\n",
       " 'Previdencia:Cancelar Contribuições': ['Cancelar Contribuições',\n",
       "  'Cancelamento de Contribuições'],\n",
       " 'Previdencia:Colaboradores Inativos': ['Colaboradores Inativos'],\n",
       " 'Previdencia:Contatos da Operadora': ['Contatos da Operadora'],\n",
       " 'Previdencia:Contribuição Básica': ['Contribuição Básica'],\n",
       " 'Previdencia:Contribuição Complementar': ['Contribuição Complementar'],\n",
       " 'Previdencia:Contribuição Normal': ['Contribuição Normal'],\n",
       " 'Previdencia:Contribuições e Contrapartidas': ['Contribuições e Contrapartidas'],\n",
       " 'Previdencia:Descontos na Folha de Pagamento': ['Descontos na Folha de Pagamento'],\n",
       " 'Previdencia:Diferenças de PGBL e VGBL': ['Diferenças de PGBL e VGBL'],\n",
       " 'Previdencia:Diferenças PGBL e VGBL': ['Diferenças PGBL e VGBL'],\n",
       " 'Previdencia:Elegibilidades ao Plano': ['Elegibilidades ao Plano'],\n",
       " 'Previdencia:Formulários': ['Formulários'],\n",
       " 'Previdencia:Imposto de Renda': ['Imposto de Renda'],\n",
       " 'Previdencia:Plano de Colaboradores Inativos': ['Plano de Colaboradores Inativos'],\n",
       " 'Previdencia:Portabilidade': ['Portabilidade'],\n",
       " 'Previdencia:Recebimento do Benefício': ['Recebimento do Benefício'],\n",
       " 'Previdencia:Resgatar Valores': ['Resgatar Valores'],\n",
       " 'Previdencia:Tributação': ['Tributação'],\n",
       " 'Previdencia:Visão Geral': ['Visão Geral'],\n",
       " 'Previdencia:Visão Geral sobre Previdência Privada': ['Visão Geral sobre Previdência Privada'],\n",
       " 'Tema:Gestão de Frotas': ['Gestão de Frotas', 'Frotas'],\n",
       " 'Tema:Movimentações Funcionais': ['Movimentações Funcionais'],\n",
       " 'Tema:Plano de Saúde/Odontológico': ['Plano de Saúde/Odontológico',\n",
       "  'Odontologico',\n",
       "  'Plano de Saúde',\n",
       "  'Plano Odontologico',\n",
       "  'Saude'],\n",
       " 'Tema:PontoMais': ['PontoMais', 'Ponto Mais'],\n",
       " 'Tema:Previdência Privada': ['Previdência Privada', 'Previdencia'],\n",
       " 'Tema:Programação, Alteração e Cancelamento de Férias': ['Programação, Alteração e Cancelamento de Férias',\n",
       "  'Alteração de Férias',\n",
       "  'Cancelamento de Férias',\n",
       "  'Programação de Férias'],\n",
       " 'Tema:Reembolso, adiantamento e prestação de contas': ['Reembolso, adiantamento e prestação de contas',\n",
       "  'adiantamento',\n",
       "  'prestação de contas',\n",
       "  'Reembolso'],\n",
       " 'Tema:Salário, 13º e descontos': ['Salário, 13º e descontos',\n",
       "  '13º',\n",
       "  'decimo terceiro',\n",
       "  'descontos',\n",
       "  'Salário'],\n",
       " 'Tema:Vale Refeição e Alimentação': ['Vale Refeição e Alimentação',\n",
       "  'Vale Alimentação',\n",
       "  'Vale Refeição'],\n",
       " 'Assistencias:Bradesco': ['Bradesco'],\n",
       " 'Assistencias:Central Nacional Unimed CNU': ['Central Nacional Unimed CNU',\n",
       "  'CNU'],\n",
       " 'Assistencias:Companheiro': ['Companheiro'],\n",
       " 'Assistencias:Cônjuge': ['Cônjuge'],\n",
       " 'Assistencias:Desejo obter o nº do cartão ou acessar o cartão digital': ['Desejo obter o nº do cartão ou acessar o cartão digital'],\n",
       " 'Assistencias:Desejo solicitar meu novo cartão físico': ['Desejo solicitar meu novo cartão físico'],\n",
       " 'Assistencias:Filhos': ['Filhos'],\n",
       " 'Assistencias:Filhos adotivos': ['Filhos adotivos'],\n",
       " 'Assistencias:Meu cartão vencerá em breve': ['Meu cartão vencerá em breve'],\n",
       " 'Assistencias:Meu cartão venceu e não recebi': ['Meu cartão venceu e não recebi'],\n",
       " 'Assistencias:Obter o nº do cartão': ['Obter o nº do cartão'],\n",
       " 'Assistencias:Outros': ['Outros'],\n",
       " 'Assistencias:Plano de Saude': ['Plano de Saude'],\n",
       " 'Assistencias:Plano Odontológico': ['Plano Odontológico'],\n",
       " 'Assistencias:solicitar a segunda via do cartão físico': ['solicitar a segunda via do cartão físico'],\n",
       " 'Assistencias:Unimed Campinas': ['Unimed Campinas'],\n",
       " 'Assistencias:Unimed POA': ['Unimed POA', 'POA'],\n",
       " 'LocalizacaoPlantacao:RS / Alegrete': ['RS / Alegrete', 'Alegrete'],\n",
       " 'LocalizacaoPlantacao:RS / Bento Gonçalves': ['RS / Bento Gonçalves',\n",
       "  'Bento Gonçalves'],\n",
       " 'LocalizacaoPlantacao:RS / Porto Alegre': ['RS / Porto Alegre',\n",
       "  'Porto Alegre'],\n",
       " 'LocalizacaoPlantacao:SP / Araraquara': ['SP / Araraquara', 'Araraquara'],\n",
       " 'LocalizacaoPlantacao:SP / Ribeirão Preto': ['SP / Ribeirão Preto',\n",
       "  'Ribeirão Preto']}"
      ]
     },
     "execution_count": 32,
     "metadata": {},
     "output_type": "execute_result"
    }
   ],
   "source": [
    "index.synonyms_entities"
   ]
  },
  {
   "cell_type": "code",
   "execution_count": 33,
   "metadata": {},
   "outputs": [
    {
     "data": {
      "text/plain": [
       "{'ContactInfo:email': ['\\\\b[A-Za-z0-9._%+-]+@[A-Za-z0-9.-]+\\\\.[A-Za-z]{2,}\\\\b',\n",
       "  \"^[a-zA-Z0-9.!#$%&'*+/=?^_`{|}~-]+@[a-zA-Z0-9](?:[a-zA-Z0-9-]{0,61}[a-zA-Z0-9])?(?:\\\\.[a-zA-Z0-9](?:[a-zA-Z0-9-]{0,61}[a-zA-Z0-9])?)*$\"],\n",
       " 'ContactInfo:telefone': ['^\\\\s?\\\\(?\\\\d{2,3}\\\\)?[\\\\s-]?\\\\d{4,5}-?\\\\d{4}\\\\s?$'],\n",
       " 'Datas:data': ['((0[1-9])|(1[0-9])|(2[0-9])|(3[0-1]))/((0[1-9])|(1[0-2]))/[0-9]{4}',\n",
       "  '((0[1-9])|(1[0-9])|(2[0-9])|(3[0-1]))-((0[1-9])|(1[0-2]))-[0-9]{4}',\n",
       "  '((0[1-9])|(1[0-2]))/[0-9]{4}',\n",
       "  '((0[1-9])|(1[0-2]))-[0-9]{4}',\n",
       "  '((0[1-9])|(1[0-2]))/[0-9]{2}'],\n",
       " 'CEP:cep': ['^\\\\s?\\\\d{5}-?\\\\d{3}\\\\s?$',\n",
       "  '([0-9]{5}-[0-9]{3}){1}',\n",
       "  '([0-9]{8}){1}']}"
      ]
     },
     "execution_count": 33,
     "metadata": {},
     "output_type": "execute_result"
    }
   ],
   "source": [
    "index.patterns_entities"
   ]
  },
  {
   "cell_type": "markdown",
   "metadata": {},
   "source": [
    "# Add Intents"
   ]
  },
  {
   "cell_type": "code",
   "execution_count": 6,
   "metadata": {},
   "outputs": [
    {
     "name": "stdout",
     "output_type": "stream",
     "text": [
      "Intent Abono was created with id itbKi3cB_pG9ugNAZudn\n",
      "Intent Acessar_Concur was created with id btbKi3cB_pG9ugNAa-iF\n",
      "Intent Acessar_Painel_Colaborador was created with id dtbKi3cB_pG9ugNAc-jD\n",
      "Intent Acompanhar_Solicitacao was created with id eNbKi3cB_pG9ugNAeOiv\n",
      "Intent Adiantamento_13_Salario was created with id edbKi3cB_pG9ugNAfeiJ\n",
      "Intent Ajustar_Ponto was created with id etbKi3cB_pG9ugNAguh1\n",
      "Intent Ajuste_Informacao_Convenio was created with id e9bKi3cB_pG9ugNAh-hH\n",
      "Intent Alteracao_Beneficios_Previdencia was created with id ftbKi3cB_pG9ugNAjOgt\n",
      "Intent Alteração_ContratoProrrogacao was created with id Y9bKi3cB_pG9ugNAkek_\n",
      "Intent Alteração_Gestor was created with id ZdbKi3cB_pG9ugNAlukW\n",
      "Intent Alterar_Conta_Pagamento was created with id bdbKi3cB_pG9ugNAmunr\n",
      "Intent Alterar_Data_Ferias was created with id b9bKi3cB_pG9ugNAn-nI\n",
      "Intent Alterar_Tipo_Registro_Ponto was created with id cNbKi3cB_pG9ugNApOnh\n",
      "Intent Alterar_Vale_RefeicaoAlimentacao was created with id cdbKi3cB_pG9ugNAqenX\n",
      "Intent Altercao_CargoSalario was created with id ctbKi3cB_pG9ugNArunc\n",
      "Intent Aprovações_YPP was created with id ddbKi3cB_pG9ugNAs-mt\n",
      "Intent Aprovar_Solicitacao_Pendente_Ponto was created with id WtbKi3cB_pG9ugNAuOqB\n",
      "Intent Bem_Estar was created with id XNbKi3cB_pG9ugNAvepr\n",
      "Intent Bonus_Mobilidade was created with id Y9bKi3cB_pG9ugNAwupF\n",
      "Intent Bot_Capabilities was created with id ZdbKi3cB_pG9ugNAx-oT\n",
      "Intent Cancelar_Previdencia was created with id ZtbKi3cB_pG9ugNAy-rx\n",
      "Intent Cartao_Bloqueado_SenhaInvalida was created with id Z9bKi3cB_pG9ugNA0OrB\n",
      "Intent Contracheque_Recebido_Sem_Constar_Conta was created with id aNbKi3cB_pG9ugNA1eqa\n",
      "Intent Contracheque_Sem_Constar_Dependente_IRRF was created with id a9bKi3cB_pG9ugNA2upx\n",
      "Intent Criar_Posicao_Alterar was created with id UNbKi3cB_pG9ugNA3-tK\n",
      "Intent Custo_Movimentação_Estado was created with id UtbKi3cB_pG9ugNA5Oss\n",
      "Intent Data_Entrega_Veiculo_Definitivo was created with id WdbKi3cB_pG9ugNA6esH\n",
      "Intent Data_Envio_Vale_RefeicaoAlimentacao was created with id W9bKi3cB_pG9ugNA7evk\n",
      "Intent Data_Limite_Ferias was created with id XNbKi3cB_pG9ugNA8uvH\n",
      "Intent Data_Pagamento_Vale_RefeicaoAlimentação was created with id XdbKi3cB_pG9ugNA9-uY\n",
      "Intent Despesa_Pessoal_Marcado_Relatorio_Concur was created with id XtbKi3cB_pG9ugNA_Ot5\n",
      "Intent Detalhe_Sobre_Desconto was created with id YtbLi3cB_pG9ugNAAetN\n",
      "Intent Devolucao_Veiculo was created with id TNbLi3cB_pG9ugNABuyB\n",
      "Intent Direcao_Defensiva was created with id TtbLi3cB_pG9ugNAC-xj\n",
      "Intent Divisao_Ferias was created with id VtbLi3cB_pG9ugNAEOxA\n",
      "Intent Download_Aplicativo_Convenio was created with id WNbLi3cB_pG9ugNAFewV\n",
      "Intent Duvida_Formularo_Adesao_Previdencia was created with id WdbLi3cB_pG9ugNAGezu\n",
      "Intent Esquecer_Senha_Vale_RefeicaoAlimentacao was created with id WtbLi3cB_pG9ugNAHuzu\n",
      "Intent Ex_Colaborador_Resgate_Previdencia was created with id W9bLi3cB_pG9ugNAI-zE\n",
      "Intent Extrair_Relatorio_Ponto_Todos_Colaboradores was created with id XtbLi3cB_pG9ugNAKOyd\n",
      "Intent Ferias_Programadas_Sem_Confirmação was created with id RNbLi3cB_pG9ugNALe13\n",
      "Intent General_Ending was created with id RtbLi3cB_pG9ugNAMu1P\n",
      "Intent General_Greetings was created with id TdbLi3cB_pG9ugNAN-02\n",
      "Intent General_Negative_Feedback was created with id T9bLi3cB_pG9ugNAPO0V\n",
      "Intent General_Positive_Feedback was created with id UNbLi3cB_pG9ugNAQe0D\n",
      "Intent Hora_Extra was created with id UdbLi3cB_pG9ugNARe3X\n",
      "Intent Inativar_Posição was created with id UtbLi3cB_pG9ugNASu3C\n",
      "Intent Incluir_Colaborador_Convenio was created with id VdbLi3cB_pG9ugNAT-2X\n",
      "Intent Incluir_Dependente_Plano_Saude was created with id NtbLi3cB_pG9ugNAVO55\n",
      "Intent IncluirRemover_Colaborador was created with id PNbLi3cB_pG9ugNAWe5Y\n",
      "Intent Inconformidades_Legais was created with id RNbLi3cB_pG9ugNAXu47\n",
      "Intent Informacoes_Relatorio_Aberto was created with id RtbLi3cB_pG9ugNAY-4i\n",
      "Intent Informacoes_Relatorio_Gerais was created with id R9bLi3cB_pG9ugNAaO4D\n",
      "Intent Licenca_Mais_Ferias was created with id SNbLi3cB_pG9ugNAbe4x\n",
      "Intent Link_Agendamento_Ferias was created with id SdbLi3cB_pG9ugNAcu4P\n",
      "Intent Manutencoes was created with id TNbLi3cB_pG9ugNAdu7t\n",
      "Intent Marcar_Falta_Colaborador was created with id MdbLi3cB_pG9ugNAe-_O\n",
      "Intent Pagamento_Ferias was created with id M9bLi3cB_pG9ugNAgO-r\n",
      "Intent Pagamento_Inicio_Ferias was created with id OtbLi3cB_pG9ugNAhe-P\n",
      "Intent Ponto_Colaborar_Não_Aparece was created with id PNbLi3cB_pG9ugNAiu93\n",
      "Intent Prazo_Ajuste_Ponto was created with id PdbLi3cB_pG9ugNAj-9P\n",
      "Intent Previdencia_Privada_Aderida_Sem_Desconto was created with id PtbLi3cB_pG9ugNAlO8r\n",
      "Intent Procedimento_Recusado_Convenio was created with id P9bLi3cB_pG9ugNAme8S\n",
      "Intent Procedimentos_Concur was created with id QtbLi3cB_pG9ugNAne_q\n",
      "Intent Procedimentos_Convenio was created with id l9bLi3cB_pG9ugNAou_f\n",
      "Intent ReceberCancelar_Adiantamento_Salarial was created with id KdbLi3cB_pG9ugNAp_C5\n",
      "Intent Receber_Cartao_Convenio was created with id MNbLi3cB_pG9ugNArPCZ\n",
      "Intent Reembolso_Sem_Cobertura_Convenio was created with id MtbLi3cB_pG9ugNAsfBr\n",
      "Intent Relatorio_Colaboradores_Possuem_Previdencia was created with id M9bLi3cB_pG9ugNAtvBN\n",
      "Intent Relatorio_Inconsistencias_Ponto was created with id NNbLi3cB_pG9ugNAu_Ae\n",
      "Intent Relatorio_Programacao_Ferias was created with id NdbLi3cB_pG9ugNAv_D_\n",
      "Intent Renovacao_Contrato_Veiculo was created with id ONbLi3cB_pG9ugNAxPDY\n",
      "Intent Repassar_Gestao_Colaborador was created with id HdbLi3cB_pG9ugNAyfGx\n",
      "Intent Resgatar_Previdencia was created with id H9bLi3cB_pG9ugNAzvGW\n",
      "Intent SegundaVia_Cartao_Ticketlog was created with id JtbLi3cB_pG9ugNA0_Fy\n",
      "Intent SegundaVia_Vale_RefeicaoAlimentacao was created with id KNbLi3cB_pG9ugNA2PFM\n",
      "Intent Solicitar_Cartao_Combustivel was created with id KdbLi3cB_pG9ugNA3fEh\n",
      "Intent Solicitar_Holerite was created with id KtbLi3cB_pG9ugNA4fH5\n",
      "Intent Solicitar_Ponto_Pos_FechamentoReembolso was created with id K9bLi3cB_pG9ugNA5vHn\n",
      "Intent Solicitar_Troca_Veiculo was created with id L9bLi3cB_pG9ugNA6_HR\n",
      "Intent Transferencia_Veiculo was created with id GdbLi3cB_pG9ugNA8PKx\n",
      "Intent TrocaDevolucao_Ticketlog was created with id G9bLi3cB_pG9ugNA9fKT\n",
      "Intent Usuario_Invalido_NaoCadastrado was created with id I9bLi3cB_pG9ugNA-vJy\n",
      "Intent Valor_Depositado_Vale_RefeicaoAlimentacao_Errado was created with id JdbLi3cB_pG9ugNA__JQ\n",
      "Intent Veiculo_Definitivo was created with id JtbMi3cB_pG9ugNABPIl\n",
      "Intent Veiculo_Disponiveis was created with id J9bMi3cB_pG9ugNACPL3\n",
      "Intent Veiculo_Problema was created with id KNbMi3cB_pG9ugNADfLL\n",
      "Intent Veiculo_Provisorio was created with id K9bMi3cB_pG9ugNAEvKl\n",
      "Intent Verificar_Colaborador_Convenio was created with id EdbMi3cB_pG9ugNAF_Of\n",
      "Intent Verificar_Historico_Previdencia was created with id E9bMi3cB_pG9ugNAHPN_\n",
      "Intent Verificar_Movimentacao_Transferencia was created with id GtbMi3cB_pG9ugNAIfN8\n",
      "Intent Verificar_Numero_Carteirinha_Convenio was created with id HNbMi3cB_pG9ugNAJvNf\n",
      "Intent Verificar_Numero_Vale_RefeicaoAlimentacao was created with id HdbMi3cB_pG9ugNAK_M6\n",
      "Intent Verificar_Status_Ferias was created with id HtbMi3cB_pG9ugNAMPMV\n",
      "Intent Verificar_Valor_Locacao_Veiculo was created with id H9bMi3cB_pG9ugNANPPz\n",
      "Intent Visao_Geral_Previdencia_Privada was created with id ItbMi3cB_pG9ugNAOfPG\n"
     ]
    }
   ],
   "source": [
    "end_point = \"nlp_model/intents/\"\n",
    "\n",
    "for intent in workspace[\"intents\"]:\n",
    "    r = requests.post(url_api+end_point, params=params, json=intent)\n",
    "    r = r.json()\n",
    "    if r[\"result\"] == \"created\":\n",
    "        print(\"Intent %s was created with id %s\"%(intent[\"intent\"],r[\"_id\"]))\n",
    "    else:\n",
    "        print(\"Intent %s was not created\"%intent[\"intent\"])"
   ]
  },
  {
   "cell_type": "markdown",
   "metadata": {},
   "source": [
    "# Classify Sentences"
   ]
  },
  {
   "cell_type": "code",
   "execution_count": 25,
   "metadata": {},
   "outputs": [],
   "source": [
    "end_point = \"nlp_model/resources/classify\"\n",
    "\n",
    "params = {'workspace_id': 'dc1e7b3d-9137-4a20-a99c-d0d2029ef170',\n",
    "          'sentence': \"\"}\n",
    "\n",
    "def classify(sentence):\n",
    "    params[\"sentence\"] = sentence\n",
    "    r = requests.get(url_api+end_point, params=params)\n",
    "    return r.json()"
   ]
  },
  {
   "cell_type": "code",
   "execution_count": 29,
   "metadata": {},
   "outputs": [
    {
     "data": {
      "text/plain": [
       "{'intents': [{'confidence': 10.723123,\n",
       "   'intent': 'Adiantamento_e_QuandoReceber_13_Salario'},\n",
       "  {'confidence': 6.4176717, 'intent': 'Data_Envio_Vale_RefeicaoAlimentacao'},\n",
       "  {'confidence': 6.279466,\n",
       "   'intent': 'Data_Pagamento_Vale_RefeicaoAlimentação'},\n",
       "  {'confidence': 6.278895, 'intent': 'Contrato_Devolvido_Juridico'},\n",
       "  {'confidence': 6.245589, 'intent': 'Data_Pagamento_Salario'},\n",
       "  {'confidence': 5.8739457, 'intent': 'Hora_Extra'},\n",
       "  {'confidence': 4.6032624, 'intent': 'Bonus_Mobilidade'},\n",
       "  {'confidence': 4.5589275, 'intent': 'Duvidas_Funcoes_Cartao'},\n",
       "  {'confidence': 4.452909, 'intent': 'Pagamento_Licenca_Maternidade'},\n",
       "  {'confidence': 4.3239717, 'intent': 'Custo_Movimentação_Estado'}]}"
      ]
     },
     "execution_count": 29,
     "metadata": {},
     "output_type": "execute_result"
    }
   ],
   "source": [
    "# acertou\n",
    "classify(\"quando o 13º será pago?\")"
   ]
  },
  {
   "cell_type": "code",
   "execution_count": 28,
   "metadata": {},
   "outputs": [
    {
     "data": {
      "text/plain": [
       "{'intents': [{'confidence': 13.677553,\n",
       "   'intent': 'Relatorio_Inconsistencias_Ponto'},\n",
       "  {'confidence': 11.913396, 'intent': 'Ponto_Colaborar_Não_Aparece'},\n",
       "  {'confidence': 11.685097,\n",
       "   'intent': 'Extrair_Relatorio_Ponto_Todos_Colaboradores'},\n",
       "  {'confidence': 9.866135, 'intent': 'Ajustar_Ponto'},\n",
       "  {'confidence': 9.678289, 'intent': 'Solicitar_Holerite'},\n",
       "  {'confidence': 9.547018, 'intent': 'IncluirRemover_Colaborador'},\n",
       "  {'confidence': 8.774127, 'intent': 'Repassar_Gestao_Colaborador'},\n",
       "  {'confidence': 8.209404, 'intent': 'Aprovar_Solicitacao_Pendente_Ponto'},\n",
       "  {'confidence': 8.175938, 'intent': 'Procedimentos_Convenio'},\n",
       "  {'confidence': 8.171644, 'intent': 'Prazo_Ajuste_Ponto'}]}"
      ]
     },
     "execution_count": 28,
     "metadata": {},
     "output_type": "execute_result"
    }
   ],
   "source": [
    "# acertou\n",
    "classify(\"Como faço para ver os erros do meu ponto?\")"
   ]
  },
  {
   "cell_type": "code",
   "execution_count": 31,
   "metadata": {},
   "outputs": [
    {
     "data": {
      "text/plain": [
       "{'intents': [{'confidence': 12.564889, 'intent': 'Inconformidades_Legais'},\n",
       "  {'confidence': 12.536784, 'intent': 'IncluirRemover_Colaborador'},\n",
       "  {'confidence': 10.066336,\n",
       "   'intent': 'Extrair_Relatorio_Ponto_Todos_Colaboradores'},\n",
       "  {'confidence': 9.996856, 'intent': 'Ponto_Colaborar_Não_Aparece'},\n",
       "  {'confidence': 9.811547, 'intent': 'Aprovar_Solicitacao_Pendente_Ponto'},\n",
       "  {'confidence': 9.30688, 'intent': 'Repassar_Gestao_Colaborador'},\n",
       "  {'confidence': 9.238991, 'intent': 'Alterar_Tipo_Registro_Ponto'},\n",
       "  {'confidence': 8.693969, 'intent': 'Contribuicoes_Previdencia_Privada'},\n",
       "  {'confidence': 7.9216948, 'intent': 'Visao_Geral_Previdencia_Privada'},\n",
       "  {'confidence': 7.7866, 'intent': 'Acessar_Painel_Colaborador'}]}"
      ]
     },
     "execution_count": 31,
     "metadata": {},
     "output_type": "execute_result"
    }
   ],
   "source": [
    "# acertou\n",
    "classify(\"Quero saber o que significa inconsistencias no Ponto mais\")"
   ]
  },
  {
   "cell_type": "markdown",
   "metadata": {},
   "source": [
    "# Feature encoding"
   ]
  },
  {
   "cell_type": "code",
   "execution_count": 7,
   "metadata": {},
   "outputs": [
    {
     "data": {
      "text/plain": [
       "'nlp_model-dc1e7b3d-9137-4a20-a99c-d0d2029ef170-all-10022021085104'"
      ]
     },
     "execution_count": 7,
     "metadata": {},
     "output_type": "execute_result"
    }
   ],
   "source": [
    "from elastic_db.elasticsearch import elastic_conection, NLPmodelIndex\n",
    "\n",
    "es = elastic_conection()\n",
    "index = NLPmodelIndex(es=es, workspace_id=\"dc1e7b3d-9137-4a20-a99c-d0d2029ef170-all\")\n",
    "index.index_name"
   ]
  },
  {
   "cell_type": "code",
   "execution_count": 8,
   "metadata": {},
   "outputs": [
    {
     "data": {
      "text/plain": [
       "{'_index': 'nlp_model-dc1e7b3d-9137-4a20-a99c-d0d2029ef170-all-10022021085104',\n",
       " '_type': '_doc',\n",
       " '_id': 'ItbMi3cB_pG9ugNAOfPG',\n",
       " '_score': 0.15784481,\n",
       " '_source': {'intent': 'Visao_Geral_Previdencia_Privada',\n",
       "  'examples': [{'text': 'como funciona o plano de previdência privada'},\n",
       "   {'text': 'gostaria de saber mais sobre o plano de previdência privada'},\n",
       "   {'text': 'me dê uma visão geral de como funciona o plano de previdência privada'},\n",
       "   {'text': 'o que plano de previdência privada?'},\n",
       "   {'text': 'pode me falar mais sobre previdência privada?'}],\n",
       "  'description': 'tema Previdência Privada',\n",
       "  'doc_type': 'intent'}}"
      ]
     },
     "execution_count": 8,
     "metadata": {},
     "output_type": "execute_result"
    }
   ],
   "source": [
    "query = {\n",
    "  \"size\": 1000, \n",
    "  \"query\": {\n",
    "    \"term\": {\n",
    "      \"doc_type.keyword\": \"intent\"\n",
    "    }\n",
    "  }\n",
    "}\n",
    "\n",
    "intents = es.search(index=index.index_alias, body=query)\n",
    "intents = [result for result in intents[\"hits\"][\"hits\"]]\n",
    "intents[-1]"
   ]
  },
  {
   "cell_type": "code",
   "execution_count": 4,
   "metadata": {},
   "outputs": [],
   "source": [
    "from feature_encoding.tfidf.pipeline import apply_pipe\n",
    "import pandas as pd\n",
    "\n",
    "\n",
    "df_train = pd.read_csv(\"data/train_data_cedae.csv\", sep=\",\")\n",
    "df_test = pd.read_csv(\"data/test_data_cedae.csv\", sep=\",\")"
   ]
  },
  {
   "cell_type": "code",
   "execution_count": 5,
   "metadata": {},
   "outputs": [],
   "source": [
    "apply_pipe(df_train=df_train, df_test=df_test, index=index, es=es)"
   ]
  },
  {
   "cell_type": "markdown",
   "metadata": {},
   "source": [
    "# Feed Intents with less then 8 examples with new ones"
   ]
  },
  {
   "cell_type": "code",
   "execution_count": 1,
   "metadata": {},
   "outputs": [
    {
     "data": {
      "text/plain": [
       "'nlp_model-dc1e7b3d-9137-4a20-a99c-d0d2029ef170-all-10022021085104'"
      ]
     },
     "execution_count": 1,
     "metadata": {},
     "output_type": "execute_result"
    }
   ],
   "source": [
    "from elastic_db.elasticsearch import elastic_conection, NLPmodelIndex\n",
    "\n",
    "es = elastic_conection()\n",
    "index = NLPmodelIndex(es=es, workspace_id=\"dc1e7b3d-9137-4a20-a99c-d0d2029ef170-all\")\n",
    "index.index_name"
   ]
  },
  {
   "cell_type": "code",
   "execution_count": 2,
   "metadata": {},
   "outputs": [
    {
     "name": "stdout",
     "output_type": "stream",
     "text": [
      "{'_index': 'nlp_model-dc1e7b3d-9137-4a20-a99c-d0d2029ef170-all-10022021085104', '_type': '_doc', '_id': 'edbKi3cB_pG9ugNAfeiJ', '_version': 3, 'result': 'updated', '_shards': {'total': 2, 'successful': 1, 'failed': 0}, '_seq_no': 187, '_primary_term': 1}\n",
      "{'_index': 'nlp_model-dc1e7b3d-9137-4a20-a99c-d0d2029ef170-all-10022021085104', '_type': '_doc', '_id': 'XtbKi3cB_pG9ugNA_Ot5', '_version': 3, 'result': 'updated', '_shards': {'total': 2, 'successful': 1, 'failed': 0}, '_seq_no': 188, '_primary_term': 1}\n",
      "{'_index': 'nlp_model-dc1e7b3d-9137-4a20-a99c-d0d2029ef170-all-10022021085104', '_type': '_doc', '_id': 'VtbLi3cB_pG9ugNAEOxA', '_version': 3, 'result': 'updated', '_shards': {'total': 2, 'successful': 1, 'failed': 0}, '_seq_no': 189, '_primary_term': 1}\n",
      "{'_index': 'nlp_model-dc1e7b3d-9137-4a20-a99c-d0d2029ef170-all-10022021085104', '_type': '_doc', '_id': 'TtbLi3cB_pG9ugNAC-xj', '_version': 3, 'result': 'updated', '_shards': {'total': 2, 'successful': 1, 'failed': 0}, '_seq_no': 190, '_primary_term': 1}\n",
      "{'_index': 'nlp_model-dc1e7b3d-9137-4a20-a99c-d0d2029ef170-all-10022021085104', '_type': '_doc', '_id': 'W9bLi3cB_pG9ugNAI-zE', '_version': 3, 'result': 'updated', '_shards': {'total': 2, 'successful': 1, 'failed': 0}, '_seq_no': 191, '_primary_term': 1}\n",
      "{'_index': 'nlp_model-dc1e7b3d-9137-4a20-a99c-d0d2029ef170-all-10022021085104', '_type': '_doc', '_id': 'TNbLi3cB_pG9ugNAdu7t', '_version': 3, 'result': 'updated', '_shards': {'total': 2, 'successful': 1, 'failed': 0}, '_seq_no': 192, '_primary_term': 1}\n",
      "{'_index': 'nlp_model-dc1e7b3d-9137-4a20-a99c-d0d2029ef170-all-10022021085104', '_type': '_doc', '_id': 'MdbLi3cB_pG9ugNAe-_O', '_version': 3, 'result': 'updated', '_shards': {'total': 2, 'successful': 1, 'failed': 0}, '_seq_no': 193, '_primary_term': 1}\n",
      "{'_index': 'nlp_model-dc1e7b3d-9137-4a20-a99c-d0d2029ef170-all-10022021085104', '_type': '_doc', '_id': 'H9bLi3cB_pG9ugNAzvGW', '_version': 3, 'result': 'updated', '_shards': {'total': 2, 'successful': 1, 'failed': 0}, '_seq_no': 194, '_primary_term': 1}\n",
      "{'_index': 'nlp_model-dc1e7b3d-9137-4a20-a99c-d0d2029ef170-all-10022021085104', '_type': '_doc', '_id': 'HdbLi3cB_pG9ugNAyfGx', '_version': 3, 'result': 'updated', '_shards': {'total': 2, 'successful': 1, 'failed': 0}, '_seq_no': 195, '_primary_term': 1}\n",
      "{'_index': 'nlp_model-dc1e7b3d-9137-4a20-a99c-d0d2029ef170-all-10022021085104', '_type': '_doc', '_id': 'ONbLi3cB_pG9ugNAxPDY', '_version': 3, 'result': 'updated', '_shards': {'total': 2, 'successful': 1, 'failed': 0}, '_seq_no': 196, '_primary_term': 1}\n",
      "{'_index': 'nlp_model-dc1e7b3d-9137-4a20-a99c-d0d2029ef170-all-10022021085104', '_type': '_doc', '_id': 'WtbLi3cB_pG9ugNAHuzu', '_version': 3, 'result': 'updated', '_shards': {'total': 2, 'successful': 1, 'failed': 0}, '_seq_no': 197, '_primary_term': 1}\n",
      "{'_index': 'nlp_model-dc1e7b3d-9137-4a20-a99c-d0d2029ef170-all-10022021085104', '_type': '_doc', '_id': 'WNbLi3cB_pG9ugNAFewV', '_version': 3, 'result': 'updated', '_shards': {'total': 2, 'successful': 1, 'failed': 0}, '_seq_no': 198, '_primary_term': 1}\n",
      "{'_index': 'nlp_model-dc1e7b3d-9137-4a20-a99c-d0d2029ef170-all-10022021085104', '_type': '_doc', '_id': 'WdbLi3cB_pG9ugNAGezu', '_version': 3, 'result': 'updated', '_shards': {'total': 2, 'successful': 1, 'failed': 0}, '_seq_no': 199, '_primary_term': 1}\n",
      "{'_index': 'nlp_model-dc1e7b3d-9137-4a20-a99c-d0d2029ef170-all-10022021085104', '_type': '_doc', '_id': 'R9bLi3cB_pG9ugNAaO4D', '_version': 3, 'result': 'updated', '_shards': {'total': 2, 'successful': 1, 'failed': 0}, '_seq_no': 200, '_primary_term': 1}\n",
      "{'_index': 'nlp_model-dc1e7b3d-9137-4a20-a99c-d0d2029ef170-all-10022021085104', '_type': '_doc', '_id': 'NtbLi3cB_pG9ugNAVO55', '_version': 3, 'result': 'updated', '_shards': {'total': 2, 'successful': 1, 'failed': 0}, '_seq_no': 201, '_primary_term': 1}\n",
      "{'_index': 'nlp_model-dc1e7b3d-9137-4a20-a99c-d0d2029ef170-all-10022021085104', '_type': '_doc', '_id': 'SNbLi3cB_pG9ugNAbe4x', '_version': 3, 'result': 'updated', '_shards': {'total': 2, 'successful': 1, 'failed': 0}, '_seq_no': 202, '_primary_term': 1}\n",
      "{'_index': 'nlp_model-dc1e7b3d-9137-4a20-a99c-d0d2029ef170-all-10022021085104', '_type': '_doc', '_id': 'SdbLi3cB_pG9ugNAcu4P', '_version': 2, 'result': 'noop', '_shards': {'total': 0, 'successful': 0, 'failed': 0}, '_seq_no': 131, '_primary_term': 1}\n",
      "{'_index': 'nlp_model-dc1e7b3d-9137-4a20-a99c-d0d2029ef170-all-10022021085104', '_type': '_doc', '_id': 'RNbLi3cB_pG9ugNAXu47', '_version': 3, 'result': 'updated', '_shards': {'total': 2, 'successful': 1, 'failed': 0}, '_seq_no': 203, '_primary_term': 1}\n",
      "{'_index': 'nlp_model-dc1e7b3d-9137-4a20-a99c-d0d2029ef170-all-10022021085104', '_type': '_doc', '_id': 'b9bKi3cB_pG9ugNAn-nI', '_version': 3, 'result': 'updated', '_shards': {'total': 2, 'successful': 1, 'failed': 0}, '_seq_no': 204, '_primary_term': 1}\n",
      "{'_index': 'nlp_model-dc1e7b3d-9137-4a20-a99c-d0d2029ef170-all-10022021085104', '_type': '_doc', '_id': 'e9bKi3cB_pG9ugNAh-hH', '_version': 3, 'result': 'updated', '_shards': {'total': 2, 'successful': 1, 'failed': 0}, '_seq_no': 205, '_primary_term': 1}\n",
      "{'_index': 'nlp_model-dc1e7b3d-9137-4a20-a99c-d0d2029ef170-all-10022021085104', '_type': '_doc', '_id': 'ZdbKi3cB_pG9ugNAlukW', '_version': 3, 'result': 'updated', '_shards': {'total': 2, 'successful': 1, 'failed': 0}, '_seq_no': 206, '_primary_term': 1}\n",
      "{'_index': 'nlp_model-dc1e7b3d-9137-4a20-a99c-d0d2029ef170-all-10022021085104', '_type': '_doc', '_id': 'Y9bKi3cB_pG9ugNAkek_', '_version': 3, 'result': 'updated', '_shards': {'total': 2, 'successful': 1, 'failed': 0}, '_seq_no': 207, '_primary_term': 1}\n",
      "{'_index': 'nlp_model-dc1e7b3d-9137-4a20-a99c-d0d2029ef170-all-10022021085104', '_type': '_doc', '_id': 'eNbKi3cB_pG9ugNAeOiv', '_version': 3, 'result': 'updated', '_shards': {'total': 2, 'successful': 1, 'failed': 0}, '_seq_no': 208, '_primary_term': 1}\n",
      "{'_index': 'nlp_model-dc1e7b3d-9137-4a20-a99c-d0d2029ef170-all-10022021085104', '_type': '_doc', '_id': 'bdbKi3cB_pG9ugNAmunr', '_version': 3, 'result': 'updated', '_shards': {'total': 2, 'successful': 1, 'failed': 0}, '_seq_no': 209, '_primary_term': 1}\n",
      "{'_index': 'nlp_model-dc1e7b3d-9137-4a20-a99c-d0d2029ef170-all-10022021085104', '_type': '_doc', '_id': 'ftbKi3cB_pG9ugNAjOgt', '_version': 2, 'result': 'noop', '_shards': {'total': 0, 'successful': 0, 'failed': 0}, '_seq_no': 119, '_primary_term': 1}\n",
      "{'_index': 'nlp_model-dc1e7b3d-9137-4a20-a99c-d0d2029ef170-all-10022021085104', '_type': '_doc', '_id': 'itbKi3cB_pG9ugNAZudn', '_version': 3, 'result': 'updated', '_shards': {'total': 2, 'successful': 1, 'failed': 0}, '_seq_no': 210, '_primary_term': 1}\n",
      "{'_index': 'nlp_model-dc1e7b3d-9137-4a20-a99c-d0d2029ef170-all-10022021085104', '_type': '_doc', '_id': 'ctbKi3cB_pG9ugNArunc', '_version': 3, 'result': 'updated', '_shards': {'total': 2, 'successful': 1, 'failed': 0}, '_seq_no': 211, '_primary_term': 1}\n",
      "{'_index': 'nlp_model-dc1e7b3d-9137-4a20-a99c-d0d2029ef170-all-10022021085104', '_type': '_doc', '_id': 'cdbKi3cB_pG9ugNAqenX', '_version': 3, 'result': 'updated', '_shards': {'total': 2, 'successful': 1, 'failed': 0}, '_seq_no': 212, '_primary_term': 1}\n",
      "{'_index': 'nlp_model-dc1e7b3d-9137-4a20-a99c-d0d2029ef170-all-10022021085104', '_type': '_doc', '_id': 'ddbKi3cB_pG9ugNAs-mt', '_version': 3, 'result': 'updated', '_shards': {'total': 2, 'successful': 1, 'failed': 0}, '_seq_no': 213, '_primary_term': 1}\n",
      "{'_index': 'nlp_model-dc1e7b3d-9137-4a20-a99c-d0d2029ef170-all-10022021085104', '_type': '_doc', '_id': 'WtbKi3cB_pG9ugNAuOqB', '_version': 3, 'result': 'updated', '_shards': {'total': 2, 'successful': 1, 'failed': 0}, '_seq_no': 214, '_primary_term': 1}\n",
      "{'_index': 'nlp_model-dc1e7b3d-9137-4a20-a99c-d0d2029ef170-all-10022021085104', '_type': '_doc', '_id': 'UNbKi3cB_pG9ugNA3-tK', '_version': 3, 'result': 'updated', '_shards': {'total': 2, 'successful': 1, 'failed': 0}, '_seq_no': 215, '_primary_term': 1}\n",
      "{'_index': 'nlp_model-dc1e7b3d-9137-4a20-a99c-d0d2029ef170-all-10022021085104', '_type': '_doc', '_id': 'XNbKi3cB_pG9ugNA8uvH', '_version': 3, 'result': 'updated', '_shards': {'total': 2, 'successful': 1, 'failed': 0}, '_seq_no': 216, '_primary_term': 1}\n",
      "{'_index': 'nlp_model-dc1e7b3d-9137-4a20-a99c-d0d2029ef170-all-10022021085104', '_type': '_doc', '_id': 'XdbKi3cB_pG9ugNA9-uY', '_version': 3, 'result': 'updated', '_shards': {'total': 2, 'successful': 1, 'failed': 0}, '_seq_no': 217, '_primary_term': 1}\n",
      "{'_index': 'nlp_model-dc1e7b3d-9137-4a20-a99c-d0d2029ef170-all-10022021085104', '_type': '_doc', '_id': 'aNbKi3cB_pG9ugNA1eqa', '_version': 3, 'result': 'updated', '_shards': {'total': 2, 'successful': 1, 'failed': 0}, '_seq_no': 218, '_primary_term': 1}\n",
      "{'_index': 'nlp_model-dc1e7b3d-9137-4a20-a99c-d0d2029ef170-all-10022021085104', '_type': '_doc', '_id': 'a9bKi3cB_pG9ugNA2upx', '_version': 3, 'result': 'updated', '_shards': {'total': 2, 'successful': 1, 'failed': 0}, '_seq_no': 219, '_primary_term': 1}\n",
      "{'_index': 'nlp_model-dc1e7b3d-9137-4a20-a99c-d0d2029ef170-all-10022021085104', '_type': '_doc', '_id': 'TdbLi3cB_pG9ugNAN-02', '_version': 3, 'result': 'updated', '_shards': {'total': 2, 'successful': 1, 'failed': 0}, '_seq_no': 220, '_primary_term': 1}\n",
      "{'_index': 'nlp_model-dc1e7b3d-9137-4a20-a99c-d0d2029ef170-all-10022021085104', '_type': '_doc', '_id': 'PNbLi3cB_pG9ugNAiu93', '_version': 3, 'result': 'updated', '_shards': {'total': 2, 'successful': 1, 'failed': 0}, '_seq_no': 221, '_primary_term': 1}\n",
      "{'_index': 'nlp_model-dc1e7b3d-9137-4a20-a99c-d0d2029ef170-all-10022021085104', '_type': '_doc', '_id': 'P9bLi3cB_pG9ugNAme8S', '_version': 3, 'result': 'updated', '_shards': {'total': 2, 'successful': 1, 'failed': 0}, '_seq_no': 222, '_primary_term': 1}\n",
      "{'_index': 'nlp_model-dc1e7b3d-9137-4a20-a99c-d0d2029ef170-all-10022021085104', '_type': '_doc', '_id': 'M9bLi3cB_pG9ugNAgO-r', '_version': 3, 'result': 'updated', '_shards': {'total': 2, 'successful': 1, 'failed': 0}, '_seq_no': 223, '_primary_term': 1}\n",
      "{'_index': 'nlp_model-dc1e7b3d-9137-4a20-a99c-d0d2029ef170-all-10022021085104', '_type': '_doc', '_id': 'NNbLi3cB_pG9ugNAu_Ae', '_version': 3, 'result': 'updated', '_shards': {'total': 2, 'successful': 1, 'failed': 0}, '_seq_no': 224, '_primary_term': 1}\n",
      "{'_index': 'nlp_model-dc1e7b3d-9137-4a20-a99c-d0d2029ef170-all-10022021085104', '_type': '_doc', '_id': 'MNbLi3cB_pG9ugNArPCZ', '_version': 3, 'result': 'updated', '_shards': {'total': 2, 'successful': 1, 'failed': 0}, '_seq_no': 225, '_primary_term': 1}\n",
      "{'_index': 'nlp_model-dc1e7b3d-9137-4a20-a99c-d0d2029ef170-all-10022021085104', '_type': '_doc', '_id': 'MtbLi3cB_pG9ugNAsfBr', '_version': 3, 'result': 'updated', '_shards': {'total': 2, 'successful': 1, 'failed': 0}, '_seq_no': 226, '_primary_term': 1}\n",
      "{'_index': 'nlp_model-dc1e7b3d-9137-4a20-a99c-d0d2029ef170-all-10022021085104', '_type': '_doc', '_id': 'NdbLi3cB_pG9ugNAv_D_', '_version': 3, 'result': 'updated', '_shards': {'total': 2, 'successful': 1, 'failed': 0}, '_seq_no': 227, '_primary_term': 1}\n",
      "{'_index': 'nlp_model-dc1e7b3d-9137-4a20-a99c-d0d2029ef170-all-10022021085104', '_type': '_doc', '_id': 'HdbMi3cB_pG9ugNAK_M6', '_version': 3, 'result': 'updated', '_shards': {'total': 2, 'successful': 1, 'failed': 0}, '_seq_no': 228, '_primary_term': 1}\n",
      "{'_index': 'nlp_model-dc1e7b3d-9137-4a20-a99c-d0d2029ef170-all-10022021085104', '_type': '_doc', '_id': 'K9bMi3cB_pG9ugNAEvKl', '_version': 3, 'result': 'updated', '_shards': {'total': 2, 'successful': 1, 'failed': 0}, '_seq_no': 229, '_primary_term': 1}\n",
      "{'_index': 'nlp_model-dc1e7b3d-9137-4a20-a99c-d0d2029ef170-all-10022021085104', '_type': '_doc', '_id': 'btbKi3cB_pG9ugNAa-iF', '_version': 3, 'result': 'updated', '_shards': {'total': 2, 'successful': 1, 'failed': 0}, '_seq_no': 230, '_primary_term': 1}\n",
      "{'_index': 'nlp_model-dc1e7b3d-9137-4a20-a99c-d0d2029ef170-all-10022021085104', '_type': '_doc', '_id': 'dtbKi3cB_pG9ugNAc-jD', '_version': 3, 'result': 'updated', '_shards': {'total': 2, 'successful': 1, 'failed': 0}, '_seq_no': 231, '_primary_term': 1}\n",
      "{'_index': 'nlp_model-dc1e7b3d-9137-4a20-a99c-d0d2029ef170-all-10022021085104', '_type': '_doc', '_id': 'WdbKi3cB_pG9ugNA6esH', '_version': 3, 'result': 'updated', '_shards': {'total': 2, 'successful': 1, 'failed': 0}, '_seq_no': 232, '_primary_term': 1}\n",
      "{'_index': 'nlp_model-dc1e7b3d-9137-4a20-a99c-d0d2029ef170-all-10022021085104', '_type': '_doc', '_id': 'UtbKi3cB_pG9ugNA5Oss', '_version': 3, 'result': 'updated', '_shards': {'total': 2, 'successful': 1, 'failed': 0}, '_seq_no': 233, '_primary_term': 1}\n",
      "{'_index': 'nlp_model-dc1e7b3d-9137-4a20-a99c-d0d2029ef170-all-10022021085104', '_type': '_doc', '_id': 'Z9bKi3cB_pG9ugNA0OrB', '_version': 3, 'result': 'updated', '_shards': {'total': 2, 'successful': 1, 'failed': 0}, '_seq_no': 234, '_primary_term': 1}\n",
      "{'_index': 'nlp_model-dc1e7b3d-9137-4a20-a99c-d0d2029ef170-all-10022021085104', '_type': '_doc', '_id': 'W9bKi3cB_pG9ugNA7evk', '_version': 3, 'result': 'updated', '_shards': {'total': 2, 'successful': 1, 'failed': 0}, '_seq_no': 235, '_primary_term': 1}\n",
      "{'_index': 'nlp_model-dc1e7b3d-9137-4a20-a99c-d0d2029ef170-all-10022021085104', '_type': '_doc', '_id': 'VdbLi3cB_pG9ugNAT-2X', '_version': 3, 'result': 'updated', '_shards': {'total': 2, 'successful': 1, 'failed': 0}, '_seq_no': 236, '_primary_term': 1}\n",
      "{'_index': 'nlp_model-dc1e7b3d-9137-4a20-a99c-d0d2029ef170-all-10022021085104', '_type': '_doc', '_id': 'M9bLi3cB_pG9ugNAtvBN', '_version': 2, 'result': 'noop', '_shards': {'total': 0, 'successful': 0, 'failed': 0}, '_seq_no': 142, '_primary_term': 1}\n",
      "{'_index': 'nlp_model-dc1e7b3d-9137-4a20-a99c-d0d2029ef170-all-10022021085104', '_type': '_doc', '_id': 'HNbMi3cB_pG9ugNAJvNf', '_version': 3, 'result': 'updated', '_shards': {'total': 2, 'successful': 1, 'failed': 0}, '_seq_no': 237, '_primary_term': 1}\n",
      "{'_index': 'nlp_model-dc1e7b3d-9137-4a20-a99c-d0d2029ef170-all-10022021085104', '_type': '_doc', '_id': 'KNbMi3cB_pG9ugNADfLL', '_version': 3, 'result': 'updated', '_shards': {'total': 2, 'successful': 1, 'failed': 0}, '_seq_no': 238, '_primary_term': 1}\n",
      "{'_index': 'nlp_model-dc1e7b3d-9137-4a20-a99c-d0d2029ef170-all-10022021085104', '_type': '_doc', '_id': 'EdbMi3cB_pG9ugNAF_Of', '_version': 3, 'result': 'updated', '_shards': {'total': 2, 'successful': 1, 'failed': 0}, '_seq_no': 239, '_primary_term': 1}\n",
      "{'_index': 'nlp_model-dc1e7b3d-9137-4a20-a99c-d0d2029ef170-all-10022021085104', '_type': '_doc', '_id': 'JtbMi3cB_pG9ugNABPIl', '_version': 3, 'result': 'updated', '_shards': {'total': 2, 'successful': 1, 'failed': 0}, '_seq_no': 240, '_primary_term': 1}\n",
      "{'_index': 'nlp_model-dc1e7b3d-9137-4a20-a99c-d0d2029ef170-all-10022021085104', '_type': '_doc', '_id': 'XtbLi3cB_pG9ugNAKOyd', '_version': 3, 'result': 'updated', '_shards': {'total': 2, 'successful': 1, 'failed': 0}, '_seq_no': 241, '_primary_term': 1}\n",
      "{'_index': 'nlp_model-dc1e7b3d-9137-4a20-a99c-d0d2029ef170-all-10022021085104', '_type': '_doc', '_id': 'RNbLi3cB_pG9ugNALe13', '_version': 3, 'result': 'updated', '_shards': {'total': 2, 'successful': 1, 'failed': 0}, '_seq_no': 242, '_primary_term': 1}\n",
      "{'_index': 'nlp_model-dc1e7b3d-9137-4a20-a99c-d0d2029ef170-all-10022021085104', '_type': '_doc', '_id': 'UdbLi3cB_pG9ugNARe3X', '_version': 3, 'result': 'updated', '_shards': {'total': 2, 'successful': 1, 'failed': 0}, '_seq_no': 243, '_primary_term': 1}\n",
      "{'_index': 'nlp_model-dc1e7b3d-9137-4a20-a99c-d0d2029ef170-all-10022021085104', '_type': '_doc', '_id': 'UtbLi3cB_pG9ugNASu3C', '_version': 2, 'result': 'noop', '_shards': {'total': 0, 'successful': 0, 'failed': 0}, '_seq_no': 173, '_primary_term': 1}\n",
      "{'_index': 'nlp_model-dc1e7b3d-9137-4a20-a99c-d0d2029ef170-all-10022021085104', '_type': '_doc', '_id': 'ZtbKi3cB_pG9ugNAy-rx', '_version': 2, 'result': 'noop', '_shards': {'total': 0, 'successful': 0, 'failed': 0}, '_seq_no': 156, '_primary_term': 1}\n",
      "{'_index': 'nlp_model-dc1e7b3d-9137-4a20-a99c-d0d2029ef170-all-10022021085104', '_type': '_doc', '_id': 'cNbKi3cB_pG9ugNApOnh', '_version': 3, 'result': 'updated', '_shards': {'total': 2, 'successful': 1, 'failed': 0}, '_seq_no': 244, '_primary_term': 1}\n",
      "{'_index': 'nlp_model-dc1e7b3d-9137-4a20-a99c-d0d2029ef170-all-10022021085104', '_type': '_doc', '_id': 'XNbKi3cB_pG9ugNAvepr', '_version': 3, 'result': 'updated', '_shards': {'total': 2, 'successful': 1, 'failed': 0}, '_seq_no': 245, '_primary_term': 1}\n",
      "{'_index': 'nlp_model-dc1e7b3d-9137-4a20-a99c-d0d2029ef170-all-10022021085104', '_type': '_doc', '_id': 'Y9bKi3cB_pG9ugNAwupF', '_version': 2, 'result': 'noop', '_shards': {'total': 0, 'successful': 0, 'failed': 0}, '_seq_no': 159, '_primary_term': 1}\n",
      "{'_index': 'nlp_model-dc1e7b3d-9137-4a20-a99c-d0d2029ef170-all-10022021085104', '_type': '_doc', '_id': 'KdbLi3cB_pG9ugNAp_C5', '_version': 3, 'result': 'updated', '_shards': {'total': 2, 'successful': 1, 'failed': 0}, '_seq_no': 246, '_primary_term': 1}\n",
      "{'_index': 'nlp_model-dc1e7b3d-9137-4a20-a99c-d0d2029ef170-all-10022021085104', '_type': '_doc', '_id': 'PtbLi3cB_pG9ugNAlO8r', '_version': 3, 'result': 'updated', '_shards': {'total': 2, 'successful': 1, 'failed': 0}, '_seq_no': 247, '_primary_term': 1}\n",
      "{'_index': 'nlp_model-dc1e7b3d-9137-4a20-a99c-d0d2029ef170-all-10022021085104', '_type': '_doc', '_id': 'l9bLi3cB_pG9ugNAou_f', '_version': 3, 'result': 'updated', '_shards': {'total': 2, 'successful': 1, 'failed': 0}, '_seq_no': 248, '_primary_term': 1}\n",
      "{'_index': 'nlp_model-dc1e7b3d-9137-4a20-a99c-d0d2029ef170-all-10022021085104', '_type': '_doc', '_id': 'PdbLi3cB_pG9ugNAj-9P', '_version': 3, 'result': 'updated', '_shards': {'total': 2, 'successful': 1, 'failed': 0}, '_seq_no': 249, '_primary_term': 1}\n",
      "{'_index': 'nlp_model-dc1e7b3d-9137-4a20-a99c-d0d2029ef170-all-10022021085104', '_type': '_doc', '_id': 'OtbLi3cB_pG9ugNAhe-P', '_version': 2, 'result': 'noop', '_shards': {'total': 0, 'successful': 0, 'failed': 0}, '_seq_no': 182, '_primary_term': 1}\n",
      "{'_index': 'nlp_model-dc1e7b3d-9137-4a20-a99c-d0d2029ef170-all-10022021085104', '_type': '_doc', '_id': 'L9bLi3cB_pG9ugNA6_HR', '_version': 3, 'result': 'updated', '_shards': {'total': 2, 'successful': 1, 'failed': 0}, '_seq_no': 250, '_primary_term': 1}\n",
      "{'_index': 'nlp_model-dc1e7b3d-9137-4a20-a99c-d0d2029ef170-all-10022021085104', '_type': '_doc', '_id': 'KtbLi3cB_pG9ugNA4fH5', '_version': 3, 'result': 'updated', '_shards': {'total': 2, 'successful': 1, 'failed': 0}, '_seq_no': 251, '_primary_term': 1}\n",
      "{'_index': 'nlp_model-dc1e7b3d-9137-4a20-a99c-d0d2029ef170-all-10022021085104', '_type': '_doc', '_id': 'HtbMi3cB_pG9ugNAMPMV', '_version': 3, 'result': 'updated', '_shards': {'total': 2, 'successful': 1, 'failed': 0}, '_seq_no': 252, '_primary_term': 1}\n",
      "{'_index': 'nlp_model-dc1e7b3d-9137-4a20-a99c-d0d2029ef170-all-10022021085104', '_type': '_doc', '_id': 'ItbMi3cB_pG9ugNAOfPG', '_version': 3, 'result': 'updated', '_shards': {'total': 2, 'successful': 1, 'failed': 0}, '_seq_no': 253, '_primary_term': 1}\n"
     ]
    }
   ],
   "source": [
    "from utils.split_data import update_intents_with_messing_examples\n",
    "\n",
    "update_intents_with_messing_examples(index, es)"
   ]
  },
  {
   "cell_type": "markdown",
   "metadata": {},
   "source": [
    "# Split train and test"
   ]
  },
  {
   "cell_type": "code",
   "execution_count": 1,
   "metadata": {},
   "outputs": [
    {
     "data": {
      "text/plain": [
       "'nlp_model-dc1e7b3d-9137-4a20-a99c-d0d2029ef170-all-10022021085104'"
      ]
     },
     "execution_count": 1,
     "metadata": {},
     "output_type": "execute_result"
    }
   ],
   "source": [
    "from elastic_db.elasticsearch import elastic_conection, NLPmodelIndex\n",
    "\n",
    "es = elastic_conection()\n",
    "index = NLPmodelIndex(es=es, workspace_id=\"dc1e7b3d-9137-4a20-a99c-d0d2029ef170-all\")\n",
    "index.index_name"
   ]
  },
  {
   "cell_type": "code",
   "execution_count": 2,
   "metadata": {},
   "outputs": [
    {
     "name": "stdout",
     "output_type": "stream",
     "text": [
      "{'_index': 'nlp_model-dc1e7b3d-9137-4a20-a99c-d0d2029ef170-all-10022021085104', '_type': '_doc', '_id': 'WdbLi3cB_pG9ugNAGezu', '_version': 5, 'result': 'updated', '_shards': {'total': 2, 'successful': 1, 'failed': 0}, '_seq_no': 350, '_primary_term': 1}\n",
      "{'_index': 'nlp_model-dc1e7b3d-9137-4a20-a99c-d0d2029ef170-all-10022021085104', '_type': '_doc', '_id': 'R9bLi3cB_pG9ugNAaO4D', '_version': 5, 'result': 'updated', '_shards': {'total': 2, 'successful': 1, 'failed': 0}, '_seq_no': 351, '_primary_term': 1}\n",
      "{'_index': 'nlp_model-dc1e7b3d-9137-4a20-a99c-d0d2029ef170-all-10022021085104', '_type': '_doc', '_id': 'cdbKi3cB_pG9ugNAqenX', '_version': 5, 'result': 'updated', '_shards': {'total': 2, 'successful': 1, 'failed': 0}, '_seq_no': 352, '_primary_term': 1}\n",
      "{'_index': 'nlp_model-dc1e7b3d-9137-4a20-a99c-d0d2029ef170-all-10022021085104', '_type': '_doc', '_id': 'ddbKi3cB_pG9ugNAs-mt', '_version': 5, 'result': 'updated', '_shards': {'total': 2, 'successful': 1, 'failed': 0}, '_seq_no': 353, '_primary_term': 1}\n",
      "{'_index': 'nlp_model-dc1e7b3d-9137-4a20-a99c-d0d2029ef170-all-10022021085104', '_type': '_doc', '_id': 'WtbKi3cB_pG9ugNAuOqB', '_version': 5, 'result': 'updated', '_shards': {'total': 2, 'successful': 1, 'failed': 0}, '_seq_no': 354, '_primary_term': 1}\n",
      "{'_index': 'nlp_model-dc1e7b3d-9137-4a20-a99c-d0d2029ef170-all-10022021085104', '_type': '_doc', '_id': 'UNbKi3cB_pG9ugNA3-tK', '_version': 5, 'result': 'updated', '_shards': {'total': 2, 'successful': 1, 'failed': 0}, '_seq_no': 355, '_primary_term': 1}\n",
      "{'_index': 'nlp_model-dc1e7b3d-9137-4a20-a99c-d0d2029ef170-all-10022021085104', '_type': '_doc', '_id': 'XNbKi3cB_pG9ugNA8uvH', '_version': 5, 'result': 'updated', '_shards': {'total': 2, 'successful': 1, 'failed': 0}, '_seq_no': 356, '_primary_term': 1}\n",
      "{'_index': 'nlp_model-dc1e7b3d-9137-4a20-a99c-d0d2029ef170-all-10022021085104', '_type': '_doc', '_id': 'b9bKi3cB_pG9ugNAn-nI', '_version': 5, 'result': 'updated', '_shards': {'total': 2, 'successful': 1, 'failed': 0}, '_seq_no': 357, '_primary_term': 1}\n",
      "{'_index': 'nlp_model-dc1e7b3d-9137-4a20-a99c-d0d2029ef170-all-10022021085104', '_type': '_doc', '_id': 'e9bKi3cB_pG9ugNAh-hH', '_version': 5, 'result': 'updated', '_shards': {'total': 2, 'successful': 1, 'failed': 0}, '_seq_no': 358, '_primary_term': 1}\n",
      "{'_index': 'nlp_model-dc1e7b3d-9137-4a20-a99c-d0d2029ef170-all-10022021085104', '_type': '_doc', '_id': 'ZdbKi3cB_pG9ugNAlukW', '_version': 5, 'result': 'updated', '_shards': {'total': 2, 'successful': 1, 'failed': 0}, '_seq_no': 359, '_primary_term': 1}\n",
      "{'_index': 'nlp_model-dc1e7b3d-9137-4a20-a99c-d0d2029ef170-all-10022021085104', '_type': '_doc', '_id': 'Y9bKi3cB_pG9ugNAkek_', '_version': 5, 'result': 'updated', '_shards': {'total': 2, 'successful': 1, 'failed': 0}, '_seq_no': 360, '_primary_term': 1}\n",
      "{'_index': 'nlp_model-dc1e7b3d-9137-4a20-a99c-d0d2029ef170-all-10022021085104', '_type': '_doc', '_id': 'M9bLi3cB_pG9ugNAtvBN', '_version': 4, 'result': 'updated', '_shards': {'total': 2, 'successful': 1, 'failed': 0}, '_seq_no': 361, '_primary_term': 1}\n",
      "{'_index': 'nlp_model-dc1e7b3d-9137-4a20-a99c-d0d2029ef170-all-10022021085104', '_type': '_doc', '_id': 'UtbLi3cB_pG9ugNASu3C', '_version': 4, 'result': 'updated', '_shards': {'total': 2, 'successful': 1, 'failed': 0}, '_seq_no': 362, '_primary_term': 1}\n",
      "{'_index': 'nlp_model-dc1e7b3d-9137-4a20-a99c-d0d2029ef170-all-10022021085104', '_type': '_doc', '_id': 'edbKi3cB_pG9ugNAfeiJ', '_version': 5, 'result': 'updated', '_shards': {'total': 2, 'successful': 1, 'failed': 0}, '_seq_no': 363, '_primary_term': 1}\n",
      "{'_index': 'nlp_model-dc1e7b3d-9137-4a20-a99c-d0d2029ef170-all-10022021085104', '_type': '_doc', '_id': 'XtbKi3cB_pG9ugNA_Ot5', '_version': 5, 'result': 'updated', '_shards': {'total': 2, 'successful': 1, 'failed': 0}, '_seq_no': 364, '_primary_term': 1}\n",
      "{'_index': 'nlp_model-dc1e7b3d-9137-4a20-a99c-d0d2029ef170-all-10022021085104', '_type': '_doc', '_id': 'VtbLi3cB_pG9ugNAEOxA', '_version': 5, 'result': 'updated', '_shards': {'total': 2, 'successful': 1, 'failed': 0}, '_seq_no': 365, '_primary_term': 1}\n",
      "{'_index': 'nlp_model-dc1e7b3d-9137-4a20-a99c-d0d2029ef170-all-10022021085104', '_type': '_doc', '_id': 'TtbLi3cB_pG9ugNAC-xj', '_version': 5, 'result': 'updated', '_shards': {'total': 2, 'successful': 1, 'failed': 0}, '_seq_no': 366, '_primary_term': 1}\n",
      "{'_index': 'nlp_model-dc1e7b3d-9137-4a20-a99c-d0d2029ef170-all-10022021085104', '_type': '_doc', '_id': 'W9bLi3cB_pG9ugNAI-zE', '_version': 5, 'result': 'updated', '_shards': {'total': 2, 'successful': 1, 'failed': 0}, '_seq_no': 367, '_primary_term': 1}\n",
      "{'_index': 'nlp_model-dc1e7b3d-9137-4a20-a99c-d0d2029ef170-all-10022021085104', '_type': '_doc', '_id': 'ONbLi3cB_pG9ugNAxPDY', '_version': 5, 'result': 'updated', '_shards': {'total': 2, 'successful': 1, 'failed': 0}, '_seq_no': 368, '_primary_term': 1}\n",
      "{'_index': 'nlp_model-dc1e7b3d-9137-4a20-a99c-d0d2029ef170-all-10022021085104', '_type': '_doc', '_id': 'WtbLi3cB_pG9ugNAHuzu', '_version': 5, 'result': 'updated', '_shards': {'total': 2, 'successful': 1, 'failed': 0}, '_seq_no': 369, '_primary_term': 1}\n",
      "{'_index': 'nlp_model-dc1e7b3d-9137-4a20-a99c-d0d2029ef170-all-10022021085104', '_type': '_doc', '_id': 'WNbLi3cB_pG9ugNAFewV', '_version': 5, 'result': 'updated', '_shards': {'total': 2, 'successful': 1, 'failed': 0}, '_seq_no': 370, '_primary_term': 1}\n",
      "{'_index': 'nlp_model-dc1e7b3d-9137-4a20-a99c-d0d2029ef170-all-10022021085104', '_type': '_doc', '_id': 'RtbLi3cB_pG9ugNAY-4i', '_version': 2, 'result': 'noop', '_shards': {'total': 0, 'successful': 0, 'failed': 0}, '_seq_no': 257, '_primary_term': 1}\n",
      "{'_index': 'nlp_model-dc1e7b3d-9137-4a20-a99c-d0d2029ef170-all-10022021085104', '_type': '_doc', '_id': 'PNbLi3cB_pG9ugNAWe5Y', '_version': 2, 'result': 'noop', '_shards': {'total': 0, 'successful': 0, 'failed': 0}, '_seq_no': 258, '_primary_term': 1}\n",
      "{'_index': 'nlp_model-dc1e7b3d-9137-4a20-a99c-d0d2029ef170-all-10022021085104', '_type': '_doc', '_id': 'JtbLi3cB_pG9ugNA0_Fy', '_version': 2, 'result': 'noop', '_shards': {'total': 0, 'successful': 0, 'failed': 0}, '_seq_no': 259, '_primary_term': 1}\n",
      "{'_index': 'nlp_model-dc1e7b3d-9137-4a20-a99c-d0d2029ef170-all-10022021085104', '_type': '_doc', '_id': 'E9bMi3cB_pG9ugNAHPN_', '_version': 2, 'result': 'noop', '_shards': {'total': 0, 'successful': 0, 'failed': 0}, '_seq_no': 260, '_primary_term': 1}\n",
      "{'_index': 'nlp_model-dc1e7b3d-9137-4a20-a99c-d0d2029ef170-all-10022021085104', '_type': '_doc', '_id': 'GtbMi3cB_pG9ugNAIfN8', '_version': 2, 'result': 'noop', '_shards': {'total': 0, 'successful': 0, 'failed': 0}, '_seq_no': 261, '_primary_term': 1}\n",
      "{'_index': 'nlp_model-dc1e7b3d-9137-4a20-a99c-d0d2029ef170-all-10022021085104', '_type': '_doc', '_id': 'J9bMi3cB_pG9ugNACPL3', '_version': 2, 'result': 'noop', '_shards': {'total': 0, 'successful': 0, 'failed': 0}, '_seq_no': 262, '_primary_term': 1}\n",
      "{'_index': 'nlp_model-dc1e7b3d-9137-4a20-a99c-d0d2029ef170-all-10022021085104', '_type': '_doc', '_id': 'T9bLi3cB_pG9ugNAPO0V', '_version': 2, 'result': 'noop', '_shards': {'total': 0, 'successful': 0, 'failed': 0}, '_seq_no': 267, '_primary_term': 1}\n",
      "{'_index': 'nlp_model-dc1e7b3d-9137-4a20-a99c-d0d2029ef170-all-10022021085104', '_type': '_doc', '_id': 'UNbLi3cB_pG9ugNAQe0D', '_version': 2, 'result': 'noop', '_shards': {'total': 0, 'successful': 0, 'failed': 0}, '_seq_no': 268, '_primary_term': 1}\n",
      "{'_index': 'nlp_model-dc1e7b3d-9137-4a20-a99c-d0d2029ef170-all-10022021085104', '_type': '_doc', '_id': 'RtbLi3cB_pG9ugNAMu1P', '_version': 2, 'result': 'noop', '_shards': {'total': 0, 'successful': 0, 'failed': 0}, '_seq_no': 269, '_primary_term': 1}\n",
      "{'_index': 'nlp_model-dc1e7b3d-9137-4a20-a99c-d0d2029ef170-all-10022021085104', '_type': '_doc', '_id': 'QtbLi3cB_pG9ugNAne_q', '_version': 2, 'result': 'noop', '_shards': {'total': 0, 'successful': 0, 'failed': 0}, '_seq_no': 270, '_primary_term': 1}\n",
      "{'_index': 'nlp_model-dc1e7b3d-9137-4a20-a99c-d0d2029ef170-all-10022021085104', '_type': '_doc', '_id': 'I9bLi3cB_pG9ugNA-vJy', '_version': 2, 'result': 'noop', '_shards': {'total': 0, 'successful': 0, 'failed': 0}, '_seq_no': 271, '_primary_term': 1}\n",
      "{'_index': 'nlp_model-dc1e7b3d-9137-4a20-a99c-d0d2029ef170-all-10022021085104', '_type': '_doc', '_id': 'JdbLi3cB_pG9ugNA__JQ', '_version': 2, 'result': 'noop', '_shards': {'total': 0, 'successful': 0, 'failed': 0}, '_seq_no': 272, '_primary_term': 1}\n",
      "{'_index': 'nlp_model-dc1e7b3d-9137-4a20-a99c-d0d2029ef170-all-10022021085104', '_type': '_doc', '_id': 'SdbLi3cB_pG9ugNAcu4P', '_version': 4, 'result': 'updated', '_shards': {'total': 2, 'successful': 1, 'failed': 0}, '_seq_no': 371, '_primary_term': 1}\n",
      "{'_index': 'nlp_model-dc1e7b3d-9137-4a20-a99c-d0d2029ef170-all-10022021085104', '_type': '_doc', '_id': 'ftbKi3cB_pG9ugNAjOgt', '_version': 4, 'result': 'updated', '_shards': {'total': 2, 'successful': 1, 'failed': 0}, '_seq_no': 372, '_primary_term': 1}\n",
      "{'_index': 'nlp_model-dc1e7b3d-9137-4a20-a99c-d0d2029ef170-all-10022021085104', '_type': '_doc', '_id': 'H9bMi3cB_pG9ugNANPPz', '_version': 2, 'result': 'noop', '_shards': {'total': 0, 'successful': 0, 'failed': 0}, '_seq_no': 265, '_primary_term': 1}\n",
      "{'_index': 'nlp_model-dc1e7b3d-9137-4a20-a99c-d0d2029ef170-all-10022021085104', '_type': '_doc', '_id': 'ZdbKi3cB_pG9ugNAx-oT', '_version': 2, 'result': 'noop', '_shards': {'total': 0, 'successful': 0, 'failed': 0}, '_seq_no': 266, '_primary_term': 1}\n",
      "{'_index': 'nlp_model-dc1e7b3d-9137-4a20-a99c-d0d2029ef170-all-10022021085104', '_type': '_doc', '_id': 'G9bLi3cB_pG9ugNA9fKT', '_version': 2, 'result': 'noop', '_shards': {'total': 0, 'successful': 0, 'failed': 0}, '_seq_no': 273, '_primary_term': 1}\n",
      "{'_index': 'nlp_model-dc1e7b3d-9137-4a20-a99c-d0d2029ef170-all-10022021085104', '_type': '_doc', '_id': 'K9bLi3cB_pG9ugNA5vHn', '_version': 2, 'result': 'noop', '_shards': {'total': 0, 'successful': 0, 'failed': 0}, '_seq_no': 274, '_primary_term': 1}\n",
      "{'_index': 'nlp_model-dc1e7b3d-9137-4a20-a99c-d0d2029ef170-all-10022021085104', '_type': '_doc', '_id': 'KNbLi3cB_pG9ugNA2PFM', '_version': 2, 'result': 'noop', '_shards': {'total': 0, 'successful': 0, 'failed': 0}, '_seq_no': 275, '_primary_term': 1}\n",
      "{'_index': 'nlp_model-dc1e7b3d-9137-4a20-a99c-d0d2029ef170-all-10022021085104', '_type': '_doc', '_id': 'GdbLi3cB_pG9ugNA8PKx', '_version': 2, 'result': 'noop', '_shards': {'total': 0, 'successful': 0, 'failed': 0}, '_seq_no': 276, '_primary_term': 1}\n",
      "{'_index': 'nlp_model-dc1e7b3d-9137-4a20-a99c-d0d2029ef170-all-10022021085104', '_type': '_doc', '_id': 'KdbLi3cB_pG9ugNA3fEh', '_version': 2, 'result': 'noop', '_shards': {'total': 0, 'successful': 0, 'failed': 0}, '_seq_no': 277, '_primary_term': 1}\n",
      "{'_index': 'nlp_model-dc1e7b3d-9137-4a20-a99c-d0d2029ef170-all-10022021085104', '_type': '_doc', '_id': 'etbKi3cB_pG9ugNAguh1', '_version': 2, 'result': 'noop', '_shards': {'total': 0, 'successful': 0, 'failed': 0}, '_seq_no': 254, '_primary_term': 1}\n",
      "{'_index': 'nlp_model-dc1e7b3d-9137-4a20-a99c-d0d2029ef170-all-10022021085104', '_type': '_doc', '_id': 'YtbLi3cB_pG9ugNAAetN', '_version': 2, 'result': 'noop', '_shards': {'total': 0, 'successful': 0, 'failed': 0}, '_seq_no': 255, '_primary_term': 1}\n",
      "{'_index': 'nlp_model-dc1e7b3d-9137-4a20-a99c-d0d2029ef170-all-10022021085104', '_type': '_doc', '_id': 'TNbLi3cB_pG9ugNABuyB', '_version': 2, 'result': 'noop', '_shards': {'total': 0, 'successful': 0, 'failed': 0}, '_seq_no': 256, '_primary_term': 1}\n",
      "{'_index': 'nlp_model-dc1e7b3d-9137-4a20-a99c-d0d2029ef170-all-10022021085104', '_type': '_doc', '_id': 'P9bLi3cB_pG9ugNAme8S', '_version': 5, 'result': 'updated', '_shards': {'total': 2, 'successful': 1, 'failed': 0}, '_seq_no': 373, '_primary_term': 1}\n",
      "{'_index': 'nlp_model-dc1e7b3d-9137-4a20-a99c-d0d2029ef170-all-10022021085104', '_type': '_doc', '_id': 'M9bLi3cB_pG9ugNAgO-r', '_version': 5, 'result': 'updated', '_shards': {'total': 2, 'successful': 1, 'failed': 0}, '_seq_no': 374, '_primary_term': 1}\n",
      "{'_index': 'nlp_model-dc1e7b3d-9137-4a20-a99c-d0d2029ef170-all-10022021085104', '_type': '_doc', '_id': 'NNbLi3cB_pG9ugNAu_Ae', '_version': 5, 'result': 'updated', '_shards': {'total': 2, 'successful': 1, 'failed': 0}, '_seq_no': 375, '_primary_term': 1}\n",
      "{'_index': 'nlp_model-dc1e7b3d-9137-4a20-a99c-d0d2029ef170-all-10022021085104', '_type': '_doc', '_id': 'MNbLi3cB_pG9ugNArPCZ', '_version': 5, 'result': 'updated', '_shards': {'total': 2, 'successful': 1, 'failed': 0}, '_seq_no': 376, '_primary_term': 1}\n",
      "{'_index': 'nlp_model-dc1e7b3d-9137-4a20-a99c-d0d2029ef170-all-10022021085104', '_type': '_doc', '_id': 'MtbLi3cB_pG9ugNAsfBr', '_version': 5, 'result': 'updated', '_shards': {'total': 2, 'successful': 1, 'failed': 0}, '_seq_no': 377, '_primary_term': 1}\n",
      "{'_index': 'nlp_model-dc1e7b3d-9137-4a20-a99c-d0d2029ef170-all-10022021085104', '_type': '_doc', '_id': 'NdbLi3cB_pG9ugNAv_D_', '_version': 5, 'result': 'updated', '_shards': {'total': 2, 'successful': 1, 'failed': 0}, '_seq_no': 378, '_primary_term': 1}\n",
      "{'_index': 'nlp_model-dc1e7b3d-9137-4a20-a99c-d0d2029ef170-all-10022021085104', '_type': '_doc', '_id': 'HdbMi3cB_pG9ugNAK_M6', '_version': 5, 'result': 'updated', '_shards': {'total': 2, 'successful': 1, 'failed': 0}, '_seq_no': 379, '_primary_term': 1}\n",
      "{'_index': 'nlp_model-dc1e7b3d-9137-4a20-a99c-d0d2029ef170-all-10022021085104', '_type': '_doc', '_id': 'K9bMi3cB_pG9ugNAEvKl', '_version': 5, 'result': 'updated', '_shards': {'total': 2, 'successful': 1, 'failed': 0}, '_seq_no': 380, '_primary_term': 1}\n",
      "{'_index': 'nlp_model-dc1e7b3d-9137-4a20-a99c-d0d2029ef170-all-10022021085104', '_type': '_doc', '_id': 'btbKi3cB_pG9ugNAa-iF', '_version': 5, 'result': 'updated', '_shards': {'total': 2, 'successful': 1, 'failed': 0}, '_seq_no': 381, '_primary_term': 1}\n",
      "{'_index': 'nlp_model-dc1e7b3d-9137-4a20-a99c-d0d2029ef170-all-10022021085104', '_type': '_doc', '_id': 'EdbMi3cB_pG9ugNAF_Of', '_version': 5, 'result': 'updated', '_shards': {'total': 2, 'successful': 1, 'failed': 0}, '_seq_no': 382, '_primary_term': 1}\n",
      "{'_index': 'nlp_model-dc1e7b3d-9137-4a20-a99c-d0d2029ef170-all-10022021085104', '_type': '_doc', '_id': 'eNbKi3cB_pG9ugNAeOiv', '_version': 5, 'result': 'updated', '_shards': {'total': 2, 'successful': 1, 'failed': 0}, '_seq_no': 383, '_primary_term': 1}\n",
      "{'_index': 'nlp_model-dc1e7b3d-9137-4a20-a99c-d0d2029ef170-all-10022021085104', '_type': '_doc', '_id': 'NtbLi3cB_pG9ugNAVO55', '_version': 5, 'result': 'updated', '_shards': {'total': 2, 'successful': 1, 'failed': 0}, '_seq_no': 384, '_primary_term': 1}\n",
      "{'_index': 'nlp_model-dc1e7b3d-9137-4a20-a99c-d0d2029ef170-all-10022021085104', '_type': '_doc', '_id': 'SNbLi3cB_pG9ugNAbe4x', '_version': 5, 'result': 'updated', '_shards': {'total': 2, 'successful': 1, 'failed': 0}, '_seq_no': 385, '_primary_term': 1}\n",
      "{'_index': 'nlp_model-dc1e7b3d-9137-4a20-a99c-d0d2029ef170-all-10022021085104', '_type': '_doc', '_id': 'RNbLi3cB_pG9ugNAXu47', '_version': 5, 'result': 'updated', '_shards': {'total': 2, 'successful': 1, 'failed': 0}, '_seq_no': 386, '_primary_term': 1}\n",
      "{'_index': 'nlp_model-dc1e7b3d-9137-4a20-a99c-d0d2029ef170-all-10022021085104', '_type': '_doc', '_id': 'OtbLi3cB_pG9ugNAhe-P', '_version': 4, 'result': 'updated', '_shards': {'total': 2, 'successful': 1, 'failed': 0}, '_seq_no': 387, '_primary_term': 1}\n",
      "{'_index': 'nlp_model-dc1e7b3d-9137-4a20-a99c-d0d2029ef170-all-10022021085104', '_type': '_doc', '_id': 'JtbMi3cB_pG9ugNABPIl', '_version': 5, 'result': 'updated', '_shards': {'total': 2, 'successful': 1, 'failed': 0}, '_seq_no': 388, '_primary_term': 1}\n",
      "{'_index': 'nlp_model-dc1e7b3d-9137-4a20-a99c-d0d2029ef170-all-10022021085104', '_type': '_doc', '_id': 'XtbLi3cB_pG9ugNAKOyd', '_version': 5, 'result': 'updated', '_shards': {'total': 2, 'successful': 1, 'failed': 0}, '_seq_no': 389, '_primary_term': 1}\n",
      "{'_index': 'nlp_model-dc1e7b3d-9137-4a20-a99c-d0d2029ef170-all-10022021085104', '_type': '_doc', '_id': 'RNbLi3cB_pG9ugNALe13', '_version': 5, 'result': 'updated', '_shards': {'total': 2, 'successful': 1, 'failed': 0}, '_seq_no': 390, '_primary_term': 1}\n",
      "{'_index': 'nlp_model-dc1e7b3d-9137-4a20-a99c-d0d2029ef170-all-10022021085104', '_type': '_doc', '_id': 'UdbLi3cB_pG9ugNARe3X', '_version': 5, 'result': 'updated', '_shards': {'total': 2, 'successful': 1, 'failed': 0}, '_seq_no': 391, '_primary_term': 1}\n",
      "{'_index': 'nlp_model-dc1e7b3d-9137-4a20-a99c-d0d2029ef170-all-10022021085104', '_type': '_doc', '_id': 'W9bKi3cB_pG9ugNA7evk', '_version': 5, 'result': 'updated', '_shards': {'total': 2, 'successful': 1, 'failed': 0}, '_seq_no': 392, '_primary_term': 1}\n",
      "{'_index': 'nlp_model-dc1e7b3d-9137-4a20-a99c-d0d2029ef170-all-10022021085104', '_type': '_doc', '_id': 'VdbLi3cB_pG9ugNAT-2X', '_version': 5, 'result': 'updated', '_shards': {'total': 2, 'successful': 1, 'failed': 0}, '_seq_no': 393, '_primary_term': 1}\n",
      "{'_index': 'nlp_model-dc1e7b3d-9137-4a20-a99c-d0d2029ef170-all-10022021085104', '_type': '_doc', '_id': 'TdbLi3cB_pG9ugNAN-02', '_version': 5, 'result': 'updated', '_shards': {'total': 2, 'successful': 1, 'failed': 0}, '_seq_no': 394, '_primary_term': 1}\n",
      "{'_index': 'nlp_model-dc1e7b3d-9137-4a20-a99c-d0d2029ef170-all-10022021085104', '_type': '_doc', '_id': 'PNbLi3cB_pG9ugNAiu93', '_version': 5, 'result': 'updated', '_shards': {'total': 2, 'successful': 1, 'failed': 0}, '_seq_no': 395, '_primary_term': 1}\n",
      "{'_index': 'nlp_model-dc1e7b3d-9137-4a20-a99c-d0d2029ef170-all-10022021085104', '_type': '_doc', '_id': 'KdbLi3cB_pG9ugNAp_C5', '_version': 5, 'result': 'updated', '_shards': {'total': 2, 'successful': 1, 'failed': 0}, '_seq_no': 396, '_primary_term': 1}\n",
      "{'_index': 'nlp_model-dc1e7b3d-9137-4a20-a99c-d0d2029ef170-all-10022021085104', '_type': '_doc', '_id': 'PtbLi3cB_pG9ugNAlO8r', '_version': 5, 'result': 'updated', '_shards': {'total': 2, 'successful': 1, 'failed': 0}, '_seq_no': 397, '_primary_term': 1}\n",
      "{'_index': 'nlp_model-dc1e7b3d-9137-4a20-a99c-d0d2029ef170-all-10022021085104', '_type': '_doc', '_id': 'l9bLi3cB_pG9ugNAou_f', '_version': 5, 'result': 'updated', '_shards': {'total': 2, 'successful': 1, 'failed': 0}, '_seq_no': 398, '_primary_term': 1}\n",
      "{'_index': 'nlp_model-dc1e7b3d-9137-4a20-a99c-d0d2029ef170-all-10022021085104', '_type': '_doc', '_id': 'PdbLi3cB_pG9ugNAj-9P', '_version': 5, 'result': 'updated', '_shards': {'total': 2, 'successful': 1, 'failed': 0}, '_seq_no': 399, '_primary_term': 1}\n",
      "{'_index': 'nlp_model-dc1e7b3d-9137-4a20-a99c-d0d2029ef170-all-10022021085104', '_type': '_doc', '_id': 'TNbLi3cB_pG9ugNAdu7t', '_version': 5, 'result': 'updated', '_shards': {'total': 2, 'successful': 1, 'failed': 0}, '_seq_no': 400, '_primary_term': 1}\n",
      "{'_index': 'nlp_model-dc1e7b3d-9137-4a20-a99c-d0d2029ef170-all-10022021085104', '_type': '_doc', '_id': 'MdbLi3cB_pG9ugNAe-_O', '_version': 5, 'result': 'updated', '_shards': {'total': 2, 'successful': 1, 'failed': 0}, '_seq_no': 401, '_primary_term': 1}\n",
      "{'_index': 'nlp_model-dc1e7b3d-9137-4a20-a99c-d0d2029ef170-all-10022021085104', '_type': '_doc', '_id': 'H9bLi3cB_pG9ugNAzvGW', '_version': 5, 'result': 'updated', '_shards': {'total': 2, 'successful': 1, 'failed': 0}, '_seq_no': 402, '_primary_term': 1}\n",
      "{'_index': 'nlp_model-dc1e7b3d-9137-4a20-a99c-d0d2029ef170-all-10022021085104', '_type': '_doc', '_id': 'HdbLi3cB_pG9ugNAyfGx', '_version': 5, 'result': 'updated', '_shards': {'total': 2, 'successful': 1, 'failed': 0}, '_seq_no': 403, '_primary_term': 1}\n",
      "{'_index': 'nlp_model-dc1e7b3d-9137-4a20-a99c-d0d2029ef170-all-10022021085104', '_type': '_doc', '_id': 'ZtbKi3cB_pG9ugNAy-rx', '_version': 4, 'result': 'updated', '_shards': {'total': 2, 'successful': 1, 'failed': 0}, '_seq_no': 404, '_primary_term': 1}\n",
      "{'_index': 'nlp_model-dc1e7b3d-9137-4a20-a99c-d0d2029ef170-all-10022021085104', '_type': '_doc', '_id': 'Y9bKi3cB_pG9ugNAwupF', '_version': 4, 'result': 'updated', '_shards': {'total': 2, 'successful': 1, 'failed': 0}, '_seq_no': 405, '_primary_term': 1}\n",
      "{'_index': 'nlp_model-dc1e7b3d-9137-4a20-a99c-d0d2029ef170-all-10022021085104', '_type': '_doc', '_id': 'HNbMi3cB_pG9ugNAJvNf', '_version': 5, 'result': 'updated', '_shards': {'total': 2, 'successful': 1, 'failed': 0}, '_seq_no': 406, '_primary_term': 1}\n",
      "{'_index': 'nlp_model-dc1e7b3d-9137-4a20-a99c-d0d2029ef170-all-10022021085104', '_type': '_doc', '_id': 'KNbMi3cB_pG9ugNADfLL', '_version': 5, 'result': 'updated', '_shards': {'total': 2, 'successful': 1, 'failed': 0}, '_seq_no': 407, '_primary_term': 1}\n",
      "{'_index': 'nlp_model-dc1e7b3d-9137-4a20-a99c-d0d2029ef170-all-10022021085104', '_type': '_doc', '_id': 'XdbKi3cB_pG9ugNA9-uY', '_version': 5, 'result': 'updated', '_shards': {'total': 2, 'successful': 1, 'failed': 0}, '_seq_no': 408, '_primary_term': 1}\n",
      "{'_index': 'nlp_model-dc1e7b3d-9137-4a20-a99c-d0d2029ef170-all-10022021085104', '_type': '_doc', '_id': 'aNbKi3cB_pG9ugNA1eqa', '_version': 5, 'result': 'updated', '_shards': {'total': 2, 'successful': 1, 'failed': 0}, '_seq_no': 409, '_primary_term': 1}\n",
      "{'_index': 'nlp_model-dc1e7b3d-9137-4a20-a99c-d0d2029ef170-all-10022021085104', '_type': '_doc', '_id': 'a9bKi3cB_pG9ugNA2upx', '_version': 5, 'result': 'updated', '_shards': {'total': 2, 'successful': 1, 'failed': 0}, '_seq_no': 410, '_primary_term': 1}\n",
      "{'_index': 'nlp_model-dc1e7b3d-9137-4a20-a99c-d0d2029ef170-all-10022021085104', '_type': '_doc', '_id': 'WdbKi3cB_pG9ugNA6esH', '_version': 5, 'result': 'updated', '_shards': {'total': 2, 'successful': 1, 'failed': 0}, '_seq_no': 411, '_primary_term': 1}\n",
      "{'_index': 'nlp_model-dc1e7b3d-9137-4a20-a99c-d0d2029ef170-all-10022021085104', '_type': '_doc', '_id': 'UtbKi3cB_pG9ugNA5Oss', '_version': 5, 'result': 'updated', '_shards': {'total': 2, 'successful': 1, 'failed': 0}, '_seq_no': 412, '_primary_term': 1}\n",
      "{'_index': 'nlp_model-dc1e7b3d-9137-4a20-a99c-d0d2029ef170-all-10022021085104', '_type': '_doc', '_id': 'Z9bKi3cB_pG9ugNA0OrB', '_version': 5, 'result': 'updated', '_shards': {'total': 2, 'successful': 1, 'failed': 0}, '_seq_no': 413, '_primary_term': 1}\n",
      "{'_index': 'nlp_model-dc1e7b3d-9137-4a20-a99c-d0d2029ef170-all-10022021085104', '_type': '_doc', '_id': 'bdbKi3cB_pG9ugNAmunr', '_version': 5, 'result': 'updated', '_shards': {'total': 2, 'successful': 1, 'failed': 0}, '_seq_no': 414, '_primary_term': 1}\n",
      "{'_index': 'nlp_model-dc1e7b3d-9137-4a20-a99c-d0d2029ef170-all-10022021085104', '_type': '_doc', '_id': 'itbKi3cB_pG9ugNAZudn', '_version': 5, 'result': 'updated', '_shards': {'total': 2, 'successful': 1, 'failed': 0}, '_seq_no': 415, '_primary_term': 1}\n",
      "{'_index': 'nlp_model-dc1e7b3d-9137-4a20-a99c-d0d2029ef170-all-10022021085104', '_type': '_doc', '_id': 'L9bLi3cB_pG9ugNA6_HR', '_version': 5, 'result': 'updated', '_shards': {'total': 2, 'successful': 1, 'failed': 0}, '_seq_no': 416, '_primary_term': 1}\n",
      "{'_index': 'nlp_model-dc1e7b3d-9137-4a20-a99c-d0d2029ef170-all-10022021085104', '_type': '_doc', '_id': 'KtbLi3cB_pG9ugNA4fH5', '_version': 5, 'result': 'updated', '_shards': {'total': 2, 'successful': 1, 'failed': 0}, '_seq_no': 417, '_primary_term': 1}\n",
      "{'_index': 'nlp_model-dc1e7b3d-9137-4a20-a99c-d0d2029ef170-all-10022021085104', '_type': '_doc', '_id': 'HtbMi3cB_pG9ugNAMPMV', '_version': 5, 'result': 'updated', '_shards': {'total': 2, 'successful': 1, 'failed': 0}, '_seq_no': 418, '_primary_term': 1}\n",
      "{'_index': 'nlp_model-dc1e7b3d-9137-4a20-a99c-d0d2029ef170-all-10022021085104', '_type': '_doc', '_id': 'ItbMi3cB_pG9ugNAOfPG', '_version': 5, 'result': 'updated', '_shards': {'total': 2, 'successful': 1, 'failed': 0}, '_seq_no': 419, '_primary_term': 1}\n",
      "{'_index': 'nlp_model-dc1e7b3d-9137-4a20-a99c-d0d2029ef170-all-10022021085104', '_type': '_doc', '_id': 'dtbKi3cB_pG9ugNAc-jD', '_version': 5, 'result': 'updated', '_shards': {'total': 2, 'successful': 1, 'failed': 0}, '_seq_no': 420, '_primary_term': 1}\n",
      "{'_index': 'nlp_model-dc1e7b3d-9137-4a20-a99c-d0d2029ef170-all-10022021085104', '_type': '_doc', '_id': 'ctbKi3cB_pG9ugNArunc', '_version': 5, 'result': 'updated', '_shards': {'total': 2, 'successful': 1, 'failed': 0}, '_seq_no': 421, '_primary_term': 1}\n",
      "{'_index': 'nlp_model-dc1e7b3d-9137-4a20-a99c-d0d2029ef170-all-10022021085104', '_type': '_doc', '_id': 'cNbKi3cB_pG9ugNApOnh', '_version': 5, 'result': 'updated', '_shards': {'total': 2, 'successful': 1, 'failed': 0}, '_seq_no': 422, '_primary_term': 1}\n",
      "{'_index': 'nlp_model-dc1e7b3d-9137-4a20-a99c-d0d2029ef170-all-10022021085104', '_type': '_doc', '_id': 'XNbKi3cB_pG9ugNAvepr', '_version': 5, 'result': 'updated', '_shards': {'total': 2, 'successful': 1, 'failed': 0}, '_seq_no': 423, '_primary_term': 1}\n"
     ]
    }
   ],
   "source": [
    "from utils.split_data import train_test_split\n",
    "\n",
    "train_test_split(index, es)"
   ]
  }
 ],
 "metadata": {
  "kernelspec": {
   "display_name": "Python 3",
   "language": "python",
   "name": "python3"
  },
  "language_info": {
   "codemirror_mode": {
    "name": "ipython",
    "version": 3
   },
   "file_extension": ".py",
   "mimetype": "text/x-python",
   "name": "python",
   "nbconvert_exporter": "python",
   "pygments_lexer": "ipython3",
   "version": "3.6.13"
  }
 },
 "nbformat": 4,
 "nbformat_minor": 4
}
